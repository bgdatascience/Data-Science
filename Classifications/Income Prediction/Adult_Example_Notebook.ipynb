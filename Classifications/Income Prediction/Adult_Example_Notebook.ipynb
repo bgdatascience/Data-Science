{
 "cells": [
  {
   "cell_type": "markdown",
   "metadata": {},
   "source": [
    "<em><p style=\"font-size:24px\">Logistic Regression with \"Adult\" Dataset (Income > 50.000 Dollars per Year)</p></em>"
   ]
  },
  {
   "cell_type": "markdown",
   "metadata": {},
   "source": [
    "<u><p style=\"font-size:20px\">1. Formulating the Goal of the Analysis</p></u>"
   ]
  },
  {
   "cell_type": "markdown",
   "metadata": {},
   "source": [
    "This example focuses on data from the \"Adult\" dataset. The aim of the analysis is to create a logistic regression model that uses demographic features to determine whether (or why) an individual earns more than 50.000 dollars a year. The model will be tested and used to predict whether or not the yearly income of 3 individuals, with a random set of demographic characteristics, is likely to be higher than 50.000 dollars.\n",
    "\n",
    "The data is openly available here: http://archive.ics.uci.edu/ml/datasets/Adult"
   ]
  },
  {
   "cell_type": "markdown",
   "metadata": {},
   "source": [
    "<u><p style=\"font-size:20px\">2. Importing the Relevant Libraries</p></u>"
   ]
  },
  {
   "cell_type": "markdown",
   "metadata": {},
   "source": [
    "First, we will import the relevant libraries which we need throughout the example:"
   ]
  },
  {
   "cell_type": "markdown",
   "metadata": {},
   "source": [
    "<em>Additional info</em>: We will activate Seaborn's visuals to overwrite the standard matplotlib styles for plots."
   ]
  },
  {
   "cell_type": "code",
   "execution_count": 424,
   "metadata": {
    "scrolled": true
   },
   "outputs": [
    {
     "data": {
      "text/plain": [
       "<function seaborn.rcmod.set(context='notebook', style='darkgrid', palette='deep', font='sans-serif', font_scale=1, color_codes=True, rc=None)>"
      ]
     },
     "execution_count": 424,
     "metadata": {},
     "output_type": "execute_result"
    }
   ],
   "source": [
    "import numpy as np\n",
    "import pandas as pd\n",
    "import statsmodels.api as sm\n",
    "import matplotlib.pyplot as plt\n",
    "import seaborn as sns\n",
    "sns.set"
   ]
  },
  {
   "cell_type": "markdown",
   "metadata": {},
   "source": [
    "<u><p style=\"font-size:20px\">3. Importing and Transforming the Data</p></u>"
   ]
  },
  {
   "cell_type": "markdown",
   "metadata": {},
   "source": [
    "We will now import (or read) the data, which is provided as a comma delimited .data file:"
   ]
  },
  {
   "cell_type": "code",
   "execution_count": 425,
   "metadata": {},
   "outputs": [],
   "source": [
    "raw_data = pd.read_csv(\"Adult_Data_Raw.data\")"
   ]
  },
  {
   "cell_type": "markdown",
   "metadata": {},
   "source": [
    "Moreover, since the import of the .data file will result in columns (and values) that cannot be interpreted by numpy, we will transform the dataset into a numpy friendly format, while also storing it in a Pandas Dataframe:"
   ]
  },
  {
   "cell_type": "code",
   "execution_count": 426,
   "metadata": {},
   "outputs": [],
   "source": [
    "raw_data_transformed = pd.DataFrame(raw_data.to_numpy())"
   ]
  },
  {
   "cell_type": "markdown",
   "metadata": {},
   "source": [
    "Lastly, the raw data file has not been provided with column names, which is why we will define them manually by using the \"adult.names\" info file, which can be downloaded together with the dataset. \n",
    "\n",
    "The \"adult.names\" file identifies the columns as named below:"
   ]
  },
  {
   "cell_type": "code",
   "execution_count": 427,
   "metadata": {},
   "outputs": [],
   "source": [
    "raw_data_transformed.rename(columns={\n",
    "    0: \"age\", \n",
    "    1: \"workclass\",\n",
    "    2: \"fnlwgt\",\n",
    "    3: \"education\",\n",
    "    4: \"education-num\",\n",
    "    5: \"marital-status\",\n",
    "    6: \"occupation\",\n",
    "    7: \"relationship\",\n",
    "    8: \"race\",\n",
    "    9: \"sex\",\n",
    "    10: \"capital-gain\",\n",
    "    11: \"capital-loss\",\n",
    "    12: \"hours-per-week\",\n",
    "    13: \"native-country\",\n",
    "    14: \"income\"}, inplace=True)"
   ]
  },
  {
   "cell_type": "markdown",
   "metadata": {},
   "source": [
    "<u><p style=\"font-size:20px\">4. Exploring the Data</p></u>"
   ]
  },
  {
   "cell_type": "markdown",
   "metadata": {},
   "source": [
    "We can now take a first look at the data through a summary:"
   ]
  },
  {
   "cell_type": "code",
   "execution_count": 428,
   "metadata": {},
   "outputs": [
    {
     "data": {
      "text/html": [
       "<div>\n",
       "<style scoped>\n",
       "    .dataframe tbody tr th:only-of-type {\n",
       "        vertical-align: middle;\n",
       "    }\n",
       "\n",
       "    .dataframe tbody tr th {\n",
       "        vertical-align: top;\n",
       "    }\n",
       "\n",
       "    .dataframe thead th {\n",
       "        text-align: right;\n",
       "    }\n",
       "</style>\n",
       "<table border=\"1\" class=\"dataframe\">\n",
       "  <thead>\n",
       "    <tr style=\"text-align: right;\">\n",
       "      <th></th>\n",
       "      <th>age</th>\n",
       "      <th>workclass</th>\n",
       "      <th>fnlwgt</th>\n",
       "      <th>education</th>\n",
       "      <th>education-num</th>\n",
       "      <th>marital-status</th>\n",
       "      <th>occupation</th>\n",
       "      <th>relationship</th>\n",
       "      <th>race</th>\n",
       "      <th>sex</th>\n",
       "      <th>capital-gain</th>\n",
       "      <th>capital-loss</th>\n",
       "      <th>hours-per-week</th>\n",
       "      <th>native-country</th>\n",
       "      <th>income</th>\n",
       "    </tr>\n",
       "  </thead>\n",
       "  <tbody>\n",
       "    <tr>\n",
       "      <th>count</th>\n",
       "      <td>32560</td>\n",
       "      <td>32560</td>\n",
       "      <td>32560</td>\n",
       "      <td>32560</td>\n",
       "      <td>32560</td>\n",
       "      <td>32560</td>\n",
       "      <td>32560</td>\n",
       "      <td>32560</td>\n",
       "      <td>32560</td>\n",
       "      <td>32560</td>\n",
       "      <td>32560</td>\n",
       "      <td>32560</td>\n",
       "      <td>32560</td>\n",
       "      <td>32560</td>\n",
       "      <td>32560</td>\n",
       "    </tr>\n",
       "    <tr>\n",
       "      <th>unique</th>\n",
       "      <td>73</td>\n",
       "      <td>9</td>\n",
       "      <td>21647</td>\n",
       "      <td>16</td>\n",
       "      <td>16</td>\n",
       "      <td>7</td>\n",
       "      <td>15</td>\n",
       "      <td>6</td>\n",
       "      <td>5</td>\n",
       "      <td>2</td>\n",
       "      <td>119</td>\n",
       "      <td>92</td>\n",
       "      <td>94</td>\n",
       "      <td>42</td>\n",
       "      <td>2</td>\n",
       "    </tr>\n",
       "    <tr>\n",
       "      <th>top</th>\n",
       "      <td>36</td>\n",
       "      <td>Private</td>\n",
       "      <td>203488</td>\n",
       "      <td>HS-grad</td>\n",
       "      <td>9</td>\n",
       "      <td>Married-civ-spouse</td>\n",
       "      <td>Prof-specialty</td>\n",
       "      <td>Husband</td>\n",
       "      <td>White</td>\n",
       "      <td>Male</td>\n",
       "      <td>0</td>\n",
       "      <td>0</td>\n",
       "      <td>40</td>\n",
       "      <td>United-States</td>\n",
       "      <td>&lt;=50K</td>\n",
       "    </tr>\n",
       "    <tr>\n",
       "      <th>freq</th>\n",
       "      <td>898</td>\n",
       "      <td>22696</td>\n",
       "      <td>13</td>\n",
       "      <td>10501</td>\n",
       "      <td>10501</td>\n",
       "      <td>14976</td>\n",
       "      <td>4140</td>\n",
       "      <td>13193</td>\n",
       "      <td>27815</td>\n",
       "      <td>21789</td>\n",
       "      <td>29849</td>\n",
       "      <td>31041</td>\n",
       "      <td>15216</td>\n",
       "      <td>29169</td>\n",
       "      <td>24719</td>\n",
       "    </tr>\n",
       "  </tbody>\n",
       "</table>\n",
       "</div>"
      ],
      "text/plain": [
       "          age workclass  fnlwgt education  education-num       marital-status  \\\n",
       "count   32560     32560   32560     32560          32560                32560   \n",
       "unique     73         9   21647        16             16                    7   \n",
       "top        36   Private  203488   HS-grad              9   Married-civ-spouse   \n",
       "freq      898     22696      13     10501          10501                14976   \n",
       "\n",
       "             occupation relationship    race    sex  capital-gain  \\\n",
       "count             32560        32560   32560  32560         32560   \n",
       "unique               15            6       5      2           119   \n",
       "top      Prof-specialty      Husband   White   Male             0   \n",
       "freq               4140        13193   27815  21789         29849   \n",
       "\n",
       "        capital-loss  hours-per-week  native-country  income  \n",
       "count          32560           32560           32560   32560  \n",
       "unique            92              94              42       2  \n",
       "top                0              40   United-States   <=50K  \n",
       "freq           31041           15216           29169   24719  "
      ]
     },
     "execution_count": 428,
     "metadata": {},
     "output_type": "execute_result"
    }
   ],
   "source": [
    "raw_data_transformed.describe(include=\"all\")"
   ]
  },
  {
   "cell_type": "markdown",
   "metadata": {},
   "source": [
    "<u><p style=\"font-size:18px\">4.1. Variable Clarification</p></u>"
   ]
  },
  {
   "cell_type": "markdown",
   "metadata": {},
   "source": [
    "The dataset provides cases of individuals and a variety of demographic features to describe them. Here is a brief description:\n",
    "\n",
    "<b>age</b>: The age of the respondent. The data is numerical.\n",
    "\n",
    "<b>workclass</b>: Describes the individuals job position. The data is categorical with the following values: Private, Self-emp-not-inc, Self-emp-inc, Federal-gov, Local-gov, State-gov, Without-pay, Never-worked.\n",
    "\n",
    "<b>fnlwgt</b>: A weight variable, probably to weight the sample to be nationally representative. The data is numerical.\n",
    "\n",
    "<b>education</b>: Describes the highest educational degree a person has achieved. The data is categorical with the following values: Bachelors, Some-college, 11th, HS-grad, Prof-school, Assoc-acdm, Assoc-voc, 9th, 7th-8th, 12th, Masters, 1st-4th, 10th, Doctorate, 5th-6th, Preschool.\n",
    "\n",
    "<b>education-num</b>: A variable that includes numerical codes for the different types of education.\n",
    "\n",
    "<b>marital-status</b>: Describes the respondent's marital status. The data is categorical with the following values: Married-civ-spouse, Divorced, Never-married, Separated, Widowed, Married-spouse-absent, Married-AF-spouse.\n",
    "\n",
    "<b>occupation</b>: Describes the respondent's occupation. The data is categorical with the following values: Tech-support, Craft-repair, Other-service, Sales, Exec-managerial, Prof-specialty, Handlers-cleaners, Machine-op-inspct, Adm-clerical, Farming-fishing, Transport-moving, Priv-house-serv, Protective-serv, Armed-Forces.\n",
    "\n",
    "<b>relationship</b>: A variable that includes the relationship status of a person. The data is categorical with the following values: Wife, Own-child, Husband, Not-in-family, Other-relative, Unmarried.\n",
    "\n",
    "<b>race</b>: Describes the respondent's race. The data is categorical with the following values: White, Asian-Pac-Islander, Amer-Indian-Eskimo, Other, Black.\n",
    "\n",
    "<b>sex</b>: A person's gender, described as male or female. The data is dichotomous.\n",
    "\n",
    "<b>capital-gain</b>: Indicates whether a person has realized financial gains from owned capital, and how much. The data is numeric.\n",
    "\n",
    "<b>capital-loss</b>: Indicates whether a person has suffered a financial loss regarding owned capital, and how much. The data is numeric.\n",
    "\n",
    "<b>hours-per-week</b>: Describes how many hours per week a respondent works on average. The data is numeric.\n",
    "\n",
    "<b>native-country</b>: A person's home country. The data is categorical with the values: United-States, Cambodia, England, Puerto-Rico, Canada, Germany, Outlying-US(Guam-USVI-etc), India, Japan, Greece, South, China, Cuba, Iran, Honduras, Philippines, Italy, Poland, Jamaica, Vietnam, Mexico, Portugal, Ireland, France, Dominican-Republic, Laos, Ecuador, Taiwan, Haiti, Columbia, Hungary, Guatemala, Nicaragua, Scotland, Thailand, Yugoslavia, El-Salvador, Trinadad&Tobago, Peru, Hong, Holand-Netherlands.\n",
    "\n",
    "<b>income</b>: A dichotomous variable that indicates whether or not a person is earning more than 50.000 dollars a year. Describes how many hours per week a respondent works on average. The data is numeric."
   ]
  },
  {
   "cell_type": "markdown",
   "metadata": {},
   "source": [
    "<u><p style=\"font-size:20px\">5. Cleaning and Preparing the Data</p></u>"
   ]
  },
  {
   "cell_type": "markdown",
   "metadata": {},
   "source": [
    "In this section, we will take a closer look at the variables in the dataset with respect to their usefulness for the analysis. We will also identify errors, missing values and/or outliers and clean the dataset in order to prepare it for the analysis."
   ]
  },
  {
   "cell_type": "markdown",
   "metadata": {},
   "source": [
    "<u><p style=\"font-size:18px\">5.1. Dropping Unusable Variables:</p></u>"
   ]
  },
  {
   "cell_type": "markdown",
   "metadata": {},
   "source": [
    "We can see that the dataset has a multitude of variables to describe individuals. However, not all of them are useful for our analysis. We will be dropping a number of them from the dataset and here is why:\n",
    "\n",
    "1. <b>fnlwgt</b> is a weight variable to be applied in order to make the dataset's results nationally representative. However, the variable carries no importance for our analysis.\n",
    "\n",
    "\n",
    "2. <b>education-num</b> is a numerical re-code of the categorical variable <b>education</b>. We will at a later point re-code <b>education</b> ourselves into a variable with fewer categories. Therefore, we do not need to keep <b>education-num</b>.\n",
    "\n",
    "\n",
    "3. <b>relationship</b> does not seem so include any information that is more useful than those already contained in the <b>marital-status</b> variable. Moreover, some of its categories such as \"Husband\", \"Wife\" or \"Unmarried\" overlap with <b>marital-status</b> or are splitting respondents into specific sub-groups that are not relevant for our analysis.\n",
    "\n",
    "\n",
    "4. There are a few difficulties with <b>capital-gain</b> and <b>capital-loss</b>. First of all, these variables do not add any information to our analysis that is not \"obvious\" to be begin with, or already expressed in the dependent variable <b>income</b> itself. Capital gains or losses will be very closely linked to a person's overall income, as they can be considered a part of said income. Moreover, both variables have zero values for more than 90% of the sample as we can see below:"
   ]
  },
  {
   "cell_type": "code",
   "execution_count": 429,
   "metadata": {},
   "outputs": [
    {
     "data": {
      "text/html": [
       "<div>\n",
       "<style scoped>\n",
       "    .dataframe tbody tr th:only-of-type {\n",
       "        vertical-align: middle;\n",
       "    }\n",
       "\n",
       "    .dataframe tbody tr th {\n",
       "        vertical-align: top;\n",
       "    }\n",
       "\n",
       "    .dataframe thead th {\n",
       "        text-align: right;\n",
       "    }\n",
       "</style>\n",
       "<table border=\"1\" class=\"dataframe\">\n",
       "  <thead>\n",
       "    <tr style=\"text-align: right;\">\n",
       "      <th></th>\n",
       "      <th>% Zero of Sample</th>\n",
       "    </tr>\n",
       "  </thead>\n",
       "  <tbody>\n",
       "    <tr>\n",
       "      <th>capital-gain</th>\n",
       "      <td>0.916738</td>\n",
       "    </tr>\n",
       "    <tr>\n",
       "      <th>capital-loss</th>\n",
       "      <td>0.953348</td>\n",
       "    </tr>\n",
       "  </tbody>\n",
       "</table>\n",
       "</div>"
      ],
      "text/plain": [
       "              % Zero of Sample\n",
       "capital-gain          0.916738\n",
       "capital-loss          0.953348"
      ]
     },
     "execution_count": 429,
     "metadata": {},
     "output_type": "execute_result"
    }
   ],
   "source": [
    "gain_zero = raw_data_transformed[\"capital-gain\"].value_counts(1)[:1]\n",
    "loss_zero = raw_data_transformed[\"capital-loss\"].value_counts(1)[:1]\n",
    "capital_zero = pd.DataFrame([gain_zero,loss_zero])\n",
    "capital_zero.rename(columns={0: \"% Zero of Sample\"}, inplace=True)\n",
    "capital_zero"
   ]
  },
  {
   "cell_type": "markdown",
   "metadata": {},
   "source": [
    "5. Lastly, we will decide to drop <b>hours-per-week</b> as well as this variable just seems to be another expression of <b>income</b> as well. This is because, for the vast majority of persons in our dataset, hours of work will directly translate into dollars on their account. Meanwhile, we are more interested in the demographic factors that potentially produce a high income, and not the amount of hours put into achieving it.\n",
    "\n",
    "As a result, we will be dropping <b>fnlwgt</b>, <b>education-num</b>, <b>relationship</b>, <b>capital-gain</b>, <b>capital-loss</b> and <b>hours-per-week</b> from our dataset and save a new copy without them:"
   ]
  },
  {
   "cell_type": "code",
   "execution_count": 430,
   "metadata": {
    "scrolled": true
   },
   "outputs": [
    {
     "data": {
      "text/html": [
       "<div>\n",
       "<style scoped>\n",
       "    .dataframe tbody tr th:only-of-type {\n",
       "        vertical-align: middle;\n",
       "    }\n",
       "\n",
       "    .dataframe tbody tr th {\n",
       "        vertical-align: top;\n",
       "    }\n",
       "\n",
       "    .dataframe thead th {\n",
       "        text-align: right;\n",
       "    }\n",
       "</style>\n",
       "<table border=\"1\" class=\"dataframe\">\n",
       "  <thead>\n",
       "    <tr style=\"text-align: right;\">\n",
       "      <th></th>\n",
       "      <th>age</th>\n",
       "      <th>workclass</th>\n",
       "      <th>education</th>\n",
       "      <th>marital-status</th>\n",
       "      <th>occupation</th>\n",
       "      <th>race</th>\n",
       "      <th>sex</th>\n",
       "      <th>native-country</th>\n",
       "      <th>income</th>\n",
       "    </tr>\n",
       "  </thead>\n",
       "  <tbody>\n",
       "    <tr>\n",
       "      <th>count</th>\n",
       "      <td>32560</td>\n",
       "      <td>32560</td>\n",
       "      <td>32560</td>\n",
       "      <td>32560</td>\n",
       "      <td>32560</td>\n",
       "      <td>32560</td>\n",
       "      <td>32560</td>\n",
       "      <td>32560</td>\n",
       "      <td>32560</td>\n",
       "    </tr>\n",
       "    <tr>\n",
       "      <th>unique</th>\n",
       "      <td>73</td>\n",
       "      <td>9</td>\n",
       "      <td>16</td>\n",
       "      <td>7</td>\n",
       "      <td>15</td>\n",
       "      <td>5</td>\n",
       "      <td>2</td>\n",
       "      <td>42</td>\n",
       "      <td>2</td>\n",
       "    </tr>\n",
       "    <tr>\n",
       "      <th>top</th>\n",
       "      <td>36</td>\n",
       "      <td>Private</td>\n",
       "      <td>HS-grad</td>\n",
       "      <td>Married-civ-spouse</td>\n",
       "      <td>Prof-specialty</td>\n",
       "      <td>White</td>\n",
       "      <td>Male</td>\n",
       "      <td>United-States</td>\n",
       "      <td>&lt;=50K</td>\n",
       "    </tr>\n",
       "    <tr>\n",
       "      <th>freq</th>\n",
       "      <td>898</td>\n",
       "      <td>22696</td>\n",
       "      <td>10501</td>\n",
       "      <td>14976</td>\n",
       "      <td>4140</td>\n",
       "      <td>27815</td>\n",
       "      <td>21789</td>\n",
       "      <td>29169</td>\n",
       "      <td>24719</td>\n",
       "    </tr>\n",
       "  </tbody>\n",
       "</table>\n",
       "</div>"
      ],
      "text/plain": [
       "          age workclass education       marital-status       occupation  \\\n",
       "count   32560     32560     32560                32560            32560   \n",
       "unique     73         9        16                    7               15   \n",
       "top        36   Private   HS-grad   Married-civ-spouse   Prof-specialty   \n",
       "freq      898     22696     10501                14976             4140   \n",
       "\n",
       "          race    sex  native-country  income  \n",
       "count    32560  32560           32560   32560  \n",
       "unique       5      2              42       2  \n",
       "top      White   Male   United-States   <=50K  \n",
       "freq     27815  21789           29169   24719  "
      ]
     },
     "execution_count": 430,
     "metadata": {},
     "output_type": "execute_result"
    }
   ],
   "source": [
    "data_v001 = raw_data_transformed.drop([\n",
    "    \"fnlwgt\", \n",
    "    \"education-num\", \n",
    "    \"relationship\", \n",
    "    \"capital-gain\", \n",
    "    \"capital-loss\",\n",
    "    \"hours-per-week\"], axis=1)\n",
    "data_v001.describe()"
   ]
  },
  {
   "cell_type": "markdown",
   "metadata": {},
   "source": [
    "<u><p style=\"font-size:18px\">5.2. Transforming Cloumns into the Correct Data Type</p></u>"
   ]
  },
  {
   "cell_type": "markdown",
   "metadata": {},
   "source": [
    "At this point, the import of the .data file into Jupyter has caused the values in every column of the dataset to be interpreted as objects:"
   ]
  },
  {
   "cell_type": "code",
   "execution_count": 431,
   "metadata": {},
   "outputs": [
    {
     "data": {
      "text/plain": [
       "age               object\n",
       "workclass         object\n",
       "education         object\n",
       "marital-status    object\n",
       "occupation        object\n",
       "race              object\n",
       "sex               object\n",
       "native-country    object\n",
       "income            object\n",
       "dtype: object"
      ]
     },
     "execution_count": 431,
     "metadata": {},
     "output_type": "execute_result"
    }
   ],
   "source": [
    "data_v001.dtypes"
   ]
  },
  {
   "cell_type": "markdown",
   "metadata": {},
   "source": [
    "The \"object\" type is not practical for the future operations we plan to perform on our dataset, e.g. categorizations, dummy transformations and the creation of our model. \n",
    "\n",
    "To change this, we can use Panda's <em>astype</em> functionality to transform the columns into the format we would expect, and need to work with. We will choose the \"integer\" format for <b>age</b>, which is numeric, and the \"category\" format for all other columns, which are caterogical:"
   ]
  },
  {
   "cell_type": "code",
   "execution_count": 432,
   "metadata": {},
   "outputs": [],
   "source": [
    "data_v001 = data_v001.astype({\n",
    "\"age\": \"int\",\n",
    "\"workclass\": \"category\",\n",
    "\"education\": \"category\",\n",
    "\"marital-status\": \"category\",\n",
    "\"occupation\": \"category\",\n",
    "\"race\": \"category\",\n",
    "\"sex\": \"category\",\n",
    "\"native-country\": \"category\",\n",
    "\"income\": \"category\"})"
   ]
  },
  {
   "cell_type": "markdown",
   "metadata": {},
   "source": [
    "Let's check whether the transformation has worked correctly:"
   ]
  },
  {
   "cell_type": "code",
   "execution_count": 433,
   "metadata": {},
   "outputs": [
    {
     "data": {
      "text/plain": [
       "age                  int32\n",
       "workclass         category\n",
       "education         category\n",
       "marital-status    category\n",
       "occupation        category\n",
       "race              category\n",
       "sex               category\n",
       "native-country    category\n",
       "income            category\n",
       "dtype: object"
      ]
     },
     "execution_count": 433,
     "metadata": {},
     "output_type": "execute_result"
    }
   ],
   "source": [
    "data_v001.dtypes"
   ]
  },
  {
   "cell_type": "markdown",
   "metadata": {},
   "source": [
    "<u><p style=\"font-size:18px\">5.3. Identifying and Dealing with Missing Values, Outliers and Errors</p></u>"
   ]
  },
  {
   "cell_type": "markdown",
   "metadata": {},
   "source": [
    "After we have have transformed our data, we can now identify possible missing values, outliers and/or errors in our dataset. We can start by having a look at the summary table and check each variable:"
   ]
  },
  {
   "cell_type": "code",
   "execution_count": 434,
   "metadata": {},
   "outputs": [
    {
     "data": {
      "text/html": [
       "<div>\n",
       "<style scoped>\n",
       "    .dataframe tbody tr th:only-of-type {\n",
       "        vertical-align: middle;\n",
       "    }\n",
       "\n",
       "    .dataframe tbody tr th {\n",
       "        vertical-align: top;\n",
       "    }\n",
       "\n",
       "    .dataframe thead th {\n",
       "        text-align: right;\n",
       "    }\n",
       "</style>\n",
       "<table border=\"1\" class=\"dataframe\">\n",
       "  <thead>\n",
       "    <tr style=\"text-align: right;\">\n",
       "      <th></th>\n",
       "      <th>age</th>\n",
       "      <th>workclass</th>\n",
       "      <th>education</th>\n",
       "      <th>marital-status</th>\n",
       "      <th>occupation</th>\n",
       "      <th>race</th>\n",
       "      <th>sex</th>\n",
       "      <th>native-country</th>\n",
       "      <th>income</th>\n",
       "    </tr>\n",
       "  </thead>\n",
       "  <tbody>\n",
       "    <tr>\n",
       "      <th>count</th>\n",
       "      <td>32560.000000</td>\n",
       "      <td>32560</td>\n",
       "      <td>32560</td>\n",
       "      <td>32560</td>\n",
       "      <td>32560</td>\n",
       "      <td>32560</td>\n",
       "      <td>32560</td>\n",
       "      <td>32560</td>\n",
       "      <td>32560</td>\n",
       "    </tr>\n",
       "    <tr>\n",
       "      <th>unique</th>\n",
       "      <td>NaN</td>\n",
       "      <td>9</td>\n",
       "      <td>16</td>\n",
       "      <td>7</td>\n",
       "      <td>15</td>\n",
       "      <td>5</td>\n",
       "      <td>2</td>\n",
       "      <td>42</td>\n",
       "      <td>2</td>\n",
       "    </tr>\n",
       "    <tr>\n",
       "      <th>top</th>\n",
       "      <td>NaN</td>\n",
       "      <td>Private</td>\n",
       "      <td>HS-grad</td>\n",
       "      <td>Married-civ-spouse</td>\n",
       "      <td>Prof-specialty</td>\n",
       "      <td>White</td>\n",
       "      <td>Male</td>\n",
       "      <td>United-States</td>\n",
       "      <td>&lt;=50K</td>\n",
       "    </tr>\n",
       "    <tr>\n",
       "      <th>freq</th>\n",
       "      <td>NaN</td>\n",
       "      <td>22696</td>\n",
       "      <td>10501</td>\n",
       "      <td>14976</td>\n",
       "      <td>4140</td>\n",
       "      <td>27815</td>\n",
       "      <td>21789</td>\n",
       "      <td>29169</td>\n",
       "      <td>24719</td>\n",
       "    </tr>\n",
       "    <tr>\n",
       "      <th>mean</th>\n",
       "      <td>38.581634</td>\n",
       "      <td>NaN</td>\n",
       "      <td>NaN</td>\n",
       "      <td>NaN</td>\n",
       "      <td>NaN</td>\n",
       "      <td>NaN</td>\n",
       "      <td>NaN</td>\n",
       "      <td>NaN</td>\n",
       "      <td>NaN</td>\n",
       "    </tr>\n",
       "    <tr>\n",
       "      <th>std</th>\n",
       "      <td>13.640642</td>\n",
       "      <td>NaN</td>\n",
       "      <td>NaN</td>\n",
       "      <td>NaN</td>\n",
       "      <td>NaN</td>\n",
       "      <td>NaN</td>\n",
       "      <td>NaN</td>\n",
       "      <td>NaN</td>\n",
       "      <td>NaN</td>\n",
       "    </tr>\n",
       "    <tr>\n",
       "      <th>min</th>\n",
       "      <td>17.000000</td>\n",
       "      <td>NaN</td>\n",
       "      <td>NaN</td>\n",
       "      <td>NaN</td>\n",
       "      <td>NaN</td>\n",
       "      <td>NaN</td>\n",
       "      <td>NaN</td>\n",
       "      <td>NaN</td>\n",
       "      <td>NaN</td>\n",
       "    </tr>\n",
       "    <tr>\n",
       "      <th>25%</th>\n",
       "      <td>28.000000</td>\n",
       "      <td>NaN</td>\n",
       "      <td>NaN</td>\n",
       "      <td>NaN</td>\n",
       "      <td>NaN</td>\n",
       "      <td>NaN</td>\n",
       "      <td>NaN</td>\n",
       "      <td>NaN</td>\n",
       "      <td>NaN</td>\n",
       "    </tr>\n",
       "    <tr>\n",
       "      <th>50%</th>\n",
       "      <td>37.000000</td>\n",
       "      <td>NaN</td>\n",
       "      <td>NaN</td>\n",
       "      <td>NaN</td>\n",
       "      <td>NaN</td>\n",
       "      <td>NaN</td>\n",
       "      <td>NaN</td>\n",
       "      <td>NaN</td>\n",
       "      <td>NaN</td>\n",
       "    </tr>\n",
       "    <tr>\n",
       "      <th>75%</th>\n",
       "      <td>48.000000</td>\n",
       "      <td>NaN</td>\n",
       "      <td>NaN</td>\n",
       "      <td>NaN</td>\n",
       "      <td>NaN</td>\n",
       "      <td>NaN</td>\n",
       "      <td>NaN</td>\n",
       "      <td>NaN</td>\n",
       "      <td>NaN</td>\n",
       "    </tr>\n",
       "    <tr>\n",
       "      <th>max</th>\n",
       "      <td>90.000000</td>\n",
       "      <td>NaN</td>\n",
       "      <td>NaN</td>\n",
       "      <td>NaN</td>\n",
       "      <td>NaN</td>\n",
       "      <td>NaN</td>\n",
       "      <td>NaN</td>\n",
       "      <td>NaN</td>\n",
       "      <td>NaN</td>\n",
       "    </tr>\n",
       "  </tbody>\n",
       "</table>\n",
       "</div>"
      ],
      "text/plain": [
       "                 age workclass education       marital-status  \\\n",
       "count   32560.000000     32560     32560                32560   \n",
       "unique           NaN         9        16                    7   \n",
       "top              NaN   Private   HS-grad   Married-civ-spouse   \n",
       "freq             NaN     22696     10501                14976   \n",
       "mean       38.581634       NaN       NaN                  NaN   \n",
       "std        13.640642       NaN       NaN                  NaN   \n",
       "min        17.000000       NaN       NaN                  NaN   \n",
       "25%        28.000000       NaN       NaN                  NaN   \n",
       "50%        37.000000       NaN       NaN                  NaN   \n",
       "75%        48.000000       NaN       NaN                  NaN   \n",
       "max        90.000000       NaN       NaN                  NaN   \n",
       "\n",
       "             occupation    race    sex  native-country  income  \n",
       "count             32560   32560  32560           32560   32560  \n",
       "unique               15       5      2              42       2  \n",
       "top      Prof-specialty   White   Male   United-States   <=50K  \n",
       "freq               4140   27815  21789           29169   24719  \n",
       "mean                NaN     NaN    NaN             NaN     NaN  \n",
       "std                 NaN     NaN    NaN             NaN     NaN  \n",
       "min                 NaN     NaN    NaN             NaN     NaN  \n",
       "25%                 NaN     NaN    NaN             NaN     NaN  \n",
       "50%                 NaN     NaN    NaN             NaN     NaN  \n",
       "75%                 NaN     NaN    NaN             NaN     NaN  \n",
       "max                 NaN     NaN    NaN             NaN     NaN  "
      ]
     },
     "execution_count": 434,
     "metadata": {},
     "output_type": "execute_result"
    }
   ],
   "source": [
    "data_v001.describe(include=\"all\")"
   ]
  },
  {
   "cell_type": "markdown",
   "metadata": {},
   "source": [
    "<u><p style=\"font-size:16px\">5.3.1. Identifying Missing Values in <b>age</b></p></u>"
   ]
  },
  {
   "cell_type": "markdown",
   "metadata": {},
   "source": [
    "According to the summary, there are no missing values in the <b>age</b> variable as we have a full base of 32560 respondents, just like in any other columns of the dataset.\n",
    "\n",
    "To be 100% sure, we can also check the unique values in <b>age</b> and check for missing values with the <em>isnull</em> operator:"
   ]
  },
  {
   "cell_type": "code",
   "execution_count": 435,
   "metadata": {},
   "outputs": [
    {
     "data": {
      "text/plain": [
       "array([17, 18, 19, 20, 21, 22, 23, 24, 25, 26, 27, 28, 29, 30, 31, 32, 33,\n",
       "       34, 35, 36, 37, 38, 39, 40, 41, 42, 43, 44, 45, 46, 47, 48, 49, 50,\n",
       "       51, 52, 53, 54, 55, 56, 57, 58, 59, 60, 61, 62, 63, 64, 65, 66, 67,\n",
       "       68, 69, 70, 71, 72, 73, 74, 75, 76, 77, 78, 79, 80, 81, 82, 83, 84,\n",
       "       85, 86, 87, 88, 90])"
      ]
     },
     "execution_count": 435,
     "metadata": {},
     "output_type": "execute_result"
    }
   ],
   "source": [
    "np.sort(data_v001[\"age\"].unique())"
   ]
  },
  {
   "cell_type": "code",
   "execution_count": 436,
   "metadata": {},
   "outputs": [
    {
     "data": {
      "text/plain": [
       "array([False])"
      ]
     },
     "execution_count": 436,
     "metadata": {},
     "output_type": "execute_result"
    }
   ],
   "source": [
    "data_v001[\"age\"].isnull().unique()"
   ]
  },
  {
   "cell_type": "markdown",
   "metadata": {},
   "source": [
    "We can see that the <b>age</b> variable includes values from 17 to 90 years, all cases have data, and there are no missing values present. As a result, there is no need to remove cases from our data with regard to <b>age</b>."
   ]
  },
  {
   "cell_type": "markdown",
   "metadata": {},
   "source": [
    "<u><p style=\"font-size:16px\">5.3.2. Identifying Missing Values in <b>workclass</b></p></u>"
   ]
  },
  {
   "cell_type": "markdown",
   "metadata": {},
   "source": [
    "What about <b>workclass</b>? The summary did not indicate missing values, but there is the possibility that missing values were indicated differently."
   ]
  },
  {
   "cell_type": "code",
   "execution_count": 437,
   "metadata": {},
   "outputs": [
    {
     "data": {
      "text/plain": [
       "array([' ?', ' Federal-gov', ' Local-gov', ' Never-worked', ' Private',\n",
       "       ' Self-emp-inc', ' Self-emp-not-inc', ' State-gov', ' Without-pay'],\n",
       "      dtype=object)"
      ]
     },
     "execution_count": 437,
     "metadata": {},
     "output_type": "execute_result"
    }
   ],
   "source": [
    "np.sort(data_v001[\"workclass\"].unique())"
   ]
  },
  {
   "cell_type": "markdown",
   "metadata": {},
   "source": [
    "We can observe two things from this result. Firstly, we have a category marked with \"?\" in the workclass column, indicating missing values and, secondly, every category seems to have an empty space \" \" preceding it.\n",
    "\n",
    "The empty space is probably a result of the previous transformations that we applied to our data and thus we might also see this phenomenon appear in the other columns of our dataset. We can test this by checking the unique values of another column with categorical data, such as <b>education</b>:"
   ]
  },
  {
   "cell_type": "code",
   "execution_count": 438,
   "metadata": {},
   "outputs": [
    {
     "data": {
      "text/plain": [
       "array([' 10th', ' 11th', ' 12th', ' 1st-4th', ' 5th-6th', ' 7th-8th',\n",
       "       ' 9th', ' Assoc-acdm', ' Assoc-voc', ' Bachelors', ' Doctorate',\n",
       "       ' HS-grad', ' Masters', ' Preschool', ' Prof-school',\n",
       "       ' Some-college'], dtype=object)"
      ]
     },
     "execution_count": 438,
     "metadata": {},
     "output_type": "execute_result"
    }
   ],
   "source": [
    "np.sort(data_v001[\"education\"].unique())"
   ]
  },
  {
   "cell_type": "markdown",
   "metadata": {},
   "source": [
    "As expected, the empty space has been added to all categorical values. Since we want to avoid having to write a space whenever we refer to a categorical value, we can remove them from our dataset by using the <em>strip</em> functionality. Since know that the space is always preceding the category at hand, we can appy a <em>left strip</em> to each categrocial column:"
   ]
  },
  {
   "cell_type": "code",
   "execution_count": 439,
   "metadata": {},
   "outputs": [],
   "source": [
    "data_v001[\"workclass\"] = data_v001[\"workclass\"].str.lstrip()\n",
    "data_v001[\"education\"] = data_v001[\"education\"].str.lstrip()\n",
    "data_v001[\"marital-status\"] = data_v001[\"marital-status\"].str.lstrip()\n",
    "data_v001[\"occupation\"] = data_v001[\"occupation\"].str.lstrip()\n",
    "data_v001[\"race\"] = data_v001[\"race\"].str.lstrip()\n",
    "data_v001[\"sex\"] = data_v001[\"sex\"].str.lstrip()\n",
    "data_v001[\"native-country\"] = data_v001[\"native-country\"].str.lstrip()\n",
    "data_v001[\"income\"] = data_v001[\"income\"].str.lstrip()"
   ]
  },
  {
   "cell_type": "markdown",
   "metadata": {},
   "source": [
    "We can test if our approach worked:"
   ]
  },
  {
   "cell_type": "code",
   "execution_count": 440,
   "metadata": {
    "scrolled": true
   },
   "outputs": [
    {
     "data": {
      "text/plain": [
       "array(['?', 'Federal-gov', 'Local-gov', 'Never-worked', 'Private',\n",
       "       'Self-emp-inc', 'Self-emp-not-inc', 'State-gov', 'Without-pay'],\n",
       "      dtype=object)"
      ]
     },
     "execution_count": 440,
     "metadata": {},
     "output_type": "execute_result"
    }
   ],
   "source": [
    "np.sort(data_v001[\"workclass\"].unique())"
   ]
  },
  {
   "cell_type": "markdown",
   "metadata": {},
   "source": [
    "It seems like we have successfully removed all blank spaces preceding our categorical values. Thus, we can continue with cleaning the data. We concluded that \"?\" was indicating missing values in the <b>workclass</b> variable. Let us see for how many cases we do not have information on <b>workclass</b>:"
   ]
  },
  {
   "cell_type": "code",
   "execution_count": 441,
   "metadata": {},
   "outputs": [
    {
     "data": {
      "text/plain": [
       "Private             22696\n",
       "Self-emp-not-inc     2541\n",
       "Local-gov            2093\n",
       "?                    1836\n",
       "State-gov            1297\n",
       "Self-emp-inc         1116\n",
       "Federal-gov           960\n",
       "Without-pay            14\n",
       "Never-worked            7\n",
       "Name: workclass, dtype: int64"
      ]
     },
     "execution_count": 441,
     "metadata": {},
     "output_type": "execute_result"
    }
   ],
   "source": [
    "data_v001[\"workclass\"].value_counts()"
   ]
  },
  {
   "cell_type": "markdown",
   "metadata": {},
   "source": [
    "We can see that 1836 individuals (ca. 6% of the sample) do not have any information provided for their work class. Even though this is a singnificant amount, our dataset would with more than 30.000 cases still be large enough to perform a solid analysis on it. We can therefore decide to drop the cases with missing information.\n",
    "\n",
    "Moreover, thinking ahead with regard to our categorizations, it would also be wise to remove those individuals who have work without pay as well as those who have never worked. This is because their sub-group is very small and they cannot be grouped together with other positions in a meaningful way.\n",
    "\n",
    "As a result, we will remove all cases of missing values, as well as persons without pay and those who have never worked:"
   ]
  },
  {
   "cell_type": "code",
   "execution_count": 442,
   "metadata": {},
   "outputs": [
    {
     "data": {
      "text/plain": [
       "Private             22696\n",
       "Self-emp-not-inc     2541\n",
       "Local-gov            2093\n",
       "State-gov            1297\n",
       "Self-emp-inc         1116\n",
       "Federal-gov           960\n",
       "Name: workclass, dtype: int64"
      ]
     },
     "execution_count": 442,
     "metadata": {},
     "output_type": "execute_result"
    }
   ],
   "source": [
    "data_v002 = data_v001[data_v001[\"workclass\"] != \"?\"]\n",
    "data_v002 = data_v002[data_v002[\"workclass\"] != \"Without-pay\"]\n",
    "data_v002 = data_v002[data_v002[\"workclass\"] != \"Never-worked\"]\n",
    "data_v002[\"workclass\"].value_counts()"
   ]
  },
  {
   "cell_type": "markdown",
   "metadata": {},
   "source": [
    "We have successfully reduced our dataset and can now move on to the next categorical variable <b>education</b>:"
   ]
  },
  {
   "cell_type": "markdown",
   "metadata": {},
   "source": [
    "<u><p style=\"font-size:16px\">5.3.3. Identifying Missing Values in <b>education</b></p></u>"
   ]
  },
  {
   "cell_type": "markdown",
   "metadata": {},
   "source": [
    "What about missing values in <b>education</b>?"
   ]
  },
  {
   "cell_type": "code",
   "execution_count": 443,
   "metadata": {},
   "outputs": [
    {
     "data": {
      "text/plain": [
       "array(['10th', '11th', '12th', '1st-4th', '5th-6th', '7th-8th', '9th',\n",
       "       'Assoc-acdm', 'Assoc-voc', 'Bachelors', 'Doctorate', 'HS-grad',\n",
       "       'Masters', 'Preschool', 'Prof-school', 'Some-college'],\n",
       "      dtype=object)"
      ]
     },
     "execution_count": 443,
     "metadata": {},
     "output_type": "execute_result"
    }
   ],
   "source": [
    "np.sort(data_v002[\"education\"].unique())"
   ]
  },
  {
   "cell_type": "code",
   "execution_count": 444,
   "metadata": {},
   "outputs": [
    {
     "data": {
      "text/plain": [
       "array([False])"
      ]
     },
     "execution_count": 444,
     "metadata": {},
     "output_type": "execute_result"
    }
   ],
   "source": [
    "data_v002[\"education\"].isnull().unique()"
   ]
  },
  {
   "cell_type": "markdown",
   "metadata": {},
   "source": [
    "We can see 16 distinct categories in the <b>education</b> variable, which is what we expected. As a result, there is no need for further adjustments to the sample for now."
   ]
  },
  {
   "cell_type": "markdown",
   "metadata": {},
   "source": [
    "<u><p style=\"font-size:16px\">5.3.4. Identifying Missing Values in <b>marital-status</b></p></u>"
   ]
  },
  {
   "cell_type": "markdown",
   "metadata": {},
   "source": [
    "We will do a similar check for <b>marital-status</b>."
   ]
  },
  {
   "cell_type": "code",
   "execution_count": 445,
   "metadata": {},
   "outputs": [
    {
     "data": {
      "text/plain": [
       "array(['Divorced', 'Married-AF-spouse', 'Married-civ-spouse',\n",
       "       'Married-spouse-absent', 'Never-married', 'Separated', 'Widowed'],\n",
       "      dtype=object)"
      ]
     },
     "execution_count": 445,
     "metadata": {},
     "output_type": "execute_result"
    }
   ],
   "source": [
    "np.sort(data_v002[\"marital-status\"].unique())"
   ]
  },
  {
   "cell_type": "code",
   "execution_count": 446,
   "metadata": {
    "scrolled": true
   },
   "outputs": [
    {
     "data": {
      "text/plain": [
       "array([False])"
      ]
     },
     "execution_count": 446,
     "metadata": {},
     "output_type": "execute_result"
    }
   ],
   "source": [
    "data_v002[\"marital-status\"].isnull().unique()"
   ]
  },
  {
   "cell_type": "markdown",
   "metadata": {},
   "source": [
    "Again, no missing values seem to be present. We can proceed."
   ]
  },
  {
   "cell_type": "markdown",
   "metadata": {},
   "source": [
    "<u><p style=\"font-size:16px\">5.3.5. Identifying Missing Values in <b>occupation</b></p></u>"
   ]
  },
  {
   "cell_type": "markdown",
   "metadata": {},
   "source": [
    "<b>Occupation</b> is next on our list:"
   ]
  },
  {
   "cell_type": "code",
   "execution_count": 447,
   "metadata": {},
   "outputs": [
    {
     "data": {
      "text/plain": [
       "array(['Adm-clerical', 'Armed-Forces', 'Craft-repair', 'Exec-managerial',\n",
       "       'Farming-fishing', 'Handlers-cleaners', 'Machine-op-inspct',\n",
       "       'Other-service', 'Priv-house-serv', 'Prof-specialty',\n",
       "       'Protective-serv', 'Sales', 'Tech-support', 'Transport-moving'],\n",
       "      dtype=object)"
      ]
     },
     "execution_count": 447,
     "metadata": {},
     "output_type": "execute_result"
    }
   ],
   "source": [
    "np.sort(data_v002[\"occupation\"].unique())"
   ]
  },
  {
   "cell_type": "code",
   "execution_count": 448,
   "metadata": {
    "scrolled": true
   },
   "outputs": [
    {
     "data": {
      "text/plain": [
       "array([False])"
      ]
     },
     "execution_count": 448,
     "metadata": {},
     "output_type": "execute_result"
    }
   ],
   "source": [
    "data_v002[\"occupation\"].isnull().unique()"
   ]
  },
  {
   "cell_type": "markdown",
   "metadata": {},
   "source": [
    "Once more, no missing values in the <b>occupation</b> variable. We can move on."
   ]
  },
  {
   "cell_type": "markdown",
   "metadata": {},
   "source": [
    "<u><p style=\"font-size:16px\">5.3.6. Identifying Missing Values in <b>race</b></p></u>"
   ]
  },
  {
   "cell_type": "markdown",
   "metadata": {},
   "source": [
    "Next up is <b>Race</b>:"
   ]
  },
  {
   "cell_type": "code",
   "execution_count": 449,
   "metadata": {},
   "outputs": [
    {
     "data": {
      "text/plain": [
       "array(['Amer-Indian-Eskimo', 'Asian-Pac-Islander', 'Black', 'Other',\n",
       "       'White'], dtype=object)"
      ]
     },
     "execution_count": 449,
     "metadata": {},
     "output_type": "execute_result"
    }
   ],
   "source": [
    "np.sort(data_v002[\"race\"].unique())"
   ]
  },
  {
   "cell_type": "code",
   "execution_count": 450,
   "metadata": {
    "scrolled": false
   },
   "outputs": [
    {
     "data": {
      "text/plain": [
       "array([False])"
      ]
     },
     "execution_count": 450,
     "metadata": {},
     "output_type": "execute_result"
    }
   ],
   "source": [
    "data_v002[\"race\"].isnull().unique()"
   ]
  },
  {
   "cell_type": "markdown",
   "metadata": {},
   "source": [
    "We can move on without changes."
   ]
  },
  {
   "cell_type": "markdown",
   "metadata": {},
   "source": [
    "<u><p style=\"font-size:16px\">5.3.7. Identifying Missing Values in <b>sex</b></p></u>"
   ]
  },
  {
   "cell_type": "markdown",
   "metadata": {},
   "source": [
    "What about missing values in <b>sex</b>?:"
   ]
  },
  {
   "cell_type": "code",
   "execution_count": 451,
   "metadata": {},
   "outputs": [
    {
     "data": {
      "text/plain": [
       "array(['Female', 'Male'], dtype=object)"
      ]
     },
     "execution_count": 451,
     "metadata": {},
     "output_type": "execute_result"
    }
   ],
   "source": [
    "np.sort(data_v002[\"sex\"].unique())"
   ]
  },
  {
   "cell_type": "code",
   "execution_count": 452,
   "metadata": {
    "scrolled": false
   },
   "outputs": [
    {
     "data": {
      "text/plain": [
       "array([False])"
      ]
     },
     "execution_count": 452,
     "metadata": {},
     "output_type": "execute_result"
    }
   ],
   "source": [
    "data_v002[\"sex\"].isnull().unique()"
   ]
  },
  {
   "cell_type": "markdown",
   "metadata": {},
   "source": [
    "We can move on to the next variable without changes."
   ]
  },
  {
   "cell_type": "markdown",
   "metadata": {},
   "source": [
    "<u><p style=\"font-size:16px\">5.3.8. Identifying Missing Values in <b>native-country</b></p></u>"
   ]
  },
  {
   "cell_type": "markdown",
   "metadata": {},
   "source": [
    "<b>Native-country</b> is the categorical variable with the most categories in our dataset. We might observe missing values here:"
   ]
  },
  {
   "cell_type": "code",
   "execution_count": 453,
   "metadata": {},
   "outputs": [
    {
     "data": {
      "text/plain": [
       "array(['?', 'Cambodia', 'Canada', 'China', 'Columbia', 'Cuba',\n",
       "       'Dominican-Republic', 'Ecuador', 'El-Salvador', 'England',\n",
       "       'France', 'Germany', 'Greece', 'Guatemala', 'Haiti',\n",
       "       'Holand-Netherlands', 'Honduras', 'Hong', 'Hungary', 'India',\n",
       "       'Iran', 'Ireland', 'Italy', 'Jamaica', 'Japan', 'Laos', 'Mexico',\n",
       "       'Nicaragua', 'Outlying-US(Guam-USVI-etc)', 'Peru', 'Philippines',\n",
       "       'Poland', 'Portugal', 'Puerto-Rico', 'Scotland', 'South', 'Taiwan',\n",
       "       'Thailand', 'Trinadad&Tobago', 'United-States', 'Vietnam',\n",
       "       'Yugoslavia'], dtype=object)"
      ]
     },
     "execution_count": 453,
     "metadata": {},
     "output_type": "execute_result"
    }
   ],
   "source": [
    "np.sort(data_v002[\"native-country\"].unique())"
   ]
  },
  {
   "cell_type": "code",
   "execution_count": 454,
   "metadata": {
    "scrolled": false
   },
   "outputs": [
    {
     "data": {
      "text/plain": [
       "array([False])"
      ]
     },
     "execution_count": 454,
     "metadata": {},
     "output_type": "execute_result"
    }
   ],
   "source": [
    "data_v002[\"native-country\"].isnull().unique()"
   ]
  },
  {
   "cell_type": "markdown",
   "metadata": {},
   "source": [
    "We can see that we have missing values in form of \"?\" in the native-country variable. Let us check how many cases these apply to:"
   ]
  },
  {
   "cell_type": "code",
   "execution_count": 455,
   "metadata": {},
   "outputs": [
    {
     "data": {
      "text/plain": [
       "United-States                 27490\n",
       "Mexico                          610\n",
       "?                               556\n",
       "Philippines                     187\n",
       "Germany                         128\n",
       "Puerto-Rico                     109\n",
       "Canada                          107\n",
       "El-Salvador                     100\n",
       "India                           100\n",
       "Cuba                             92\n",
       "England                          86\n",
       "Jamaica                          80\n",
       "South                            71\n",
       "China                            68\n",
       "Italy                            68\n",
       "Dominican-Republic               67\n",
       "Vietnam                          64\n",
       "Guatemala                        63\n",
       "Japan                            59\n",
       "Poland                           56\n",
       "Columbia                         56\n",
       "Taiwan                           42\n",
       "Iran                             42\n",
       "Haiti                            42\n",
       "Portugal                         34\n",
       "Nicaragua                        33\n",
       "Peru                             30\n",
       "Greece                           29\n",
       "Ecuador                          27\n",
       "France                           27\n",
       "Ireland                          24\n",
       "Hong                             19\n",
       "Trinadad&Tobago                  18\n",
       "Cambodia                         18\n",
       "Laos                             17\n",
       "Thailand                         17\n",
       "Yugoslavia                       16\n",
       "Outlying-US(Guam-USVI-etc)       14\n",
       "Hungary                          13\n",
       "Honduras                         12\n",
       "Scotland                         11\n",
       "Holand-Netherlands                1\n",
       "Name: native-country, dtype: int64"
      ]
     },
     "execution_count": 455,
     "metadata": {},
     "output_type": "execute_result"
    }
   ],
   "source": [
    "data_v002[\"native-country\"].value_counts()"
   ]
  },
  {
   "cell_type": "markdown",
   "metadata": {},
   "source": [
    "We can observe two findings from this result. Firstly, we have 556 cases for which no information on the country of origin is available in the dataset. Secondly, United States citizens are heavily overrepresented in the data, in fact so much so, that even if we decided to only create two categories (US Citizen vs. Not US Citizen), our minority category would only make up ca. 10% of the sample. Moreover, summarizing the multitude of other countries in the dataset under just one category called \"Other Countries\" would not at all reflect the differences between them, e.g. from a cultural perspective. This would make any findings hard to interpret. Consequently, we choose to not investigate the effect of nationality on income given the dataset at hand.\n",
    "\n",
    "This leads us to the decision to drop the <b>native-country</b> variable from our dataset and continue without it. Moreover, due to this decision we can keep the 556 cases for which no information on the country of origin is available:"
   ]
  },
  {
   "cell_type": "code",
   "execution_count": 456,
   "metadata": {},
   "outputs": [],
   "source": [
    "data_v003 = data_v002.drop(\"native-country\", axis=1)"
   ]
  },
  {
   "cell_type": "markdown",
   "metadata": {},
   "source": [
    "<u><p style=\"font-size:16px\">5.3.9. Identifying Missing Values in <b>income</b></p></u>"
   ]
  },
  {
   "cell_type": "markdown",
   "metadata": {},
   "source": [
    "Last but not least, we will be checking for missing values in our dependent variable <b>income</b>:"
   ]
  },
  {
   "cell_type": "code",
   "execution_count": 457,
   "metadata": {},
   "outputs": [
    {
     "data": {
      "text/plain": [
       "array(['<=50K', '>50K'], dtype=object)"
      ]
     },
     "execution_count": 457,
     "metadata": {},
     "output_type": "execute_result"
    }
   ],
   "source": [
    "np.sort(data_v003[\"income\"].unique())"
   ]
  },
  {
   "cell_type": "code",
   "execution_count": 458,
   "metadata": {
    "scrolled": false
   },
   "outputs": [
    {
     "data": {
      "text/plain": [
       "array([False])"
      ]
     },
     "execution_count": 458,
     "metadata": {},
     "output_type": "execute_result"
    }
   ],
   "source": [
    "data_v003[\"income\"].isnull().unique()"
   ]
  },
  {
   "cell_type": "markdown",
   "metadata": {},
   "source": [
    "We can confirm that no missing values are present in our income variable as well. Therefore, we can move on to our categorization:"
   ]
  },
  {
   "cell_type": "markdown",
   "metadata": {},
   "source": [
    "<u><p style=\"font-size:18px\">5.4. Categorizing the Categorical Data</p></u>"
   ]
  },
  {
   "cell_type": "markdown",
   "metadata": {},
   "source": [
    "This section deals with the explanation for categorizing our data and the procedure connected to it."
   ]
  },
  {
   "cell_type": "markdown",
   "metadata": {},
   "source": [
    "<u><p style=\"font-size:16px\">5.4.1. Explaining the Categories</p></u>"
   ]
  },
  {
   "cell_type": "markdown",
   "metadata": {},
   "source": [
    "In order to better visualize the decisions for our categorization, we will have another short look on the summary table for our last dataset:"
   ]
  },
  {
   "cell_type": "code",
   "execution_count": 459,
   "metadata": {},
   "outputs": [
    {
     "data": {
      "text/html": [
       "<div>\n",
       "<style scoped>\n",
       "    .dataframe tbody tr th:only-of-type {\n",
       "        vertical-align: middle;\n",
       "    }\n",
       "\n",
       "    .dataframe tbody tr th {\n",
       "        vertical-align: top;\n",
       "    }\n",
       "\n",
       "    .dataframe thead th {\n",
       "        text-align: right;\n",
       "    }\n",
       "</style>\n",
       "<table border=\"1\" class=\"dataframe\">\n",
       "  <thead>\n",
       "    <tr style=\"text-align: right;\">\n",
       "      <th></th>\n",
       "      <th>age</th>\n",
       "      <th>workclass</th>\n",
       "      <th>education</th>\n",
       "      <th>marital-status</th>\n",
       "      <th>occupation</th>\n",
       "      <th>race</th>\n",
       "      <th>sex</th>\n",
       "      <th>income</th>\n",
       "    </tr>\n",
       "  </thead>\n",
       "  <tbody>\n",
       "    <tr>\n",
       "      <th>count</th>\n",
       "      <td>30703.000000</td>\n",
       "      <td>30703</td>\n",
       "      <td>30703</td>\n",
       "      <td>30703</td>\n",
       "      <td>30703</td>\n",
       "      <td>30703</td>\n",
       "      <td>30703</td>\n",
       "      <td>30703</td>\n",
       "    </tr>\n",
       "    <tr>\n",
       "      <th>unique</th>\n",
       "      <td>NaN</td>\n",
       "      <td>6</td>\n",
       "      <td>16</td>\n",
       "      <td>7</td>\n",
       "      <td>14</td>\n",
       "      <td>5</td>\n",
       "      <td>2</td>\n",
       "      <td>2</td>\n",
       "    </tr>\n",
       "    <tr>\n",
       "      <th>top</th>\n",
       "      <td>NaN</td>\n",
       "      <td>Private</td>\n",
       "      <td>HS-grad</td>\n",
       "      <td>Married-civ-spouse</td>\n",
       "      <td>Prof-specialty</td>\n",
       "      <td>White</td>\n",
       "      <td>Male</td>\n",
       "      <td>&lt;=50K</td>\n",
       "    </tr>\n",
       "    <tr>\n",
       "      <th>freq</th>\n",
       "      <td>NaN</td>\n",
       "      <td>22696</td>\n",
       "      <td>9959</td>\n",
       "      <td>14331</td>\n",
       "      <td>4140</td>\n",
       "      <td>26288</td>\n",
       "      <td>20778</td>\n",
       "      <td>23053</td>\n",
       "    </tr>\n",
       "    <tr>\n",
       "      <th>mean</th>\n",
       "      <td>38.439306</td>\n",
       "      <td>NaN</td>\n",
       "      <td>NaN</td>\n",
       "      <td>NaN</td>\n",
       "      <td>NaN</td>\n",
       "      <td>NaN</td>\n",
       "      <td>NaN</td>\n",
       "      <td>NaN</td>\n",
       "    </tr>\n",
       "    <tr>\n",
       "      <th>std</th>\n",
       "      <td>13.112744</td>\n",
       "      <td>NaN</td>\n",
       "      <td>NaN</td>\n",
       "      <td>NaN</td>\n",
       "      <td>NaN</td>\n",
       "      <td>NaN</td>\n",
       "      <td>NaN</td>\n",
       "      <td>NaN</td>\n",
       "    </tr>\n",
       "    <tr>\n",
       "      <th>min</th>\n",
       "      <td>17.000000</td>\n",
       "      <td>NaN</td>\n",
       "      <td>NaN</td>\n",
       "      <td>NaN</td>\n",
       "      <td>NaN</td>\n",
       "      <td>NaN</td>\n",
       "      <td>NaN</td>\n",
       "      <td>NaN</td>\n",
       "    </tr>\n",
       "    <tr>\n",
       "      <th>25%</th>\n",
       "      <td>28.000000</td>\n",
       "      <td>NaN</td>\n",
       "      <td>NaN</td>\n",
       "      <td>NaN</td>\n",
       "      <td>NaN</td>\n",
       "      <td>NaN</td>\n",
       "      <td>NaN</td>\n",
       "      <td>NaN</td>\n",
       "    </tr>\n",
       "    <tr>\n",
       "      <th>50%</th>\n",
       "      <td>37.000000</td>\n",
       "      <td>NaN</td>\n",
       "      <td>NaN</td>\n",
       "      <td>NaN</td>\n",
       "      <td>NaN</td>\n",
       "      <td>NaN</td>\n",
       "      <td>NaN</td>\n",
       "      <td>NaN</td>\n",
       "    </tr>\n",
       "    <tr>\n",
       "      <th>75%</th>\n",
       "      <td>47.000000</td>\n",
       "      <td>NaN</td>\n",
       "      <td>NaN</td>\n",
       "      <td>NaN</td>\n",
       "      <td>NaN</td>\n",
       "      <td>NaN</td>\n",
       "      <td>NaN</td>\n",
       "      <td>NaN</td>\n",
       "    </tr>\n",
       "    <tr>\n",
       "      <th>max</th>\n",
       "      <td>90.000000</td>\n",
       "      <td>NaN</td>\n",
       "      <td>NaN</td>\n",
       "      <td>NaN</td>\n",
       "      <td>NaN</td>\n",
       "      <td>NaN</td>\n",
       "      <td>NaN</td>\n",
       "      <td>NaN</td>\n",
       "    </tr>\n",
       "  </tbody>\n",
       "</table>\n",
       "</div>"
      ],
      "text/plain": [
       "                 age workclass education      marital-status      occupation  \\\n",
       "count   30703.000000     30703     30703               30703           30703   \n",
       "unique           NaN         6        16                   7              14   \n",
       "top              NaN   Private   HS-grad  Married-civ-spouse  Prof-specialty   \n",
       "freq             NaN     22696      9959               14331            4140   \n",
       "mean       38.439306       NaN       NaN                 NaN             NaN   \n",
       "std        13.112744       NaN       NaN                 NaN             NaN   \n",
       "min        17.000000       NaN       NaN                 NaN             NaN   \n",
       "25%        28.000000       NaN       NaN                 NaN             NaN   \n",
       "50%        37.000000       NaN       NaN                 NaN             NaN   \n",
       "75%        47.000000       NaN       NaN                 NaN             NaN   \n",
       "max        90.000000       NaN       NaN                 NaN             NaN   \n",
       "\n",
       "         race    sex income  \n",
       "count   30703  30703  30703  \n",
       "unique      5      2      2  \n",
       "top     White   Male  <=50K  \n",
       "freq    26288  20778  23053  \n",
       "mean      NaN    NaN    NaN  \n",
       "std       NaN    NaN    NaN  \n",
       "min       NaN    NaN    NaN  \n",
       "25%       NaN    NaN    NaN  \n",
       "50%       NaN    NaN    NaN  \n",
       "75%       NaN    NaN    NaN  \n",
       "max       NaN    NaN    NaN  "
      ]
     },
     "execution_count": 459,
     "metadata": {},
     "output_type": "execute_result"
    }
   ],
   "source": [
    "data_v003.describe(include=\"all\")"
   ]
  },
  {
   "cell_type": "markdown",
   "metadata": {},
   "source": [
    "We can see that every variable apart from <b>sex</b> and <b>income</b> has at least 5 distinct categories. Moreover, while checking for missing values we could see that some categories could be combined in order to make their respective variables easier to work with. For instance, if we were to create a dummy variable for each education level, we would fill our dataset with 15 (16 minus the reference category) dummies for education alone. At the same time, persons with a degree after 10, 11 or 12 years of school would probably not differ so much from each other as to justify an own dummy for each of them. Instead, we can create categories such as \"with higher education\" and \"without higher education\", thereby reducing our need for dummies to only 1 (with values 0 or 1) and making <b>education</b> much easier to handle and look at.\n",
    "\n",
    "In this example, we will also create age intervals for the <b>age</b> variable as these can reflect the different stages of life a person is in and the financial means connected to it, which typically vary throught one's lifetime.\n",
    "\n",
    "In the following, there will be given a description about the categories that we plan to create for each variable:\n",
    "\n",
    "<b>\"Age\"</b> will be coded into 6 groups reflecting different stages in life:\n",
    "\n",
    "<b>\"1\"</b> for <b>\"17-24\"</b><br/>\n",
    "<b>\"2\"</b> for <b>\"25-34\"</b><br/>\n",
    "<b>\"3\"</b> for <b>\"35-44\"</b><br/>\n",
    "<b>\"4\"</b> for <b>\"45-54\"</b><br/>\n",
    "<b>\"5\"</b> for <b>\"55-64\"</b><br/>\n",
    "<b>\"6\"</b> for <b>\"65+\"</b><br/><br/>\n",
    "\n",
    "<b>\"Workplace\":</b> will be coded into public and private jobs, with \"Private\", \"Self-emp-not-inc\" and \"Self-emp-inc\" to be coded as private jobs and all government positions as public jobs. The coding will be: \n",
    "\n",
    "<b>\"0\"</b> for <b>\"Public\"</b><br/>\n",
    "<b>\"1\"</b> for <b>\"Private\"</b><br/><br/>\n",
    "    \n",
    "<b>\"Education\":</b> will be categorized into individuals with and without a higher education. That is, individuals with a higher education have at least some degree of college education or higher. The coding will be:\n",
    "\n",
    "<b>\"0\"</b> for <b>\"No higher education\"</b><br/>\n",
    "<b>\"1\"</b> for <b>\"Higher education\"</b><br/><br/>\n",
    "\n",
    "<b>\"Status\":</b> will be coded into persons who are currently in a partnership where they are living with their partner (i.e. Married-AF-spouse and Married-civ-spouse) and those who are not (including due to separation and window(er)s). The coding will be:\n",
    "\n",
    "<b>\"0\"</b> for <b>\"Not in a relationship\"</b><br/>\n",
    "<b>\"1\"</b> for <b>\"In a relationship\"</b><br/><br/>\n",
    "\n",
    "<b>\"Occupation\":</b> will be coded into jobs that characterized by manual labour (blue collar) and office jobs that do not require manual labour (white collar). Under this categorization, \"Craft-repair\", \"Farming-fishing\", \"Handlers-cleaners\", \"Other-service\", \"Priv-house-serv\", \"Protective-serv\" and \"Transport-moving\" were defined as \"blue collar\" jobs. \"Armed Forces\" were not added to this category as the title is rather vague but most persons employed by the Armed Forces can be expected to earn a higher salary than most privately employed persons. Therefore, they were added to the \"white collar\" category. The coding will be: \n",
    "\n",
    "<b>\"0\"</b> for <b>\"Blue Collar\"</b><br/>\n",
    "<b>\"1\"</b> for <b>\"White Collar\"</b><br/><br/>\n",
    "\n",
    "<b>\"Race\":</b> will be categorized as \"white\" and \"non-white\" individuals. The coding will be: \n",
    "\n",
    "<b>\"0\"</b> for <b>\"Non-white\"</b><br/>\n",
    "<b>\"1\"</b> for <b>\"White\"</b><br/><br/>\n",
    "\n",
    "<b>\"Sex\":</b> will be coded as:\n",
    "\n",
    "<b>\"0\"</b> for <b>\"Female\"</b><br/>\n",
    "<b>\"1\"</b> for <b>\"Male\"</b><br/><br/>\n",
    "\n",
    "Lastly, <b>\"Income\"</b>(our dependent variable) which describes whether or not an individual earn more than 50.000 dollars a year will be coded as:\n",
    "\n",
    "<b>\"0\"</b> for <b>Less than or equal to 50.000 Dollars</b><br/> \n",
    "<b>\"1\"</b> for <b>More than 50.000 Dollars</b>"
   ]
  },
  {
   "cell_type": "markdown",
   "metadata": {},
   "source": [
    "<u><p style=\"font-size:16px\">5.4.2. Creating the Categories</p></u>"
   ]
  },
  {
   "cell_type": "markdown",
   "metadata": {},
   "source": [
    "We will now create the categories according to the outlined principles. The newly categorized variables will be added as new columns to the dataframe. The <b>Age Groups</b> variable will later on be transformed into 5 dummy variables via Panda's \"get_dummy\" function."
   ]
  },
  {
   "cell_type": "markdown",
   "metadata": {},
   "source": [
    "<u><p style=\"font-size:14px\">5.4.2.1. Creating <b>Age Groups</b></p></u>"
   ]
  },
  {
   "cell_type": "markdown",
   "metadata": {},
   "source": [
    "To create the <b>Age Groups</b> column, we will be using Panda's <em>cut</em> functionality to define age bins that will place an individual in its respective bin according to the age intervals we defined earlier. The bins are excluding the first value defined for a bin an include the last. By only giving the last accepted values for each age interval (we know our lowest age is 17 and our highest age is 90), and pre-defining the interval labels, we can make the following work:"
   ]
  },
  {
   "cell_type": "code",
   "execution_count": 460,
   "metadata": {},
   "outputs": [
    {
     "data": {
      "text/html": [
       "<div>\n",
       "<style scoped>\n",
       "    .dataframe tbody tr th:only-of-type {\n",
       "        vertical-align: middle;\n",
       "    }\n",
       "\n",
       "    .dataframe tbody tr th {\n",
       "        vertical-align: top;\n",
       "    }\n",
       "\n",
       "    .dataframe thead th {\n",
       "        text-align: right;\n",
       "    }\n",
       "</style>\n",
       "<table border=\"1\" class=\"dataframe\">\n",
       "  <thead>\n",
       "    <tr style=\"text-align: right;\">\n",
       "      <th></th>\n",
       "      <th>0</th>\n",
       "    </tr>\n",
       "  </thead>\n",
       "  <tbody>\n",
       "    <tr>\n",
       "      <th>0</th>\n",
       "      <td>45-54</td>\n",
       "    </tr>\n",
       "    <tr>\n",
       "      <th>1</th>\n",
       "      <td>35-44</td>\n",
       "    </tr>\n",
       "    <tr>\n",
       "      <th>2</th>\n",
       "      <td>25-34</td>\n",
       "    </tr>\n",
       "    <tr>\n",
       "      <th>3</th>\n",
       "      <td>17-24</td>\n",
       "    </tr>\n",
       "    <tr>\n",
       "      <th>4</th>\n",
       "      <td>55-64</td>\n",
       "    </tr>\n",
       "    <tr>\n",
       "      <th>5</th>\n",
       "      <td>65+</td>\n",
       "    </tr>\n",
       "  </tbody>\n",
       "</table>\n",
       "</div>"
      ],
      "text/plain": [
       "       0\n",
       "0  45-54\n",
       "1  35-44\n",
       "2  25-34\n",
       "3  17-24\n",
       "4  55-64\n",
       "5    65+"
      ]
     },
     "execution_count": 460,
     "metadata": {},
     "output_type": "execute_result"
    }
   ],
   "source": [
    "bins = [16, 24, 34, 44, 54, 64, 90]\n",
    "labels = [\"17-24\", \"25-34\", \"35-44\", \"45-54\", \"55-64\", \"65+\"]\n",
    "\n",
    "data_v003[\"Age Groups\"] = pd.cut(data_v003[\"age\"], bins=bins, labels=labels)\n",
    "pd.DataFrame(data_v003[\"Age Groups\"].unique())"
   ]
  },
  {
   "cell_type": "markdown",
   "metadata": {},
   "source": [
    "We can now go ahead and categorize <b>workclass</b> via <em>mapping</em>:"
   ]
  },
  {
   "cell_type": "markdown",
   "metadata": {},
   "source": [
    "<u><p style=\"font-size:14px\">5.4.2.2. Creating <b>Workclass</b> coded</p></u>"
   ]
  },
  {
   "cell_type": "markdown",
   "metadata": {},
   "source": [
    "We can use Panda's <em>replace</em> functionality to create our new categories. As the new categories will be \"Private\" and \"Public\", we do not need to change the already existing \"Private\" category:"
   ]
  },
  {
   "cell_type": "code",
   "execution_count": 461,
   "metadata": {},
   "outputs": [
    {
     "data": {
      "text/html": [
       "<div>\n",
       "<style scoped>\n",
       "    .dataframe tbody tr th:only-of-type {\n",
       "        vertical-align: middle;\n",
       "    }\n",
       "\n",
       "    .dataframe tbody tr th {\n",
       "        vertical-align: top;\n",
       "    }\n",
       "\n",
       "    .dataframe thead th {\n",
       "        text-align: right;\n",
       "    }\n",
       "</style>\n",
       "<table border=\"1\" class=\"dataframe\">\n",
       "  <thead>\n",
       "    <tr style=\"text-align: right;\">\n",
       "      <th></th>\n",
       "      <th>0</th>\n",
       "    </tr>\n",
       "  </thead>\n",
       "  <tbody>\n",
       "    <tr>\n",
       "      <th>0</th>\n",
       "      <td>Private</td>\n",
       "    </tr>\n",
       "    <tr>\n",
       "      <th>1</th>\n",
       "      <td>Public</td>\n",
       "    </tr>\n",
       "  </tbody>\n",
       "</table>\n",
       "</div>"
      ],
      "text/plain": [
       "         0\n",
       "0  Private\n",
       "1   Public"
      ]
     },
     "execution_count": 461,
     "metadata": {},
     "output_type": "execute_result"
    }
   ],
   "source": [
    "data_v003[\"Workclass_c\"] = data_v003[\"workclass\"]\n",
    "\n",
    "data_v003[\"Workclass_c\"] = data_v003[\"Workclass_c\"].replace([\"Self-emp-not-inc\", \"Self-emp-inc\"], \"Private\")\n",
    "\n",
    "data_v003[\"Workclass_c\"] = data_v003[\"Workclass_c\"].replace([\"Local-gov\", \"State-gov\", \"Federal-gov\"], \"Public\")\n",
    "\n",
    "pd.DataFrame(data_v003[\"Workclass_c\"].unique())"
   ]
  },
  {
   "cell_type": "markdown",
   "metadata": {},
   "source": [
    "We can continue with education:"
   ]
  },
  {
   "cell_type": "markdown",
   "metadata": {},
   "source": [
    "<u><p style=\"font-size:14px\">5.4.2.3. Creating <b>Education</b> coded</p></u>"
   ]
  },
  {
   "cell_type": "markdown",
   "metadata": {},
   "source": [
    "We will use the same procedure as for <b>workclass</b>"
   ]
  },
  {
   "cell_type": "code",
   "execution_count": 462,
   "metadata": {},
   "outputs": [
    {
     "data": {
      "text/html": [
       "<div>\n",
       "<style scoped>\n",
       "    .dataframe tbody tr th:only-of-type {\n",
       "        vertical-align: middle;\n",
       "    }\n",
       "\n",
       "    .dataframe tbody tr th {\n",
       "        vertical-align: top;\n",
       "    }\n",
       "\n",
       "    .dataframe thead th {\n",
       "        text-align: right;\n",
       "    }\n",
       "</style>\n",
       "<table border=\"1\" class=\"dataframe\">\n",
       "  <thead>\n",
       "    <tr style=\"text-align: right;\">\n",
       "      <th></th>\n",
       "      <th>0</th>\n",
       "    </tr>\n",
       "  </thead>\n",
       "  <tbody>\n",
       "    <tr>\n",
       "      <th>0</th>\n",
       "      <td>Higher Education</td>\n",
       "    </tr>\n",
       "    <tr>\n",
       "      <th>1</th>\n",
       "      <td>No Higher Education</td>\n",
       "    </tr>\n",
       "  </tbody>\n",
       "</table>\n",
       "</div>"
      ],
      "text/plain": [
       "                     0\n",
       "0     Higher Education\n",
       "1  No Higher Education"
      ]
     },
     "execution_count": 462,
     "metadata": {},
     "output_type": "execute_result"
    }
   ],
   "source": [
    "data_v003[\"Education_c\"] = data_v003[\"education\"]\n",
    "\n",
    "data_v003[\"Education_c\"] = data_v003[\"Education_c\"].replace(\n",
    "    [\"Preschool\", \"1st-4th\", \"5th-6th\", \"7th-8th\", \"9th\", \"10th\", \"11th\", \"12th\", \"HS-grad\"], \"No Higher Education\")\n",
    "\n",
    "data_v003[\"Education_c\"] = data_v003[\"Education_c\"].replace(\n",
    "    [\"Some-college\", \"Bachelors\", \"Assoc-voc\", \"Assoc-acdm\", \"Masters\", \"Prof-school\", \"Doctorate\"], \"Higher Education\")\n",
    "\n",
    "pd.DataFrame(data_v003[\"Education_c\"].unique())"
   ]
  },
  {
   "cell_type": "markdown",
   "metadata": {},
   "source": [
    "Continuing with marital-status:"
   ]
  },
  {
   "cell_type": "markdown",
   "metadata": {},
   "source": [
    "<u><p style=\"font-size:14px\">5.4.2.4. Creating <b>Status</b> coded</p></u>"
   ]
  },
  {
   "cell_type": "markdown",
   "metadata": {},
   "source": [
    "We will use the same well-known procedure:"
   ]
  },
  {
   "cell_type": "code",
   "execution_count": 463,
   "metadata": {
    "scrolled": false
   },
   "outputs": [
    {
     "data": {
      "text/html": [
       "<div>\n",
       "<style scoped>\n",
       "    .dataframe tbody tr th:only-of-type {\n",
       "        vertical-align: middle;\n",
       "    }\n",
       "\n",
       "    .dataframe tbody tr th {\n",
       "        vertical-align: top;\n",
       "    }\n",
       "\n",
       "    .dataframe thead th {\n",
       "        text-align: right;\n",
       "    }\n",
       "</style>\n",
       "<table border=\"1\" class=\"dataframe\">\n",
       "  <thead>\n",
       "    <tr style=\"text-align: right;\">\n",
       "      <th></th>\n",
       "      <th>0</th>\n",
       "    </tr>\n",
       "  </thead>\n",
       "  <tbody>\n",
       "    <tr>\n",
       "      <th>0</th>\n",
       "      <td>With Partner</td>\n",
       "    </tr>\n",
       "    <tr>\n",
       "      <th>1</th>\n",
       "      <td>Alone</td>\n",
       "    </tr>\n",
       "  </tbody>\n",
       "</table>\n",
       "</div>"
      ],
      "text/plain": [
       "              0\n",
       "0  With Partner\n",
       "1         Alone"
      ]
     },
     "execution_count": 463,
     "metadata": {},
     "output_type": "execute_result"
    }
   ],
   "source": [
    "data_v003[\"Status_c\"] = data_v003[\"marital-status\"]\n",
    "\n",
    "data_v003[\"Status_c\"] = data_v003[\"Status_c\"].replace(\n",
    "    [\"Divorced\", \"Married-spouse-absent\", \"Separated\", \"Widowed\", \"Never-married\"], \"Alone\")\n",
    "\n",
    "data_v003[\"Status_c\"] = data_v003[\"Status_c\"].replace(\n",
    "    [\"Married-AF-spouse\", \"Married-civ-spouse\"], \"With Partner\")\n",
    "\n",
    "pd.DataFrame(data_v003[\"Status_c\"].unique())"
   ]
  },
  {
   "cell_type": "markdown",
   "metadata": {},
   "source": [
    "Heading over to our second-last variable to be coded: <b>occupation</b>"
   ]
  },
  {
   "cell_type": "markdown",
   "metadata": {},
   "source": [
    "<u><p style=\"font-size:14px\">5.4.2.5. Creating <b>Occupation</b> coded</p></u>"
   ]
  },
  {
   "cell_type": "markdown",
   "metadata": {},
   "source": [
    "Once more, we will apply the <em>replace</em> functionality:"
   ]
  },
  {
   "cell_type": "code",
   "execution_count": 464,
   "metadata": {
    "scrolled": true
   },
   "outputs": [
    {
     "data": {
      "text/html": [
       "<div>\n",
       "<style scoped>\n",
       "    .dataframe tbody tr th:only-of-type {\n",
       "        vertical-align: middle;\n",
       "    }\n",
       "\n",
       "    .dataframe tbody tr th {\n",
       "        vertical-align: top;\n",
       "    }\n",
       "\n",
       "    .dataframe thead th {\n",
       "        text-align: right;\n",
       "    }\n",
       "</style>\n",
       "<table border=\"1\" class=\"dataframe\">\n",
       "  <thead>\n",
       "    <tr style=\"text-align: right;\">\n",
       "      <th></th>\n",
       "      <th>0</th>\n",
       "    </tr>\n",
       "  </thead>\n",
       "  <tbody>\n",
       "    <tr>\n",
       "      <th>0</th>\n",
       "      <td>White Collar</td>\n",
       "    </tr>\n",
       "    <tr>\n",
       "      <th>1</th>\n",
       "      <td>Blue Collar</td>\n",
       "    </tr>\n",
       "  </tbody>\n",
       "</table>\n",
       "</div>"
      ],
      "text/plain": [
       "              0\n",
       "0  White Collar\n",
       "1   Blue Collar"
      ]
     },
     "execution_count": 464,
     "metadata": {},
     "output_type": "execute_result"
    }
   ],
   "source": [
    "data_v003[\"Occupation_c\"] = data_v003[\"occupation\"]\n",
    "\n",
    "data_v003[\"Occupation_c\"] = data_v003[\"Occupation_c\"].replace(\n",
    "    [\"Adm-clerical\", \"Armed-Forces\", \"Exec-managerial\", \"Prof-specialty\", \"Sales\", \"Tech-support\"], \"White Collar\")\n",
    "\n",
    "data_v003[\"Occupation_c\"] = data_v003[\"Occupation_c\"].replace(\n",
    "    [\"Craft-repair\", \"Farming-fishing\", \"Handlers-cleaners\", \"Machine-op-inspct\", \"Other-service\", \n",
    "     \"Priv-house-serv\", \"Protective-serv\", \"Transport-moving\"], \"Blue Collar\")\n",
    "\n",
    "pd.DataFrame(data_v003[\"Occupation_c\"].unique())"
   ]
  },
  {
   "cell_type": "markdown",
   "metadata": {},
   "source": [
    "Finally, we will recode our last variable: <b>race</b>"
   ]
  },
  {
   "cell_type": "markdown",
   "metadata": {},
   "source": [
    "<u><p style=\"font-size:14px\">5.4.2.6. Creating <b>race</b> coded</p></u>"
   ]
  },
  {
   "cell_type": "markdown",
   "metadata": {},
   "source": [
    "We will use the same well-known procedure. As our new categories will be \"White\" and \"Non-White\", we do not need to replace the already existing \"White\" category:"
   ]
  },
  {
   "cell_type": "code",
   "execution_count": 465,
   "metadata": {
    "scrolled": false
   },
   "outputs": [
    {
     "data": {
      "text/html": [
       "<div>\n",
       "<style scoped>\n",
       "    .dataframe tbody tr th:only-of-type {\n",
       "        vertical-align: middle;\n",
       "    }\n",
       "\n",
       "    .dataframe tbody tr th {\n",
       "        vertical-align: top;\n",
       "    }\n",
       "\n",
       "    .dataframe thead th {\n",
       "        text-align: right;\n",
       "    }\n",
       "</style>\n",
       "<table border=\"1\" class=\"dataframe\">\n",
       "  <thead>\n",
       "    <tr style=\"text-align: right;\">\n",
       "      <th></th>\n",
       "      <th>0</th>\n",
       "    </tr>\n",
       "  </thead>\n",
       "  <tbody>\n",
       "    <tr>\n",
       "      <th>0</th>\n",
       "      <td>White</td>\n",
       "    </tr>\n",
       "    <tr>\n",
       "      <th>1</th>\n",
       "      <td>Non-White</td>\n",
       "    </tr>\n",
       "  </tbody>\n",
       "</table>\n",
       "</div>"
      ],
      "text/plain": [
       "           0\n",
       "0      White\n",
       "1  Non-White"
      ]
     },
     "execution_count": 465,
     "metadata": {},
     "output_type": "execute_result"
    }
   ],
   "source": [
    "data_v003[\"Race_c\"] = data_v003[\"race\"]\n",
    "\n",
    "data_v003[\"Race_c\"] = data_v003[\"Race_c\"].replace(\n",
    "    [\"Amer-Indian-Eskimo\", \"Asian-Pac-Islander\", \"Black\", \"Other\"], \"Non-White\")\n",
    "\n",
    "pd.DataFrame(data_v003[\"Race_c\"].unique())"
   ]
  },
  {
   "cell_type": "markdown",
   "metadata": {},
   "source": [
    "We have now concluded our recoding as their was no need to recode \"sex\" and \"income\", which already exist as dichotome variables. "
   ]
  },
  {
   "cell_type": "markdown",
   "metadata": {},
   "source": [
    "<u><p style=\"font-size:16px\">5.4.3. Deleting Uncoded Variables and Reordering the Dataset</p></u>"
   ]
  },
  {
   "cell_type": "markdown",
   "metadata": {},
   "source": [
    "To create our new dataset going forward, we can now drop our \"old\" uncoded variables. Moreover, we can re-arrange the columns of our dataset to create a better overview. Lastly, we can capitalize the <b>income</b> and <b>sex</b> variables to create consistency in among the columns names. We will view the head of the resulting new dataset:"
   ]
  },
  {
   "cell_type": "code",
   "execution_count": 466,
   "metadata": {},
   "outputs": [
    {
     "data": {
      "text/html": [
       "<div>\n",
       "<style scoped>\n",
       "    .dataframe tbody tr th:only-of-type {\n",
       "        vertical-align: middle;\n",
       "    }\n",
       "\n",
       "    .dataframe tbody tr th {\n",
       "        vertical-align: top;\n",
       "    }\n",
       "\n",
       "    .dataframe thead th {\n",
       "        text-align: right;\n",
       "    }\n",
       "</style>\n",
       "<table border=\"1\" class=\"dataframe\">\n",
       "  <thead>\n",
       "    <tr style=\"text-align: right;\">\n",
       "      <th></th>\n",
       "      <th>Income</th>\n",
       "      <th>Sex</th>\n",
       "      <th>Age Groups</th>\n",
       "      <th>Race_c</th>\n",
       "      <th>Education_c</th>\n",
       "      <th>Occupation_c</th>\n",
       "      <th>Workclass_c</th>\n",
       "      <th>Status_c</th>\n",
       "    </tr>\n",
       "  </thead>\n",
       "  <tbody>\n",
       "    <tr>\n",
       "      <th>0</th>\n",
       "      <td>&lt;=50K</td>\n",
       "      <td>Male</td>\n",
       "      <td>45-54</td>\n",
       "      <td>White</td>\n",
       "      <td>Higher Education</td>\n",
       "      <td>White Collar</td>\n",
       "      <td>Private</td>\n",
       "      <td>With Partner</td>\n",
       "    </tr>\n",
       "    <tr>\n",
       "      <th>1</th>\n",
       "      <td>&lt;=50K</td>\n",
       "      <td>Male</td>\n",
       "      <td>35-44</td>\n",
       "      <td>White</td>\n",
       "      <td>No Higher Education</td>\n",
       "      <td>Blue Collar</td>\n",
       "      <td>Private</td>\n",
       "      <td>Alone</td>\n",
       "    </tr>\n",
       "    <tr>\n",
       "      <th>2</th>\n",
       "      <td>&lt;=50K</td>\n",
       "      <td>Male</td>\n",
       "      <td>45-54</td>\n",
       "      <td>Non-White</td>\n",
       "      <td>No Higher Education</td>\n",
       "      <td>Blue Collar</td>\n",
       "      <td>Private</td>\n",
       "      <td>With Partner</td>\n",
       "    </tr>\n",
       "    <tr>\n",
       "      <th>3</th>\n",
       "      <td>&lt;=50K</td>\n",
       "      <td>Female</td>\n",
       "      <td>25-34</td>\n",
       "      <td>Non-White</td>\n",
       "      <td>Higher Education</td>\n",
       "      <td>White Collar</td>\n",
       "      <td>Private</td>\n",
       "      <td>With Partner</td>\n",
       "    </tr>\n",
       "    <tr>\n",
       "      <th>4</th>\n",
       "      <td>&lt;=50K</td>\n",
       "      <td>Female</td>\n",
       "      <td>35-44</td>\n",
       "      <td>White</td>\n",
       "      <td>Higher Education</td>\n",
       "      <td>White Collar</td>\n",
       "      <td>Private</td>\n",
       "      <td>With Partner</td>\n",
       "    </tr>\n",
       "  </tbody>\n",
       "</table>\n",
       "</div>"
      ],
      "text/plain": [
       "  Income     Sex Age Groups     Race_c          Education_c  Occupation_c  \\\n",
       "0  <=50K    Male      45-54      White     Higher Education  White Collar   \n",
       "1  <=50K    Male      35-44      White  No Higher Education   Blue Collar   \n",
       "2  <=50K    Male      45-54  Non-White  No Higher Education   Blue Collar   \n",
       "3  <=50K  Female      25-34  Non-White     Higher Education  White Collar   \n",
       "4  <=50K  Female      35-44      White     Higher Education  White Collar   \n",
       "\n",
       "  Workclass_c      Status_c  \n",
       "0     Private  With Partner  \n",
       "1     Private         Alone  \n",
       "2     Private  With Partner  \n",
       "3     Private  With Partner  \n",
       "4     Private  With Partner  "
      ]
     },
     "execution_count": 466,
     "metadata": {},
     "output_type": "execute_result"
    }
   ],
   "source": [
    "data_v004 = data_v003.drop([\"age\",\"workclass\",\"education\",\"marital-status\",\"occupation\",\"race\"], axis=1)\n",
    "\n",
    "column_names = [\"income\", \"sex\", \"Age Groups\", \"Race_c\", \"Education_c\", \"Occupation_c\", \"Workclass_c\", \"Status_c\"]\n",
    "\n",
    "data_v004 = data_v004.reindex(columns=column_names)\n",
    "\n",
    "data_v004 = data_v004.rename(columns={\"sex\": \"Sex\", \"income\": \"Income\"})\n",
    "\n",
    "data_v004.head()"
   ]
  },
  {
   "cell_type": "markdown",
   "metadata": {},
   "source": [
    "<u><p style=\"font-size:18px\">5.5. A Word on Evenly Balanced Dependent Variables</p></u>"
   ]
  },
  {
   "cell_type": "markdown",
   "metadata": {},
   "source": [
    "An often asked question when performing classification analysis is whether or not the dependent variable should be balanced evenly (e.g. an equal number of persons with an income higher and lower or equal to 50.000 dollars a year).\n",
    "\n",
    "Several researches have published articles tackling this question and have concluded two things: Firstly, especially for logistic regressions, artificially balancing the dependent variable provides no benefits to the model. Secondly, results will always be better when the whole available sample is used for modelling (e.g. cases should not be removed to decrease the majority group).\n",
    "\n",
    "See, for instance: \"Instance sampling in credit scoring: An empirical study of sample size and balancing\" in International Journal of Forecasting 28(1):224–238, March 2012\n",
    "\n",
    "We will therefore not attempt to balance our dependent variable <b>Income</b> and decide to keep all the sample available to us for our analysis."
   ]
  },
  {
   "cell_type": "markdown",
   "metadata": {},
   "source": [
    "<u><p style=\"font-size:18px\">5.6. Creating Numeric Values and Dummies</p></u>"
   ]
  },
  {
   "cell_type": "markdown",
   "metadata": {},
   "source": [
    "We have now reached the point where we can encode our categorical variables numerically, so we can apply our logistic regression model. While we have created convenient dichotomous variables for all columns but <b>Age Groups</b>, we will choose to code our reference category in each variable as \"0\" and our comparison category as \"1\". For <b>Age Groups</b>, we will use Panda's \"get_dummies\" function to create 5 new dummy variables with the age group 17-24 as reference category:\n",
    "\n",
    "Our variables and their respective categories will be re-coded as follows:"
   ]
  },
  {
   "cell_type": "code",
   "execution_count": 467,
   "metadata": {},
   "outputs": [
    {
     "data": {
      "text/html": [
       "<div>\n",
       "<style scoped>\n",
       "    .dataframe tbody tr th:only-of-type {\n",
       "        vertical-align: middle;\n",
       "    }\n",
       "\n",
       "    .dataframe tbody tr th {\n",
       "        vertical-align: top;\n",
       "    }\n",
       "\n",
       "    .dataframe thead th {\n",
       "        text-align: right;\n",
       "    }\n",
       "</style>\n",
       "<table border=\"1\" class=\"dataframe\">\n",
       "  <thead>\n",
       "    <tr style=\"text-align: right;\">\n",
       "      <th></th>\n",
       "      <th>Income</th>\n",
       "      <th>Sex</th>\n",
       "      <th>Age Groups</th>\n",
       "      <th>Race_c</th>\n",
       "      <th>Education_c</th>\n",
       "      <th>Occupation_c</th>\n",
       "      <th>Workclass_c</th>\n",
       "      <th>Status_c</th>\n",
       "    </tr>\n",
       "  </thead>\n",
       "  <tbody>\n",
       "    <tr>\n",
       "      <th>0</th>\n",
       "      <td>0</td>\n",
       "      <td>1</td>\n",
       "      <td>45-54</td>\n",
       "      <td>1</td>\n",
       "      <td>1</td>\n",
       "      <td>1</td>\n",
       "      <td>0</td>\n",
       "      <td>1</td>\n",
       "    </tr>\n",
       "    <tr>\n",
       "      <th>1</th>\n",
       "      <td>0</td>\n",
       "      <td>1</td>\n",
       "      <td>35-44</td>\n",
       "      <td>1</td>\n",
       "      <td>0</td>\n",
       "      <td>0</td>\n",
       "      <td>0</td>\n",
       "      <td>0</td>\n",
       "    </tr>\n",
       "    <tr>\n",
       "      <th>2</th>\n",
       "      <td>0</td>\n",
       "      <td>1</td>\n",
       "      <td>45-54</td>\n",
       "      <td>0</td>\n",
       "      <td>0</td>\n",
       "      <td>0</td>\n",
       "      <td>0</td>\n",
       "      <td>1</td>\n",
       "    </tr>\n",
       "    <tr>\n",
       "      <th>3</th>\n",
       "      <td>0</td>\n",
       "      <td>0</td>\n",
       "      <td>25-34</td>\n",
       "      <td>0</td>\n",
       "      <td>1</td>\n",
       "      <td>1</td>\n",
       "      <td>0</td>\n",
       "      <td>1</td>\n",
       "    </tr>\n",
       "    <tr>\n",
       "      <th>4</th>\n",
       "      <td>0</td>\n",
       "      <td>0</td>\n",
       "      <td>35-44</td>\n",
       "      <td>1</td>\n",
       "      <td>1</td>\n",
       "      <td>1</td>\n",
       "      <td>0</td>\n",
       "      <td>1</td>\n",
       "    </tr>\n",
       "  </tbody>\n",
       "</table>\n",
       "</div>"
      ],
      "text/plain": [
       "   Income  Sex Age Groups  Race_c  Education_c  Occupation_c  Workclass_c  \\\n",
       "0       0    1      45-54       1            1             1            0   \n",
       "1       0    1      35-44       1            0             0            0   \n",
       "2       0    1      45-54       0            0             0            0   \n",
       "3       0    0      25-34       0            1             1            0   \n",
       "4       0    0      35-44       1            1             1            0   \n",
       "\n",
       "   Status_c  \n",
       "0         1  \n",
       "1         0  \n",
       "2         1  \n",
       "3         1  \n",
       "4         1  "
      ]
     },
     "execution_count": 467,
     "metadata": {},
     "output_type": "execute_result"
    }
   ],
   "source": [
    "data_v004[\"Income\"] = data_v004[\"Income\"].replace(\"<=50K\", 0)\n",
    "data_v004[\"Income\"] = data_v004[\"Income\"].replace(\">50K\", 1)\n",
    "\n",
    "data_v004[\"Sex\"] = data_v004[\"Sex\"].replace(\"Female\", 0)\n",
    "data_v004[\"Sex\"] = data_v004[\"Sex\"].replace(\"Male\", 1)\n",
    "\n",
    "data_v004[\"Race_c\"] = data_v004[\"Race_c\"].replace(\"Non-White\", 0)\n",
    "data_v004[\"Race_c\"] = data_v004[\"Race_c\"].replace(\"White\", 1)\n",
    "\n",
    "data_v004[\"Education_c\"] = data_v004[\"Education_c\"].replace(\"No Higher Education\", 0)\n",
    "data_v004[\"Education_c\"] = data_v004[\"Education_c\"].replace(\"Higher Education\", 1)\n",
    "\n",
    "data_v004[\"Occupation_c\"] = data_v004[\"Occupation_c\"].replace(\"Blue Collar\", 0)\n",
    "data_v004[\"Occupation_c\"] = data_v004[\"Occupation_c\"].replace(\"White Collar\", 1)\n",
    "\n",
    "data_v004[\"Workclass_c\"] = data_v004[\"Workclass_c\"].replace(\"Private\", 0)\n",
    "data_v004[\"Workclass_c\"] = data_v004[\"Workclass_c\"].replace(\"Public\", 1)\n",
    "\n",
    "data_v004[\"Status_c\"] = data_v004[\"Status_c\"].replace(\"Alone\", 0)\n",
    "data_v004[\"Status_c\"] = data_v004[\"Status_c\"].replace(\"With Partner\", 1)\n",
    "\n",
    "data_v004.head()"
   ]
  },
  {
   "cell_type": "markdown",
   "metadata": {},
   "source": [
    "In the next step, we will create dummy variables from our <b>Age Groups</b> using Panda's \"get_dummies\" function. Our reference category (17-24) will be dropped, so we avoid the \"dummy variable trap\" by introducing multicollinearity (i.e. the 17-24 category could be perfectly predicted by the other age categories):"
   ]
  },
  {
   "cell_type": "code",
   "execution_count": 468,
   "metadata": {},
   "outputs": [
    {
     "data": {
      "text/html": [
       "<div>\n",
       "<style scoped>\n",
       "    .dataframe tbody tr th:only-of-type {\n",
       "        vertical-align: middle;\n",
       "    }\n",
       "\n",
       "    .dataframe tbody tr th {\n",
       "        vertical-align: top;\n",
       "    }\n",
       "\n",
       "    .dataframe thead th {\n",
       "        text-align: right;\n",
       "    }\n",
       "</style>\n",
       "<table border=\"1\" class=\"dataframe\">\n",
       "  <thead>\n",
       "    <tr style=\"text-align: right;\">\n",
       "      <th></th>\n",
       "      <th>25-34</th>\n",
       "      <th>35-44</th>\n",
       "      <th>45-54</th>\n",
       "      <th>55-64</th>\n",
       "      <th>65+</th>\n",
       "    </tr>\n",
       "  </thead>\n",
       "  <tbody>\n",
       "    <tr>\n",
       "      <th>0</th>\n",
       "      <td>0</td>\n",
       "      <td>0</td>\n",
       "      <td>1</td>\n",
       "      <td>0</td>\n",
       "      <td>0</td>\n",
       "    </tr>\n",
       "    <tr>\n",
       "      <th>1</th>\n",
       "      <td>0</td>\n",
       "      <td>1</td>\n",
       "      <td>0</td>\n",
       "      <td>0</td>\n",
       "      <td>0</td>\n",
       "    </tr>\n",
       "    <tr>\n",
       "      <th>2</th>\n",
       "      <td>0</td>\n",
       "      <td>0</td>\n",
       "      <td>1</td>\n",
       "      <td>0</td>\n",
       "      <td>0</td>\n",
       "    </tr>\n",
       "    <tr>\n",
       "      <th>3</th>\n",
       "      <td>1</td>\n",
       "      <td>0</td>\n",
       "      <td>0</td>\n",
       "      <td>0</td>\n",
       "      <td>0</td>\n",
       "    </tr>\n",
       "    <tr>\n",
       "      <th>4</th>\n",
       "      <td>0</td>\n",
       "      <td>1</td>\n",
       "      <td>0</td>\n",
       "      <td>0</td>\n",
       "      <td>0</td>\n",
       "    </tr>\n",
       "  </tbody>\n",
       "</table>\n",
       "</div>"
      ],
      "text/plain": [
       "   25-34  35-44  45-54  55-64  65+\n",
       "0      0      0      1      0    0\n",
       "1      0      1      0      0    0\n",
       "2      0      0      1      0    0\n",
       "3      1      0      0      0    0\n",
       "4      0      1      0      0    0"
      ]
     },
     "execution_count": 468,
     "metadata": {},
     "output_type": "execute_result"
    }
   ],
   "source": [
    "Age_Dummy = pd.get_dummies(data_v004[\"Age Groups\"], drop_first = True)\n",
    "Age_Dummy.head()"
   ]
  },
  {
   "cell_type": "markdown",
   "metadata": {},
   "source": [
    "The dummies can now be added to the dataset by using the \"join\" function:"
   ]
  },
  {
   "cell_type": "code",
   "execution_count": 469,
   "metadata": {},
   "outputs": [
    {
     "data": {
      "text/html": [
       "<div>\n",
       "<style scoped>\n",
       "    .dataframe tbody tr th:only-of-type {\n",
       "        vertical-align: middle;\n",
       "    }\n",
       "\n",
       "    .dataframe tbody tr th {\n",
       "        vertical-align: top;\n",
       "    }\n",
       "\n",
       "    .dataframe thead th {\n",
       "        text-align: right;\n",
       "    }\n",
       "</style>\n",
       "<table border=\"1\" class=\"dataframe\">\n",
       "  <thead>\n",
       "    <tr style=\"text-align: right;\">\n",
       "      <th></th>\n",
       "      <th>Income</th>\n",
       "      <th>Sex</th>\n",
       "      <th>Age Groups</th>\n",
       "      <th>Race_c</th>\n",
       "      <th>Education_c</th>\n",
       "      <th>Occupation_c</th>\n",
       "      <th>Workclass_c</th>\n",
       "      <th>Status_c</th>\n",
       "      <th>25-34</th>\n",
       "      <th>35-44</th>\n",
       "      <th>45-54</th>\n",
       "      <th>55-64</th>\n",
       "      <th>65+</th>\n",
       "    </tr>\n",
       "  </thead>\n",
       "  <tbody>\n",
       "    <tr>\n",
       "      <th>0</th>\n",
       "      <td>0</td>\n",
       "      <td>1</td>\n",
       "      <td>45-54</td>\n",
       "      <td>1</td>\n",
       "      <td>1</td>\n",
       "      <td>1</td>\n",
       "      <td>0</td>\n",
       "      <td>1</td>\n",
       "      <td>0</td>\n",
       "      <td>0</td>\n",
       "      <td>1</td>\n",
       "      <td>0</td>\n",
       "      <td>0</td>\n",
       "    </tr>\n",
       "    <tr>\n",
       "      <th>1</th>\n",
       "      <td>0</td>\n",
       "      <td>1</td>\n",
       "      <td>35-44</td>\n",
       "      <td>1</td>\n",
       "      <td>0</td>\n",
       "      <td>0</td>\n",
       "      <td>0</td>\n",
       "      <td>0</td>\n",
       "      <td>0</td>\n",
       "      <td>1</td>\n",
       "      <td>0</td>\n",
       "      <td>0</td>\n",
       "      <td>0</td>\n",
       "    </tr>\n",
       "    <tr>\n",
       "      <th>2</th>\n",
       "      <td>0</td>\n",
       "      <td>1</td>\n",
       "      <td>45-54</td>\n",
       "      <td>0</td>\n",
       "      <td>0</td>\n",
       "      <td>0</td>\n",
       "      <td>0</td>\n",
       "      <td>1</td>\n",
       "      <td>0</td>\n",
       "      <td>0</td>\n",
       "      <td>1</td>\n",
       "      <td>0</td>\n",
       "      <td>0</td>\n",
       "    </tr>\n",
       "    <tr>\n",
       "      <th>3</th>\n",
       "      <td>0</td>\n",
       "      <td>0</td>\n",
       "      <td>25-34</td>\n",
       "      <td>0</td>\n",
       "      <td>1</td>\n",
       "      <td>1</td>\n",
       "      <td>0</td>\n",
       "      <td>1</td>\n",
       "      <td>1</td>\n",
       "      <td>0</td>\n",
       "      <td>0</td>\n",
       "      <td>0</td>\n",
       "      <td>0</td>\n",
       "    </tr>\n",
       "    <tr>\n",
       "      <th>4</th>\n",
       "      <td>0</td>\n",
       "      <td>0</td>\n",
       "      <td>35-44</td>\n",
       "      <td>1</td>\n",
       "      <td>1</td>\n",
       "      <td>1</td>\n",
       "      <td>0</td>\n",
       "      <td>1</td>\n",
       "      <td>0</td>\n",
       "      <td>1</td>\n",
       "      <td>0</td>\n",
       "      <td>0</td>\n",
       "      <td>0</td>\n",
       "    </tr>\n",
       "  </tbody>\n",
       "</table>\n",
       "</div>"
      ],
      "text/plain": [
       "   Income  Sex Age Groups  Race_c  Education_c  Occupation_c  Workclass_c  \\\n",
       "0       0    1      45-54       1            1             1            0   \n",
       "1       0    1      35-44       1            0             0            0   \n",
       "2       0    1      45-54       0            0             0            0   \n",
       "3       0    0      25-34       0            1             1            0   \n",
       "4       0    0      35-44       1            1             1            0   \n",
       "\n",
       "   Status_c  25-34  35-44  45-54  55-64  65+  \n",
       "0         1      0      0      1      0    0  \n",
       "1         0      0      1      0      0    0  \n",
       "2         1      0      0      1      0    0  \n",
       "3         1      1      0      0      0    0  \n",
       "4         1      0      1      0      0    0  "
      ]
     },
     "execution_count": 469,
     "metadata": {},
     "output_type": "execute_result"
    }
   ],
   "source": [
    "data_v004 = data_v004.join(Age_Dummy)\n",
    "data_v004.head()"
   ]
  },
  {
   "cell_type": "markdown",
   "metadata": {},
   "source": [
    "We can now delete our \"old\" Age Groups variable and quickly re-order our columns for a better overview. We will save the result in a new dataset:"
   ]
  },
  {
   "cell_type": "code",
   "execution_count": 470,
   "metadata": {
    "scrolled": false
   },
   "outputs": [
    {
     "data": {
      "text/html": [
       "<div>\n",
       "<style scoped>\n",
       "    .dataframe tbody tr th:only-of-type {\n",
       "        vertical-align: middle;\n",
       "    }\n",
       "\n",
       "    .dataframe tbody tr th {\n",
       "        vertical-align: top;\n",
       "    }\n",
       "\n",
       "    .dataframe thead th {\n",
       "        text-align: right;\n",
       "    }\n",
       "</style>\n",
       "<table border=\"1\" class=\"dataframe\">\n",
       "  <thead>\n",
       "    <tr style=\"text-align: right;\">\n",
       "      <th></th>\n",
       "      <th>Income</th>\n",
       "      <th>Sex</th>\n",
       "      <th>25-34</th>\n",
       "      <th>35-44</th>\n",
       "      <th>45-54</th>\n",
       "      <th>55-64</th>\n",
       "      <th>65+</th>\n",
       "      <th>Race_c</th>\n",
       "      <th>Education_c</th>\n",
       "      <th>Occupation_c</th>\n",
       "      <th>Workclass_c</th>\n",
       "      <th>Status_c</th>\n",
       "    </tr>\n",
       "  </thead>\n",
       "  <tbody>\n",
       "    <tr>\n",
       "      <th>0</th>\n",
       "      <td>0</td>\n",
       "      <td>1</td>\n",
       "      <td>0</td>\n",
       "      <td>0</td>\n",
       "      <td>1</td>\n",
       "      <td>0</td>\n",
       "      <td>0</td>\n",
       "      <td>1</td>\n",
       "      <td>1</td>\n",
       "      <td>1</td>\n",
       "      <td>0</td>\n",
       "      <td>1</td>\n",
       "    </tr>\n",
       "    <tr>\n",
       "      <th>1</th>\n",
       "      <td>0</td>\n",
       "      <td>1</td>\n",
       "      <td>0</td>\n",
       "      <td>1</td>\n",
       "      <td>0</td>\n",
       "      <td>0</td>\n",
       "      <td>0</td>\n",
       "      <td>1</td>\n",
       "      <td>0</td>\n",
       "      <td>0</td>\n",
       "      <td>0</td>\n",
       "      <td>0</td>\n",
       "    </tr>\n",
       "    <tr>\n",
       "      <th>2</th>\n",
       "      <td>0</td>\n",
       "      <td>1</td>\n",
       "      <td>0</td>\n",
       "      <td>0</td>\n",
       "      <td>1</td>\n",
       "      <td>0</td>\n",
       "      <td>0</td>\n",
       "      <td>0</td>\n",
       "      <td>0</td>\n",
       "      <td>0</td>\n",
       "      <td>0</td>\n",
       "      <td>1</td>\n",
       "    </tr>\n",
       "    <tr>\n",
       "      <th>3</th>\n",
       "      <td>0</td>\n",
       "      <td>0</td>\n",
       "      <td>1</td>\n",
       "      <td>0</td>\n",
       "      <td>0</td>\n",
       "      <td>0</td>\n",
       "      <td>0</td>\n",
       "      <td>0</td>\n",
       "      <td>1</td>\n",
       "      <td>1</td>\n",
       "      <td>0</td>\n",
       "      <td>1</td>\n",
       "    </tr>\n",
       "    <tr>\n",
       "      <th>4</th>\n",
       "      <td>0</td>\n",
       "      <td>0</td>\n",
       "      <td>0</td>\n",
       "      <td>1</td>\n",
       "      <td>0</td>\n",
       "      <td>0</td>\n",
       "      <td>0</td>\n",
       "      <td>1</td>\n",
       "      <td>1</td>\n",
       "      <td>1</td>\n",
       "      <td>0</td>\n",
       "      <td>1</td>\n",
       "    </tr>\n",
       "  </tbody>\n",
       "</table>\n",
       "</div>"
      ],
      "text/plain": [
       "   Income  Sex  25-34  35-44  45-54  55-64  65+  Race_c  Education_c  \\\n",
       "0       0    1      0      0      1      0    0       1            1   \n",
       "1       0    1      0      1      0      0    0       1            0   \n",
       "2       0    1      0      0      1      0    0       0            0   \n",
       "3       0    0      1      0      0      0    0       0            1   \n",
       "4       0    0      0      1      0      0    0       1            1   \n",
       "\n",
       "   Occupation_c  Workclass_c  Status_c  \n",
       "0             1            0         1  \n",
       "1             0            0         0  \n",
       "2             0            0         1  \n",
       "3             1            0         1  \n",
       "4             1            0         1  "
      ]
     },
     "execution_count": 470,
     "metadata": {},
     "output_type": "execute_result"
    }
   ],
   "source": [
    "data_v005 = data_v004.drop(\"Age Groups\", axis=1)\n",
    "\n",
    "column_names_new = [\"Income\", \"Sex\", \"25-34\", \"35-44\", \"45-54\", \"55-64\", \"65+\",  \n",
    "                    \"Race_c\", \"Education_c\", \"Occupation_c\", \"Workclass_c\", \"Status_c\"]\n",
    "\n",
    "data_v005 = data_v005.reindex(columns=column_names_new)\n",
    "\n",
    "data_v005.head()"
   ]
  },
  {
   "cell_type": "markdown",
   "metadata": {},
   "source": [
    "<u><p style=\"font-size:18px\">5.7. Verifying the Assumptions for Logistic Regression</p></u>"
   ]
  },
  {
   "cell_type": "markdown",
   "metadata": {},
   "source": [
    "Before we can continue to fit our model, we should have a final check on the necessary preconditions for performing a logistic regression and see if we comply with all of them:\n",
    "\n",
    "1. We require the dependent variable to be binary -> Fulfilled\n",
    "\n",
    "\n",
    "2. Our observations should be independent of each other. -> Fulfilled, as we are not looking at time series data or repeated measurements. Our data is cross-sectional data.\n",
    "\n",
    "\n",
    "3. No multicollinearity among the independent variables. -> We need to test our regressors for multicollinearity before we continue.\n",
    "\n",
    "\n",
    "4. Logistic regression assumes linearity of independent variables and log odds. -> Fulfilled, since we are only testing dummy variables, and these meet the assumption of linearity by definition.\n",
    "\n",
    "\n",
    "5. Logistic regression typically requires a large sample size. -> Fulfilled with more than 30.000 cases remaining in our dataset and categorizations that eliminated heavily underpopulated groups.\n",
    "\n",
    "\n",
    "As a result, the only assumption we need to verify additionally is the independence of our regressors (no multicollinearity). We can check for multicollinearity via the use of <em>Variance Inflation Factors (VIFs)</em>. The idea is that a linear regression is run for each of the regressors, whereas one of them always acts as the dependent, and the others as independent variables. We then receive <em>R² values</em> for each regression, which indicate how well each variable can be explained by others. VIF values of 10 or higher have been described as indicating a problematic amount of collinearity, which should be corrected, possibly by dropping the respective variable from the model."
   ]
  },
  {
   "cell_type": "markdown",
   "metadata": {},
   "source": [
    "<u><p style=\"font-size:16px\">5.7.1. Investigating Multicollinearity via <em>Variance Inflation Factors (VIFs)</em></p></u>"
   ]
  },
  {
   "cell_type": "markdown",
   "metadata": {},
   "source": [
    "We can perform VIF analysis with Statsmodels:"
   ]
  },
  {
   "cell_type": "code",
   "execution_count": 471,
   "metadata": {},
   "outputs": [
    {
     "data": {
      "text/html": [
       "<div>\n",
       "<style scoped>\n",
       "    .dataframe tbody tr th:only-of-type {\n",
       "        vertical-align: middle;\n",
       "    }\n",
       "\n",
       "    .dataframe tbody tr th {\n",
       "        vertical-align: top;\n",
       "    }\n",
       "\n",
       "    .dataframe thead th {\n",
       "        text-align: right;\n",
       "    }\n",
       "</style>\n",
       "<table border=\"1\" class=\"dataframe\">\n",
       "  <thead>\n",
       "    <tr style=\"text-align: right;\">\n",
       "      <th></th>\n",
       "      <th>VIF</th>\n",
       "      <th>Regressors</th>\n",
       "    </tr>\n",
       "  </thead>\n",
       "  <tbody>\n",
       "    <tr>\n",
       "      <th>0</th>\n",
       "      <td>3.618527</td>\n",
       "      <td>Sex</td>\n",
       "    </tr>\n",
       "    <tr>\n",
       "      <th>1</th>\n",
       "      <td>2.118476</td>\n",
       "      <td>25-34</td>\n",
       "    </tr>\n",
       "    <tr>\n",
       "      <th>2</th>\n",
       "      <td>2.279711</td>\n",
       "      <td>35-44</td>\n",
       "    </tr>\n",
       "    <tr>\n",
       "      <th>3</th>\n",
       "      <td>1.975197</td>\n",
       "      <td>45-54</td>\n",
       "    </tr>\n",
       "    <tr>\n",
       "      <th>4</th>\n",
       "      <td>1.492389</td>\n",
       "      <td>55-64</td>\n",
       "    </tr>\n",
       "    <tr>\n",
       "      <th>5</th>\n",
       "      <td>1.159934</td>\n",
       "      <td>65+</td>\n",
       "    </tr>\n",
       "    <tr>\n",
       "      <th>6</th>\n",
       "      <td>4.604178</td>\n",
       "      <td>Race_c</td>\n",
       "    </tr>\n",
       "    <tr>\n",
       "      <th>7</th>\n",
       "      <td>2.672154</td>\n",
       "      <td>Education_c</td>\n",
       "    </tr>\n",
       "    <tr>\n",
       "      <th>8</th>\n",
       "      <td>2.661863</td>\n",
       "      <td>Occupation_c</td>\n",
       "    </tr>\n",
       "    <tr>\n",
       "      <th>9</th>\n",
       "      <td>1.201603</td>\n",
       "      <td>Workclass_c</td>\n",
       "    </tr>\n",
       "    <tr>\n",
       "      <th>10</th>\n",
       "      <td>2.611351</td>\n",
       "      <td>Status_c</td>\n",
       "    </tr>\n",
       "  </tbody>\n",
       "</table>\n",
       "</div>"
      ],
      "text/plain": [
       "         VIF    Regressors\n",
       "0   3.618527           Sex\n",
       "1   2.118476         25-34\n",
       "2   2.279711         35-44\n",
       "3   1.975197         45-54\n",
       "4   1.492389         55-64\n",
       "5   1.159934           65+\n",
       "6   4.604178        Race_c\n",
       "7   2.672154   Education_c\n",
       "8   2.661863  Occupation_c\n",
       "9   1.201603   Workclass_c\n",
       "10  2.611351      Status_c"
      ]
     },
     "execution_count": 471,
     "metadata": {},
     "output_type": "execute_result"
    }
   ],
   "source": [
    "from statsmodels.stats.outliers_influence import variance_inflation_factor\n",
    "\n",
    "regressors = data_v005.drop([\"Income\"], axis=1)\n",
    "\n",
    "vif = pd.DataFrame()\n",
    "vif[\"VIF\"] = [variance_inflation_factor(regressors.values, i) for i in range(regressors.shape[1])]\n",
    "vif[\"Regressors\"] = regressors.columns\n",
    "\n",
    "vif"
   ]
  },
  {
   "cell_type": "markdown",
   "metadata": {},
   "source": [
    "Our VIF analysis does not indicate any problematic correlations between our regressors. As a result, we can for now continue with all of them and fit our initial model.\n",
    "\n",
    "To indicate that we have concluded the data pre-processing stage and our dataset is now ready for analysis, we can save it as our final \"v1\" version:"
   ]
  },
  {
   "cell_type": "code",
   "execution_count": 472,
   "metadata": {},
   "outputs": [],
   "source": [
    "data_v1 = data_v005.copy()"
   ]
  },
  {
   "cell_type": "markdown",
   "metadata": {},
   "source": [
    "<u><p style=\"font-size:20px\">6. Performing the Regression</p></u>"
   ]
  },
  {
   "cell_type": "markdown",
   "metadata": {},
   "source": [
    "We have arrived at the point where we have prepared our data sufficiently to perform the logistic regression analysis.\n",
    "\n",
    "However, in order to make sure that we are not overfitting our model on the dataset at hand, we will split our preprocessed dataset into a training and test dataset. The training dataset will be used to fit our model, while the test dataset will be used to objectively test its accuracy.\n",
    "\n",
    "We will then proceed to fit an initial model to our test dataset and examine whether all of our input variables are providing meaningful contributions to explain our <b>Income</b> variable. Depending on the results, we can then adjust our model by potentially removing unimportant regressors.\n",
    "\n",
    "We will start by splitting our dataset into train and test data:"
   ]
  },
  {
   "cell_type": "markdown",
   "metadata": {},
   "source": [
    "<u><p style=\"font-size:18px\">6.1. Splitting the Dataset into Train and Test Data</p></u>"
   ]
  },
  {
   "cell_type": "markdown",
   "metadata": {},
   "source": [
    "We can apply Sklearn's <em>\"train_test_split\"</em> method to split our dataset into training and test data. <em>\"Train_test_split\"</em> provides the advantage that it creates both the input and the target datasets for both train and test data. Moreover, it shuffles the cases in the sets by default, so we can be sure to remove potential effects that may exist due to the order in which cases were saved in the dataset.\n",
    "\n",
    "A common train-test-split is the 80/20 split, that is 80% of the dataset is chosen as train and 20% as test data. The goal is always to retain the bulk of the data points in the test dataset so we are not losing the underlying patterns in the data due to shrinking our dataset too much. \n",
    "\n",
    "We can apply Sklearn's <em>\"train_test_split\"</em> as follows:\n",
    "\n",
    "<em>Additional info:</em> We will also set the random shuffle to a specific state (333), so we will attain the same shuffle order each time we run this code again."
   ]
  },
  {
   "cell_type": "code",
   "execution_count": 473,
   "metadata": {},
   "outputs": [],
   "source": [
    "targets_raw = data_v1[\"Income\"]\n",
    "inputs_raw = data_v1.drop(\"Income\", axis=1)\n",
    "\n",
    "from sklearn.model_selection import train_test_split\n",
    "\n",
    "inputs_train_initial, inputs_test, targets_train_initial, targets_test = train_test_split(inputs_raw, targets_raw, test_size=0.2, random_state=333) "
   ]
  },
  {
   "cell_type": "markdown",
   "metadata": {},
   "source": [
    "We can test if our split has worked correctly:"
   ]
  },
  {
   "cell_type": "code",
   "execution_count": 474,
   "metadata": {},
   "outputs": [
    {
     "data": {
      "text/html": [
       "<div>\n",
       "<style scoped>\n",
       "    .dataframe tbody tr th:only-of-type {\n",
       "        vertical-align: middle;\n",
       "    }\n",
       "\n",
       "    .dataframe tbody tr th {\n",
       "        vertical-align: top;\n",
       "    }\n",
       "\n",
       "    .dataframe thead th {\n",
       "        text-align: right;\n",
       "    }\n",
       "</style>\n",
       "<table border=\"1\" class=\"dataframe\">\n",
       "  <thead>\n",
       "    <tr style=\"text-align: right;\">\n",
       "      <th></th>\n",
       "      <th>Dataset</th>\n",
       "      <th>Sample Size</th>\n",
       "      <th>Sample Percentage</th>\n",
       "    </tr>\n",
       "  </thead>\n",
       "  <tbody>\n",
       "    <tr>\n",
       "      <th>0</th>\n",
       "      <td>inputs_train_initial</td>\n",
       "      <td>24562</td>\n",
       "      <td>0.799987</td>\n",
       "    </tr>\n",
       "    <tr>\n",
       "      <th>1</th>\n",
       "      <td>inputs_test</td>\n",
       "      <td>6141</td>\n",
       "      <td>0.200013</td>\n",
       "    </tr>\n",
       "    <tr>\n",
       "      <th>2</th>\n",
       "      <td>targets_train_initial</td>\n",
       "      <td>24562</td>\n",
       "      <td>0.799987</td>\n",
       "    </tr>\n",
       "    <tr>\n",
       "      <th>3</th>\n",
       "      <td>targets_test</td>\n",
       "      <td>6141</td>\n",
       "      <td>0.200013</td>\n",
       "    </tr>\n",
       "  </tbody>\n",
       "</table>\n",
       "</div>"
      ],
      "text/plain": [
       "                 Dataset  Sample Size  Sample Percentage\n",
       "0   inputs_train_initial        24562           0.799987\n",
       "1            inputs_test         6141           0.200013\n",
       "2  targets_train_initial        24562           0.799987\n",
       "3           targets_test         6141           0.200013"
      ]
     },
     "execution_count": 474,
     "metadata": {},
     "output_type": "execute_result"
    }
   ],
   "source": [
    "split_test = pd.DataFrame()\n",
    "split_test[\"Dataset\"] = [\"inputs_train_initial\", \"inputs_test\", \"targets_train_initial\", \"targets_test\"]\n",
    "split_test[\"Sample Size\"] = [len(inputs_train_initial.index), len(inputs_test.index), len(targets_train_initial.index), len(targets_test.index)]\n",
    "split_test[\"Sample Percentage\"] = split_test[\"Sample Size\"] / len(data_v1.index)\n",
    "split_test"
   ]
  },
  {
   "cell_type": "markdown",
   "metadata": {},
   "source": [
    "Our split worked indeed, we have roughly achieved an 80/20 split for our train and test data. We can now go ahead and fit our initial model."
   ]
  },
  {
   "cell_type": "markdown",
   "metadata": {},
   "source": [
    "<u><p style=\"font-size:18px\">6.2. Fitting the Initial Model</p></u>"
   ]
  },
  {
   "cell_type": "markdown",
   "metadata": {},
   "source": [
    "We can now fit the initial logistic regression with Statsmodels. We will also add an intercept to the model. We should note that we will use a log-logistic model (log-transformation of the outputs) for an easier interpretation of the outcomes:"
   ]
  },
  {
   "cell_type": "code",
   "execution_count": 475,
   "metadata": {
    "scrolled": true
   },
   "outputs": [
    {
     "name": "stdout",
     "output_type": "stream",
     "text": [
      "Optimization terminated successfully.\n",
      "         Current function value: 0.385686\n",
      "         Iterations 9\n"
     ]
    }
   ],
   "source": [
    "inputs_train_initial_const = sm.add_constant(inputs_train_initial)\n",
    "reg_log_initial = sm.Logit(targets_train_initial,inputs_train_initial_const)\n",
    "results_log_initial = reg_log.fit()"
   ]
  },
  {
   "cell_type": "markdown",
   "metadata": {},
   "source": [
    "Let's look at the summary:"
   ]
  },
  {
   "cell_type": "code",
   "execution_count": 476,
   "metadata": {
    "scrolled": true
   },
   "outputs": [
    {
     "data": {
      "text/html": [
       "<table class=\"simpletable\">\n",
       "<caption>Logit Regression Results</caption>\n",
       "<tr>\n",
       "  <th>Dep. Variable:</th>        <td>Income</td>      <th>  No. Observations:  </th>  <td> 24562</td> \n",
       "</tr>\n",
       "<tr>\n",
       "  <th>Model:</th>                 <td>Logit</td>      <th>  Df Residuals:      </th>  <td> 24550</td> \n",
       "</tr>\n",
       "<tr>\n",
       "  <th>Method:</th>                 <td>MLE</td>       <th>  Df Model:          </th>  <td>    11</td> \n",
       "</tr>\n",
       "<tr>\n",
       "  <th>Date:</th>            <td>Thu, 30 Apr 2020</td> <th>  Pseudo R-squ.:     </th>  <td>0.3142</td> \n",
       "</tr>\n",
       "<tr>\n",
       "  <th>Time:</th>                <td>15:22:44</td>     <th>  Log-Likelihood:    </th> <td> -9473.2</td>\n",
       "</tr>\n",
       "<tr>\n",
       "  <th>converged:</th>             <td>True</td>       <th>  LL-Null:           </th> <td> -13813.</td>\n",
       "</tr>\n",
       "<tr>\n",
       "  <th>Covariance Type:</th>     <td>nonrobust</td>    <th>  LLR p-value:       </th>  <td> 0.000</td> \n",
       "</tr>\n",
       "</table>\n",
       "<table class=\"simpletable\">\n",
       "<tr>\n",
       "        <td></td>          <th>coef</th>     <th>std err</th>      <th>z</th>      <th>P>|z|</th>  <th>[0.025</th>    <th>0.975]</th>  \n",
       "</tr>\n",
       "<tr>\n",
       "  <th>const</th>        <td>   -6.7213</td> <td>    0.166</td> <td>  -40.426</td> <td> 0.000</td> <td>   -7.047</td> <td>   -6.395</td>\n",
       "</tr>\n",
       "<tr>\n",
       "  <th>Sex</th>          <td>    0.5366</td> <td>    0.050</td> <td>   10.653</td> <td> 0.000</td> <td>    0.438</td> <td>    0.635</td>\n",
       "</tr>\n",
       "<tr>\n",
       "  <th>25-34</th>        <td>    1.9723</td> <td>    0.156</td> <td>   12.669</td> <td> 0.000</td> <td>    1.667</td> <td>    2.277</td>\n",
       "</tr>\n",
       "<tr>\n",
       "  <th>35-44</th>        <td>    2.6800</td> <td>    0.155</td> <td>   17.338</td> <td> 0.000</td> <td>    2.377</td> <td>    2.983</td>\n",
       "</tr>\n",
       "<tr>\n",
       "  <th>45-54</th>        <td>    2.9888</td> <td>    0.156</td> <td>   19.201</td> <td> 0.000</td> <td>    2.684</td> <td>    3.294</td>\n",
       "</tr>\n",
       "<tr>\n",
       "  <th>55-64</th>        <td>    2.6273</td> <td>    0.160</td> <td>   16.386</td> <td> 0.000</td> <td>    2.313</td> <td>    2.942</td>\n",
       "</tr>\n",
       "<tr>\n",
       "  <th>65+</th>          <td>    2.0474</td> <td>    0.181</td> <td>   11.333</td> <td> 0.000</td> <td>    1.693</td> <td>    2.401</td>\n",
       "</tr>\n",
       "<tr>\n",
       "  <th>Race_c</th>       <td>    0.3257</td> <td>    0.058</td> <td>    5.576</td> <td> 0.000</td> <td>    0.211</td> <td>    0.440</td>\n",
       "</tr>\n",
       "<tr>\n",
       "  <th>Education_c</th>  <td>    0.9605</td> <td>    0.041</td> <td>   23.193</td> <td> 0.000</td> <td>    0.879</td> <td>    1.042</td>\n",
       "</tr>\n",
       "<tr>\n",
       "  <th>Occupation_c</th> <td>    1.0828</td> <td>    0.042</td> <td>   26.068</td> <td> 0.000</td> <td>    1.001</td> <td>    1.164</td>\n",
       "</tr>\n",
       "<tr>\n",
       "  <th>Workclass_c</th>  <td>    0.1057</td> <td>    0.049</td> <td>    2.142</td> <td> 0.032</td> <td>    0.009</td> <td>    0.202</td>\n",
       "</tr>\n",
       "<tr>\n",
       "  <th>Status_c</th>     <td>    2.0905</td> <td>    0.047</td> <td>   44.845</td> <td> 0.000</td> <td>    1.999</td> <td>    2.182</td>\n",
       "</tr>\n",
       "</table>"
      ],
      "text/plain": [
       "<class 'statsmodels.iolib.summary.Summary'>\n",
       "\"\"\"\n",
       "                           Logit Regression Results                           \n",
       "==============================================================================\n",
       "Dep. Variable:                 Income   No. Observations:                24562\n",
       "Model:                          Logit   Df Residuals:                    24550\n",
       "Method:                           MLE   Df Model:                           11\n",
       "Date:                Thu, 30 Apr 2020   Pseudo R-squ.:                  0.3142\n",
       "Time:                        15:22:44   Log-Likelihood:                -9473.2\n",
       "converged:                       True   LL-Null:                       -13813.\n",
       "Covariance Type:            nonrobust   LLR p-value:                     0.000\n",
       "================================================================================\n",
       "                   coef    std err          z      P>|z|      [0.025      0.975]\n",
       "--------------------------------------------------------------------------------\n",
       "const           -6.7213      0.166    -40.426      0.000      -7.047      -6.395\n",
       "Sex              0.5366      0.050     10.653      0.000       0.438       0.635\n",
       "25-34            1.9723      0.156     12.669      0.000       1.667       2.277\n",
       "35-44            2.6800      0.155     17.338      0.000       2.377       2.983\n",
       "45-54            2.9888      0.156     19.201      0.000       2.684       3.294\n",
       "55-64            2.6273      0.160     16.386      0.000       2.313       2.942\n",
       "65+              2.0474      0.181     11.333      0.000       1.693       2.401\n",
       "Race_c           0.3257      0.058      5.576      0.000       0.211       0.440\n",
       "Education_c      0.9605      0.041     23.193      0.000       0.879       1.042\n",
       "Occupation_c     1.0828      0.042     26.068      0.000       1.001       1.164\n",
       "Workclass_c      0.1057      0.049      2.142      0.032       0.009       0.202\n",
       "Status_c         2.0905      0.047     44.845      0.000       1.999       2.182\n",
       "================================================================================\n",
       "\"\"\""
      ]
     },
     "execution_count": 476,
     "metadata": {},
     "output_type": "execute_result"
    }
   ],
   "source": [
    "results_log_initial.summary()"
   ]
  },
  {
   "cell_type": "markdown",
   "metadata": {},
   "source": [
    "The p-value of the LLR (Log-Likelyhood-Ration) test tells us that our model is signifcant. It is significantly different from the LL-Null model (a constant-only-model).\n",
    "\n",
    "\n",
    "McFadden's R² (Pseudo R-aquared) has a value of ca. 0.3. Values between 0.2 and 0.4 are considered a good fit.\n",
    "\n",
    "\n",
    "Moreover, the p-values for each of our regressors are below 0.05 and thus significant. There is no need to remove any of them.\n",
    "\n",
    "Since our model is displaying the log(odds), we need to apply the <em>np.exp()</em> (expontential) operator in order to interpret the odds for the coefficients correctly. We can summarize them in a data frame, ordered by strength (or weight) of impact:"
   ]
  },
  {
   "cell_type": "code",
   "execution_count": 477,
   "metadata": {
    "scrolled": true
   },
   "outputs": [
    {
     "data": {
      "text/html": [
       "<div>\n",
       "<style scoped>\n",
       "    .dataframe tbody tr th:only-of-type {\n",
       "        vertical-align: middle;\n",
       "    }\n",
       "\n",
       "    .dataframe tbody tr th {\n",
       "        vertical-align: top;\n",
       "    }\n",
       "\n",
       "    .dataframe thead th {\n",
       "        text-align: right;\n",
       "    }\n",
       "</style>\n",
       "<table border=\"1\" class=\"dataframe\">\n",
       "  <thead>\n",
       "    <tr style=\"text-align: right;\">\n",
       "      <th></th>\n",
       "      <th>Weights</th>\n",
       "    </tr>\n",
       "  </thead>\n",
       "  <tbody>\n",
       "    <tr>\n",
       "      <th>45-54</th>\n",
       "      <td>19.861144</td>\n",
       "    </tr>\n",
       "    <tr>\n",
       "      <th>35-44</th>\n",
       "      <td>14.585374</td>\n",
       "    </tr>\n",
       "    <tr>\n",
       "      <th>55-64</th>\n",
       "      <td>13.836443</td>\n",
       "    </tr>\n",
       "    <tr>\n",
       "      <th>Status_c</th>\n",
       "      <td>8.088659</td>\n",
       "    </tr>\n",
       "    <tr>\n",
       "      <th>65+</th>\n",
       "      <td>7.747665</td>\n",
       "    </tr>\n",
       "    <tr>\n",
       "      <th>25-34</th>\n",
       "      <td>7.187484</td>\n",
       "    </tr>\n",
       "    <tr>\n",
       "      <th>Occupation_c</th>\n",
       "      <td>2.953080</td>\n",
       "    </tr>\n",
       "    <tr>\n",
       "      <th>Education_c</th>\n",
       "      <td>2.613130</td>\n",
       "    </tr>\n",
       "    <tr>\n",
       "      <th>Sex</th>\n",
       "      <td>1.710193</td>\n",
       "    </tr>\n",
       "    <tr>\n",
       "      <th>Race_c</th>\n",
       "      <td>1.384945</td>\n",
       "    </tr>\n",
       "    <tr>\n",
       "      <th>Workclass_c</th>\n",
       "      <td>1.111462</td>\n",
       "    </tr>\n",
       "    <tr>\n",
       "      <th>const</th>\n",
       "      <td>0.001205</td>\n",
       "    </tr>\n",
       "  </tbody>\n",
       "</table>\n",
       "</div>"
      ],
      "text/plain": [
       "                Weights\n",
       "45-54         19.861144\n",
       "35-44         14.585374\n",
       "55-64         13.836443\n",
       "Status_c       8.088659\n",
       "65+            7.747665\n",
       "25-34          7.187484\n",
       "Occupation_c   2.953080\n",
       "Education_c    2.613130\n",
       "Sex            1.710193\n",
       "Race_c         1.384945\n",
       "Workclass_c    1.111462\n",
       "const          0.001205"
      ]
     },
     "execution_count": 477,
     "metadata": {},
     "output_type": "execute_result"
    }
   ],
   "source": [
    "coefficients_initial = results_log_initial.params\n",
    "\n",
    "coefficients_table = pd.DataFrame(np.exp(coefficients_initial), columns=[\"Weights\"])\n",
    "\n",
    "coefficients_table.sort_values(by=['Weights'], ascending=False)"
   ]
  },
  {
   "cell_type": "markdown",
   "metadata": {},
   "source": [
    "<u><p style=\"font-size:18px\">6.3. Interpreting the Results</p></u>"
   ]
  },
  {
   "cell_type": "markdown",
   "metadata": {},
   "source": [
    "We can see that the \"membership\" in a specific <b>age group</b> is by far the most defining indicator for an individuals income. As expected, the older and individual, the higher the chances that her/his income would be high. This reflects the effect of seniority in the job with more years on the job market resulting in more senior positions and a higher pay check. The biggest difference can be observed between the reference group (17-24) and the 45-54 year olds. It seems that income peaks in this age group and falls off afterwards, with most persons aged 65+ probably being retired already and thus earning a lower income (however still being almost 8 times more likely to earn more than 50.000 dollars a year comared to the youngsters).\n",
    "\n",
    "However, we can see that <b>status</b> also has a big impact, meaning that indviduals in active partnerships are about 8 times as likely to earn more than 50.000 dollars a year than those being \"alone\". This might be due to the fact that the income measured here is the household income and that two persons can contribute more to it than a single person. However, since <b>status</b> in this dataset was only measured by \"being married\", chances for someone actually being married also increase with age. Therefore, the gaping difference in income between the youngest and the older age groups is probably amplyfied by the fact that there are more married individuals in the older ages. A further indicator for this is that the differences of the odds between the older age groups are not as big with exception of the oldest age group, where retirement plays a role.\n",
    "\n",
    "As one would expect, individuals with a higher <b>education</b> are almost three times as likely to have a higher income compared to those without. However, the effect between the compared groups is not as pronounced compared with age. However, many persons in the youngest age group might not yet have had the chance to reach their highest possible education. Therefore, education is likely another confounding factor that emphasizes the differences in income with regard to age.\n",
    "\n",
    "We can observe a similar impact of <b>occupation</b> on a persons income, signalling that \"white collar\" workers are almost 3 times as likely as \"blue collar\" workers to have a high income. This is due to the fact that white collar jobs are associated with skilled labour, which is usually rewarded with a higher salary, whereas blue collar positions comprise unskilled labour with lower salaries.\n",
    "\n",
    "It was also to expect that men are more likely to have a high yearly income than women, which is caused by the pay gap between the <b>genders</b> that still exists in most countries today (and this dataset it from the 1970s). Men are almost twice as likely to earn more than 50.000 dollars a year than women. However, the effect is not as pronounced as it is for many other variables that we tested.\n",
    "\n",
    "There is also a discrepancy between <b>white and non-white</b> individuals. Being white appears to offer an almost 40% higher chance to receive a high yearly income. Since most of the individuals in the data are from North America, this result mostly reflects the situation there but might be similar in other western countries at least.\n",
    "\n",
    "Lastly, there is a roughly 11% lower chance to earn more than 50.000 dollars are year for those who work for <b>private companies compared to persons in public positions</b>. Even though the effect is not very big, it might be plausible considering that public institutions mostly offer better working conditions and boni to their workers. Also, seniority is rewarded more linearly in the public sector. Private companies can freely decide which salaries they want to pay and how they want to reward seniority, whereas there are fixed rules for this in public jobs. Moreover, private companies are profit oriented and might apply practices such as employing cheap labour (and dumping) to save money. It can be argued that private companies also have the potential to pay significantly higher salaries than public institutions ever would, but in the broad perspective, there are probably more companies that pay out lower rather than higher salaries compared to what public servants earn.\n",
    "\n",
    "<b>Conclusion</b>: Married, white men aged 45-54, with a higher education and a white collar job within the public sector have the best chance to have an income above 50.000 dollars yearly, whereas single, non-white women between 17-24, without a higher education and a blue collar job in the private sector have the lowest chances of earning more than 50.000 dollars a year.\n",
    "\n",
    "None of these results appears to be particularly surprising."
   ]
  },
  {
   "cell_type": "markdown",
   "metadata": {},
   "source": [
    "<u><p style=\"font-size:18px\">6.4. Examining the Predictive Power via Confusion Matrix</p></u>"
   ]
  },
  {
   "cell_type": "markdown",
   "metadata": {},
   "source": [
    "In order to assess the fit of our model, we can create a confusion matrix which can show us how many cases in the training targets were predicted correctly by our model:"
   ]
  },
  {
   "cell_type": "markdown",
   "metadata": {},
   "source": [
    "Now let's check the accuracy of our model with the confusion matrix:"
   ]
  },
  {
   "cell_type": "code",
   "execution_count": 478,
   "metadata": {},
   "outputs": [
    {
     "data": {
      "text/html": [
       "<div>\n",
       "<style scoped>\n",
       "    .dataframe tbody tr th:only-of-type {\n",
       "        vertical-align: middle;\n",
       "    }\n",
       "\n",
       "    .dataframe tbody tr th {\n",
       "        vertical-align: top;\n",
       "    }\n",
       "\n",
       "    .dataframe thead th {\n",
       "        text-align: right;\n",
       "    }\n",
       "</style>\n",
       "<table border=\"1\" class=\"dataframe\">\n",
       "  <thead>\n",
       "    <tr style=\"text-align: right;\">\n",
       "      <th></th>\n",
       "      <th>Predicted 0</th>\n",
       "      <th>Predicted 1</th>\n",
       "    </tr>\n",
       "  </thead>\n",
       "  <tbody>\n",
       "    <tr>\n",
       "      <th>Actual 0</th>\n",
       "      <td>16749.0</td>\n",
       "      <td>1672.0</td>\n",
       "    </tr>\n",
       "    <tr>\n",
       "      <th>Actual 1</th>\n",
       "      <td>2791.0</td>\n",
       "      <td>3350.0</td>\n",
       "    </tr>\n",
       "  </tbody>\n",
       "</table>\n",
       "</div>"
      ],
      "text/plain": [
       "          Predicted 0  Predicted 1\n",
       "Actual 0      16749.0       1672.0\n",
       "Actual 1       2791.0       3350.0"
      ]
     },
     "execution_count": 478,
     "metadata": {},
     "output_type": "execute_result"
    }
   ],
   "source": [
    "Confusion = pd.DataFrame(results_log_initial.pred_table(), columns=[\"Predicted 0\", \"Predicted 1\"], index=[\"Actual 0\",\"Actual 1\"])\n",
    "Confusion"
   ]
  },
  {
   "cell_type": "code",
   "execution_count": 479,
   "metadata": {},
   "outputs": [
    {
     "data": {
      "text/plain": [
       "0.818296555655077"
      ]
     },
     "execution_count": 479,
     "metadata": {},
     "output_type": "execute_result"
    }
   ],
   "source": [
    "Confusion_Correct = int(Confusion[\"Predicted 0\"][0:1]) + int(Confusion[\"Predicted 1\"][1:2])\n",
    "Confusion_Total = Confusion.values.sum()\n",
    "Accuracy = Confusion_Correct / Confusion_Total\n",
    "Accuracy"
   ]
  },
  {
   "cell_type": "markdown",
   "metadata": {},
   "source": [
    "It seems that our model got ca. 82% of all outcomes in the training dataset classified correctly. This is a pretty good accuracy."
   ]
  },
  {
   "cell_type": "markdown",
   "metadata": {},
   "source": [
    "<u><p style=\"font-size:20px\">7. Testing the Model</p></u>"
   ]
  },
  {
   "cell_type": "markdown",
   "metadata": {},
   "source": [
    "We have now reached the point where we can test our model against our designated test data. To do this, we can add the predictions and the actual results of the test data to the same dataframe. Moreover, we can add a column that rounds up the predicted values and one that subtracts the actual from the predicted values. In all cases where the result is \"0\", we have a correct prediction. In cases where the result is \"1\", we have a falsely predicted negative, and in cases where the result is \"-1\", we have a falsely predicted positive.\n",
    "\n",
    "We first need to add a constant to our test inputs as well, as our model will expect it:"
   ]
  },
  {
   "cell_type": "code",
   "execution_count": 480,
   "metadata": {},
   "outputs": [],
   "source": [
    "inputs_test_const = sm.add_constant(inputs_test)"
   ]
  },
  {
   "cell_type": "markdown",
   "metadata": {},
   "source": [
    "Now we can create new predictions based on our test inputs:"
   ]
  },
  {
   "cell_type": "code",
   "execution_count": 481,
   "metadata": {},
   "outputs": [],
   "source": [
    "targets_test_predicted = results_log.predict(inputs_test_const)"
   ]
  },
  {
   "cell_type": "markdown",
   "metadata": {},
   "source": [
    "We summarize the results as described:"
   ]
  },
  {
   "cell_type": "code",
   "execution_count": 482,
   "metadata": {},
   "outputs": [
    {
     "data": {
      "text/html": [
       "<div>\n",
       "<style scoped>\n",
       "    .dataframe tbody tr th:only-of-type {\n",
       "        vertical-align: middle;\n",
       "    }\n",
       "\n",
       "    .dataframe tbody tr th {\n",
       "        vertical-align: top;\n",
       "    }\n",
       "\n",
       "    .dataframe thead th {\n",
       "        text-align: right;\n",
       "    }\n",
       "</style>\n",
       "<table border=\"1\" class=\"dataframe\">\n",
       "  <thead>\n",
       "    <tr style=\"text-align: right;\">\n",
       "      <th></th>\n",
       "      <th>Actual</th>\n",
       "      <th>Predicted</th>\n",
       "      <th>Predicted Round</th>\n",
       "      <th>Difference Predicted</th>\n",
       "      <th>Difference Predicted Round</th>\n",
       "    </tr>\n",
       "  </thead>\n",
       "  <tbody>\n",
       "    <tr>\n",
       "      <th>29965</th>\n",
       "      <td>0</td>\n",
       "      <td>0.021550</td>\n",
       "      <td>0.0</td>\n",
       "      <td>-0.021550</td>\n",
       "      <td>0.0</td>\n",
       "    </tr>\n",
       "    <tr>\n",
       "      <th>831</th>\n",
       "      <td>0</td>\n",
       "      <td>0.050879</td>\n",
       "      <td>0.0</td>\n",
       "      <td>-0.050879</td>\n",
       "      <td>0.0</td>\n",
       "    </tr>\n",
       "    <tr>\n",
       "      <th>20447</th>\n",
       "      <td>0</td>\n",
       "      <td>0.001666</td>\n",
       "      <td>0.0</td>\n",
       "      <td>-0.001666</td>\n",
       "      <td>0.0</td>\n",
       "    </tr>\n",
       "    <tr>\n",
       "      <th>13269</th>\n",
       "      <td>1</td>\n",
       "      <td>0.722099</td>\n",
       "      <td>1.0</td>\n",
       "      <td>0.277901</td>\n",
       "      <td>0.0</td>\n",
       "    </tr>\n",
       "    <tr>\n",
       "      <th>16471</th>\n",
       "      <td>0</td>\n",
       "      <td>0.005356</td>\n",
       "      <td>0.0</td>\n",
       "      <td>-0.005356</td>\n",
       "      <td>0.0</td>\n",
       "    </tr>\n",
       "  </tbody>\n",
       "</table>\n",
       "</div>"
      ],
      "text/plain": [
       "       Actual  Predicted  Predicted Round  Difference Predicted  \\\n",
       "29965       0   0.021550              0.0             -0.021550   \n",
       "831         0   0.050879              0.0             -0.050879   \n",
       "20447       0   0.001666              0.0             -0.001666   \n",
       "13269       1   0.722099              1.0              0.277901   \n",
       "16471       0   0.005356              0.0             -0.005356   \n",
       "\n",
       "       Difference Predicted Round  \n",
       "29965                         0.0  \n",
       "831                           0.0  \n",
       "20447                         0.0  \n",
       "13269                         0.0  \n",
       "16471                         0.0  "
      ]
     },
     "execution_count": 482,
     "metadata": {},
     "output_type": "execute_result"
    }
   ],
   "source": [
    "predict_table = pd.DataFrame()\n",
    "predict_table[\"Actual\"] = targets_test\n",
    "predict_table[\"Predicted\"] = targets_test_predicted\n",
    "predict_table[\"Predicted Round\"] = np.round(targets_test_predicted)\n",
    "predict_table[\"Difference Predicted\"] = predict_table[\"Actual\"] - predict_table[\"Predicted\"]\n",
    "predict_table[\"Difference Predicted Round\"] = predict_table[\"Actual\"] - predict_table[\"Predicted Round\"]\n",
    "predict_table.head()"
   ]
  },
  {
   "cell_type": "markdown",
   "metadata": {},
   "source": [
    "We display the correct and incorrect predictions in a data frame:"
   ]
  },
  {
   "cell_type": "code",
   "execution_count": 483,
   "metadata": {},
   "outputs": [
    {
     "data": {
      "text/html": [
       "<div>\n",
       "<style scoped>\n",
       "    .dataframe tbody tr th:only-of-type {\n",
       "        vertical-align: middle;\n",
       "    }\n",
       "\n",
       "    .dataframe tbody tr th {\n",
       "        vertical-align: top;\n",
       "    }\n",
       "\n",
       "    .dataframe thead th {\n",
       "        text-align: right;\n",
       "    }\n",
       "</style>\n",
       "<table border=\"1\" class=\"dataframe\">\n",
       "  <thead>\n",
       "    <tr style=\"text-align: right;\">\n",
       "      <th></th>\n",
       "      <th>Predicted as</th>\n",
       "      <th>Counts</th>\n",
       "    </tr>\n",
       "  </thead>\n",
       "  <tbody>\n",
       "    <tr>\n",
       "      <th>0</th>\n",
       "      <td>Correct</td>\n",
       "      <td>5085</td>\n",
       "    </tr>\n",
       "    <tr>\n",
       "      <th>1</th>\n",
       "      <td>False Negative</td>\n",
       "      <td>638</td>\n",
       "    </tr>\n",
       "    <tr>\n",
       "      <th>2</th>\n",
       "      <td>False Positive</td>\n",
       "      <td>418</td>\n",
       "    </tr>\n",
       "  </tbody>\n",
       "</table>\n",
       "</div>"
      ],
      "text/plain": [
       "     Predicted as  Counts\n",
       "0         Correct    5085\n",
       "1  False Negative     638\n",
       "2  False Positive     418"
      ]
     },
     "execution_count": 483,
     "metadata": {},
     "output_type": "execute_result"
    }
   ],
   "source": [
    "predict_results_table = pd.DataFrame()\n",
    "predict_results_table[\"Predicted as\"] = [\"Correct\",\"False Negative\",\"False Positive\"]\n",
    "predict_results_table[\"Counts\"] = predict_table[\"Difference Predicted Round\"].value_counts().unique()\n",
    "predict_results_table"
   ]
  },
  {
   "cell_type": "markdown",
   "metadata": {},
   "source": [
    "We can calculate the accuracy of our model on the test dataset as follows:"
   ]
  },
  {
   "cell_type": "code",
   "execution_count": 484,
   "metadata": {},
   "outputs": [
    {
     "data": {
      "text/plain": [
       "0.8280410356619443"
      ]
     },
     "execution_count": 484,
     "metadata": {},
     "output_type": "execute_result"
    }
   ],
   "source": [
    "Accuracy = predict_results_table[\"Counts\"][0] / sum(predict_results_table[\"Counts\"])\n",
    "Accuracy"
   ]
  },
  {
   "cell_type": "markdown",
   "metadata": {},
   "source": [
    "Similar to the accuracy for our training data, we have achieved an accuracy of 83% for our test dataset. This is an increase of around 1% compared to the training dataset. \n",
    "\n",
    "On this basis, we can make the claim that, given the inputs we collected from our respondents, we could in ca. 82% - 83% of the time correctly predict whether or not a given individual is earning more than 50.000 dollars a year. Since we have split our dataset before fitting the model, the result for our test data signalizes that we have not overfit our model and it can be used on \"unknown\" data with at least the same accuracy."
   ]
  },
  {
   "cell_type": "markdown",
   "metadata": {},
   "source": [
    "<u><p style=\"font-size:20px\">8. Predicting the Income of 4 Fictional Persons</p></u>"
   ]
  },
  {
   "cell_type": "markdown",
   "metadata": {},
   "source": [
    "As a last step of this example, we can check for 3 fictional individuals whether, according to our model, these individuals would earn more than 50.000 dollars a year or not.\n",
    "\n",
    "We are going to test 4 individuals of which 2 are our \"stereotypes\" that we described earlier when interpreting our results, and 2 others will have a random combination of the characteristics in our dataset:\n",
    "\n",
    "1. The first person will be a married, white man aged 45-54, with a higher education and a white collar job within the public sector.\n",
    "\n",
    "2. The second person will be an single, non-white woman aged 17-24, without a higher education and a blue collar job in the private sector.\n",
    "\n",
    "3. The third person will be a married, white woman aged 25-34, with a higher education and a white collar job in the private sector.\n",
    "\n",
    "4. The last person will be a divorced, non-white man aged 55-64, without a higher education and a blue collar job in the public sector.\n",
    "\n",
    "We first need to create our cases in a new dataset. To get the right column names, we can take the column descriptions from our last dataset:"
   ]
  },
  {
   "cell_type": "code",
   "execution_count": 485,
   "metadata": {},
   "outputs": [
    {
     "data": {
      "text/html": [
       "<div>\n",
       "<style scoped>\n",
       "    .dataframe tbody tr th:only-of-type {\n",
       "        vertical-align: middle;\n",
       "    }\n",
       "\n",
       "    .dataframe tbody tr th {\n",
       "        vertical-align: top;\n",
       "    }\n",
       "\n",
       "    .dataframe thead th {\n",
       "        text-align: right;\n",
       "    }\n",
       "</style>\n",
       "<table border=\"1\" class=\"dataframe\">\n",
       "  <thead>\n",
       "    <tr style=\"text-align: right;\">\n",
       "      <th></th>\n",
       "      <th>Sex</th>\n",
       "      <th>25-34</th>\n",
       "      <th>35-44</th>\n",
       "      <th>45-54</th>\n",
       "      <th>55-64</th>\n",
       "      <th>65+</th>\n",
       "      <th>Race_c</th>\n",
       "      <th>Education_c</th>\n",
       "      <th>Occupation_c</th>\n",
       "      <th>Workclass_c</th>\n",
       "      <th>Status_c</th>\n",
       "    </tr>\n",
       "  </thead>\n",
       "  <tbody>\n",
       "    <tr>\n",
       "      <th>0</th>\n",
       "      <td>1</td>\n",
       "      <td>0</td>\n",
       "      <td>0</td>\n",
       "      <td>1</td>\n",
       "      <td>0</td>\n",
       "      <td>0</td>\n",
       "      <td>1</td>\n",
       "      <td>1</td>\n",
       "      <td>1</td>\n",
       "      <td>1</td>\n",
       "      <td>1</td>\n",
       "    </tr>\n",
       "    <tr>\n",
       "      <th>1</th>\n",
       "      <td>0</td>\n",
       "      <td>0</td>\n",
       "      <td>0</td>\n",
       "      <td>0</td>\n",
       "      <td>0</td>\n",
       "      <td>0</td>\n",
       "      <td>0</td>\n",
       "      <td>0</td>\n",
       "      <td>0</td>\n",
       "      <td>0</td>\n",
       "      <td>0</td>\n",
       "    </tr>\n",
       "    <tr>\n",
       "      <th>2</th>\n",
       "      <td>0</td>\n",
       "      <td>1</td>\n",
       "      <td>0</td>\n",
       "      <td>0</td>\n",
       "      <td>0</td>\n",
       "      <td>0</td>\n",
       "      <td>1</td>\n",
       "      <td>1</td>\n",
       "      <td>1</td>\n",
       "      <td>0</td>\n",
       "      <td>1</td>\n",
       "    </tr>\n",
       "    <tr>\n",
       "      <th>3</th>\n",
       "      <td>1</td>\n",
       "      <td>0</td>\n",
       "      <td>0</td>\n",
       "      <td>0</td>\n",
       "      <td>1</td>\n",
       "      <td>0</td>\n",
       "      <td>0</td>\n",
       "      <td>0</td>\n",
       "      <td>0</td>\n",
       "      <td>1</td>\n",
       "      <td>0</td>\n",
       "    </tr>\n",
       "  </tbody>\n",
       "</table>\n",
       "</div>"
      ],
      "text/plain": [
       "   Sex  25-34  35-44  45-54  55-64  65+  Race_c  Education_c  Occupation_c  \\\n",
       "0    1      0      0      1      0    0       1            1             1   \n",
       "1    0      0      0      0      0    0       0            0             0   \n",
       "2    0      1      0      0      0    0       1            1             1   \n",
       "3    1      0      0      0      1    0       0            0             0   \n",
       "\n",
       "   Workclass_c  Status_c  \n",
       "0            1         1  \n",
       "1            0         0  \n",
       "2            0         1  \n",
       "3            1         0  "
      ]
     },
     "execution_count": 485,
     "metadata": {},
     "output_type": "execute_result"
    }
   ],
   "source": [
    "columns = data_v1.drop([\"Income\"], axis=1)\n",
    "column_names = columns.columns.values\n",
    "\n",
    "predict_persons = pd.DataFrame([\n",
    "    [1, 0, 0, 1, 0, 0, 1, 1, 1, 1, 1],\n",
    "    [0, 0, 0, 0, 0, 0, 0, 0, 0, 0, 0],\n",
    "    [0, 1, 0, 0, 0, 0, 1, 1, 1, 0, 1],\n",
    "    [1, 0, 0, 0, 1, 0, 0, 0, 0, 1, 0]], columns=column_names) \n",
    "\n",
    "predict_persons"
   ]
  },
  {
   "cell_type": "markdown",
   "metadata": {},
   "source": [
    "In order to receive correct outputs, we again need to add a constant to our new dataset:"
   ]
  },
  {
   "cell_type": "code",
   "execution_count": 486,
   "metadata": {},
   "outputs": [],
   "source": [
    "predict_persons_const = sm.add_constant(predict_persons)"
   ]
  },
  {
   "cell_type": "markdown",
   "metadata": {},
   "source": [
    "Now we can predict the outputs according to our model:"
   ]
  },
  {
   "cell_type": "code",
   "execution_count": 487,
   "metadata": {},
   "outputs": [
    {
     "data": {
      "text/plain": [
       "0    0.797270\n",
       "1    0.001204\n",
       "2    0.428154\n",
       "3    0.030719\n",
       "dtype: float64"
      ]
     },
     "execution_count": 487,
     "metadata": {},
     "output_type": "execute_result"
    }
   ],
   "source": [
    "predict_persons_income = results_log.predict(predict_persons_const)\n",
    "predict_persons_income"
   ]
  },
  {
   "cell_type": "markdown",
   "metadata": {},
   "source": [
    "We can see that our stereotype white, older married man has an almost 80% chance to earn more than 50.000 dollars a year, while the chances for an umarried, non-white young woman with the given parameters are next to zero. After the white man, the white married, still young but not very young, highly educated woman has with almost 43% the best chances to have an income over 50.000 dollars. Lastly, our none-white, male, blue collar worker close to his retirement has without a partner only a 3% chance of having a high income."
   ]
  }
 ],
 "metadata": {
  "kernelspec": {
   "display_name": "Python 3",
   "language": "python",
   "name": "python3"
  },
  "language_info": {
   "codemirror_mode": {
    "name": "ipython",
    "version": 3
   },
   "file_extension": ".py",
   "mimetype": "text/x-python",
   "name": "python",
   "nbconvert_exporter": "python",
   "pygments_lexer": "ipython3",
   "version": "3.7.6"
  }
 },
 "nbformat": 4,
 "nbformat_minor": 2
}
