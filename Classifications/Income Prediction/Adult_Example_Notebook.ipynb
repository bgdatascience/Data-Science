{
 "cells": [
  {
   "cell_type": "markdown",
   "metadata": {},
   "source": [
    "<em><p style=\"font-size:24px\">Classification on the \"Adult\" Dataset (Income > 50.000 Dollars per Year)</p></em>"
   ]
  },
  {
   "cell_type": "markdown",
   "metadata": {},
   "source": [
    "<u><p style=\"font-size:20px\">1. Formulating the Goal of the Analysis</p></u>"
   ]
  },
  {
   "cell_type": "markdown",
   "metadata": {},
   "source": [
    "This example is based on data from the \"Adult\" dataset. The aim of the analysis is to predict whether or not (and due to which factors) an individual earns more than 50.000 dollars a year. A variety of classifiers will be tested and their accuracy will be evaluated on a test dataset. The best performing classifier will be used to predict whether or not the yearly income of 3 fictional individuals, with a pre-determined set of demographic characteristics, is likely to be higher than 50.000 dollars.\n",
    "\n",
    "The data is openly available on the homepage of the University of California: http://archive.ics.uci.edu/ml/datasets/Adult"
   ]
  },
  {
   "cell_type": "markdown",
   "metadata": {},
   "source": [
    "<u><p style=\"font-size:20px\">2. Importing the Relevant Libraries</p></u>"
   ]
  },
  {
   "cell_type": "markdown",
   "metadata": {},
   "source": [
    "We will import the relevant libraries on the go as we reach the places where we need them. In this way, we can get a better understanding of which libraries are needed for which particular tasks."
   ]
  },
  {
   "cell_type": "markdown",
   "metadata": {},
   "source": [
    "<u><p style=\"font-size:20px\">3. Importing and Transforming the Data</p></u>"
   ]
  },
  {
   "cell_type": "markdown",
   "metadata": {},
   "source": [
    "We will now import (or read) the data, which is provided as a comma delimited \".data\" file. We will need the Pandas library to read the file. Moreover, the raw data file has not been provided with column headers by default, which is why we will define them manually by referring to the \"adult.names\" info file, which can be downloaded together with the dataset on the UCI's linked earlier.\n",
    "\n",
    "The \"adult.names\" file identifies the columns as follows:"
   ]
  },
  {
   "cell_type": "code",
   "execution_count": 1,
   "metadata": {},
   "outputs": [
    {
     "data": {
      "text/html": [
       "<div>\n",
       "<style scoped>\n",
       "    .dataframe tbody tr th:only-of-type {\n",
       "        vertical-align: middle;\n",
       "    }\n",
       "\n",
       "    .dataframe tbody tr th {\n",
       "        vertical-align: top;\n",
       "    }\n",
       "\n",
       "    .dataframe thead th {\n",
       "        text-align: right;\n",
       "    }\n",
       "</style>\n",
       "<table border=\"1\" class=\"dataframe\">\n",
       "  <thead>\n",
       "    <tr style=\"text-align: right;\">\n",
       "      <th></th>\n",
       "      <th>age</th>\n",
       "      <th>workclass</th>\n",
       "      <th>fnlwgt</th>\n",
       "      <th>education</th>\n",
       "      <th>education-num</th>\n",
       "      <th>marital-status</th>\n",
       "      <th>occupation</th>\n",
       "      <th>relationship</th>\n",
       "      <th>race</th>\n",
       "      <th>sex</th>\n",
       "      <th>capital-gain</th>\n",
       "      <th>capital-loss</th>\n",
       "      <th>hours-per-week</th>\n",
       "      <th>native-country</th>\n",
       "      <th>income</th>\n",
       "    </tr>\n",
       "  </thead>\n",
       "  <tbody>\n",
       "    <tr>\n",
       "      <th>0</th>\n",
       "      <td>39</td>\n",
       "      <td>State-gov</td>\n",
       "      <td>77516</td>\n",
       "      <td>Bachelors</td>\n",
       "      <td>13</td>\n",
       "      <td>Never-married</td>\n",
       "      <td>Adm-clerical</td>\n",
       "      <td>Not-in-family</td>\n",
       "      <td>White</td>\n",
       "      <td>Male</td>\n",
       "      <td>2174</td>\n",
       "      <td>0</td>\n",
       "      <td>40</td>\n",
       "      <td>United-States</td>\n",
       "      <td>&lt;=50K</td>\n",
       "    </tr>\n",
       "    <tr>\n",
       "      <th>1</th>\n",
       "      <td>50</td>\n",
       "      <td>Self-emp-not-inc</td>\n",
       "      <td>83311</td>\n",
       "      <td>Bachelors</td>\n",
       "      <td>13</td>\n",
       "      <td>Married-civ-spouse</td>\n",
       "      <td>Exec-managerial</td>\n",
       "      <td>Husband</td>\n",
       "      <td>White</td>\n",
       "      <td>Male</td>\n",
       "      <td>0</td>\n",
       "      <td>0</td>\n",
       "      <td>13</td>\n",
       "      <td>United-States</td>\n",
       "      <td>&lt;=50K</td>\n",
       "    </tr>\n",
       "    <tr>\n",
       "      <th>2</th>\n",
       "      <td>38</td>\n",
       "      <td>Private</td>\n",
       "      <td>215646</td>\n",
       "      <td>HS-grad</td>\n",
       "      <td>9</td>\n",
       "      <td>Divorced</td>\n",
       "      <td>Handlers-cleaners</td>\n",
       "      <td>Not-in-family</td>\n",
       "      <td>White</td>\n",
       "      <td>Male</td>\n",
       "      <td>0</td>\n",
       "      <td>0</td>\n",
       "      <td>40</td>\n",
       "      <td>United-States</td>\n",
       "      <td>&lt;=50K</td>\n",
       "    </tr>\n",
       "    <tr>\n",
       "      <th>3</th>\n",
       "      <td>53</td>\n",
       "      <td>Private</td>\n",
       "      <td>234721</td>\n",
       "      <td>11th</td>\n",
       "      <td>7</td>\n",
       "      <td>Married-civ-spouse</td>\n",
       "      <td>Handlers-cleaners</td>\n",
       "      <td>Husband</td>\n",
       "      <td>Black</td>\n",
       "      <td>Male</td>\n",
       "      <td>0</td>\n",
       "      <td>0</td>\n",
       "      <td>40</td>\n",
       "      <td>United-States</td>\n",
       "      <td>&lt;=50K</td>\n",
       "    </tr>\n",
       "    <tr>\n",
       "      <th>4</th>\n",
       "      <td>28</td>\n",
       "      <td>Private</td>\n",
       "      <td>338409</td>\n",
       "      <td>Bachelors</td>\n",
       "      <td>13</td>\n",
       "      <td>Married-civ-spouse</td>\n",
       "      <td>Prof-specialty</td>\n",
       "      <td>Wife</td>\n",
       "      <td>Black</td>\n",
       "      <td>Female</td>\n",
       "      <td>0</td>\n",
       "      <td>0</td>\n",
       "      <td>40</td>\n",
       "      <td>Cuba</td>\n",
       "      <td>&lt;=50K</td>\n",
       "    </tr>\n",
       "  </tbody>\n",
       "</table>\n",
       "</div>"
      ],
      "text/plain": [
       "   age          workclass  fnlwgt   education  education-num  \\\n",
       "0   39          State-gov   77516   Bachelors             13   \n",
       "1   50   Self-emp-not-inc   83311   Bachelors             13   \n",
       "2   38            Private  215646     HS-grad              9   \n",
       "3   53            Private  234721        11th              7   \n",
       "4   28            Private  338409   Bachelors             13   \n",
       "\n",
       "        marital-status          occupation    relationship    race      sex  \\\n",
       "0        Never-married        Adm-clerical   Not-in-family   White     Male   \n",
       "1   Married-civ-spouse     Exec-managerial         Husband   White     Male   \n",
       "2             Divorced   Handlers-cleaners   Not-in-family   White     Male   \n",
       "3   Married-civ-spouse   Handlers-cleaners         Husband   Black     Male   \n",
       "4   Married-civ-spouse      Prof-specialty            Wife   Black   Female   \n",
       "\n",
       "   capital-gain  capital-loss  hours-per-week  native-country  income  \n",
       "0          2174             0              40   United-States   <=50K  \n",
       "1             0             0              13   United-States   <=50K  \n",
       "2             0             0              40   United-States   <=50K  \n",
       "3             0             0              40   United-States   <=50K  \n",
       "4             0             0              40            Cuba   <=50K  "
      ]
     },
     "execution_count": 1,
     "metadata": {},
     "output_type": "execute_result"
    }
   ],
   "source": [
    "import pandas as pd\n",
    "\n",
    "raw_data = pd.read_csv(\"Adult_Example_Data.data\", names=[\"age\", \"workclass\", \"fnlwgt\", \"education\", \"education-num\", \"marital-status\",\n",
    "                              \"occupation\", \"relationship\", \"race\", \"sex\", \"capital-gain\", \"capital-loss\",\n",
    "                              \"hours-per-week\",\"native-country\", \"income\"])\n",
    "\n",
    "raw_data.head(5)"
   ]
  },
  {
   "cell_type": "markdown",
   "metadata": {},
   "source": [
    "Since the import of the .data file resulted in a format of values that cannot be correctly interpreted by numpy (we will work with numpy in a bit), we need to transform the dataset into a numpy friendly format, while also storing it in a Pandas Dataframe:"
   ]
  },
  {
   "cell_type": "code",
   "execution_count": 2,
   "metadata": {},
   "outputs": [
    {
     "data": {
      "text/html": [
       "<div>\n",
       "<style scoped>\n",
       "    .dataframe tbody tr th:only-of-type {\n",
       "        vertical-align: middle;\n",
       "    }\n",
       "\n",
       "    .dataframe tbody tr th {\n",
       "        vertical-align: top;\n",
       "    }\n",
       "\n",
       "    .dataframe thead th {\n",
       "        text-align: right;\n",
       "    }\n",
       "</style>\n",
       "<table border=\"1\" class=\"dataframe\">\n",
       "  <thead>\n",
       "    <tr style=\"text-align: right;\">\n",
       "      <th></th>\n",
       "      <th>0</th>\n",
       "      <th>1</th>\n",
       "      <th>2</th>\n",
       "      <th>3</th>\n",
       "      <th>4</th>\n",
       "      <th>5</th>\n",
       "      <th>6</th>\n",
       "      <th>7</th>\n",
       "      <th>8</th>\n",
       "      <th>9</th>\n",
       "      <th>10</th>\n",
       "      <th>11</th>\n",
       "      <th>12</th>\n",
       "      <th>13</th>\n",
       "      <th>14</th>\n",
       "    </tr>\n",
       "  </thead>\n",
       "  <tbody>\n",
       "    <tr>\n",
       "      <th>0</th>\n",
       "      <td>39</td>\n",
       "      <td>State-gov</td>\n",
       "      <td>77516</td>\n",
       "      <td>Bachelors</td>\n",
       "      <td>13</td>\n",
       "      <td>Never-married</td>\n",
       "      <td>Adm-clerical</td>\n",
       "      <td>Not-in-family</td>\n",
       "      <td>White</td>\n",
       "      <td>Male</td>\n",
       "      <td>2174</td>\n",
       "      <td>0</td>\n",
       "      <td>40</td>\n",
       "      <td>United-States</td>\n",
       "      <td>&lt;=50K</td>\n",
       "    </tr>\n",
       "    <tr>\n",
       "      <th>1</th>\n",
       "      <td>50</td>\n",
       "      <td>Self-emp-not-inc</td>\n",
       "      <td>83311</td>\n",
       "      <td>Bachelors</td>\n",
       "      <td>13</td>\n",
       "      <td>Married-civ-spouse</td>\n",
       "      <td>Exec-managerial</td>\n",
       "      <td>Husband</td>\n",
       "      <td>White</td>\n",
       "      <td>Male</td>\n",
       "      <td>0</td>\n",
       "      <td>0</td>\n",
       "      <td>13</td>\n",
       "      <td>United-States</td>\n",
       "      <td>&lt;=50K</td>\n",
       "    </tr>\n",
       "    <tr>\n",
       "      <th>2</th>\n",
       "      <td>38</td>\n",
       "      <td>Private</td>\n",
       "      <td>215646</td>\n",
       "      <td>HS-grad</td>\n",
       "      <td>9</td>\n",
       "      <td>Divorced</td>\n",
       "      <td>Handlers-cleaners</td>\n",
       "      <td>Not-in-family</td>\n",
       "      <td>White</td>\n",
       "      <td>Male</td>\n",
       "      <td>0</td>\n",
       "      <td>0</td>\n",
       "      <td>40</td>\n",
       "      <td>United-States</td>\n",
       "      <td>&lt;=50K</td>\n",
       "    </tr>\n",
       "    <tr>\n",
       "      <th>3</th>\n",
       "      <td>53</td>\n",
       "      <td>Private</td>\n",
       "      <td>234721</td>\n",
       "      <td>11th</td>\n",
       "      <td>7</td>\n",
       "      <td>Married-civ-spouse</td>\n",
       "      <td>Handlers-cleaners</td>\n",
       "      <td>Husband</td>\n",
       "      <td>Black</td>\n",
       "      <td>Male</td>\n",
       "      <td>0</td>\n",
       "      <td>0</td>\n",
       "      <td>40</td>\n",
       "      <td>United-States</td>\n",
       "      <td>&lt;=50K</td>\n",
       "    </tr>\n",
       "    <tr>\n",
       "      <th>4</th>\n",
       "      <td>28</td>\n",
       "      <td>Private</td>\n",
       "      <td>338409</td>\n",
       "      <td>Bachelors</td>\n",
       "      <td>13</td>\n",
       "      <td>Married-civ-spouse</td>\n",
       "      <td>Prof-specialty</td>\n",
       "      <td>Wife</td>\n",
       "      <td>Black</td>\n",
       "      <td>Female</td>\n",
       "      <td>0</td>\n",
       "      <td>0</td>\n",
       "      <td>40</td>\n",
       "      <td>Cuba</td>\n",
       "      <td>&lt;=50K</td>\n",
       "    </tr>\n",
       "  </tbody>\n",
       "</table>\n",
       "</div>"
      ],
      "text/plain": [
       "    0                  1       2           3   4                    5  \\\n",
       "0  39          State-gov   77516   Bachelors  13        Never-married   \n",
       "1  50   Self-emp-not-inc   83311   Bachelors  13   Married-civ-spouse   \n",
       "2  38            Private  215646     HS-grad   9             Divorced   \n",
       "3  53            Private  234721        11th   7   Married-civ-spouse   \n",
       "4  28            Private  338409   Bachelors  13   Married-civ-spouse   \n",
       "\n",
       "                    6               7       8        9    10 11  12  \\\n",
       "0        Adm-clerical   Not-in-family   White     Male  2174  0  40   \n",
       "1     Exec-managerial         Husband   White     Male     0  0  13   \n",
       "2   Handlers-cleaners   Not-in-family   White     Male     0  0  40   \n",
       "3   Handlers-cleaners         Husband   Black     Male     0  0  40   \n",
       "4      Prof-specialty            Wife   Black   Female     0  0  40   \n",
       "\n",
       "               13      14  \n",
       "0   United-States   <=50K  \n",
       "1   United-States   <=50K  \n",
       "2   United-States   <=50K  \n",
       "3   United-States   <=50K  \n",
       "4            Cuba   <=50K  "
      ]
     },
     "execution_count": 2,
     "metadata": {},
     "output_type": "execute_result"
    }
   ],
   "source": [
    "raw_data_transformed = pd.DataFrame(raw_data.to_numpy())\n",
    "\n",
    "raw_data_transformed.head(5)"
   ]
  },
  {
   "cell_type": "markdown",
   "metadata": {},
   "source": [
    "Unfortunately, this process has removed the column names again, so we have to add them once more:"
   ]
  },
  {
   "cell_type": "code",
   "execution_count": 3,
   "metadata": {},
   "outputs": [
    {
     "data": {
      "text/html": [
       "<div>\n",
       "<style scoped>\n",
       "    .dataframe tbody tr th:only-of-type {\n",
       "        vertical-align: middle;\n",
       "    }\n",
       "\n",
       "    .dataframe tbody tr th {\n",
       "        vertical-align: top;\n",
       "    }\n",
       "\n",
       "    .dataframe thead th {\n",
       "        text-align: right;\n",
       "    }\n",
       "</style>\n",
       "<table border=\"1\" class=\"dataframe\">\n",
       "  <thead>\n",
       "    <tr style=\"text-align: right;\">\n",
       "      <th></th>\n",
       "      <th>age</th>\n",
       "      <th>workclass</th>\n",
       "      <th>fnlwgt</th>\n",
       "      <th>education</th>\n",
       "      <th>education-num</th>\n",
       "      <th>marital-status</th>\n",
       "      <th>occupation</th>\n",
       "      <th>relationship</th>\n",
       "      <th>race</th>\n",
       "      <th>sex</th>\n",
       "      <th>capital-gain</th>\n",
       "      <th>capital-loss</th>\n",
       "      <th>hours-per-week</th>\n",
       "      <th>native-country</th>\n",
       "      <th>income</th>\n",
       "    </tr>\n",
       "  </thead>\n",
       "  <tbody>\n",
       "    <tr>\n",
       "      <th>0</th>\n",
       "      <td>39</td>\n",
       "      <td>State-gov</td>\n",
       "      <td>77516</td>\n",
       "      <td>Bachelors</td>\n",
       "      <td>13</td>\n",
       "      <td>Never-married</td>\n",
       "      <td>Adm-clerical</td>\n",
       "      <td>Not-in-family</td>\n",
       "      <td>White</td>\n",
       "      <td>Male</td>\n",
       "      <td>2174</td>\n",
       "      <td>0</td>\n",
       "      <td>40</td>\n",
       "      <td>United-States</td>\n",
       "      <td>&lt;=50K</td>\n",
       "    </tr>\n",
       "    <tr>\n",
       "      <th>1</th>\n",
       "      <td>50</td>\n",
       "      <td>Self-emp-not-inc</td>\n",
       "      <td>83311</td>\n",
       "      <td>Bachelors</td>\n",
       "      <td>13</td>\n",
       "      <td>Married-civ-spouse</td>\n",
       "      <td>Exec-managerial</td>\n",
       "      <td>Husband</td>\n",
       "      <td>White</td>\n",
       "      <td>Male</td>\n",
       "      <td>0</td>\n",
       "      <td>0</td>\n",
       "      <td>13</td>\n",
       "      <td>United-States</td>\n",
       "      <td>&lt;=50K</td>\n",
       "    </tr>\n",
       "    <tr>\n",
       "      <th>2</th>\n",
       "      <td>38</td>\n",
       "      <td>Private</td>\n",
       "      <td>215646</td>\n",
       "      <td>HS-grad</td>\n",
       "      <td>9</td>\n",
       "      <td>Divorced</td>\n",
       "      <td>Handlers-cleaners</td>\n",
       "      <td>Not-in-family</td>\n",
       "      <td>White</td>\n",
       "      <td>Male</td>\n",
       "      <td>0</td>\n",
       "      <td>0</td>\n",
       "      <td>40</td>\n",
       "      <td>United-States</td>\n",
       "      <td>&lt;=50K</td>\n",
       "    </tr>\n",
       "    <tr>\n",
       "      <th>3</th>\n",
       "      <td>53</td>\n",
       "      <td>Private</td>\n",
       "      <td>234721</td>\n",
       "      <td>11th</td>\n",
       "      <td>7</td>\n",
       "      <td>Married-civ-spouse</td>\n",
       "      <td>Handlers-cleaners</td>\n",
       "      <td>Husband</td>\n",
       "      <td>Black</td>\n",
       "      <td>Male</td>\n",
       "      <td>0</td>\n",
       "      <td>0</td>\n",
       "      <td>40</td>\n",
       "      <td>United-States</td>\n",
       "      <td>&lt;=50K</td>\n",
       "    </tr>\n",
       "    <tr>\n",
       "      <th>4</th>\n",
       "      <td>28</td>\n",
       "      <td>Private</td>\n",
       "      <td>338409</td>\n",
       "      <td>Bachelors</td>\n",
       "      <td>13</td>\n",
       "      <td>Married-civ-spouse</td>\n",
       "      <td>Prof-specialty</td>\n",
       "      <td>Wife</td>\n",
       "      <td>Black</td>\n",
       "      <td>Female</td>\n",
       "      <td>0</td>\n",
       "      <td>0</td>\n",
       "      <td>40</td>\n",
       "      <td>Cuba</td>\n",
       "      <td>&lt;=50K</td>\n",
       "    </tr>\n",
       "  </tbody>\n",
       "</table>\n",
       "</div>"
      ],
      "text/plain": [
       "  age          workclass  fnlwgt   education education-num  \\\n",
       "0  39          State-gov   77516   Bachelors            13   \n",
       "1  50   Self-emp-not-inc   83311   Bachelors            13   \n",
       "2  38            Private  215646     HS-grad             9   \n",
       "3  53            Private  234721        11th             7   \n",
       "4  28            Private  338409   Bachelors            13   \n",
       "\n",
       "        marital-status          occupation    relationship    race      sex  \\\n",
       "0        Never-married        Adm-clerical   Not-in-family   White     Male   \n",
       "1   Married-civ-spouse     Exec-managerial         Husband   White     Male   \n",
       "2             Divorced   Handlers-cleaners   Not-in-family   White     Male   \n",
       "3   Married-civ-spouse   Handlers-cleaners         Husband   Black     Male   \n",
       "4   Married-civ-spouse      Prof-specialty            Wife   Black   Female   \n",
       "\n",
       "  capital-gain capital-loss hours-per-week  native-country  income  \n",
       "0         2174            0             40   United-States   <=50K  \n",
       "1            0            0             13   United-States   <=50K  \n",
       "2            0            0             40   United-States   <=50K  \n",
       "3            0            0             40   United-States   <=50K  \n",
       "4            0            0             40            Cuba   <=50K  "
      ]
     },
     "execution_count": 3,
     "metadata": {},
     "output_type": "execute_result"
    }
   ],
   "source": [
    "raw_data_transformed.columns=[\"age\", \"workclass\", \"fnlwgt\", \"education\", \"education-num\", \"marital-status\",\n",
    "                              \"occupation\", \"relationship\", \"race\", \"sex\", \"capital-gain\", \"capital-loss\",\n",
    "                              \"hours-per-week\",\"native-country\", \"income\"]\n",
    "\n",
    "raw_data_transformed.head(5)"
   ]
  },
  {
   "cell_type": "markdown",
   "metadata": {},
   "source": [
    "<u><p style=\"font-size:20px\">4. Exploring the Data</p></u>"
   ]
  },
  {
   "cell_type": "markdown",
   "metadata": {},
   "source": [
    "We can now take a more detailled look at the dataset by using Panda's neat profile report feature. It is necessary to import \"pandas_profiling\" for this feature."
   ]
  },
  {
   "cell_type": "code",
   "execution_count": 4,
   "metadata": {},
   "outputs": [
    {
     "data": {
      "application/vnd.jupyter.widget-view+json": {
       "model_id": "d3872d5bb825423daf81298c68cb39c9",
       "version_major": 2,
       "version_minor": 0
      },
      "text/plain": [
       "Tab(children=(HTML(value='<div id=\"overview-content\" class=\"row variable spacing\">\\n    <div class=\"row\">\\n   …"
      ]
     },
     "metadata": {},
     "output_type": "display_data"
    },
    {
     "data": {
      "text/html": [
       "Report generated with <a href=\"https://github.com/pandas-profiling/pandas-profiling\">pandas-profiling</a>."
      ],
      "text/plain": [
       "<IPython.core.display.HTML object>"
      ]
     },
     "metadata": {},
     "output_type": "display_data"
    },
    {
     "data": {
      "text/plain": []
     },
     "execution_count": 4,
     "metadata": {},
     "output_type": "execute_result"
    }
   ],
   "source": [
    "import pandas_profiling\n",
    "\n",
    "raw_data_transformed.profile_report()"
   ]
  },
  {
   "cell_type": "markdown",
   "metadata": {},
   "source": [
    "<u><p style=\"font-size:18px\">4.1. Variable Clarification</p></u>"
   ]
  },
  {
   "cell_type": "markdown",
   "metadata": {},
   "source": [
    "The dataset provides cases of individuals and a variety of demographic features to describe them. Here is a description for better clarification:\n",
    "\n",
    "<b>age</b>: The age of the respondent. The data is numerical.\n",
    "\n",
    "<b>workclass</b>: Describes the individuals job position. The data is categorical with the following values: Private, Self-emp-not-inc, Self-emp-inc, Federal-gov, Local-gov, State-gov, Without-pay, Never-worked.\n",
    "\n",
    "<b>fnlwgt</b>: A weight variable, probably to weight the sample to be nationally representative. The data is numerical.\n",
    "\n",
    "<b>education</b>: Describes the highest educational degree a person has achieved. The data is categorical with the following values: Bachelors, Some-college, 11th, HS-grad, Prof-school, Assoc-acdm, Assoc-voc, 9th, 7th-8th, 12th, Masters, 1st-4th, 10th, Doctorate, 5th-6th, Preschool.\n",
    "\n",
    "<b>education-num</b>: A variable that includes numerical codes for the different types of education.\n",
    "\n",
    "<b>marital-status</b>: Describes the respondent's marital status. The data is categorical with the following values: Married-civ-spouse, Divorced, Never-married, Separated, Widowed, Married-spouse-absent, Married-AF-spouse.\n",
    "\n",
    "<b>occupation</b>: Describes the respondent's occupation. The data is categorical with the following values: Tech-support, Craft-repair, Other-service, Sales, Exec-managerial, Prof-specialty, Handlers-cleaners, Machine-op-inspct, Adm-clerical, Farming-fishing, Transport-moving, Priv-house-serv, Protective-serv, Armed-Forces.\n",
    "\n",
    "<b>relationship</b>: A variable that includes the relationship status of a person. The data is categorical with the following values: Wife, Own-child, Husband, Not-in-family, Other-relative, Unmarried.\n",
    "\n",
    "<b>race</b>: Describes the respondent's race. The data is categorical with the following values: White, Asian-Pac-Islander, Amer-Indian-Eskimo, Other, Black.\n",
    "\n",
    "<b>sex</b>: A person's gender, described as male or female. The data is dichotomous.\n",
    "\n",
    "<b>capital-gain</b>: Indicates whether a person has realized financial gains from owned capital, and how much. The data is numeric.\n",
    "\n",
    "<b>capital-loss</b>: Indicates whether a person has suffered a financial loss regarding owned capital, and how much. The data is numeric.\n",
    "\n",
    "<b>hours-per-week</b>: Describes how many hours per week a respondent works on average. The data is numeric.\n",
    "\n",
    "<b>native-country</b>: A person's home country. The data is categorical with the values: United-States, Cambodia, England, Puerto-Rico, Canada, Germany, Outlying-US(Guam-USVI-etc), India, Japan, Greece, South, China, Cuba, Iran, Honduras, Philippines, Italy, Poland, Jamaica, Vietnam, Mexico, Portugal, Ireland, France, Dominican-Republic, Laos, Ecuador, Taiwan, Haiti, Columbia, Hungary, Guatemala, Nicaragua, Scotland, Thailand, Yugoslavia, El-Salvador, Trinadad&Tobago, Peru, Hong, Holand-Netherlands.\n",
    "\n",
    "<b>income</b>: A dichotomous variable that indicates whether or not a person is earning more than 50.000 dollars a year. Describes how many hours per week a respondent works on average. The data is numeric."
   ]
  },
  {
   "cell_type": "markdown",
   "metadata": {},
   "source": [
    "<u><p style=\"font-size:20px\">5. Cleaning and Preparing the Data</p></u>"
   ]
  },
  {
   "cell_type": "markdown",
   "metadata": {},
   "source": [
    "In this section, we will take a closer look at the variables in the dataset with respect to their usefulness for the analysis. We will also identify errors, missing values and/or outliers and clean the dataset in order to prepare it for the analysis."
   ]
  },
  {
   "cell_type": "markdown",
   "metadata": {},
   "source": [
    "<u><p style=\"font-size:18px\">5.1. Dropping Unusable Variables:</p></u>"
   ]
  },
  {
   "cell_type": "markdown",
   "metadata": {},
   "source": [
    "We can see that the dataset has many variables to describe individuals. However, not all of them are useful for our analysis. We will be dropping a number of them from the dataset for the following reasons:\n",
    "\n",
    "1. <b>fnlwgt</b> is a weight variable to be applied in order to make the dataset's results nationally representative. However, the variable carries no importance for our particular analysis.\n",
    "\n",
    "\n",
    "2. <b>education-num</b> is a numerical re-coding of the categorical variable <b>education</b>. We will at a later point re-code <b>education</b> ourselves into a variable with fewer categories. Therefore, we do not need to keep <b>education-num</b>.\n",
    "\n",
    "\n",
    "3. <b>relationship</b> does not seem to include any information that is not already explained by the <b>marital-status</b> variable. Moreover, some of its categories such as \"Husband\", \"Wife\" or \"Unmarried\" overlap with <b>marital-status</b>. Moreover, the variable is highly correlated with <b>sex</b> and categorizes respondents into specific sub-groups that do not appear relevant for our analysis.\n",
    "\n",
    "\n",
    "4. There are a number of difficulties with <b>capital-gain</b> and <b>capital-loss</b>. First of all, these variables do not seem to add any information to our analysis that is not already expressed in the dependent variable <b>income</b> itself. Capital gains or losses will be very closely linked to a person's overall income, as they can be considered a part of the income itself. Moreover, both variables have zero values for more than 90% of the sample. We can see the percentages below:"
   ]
  },
  {
   "cell_type": "code",
   "execution_count": 5,
   "metadata": {},
   "outputs": [
    {
     "data": {
      "text/html": [
       "<div>\n",
       "<style scoped>\n",
       "    .dataframe tbody tr th:only-of-type {\n",
       "        vertical-align: middle;\n",
       "    }\n",
       "\n",
       "    .dataframe tbody tr th {\n",
       "        vertical-align: top;\n",
       "    }\n",
       "\n",
       "    .dataframe thead th {\n",
       "        text-align: right;\n",
       "    }\n",
       "</style>\n",
       "<table border=\"1\" class=\"dataframe\">\n",
       "  <thead>\n",
       "    <tr style=\"text-align: right;\">\n",
       "      <th></th>\n",
       "      <th>% Zero Values of Sample</th>\n",
       "    </tr>\n",
       "  </thead>\n",
       "  <tbody>\n",
       "    <tr>\n",
       "      <th>capital-gain</th>\n",
       "      <td>91.67</td>\n",
       "    </tr>\n",
       "    <tr>\n",
       "      <th>capital-loss</th>\n",
       "      <td>95.33</td>\n",
       "    </tr>\n",
       "  </tbody>\n",
       "</table>\n",
       "</div>"
      ],
      "text/plain": [
       "              % Zero Values of Sample\n",
       "capital-gain                    91.67\n",
       "capital-loss                    95.33"
      ]
     },
     "execution_count": 5,
     "metadata": {},
     "output_type": "execute_result"
    }
   ],
   "source": [
    "gain_zero = round(raw_data_transformed[\"capital-gain\"].value_counts(1)[0:1]*100,2)\n",
    "loss_zero = round(raw_data_transformed[\"capital-loss\"].value_counts(1)[0:1]*100,2)\n",
    "capital_zero = pd.DataFrame([gain_zero,loss_zero])\n",
    "capital_zero.rename(columns={0: \"% Zero Values of Sample\"}, inplace=True)\n",
    "capital_zero"
   ]
  },
  {
   "cell_type": "markdown",
   "metadata": {},
   "source": [
    "As a result, we will be dropping <b>fnlwgt</b>, <b>education-num</b>, <b>relationship</b>, <b>capital-gain</b> and <b>capital-loss</b> from our dataset and save a new copy without them:"
   ]
  },
  {
   "cell_type": "code",
   "execution_count": 6,
   "metadata": {
    "scrolled": true
   },
   "outputs": [
    {
     "data": {
      "text/html": [
       "<div>\n",
       "<style scoped>\n",
       "    .dataframe tbody tr th:only-of-type {\n",
       "        vertical-align: middle;\n",
       "    }\n",
       "\n",
       "    .dataframe tbody tr th {\n",
       "        vertical-align: top;\n",
       "    }\n",
       "\n",
       "    .dataframe thead th {\n",
       "        text-align: right;\n",
       "    }\n",
       "</style>\n",
       "<table border=\"1\" class=\"dataframe\">\n",
       "  <thead>\n",
       "    <tr style=\"text-align: right;\">\n",
       "      <th></th>\n",
       "      <th>age</th>\n",
       "      <th>workclass</th>\n",
       "      <th>education</th>\n",
       "      <th>marital-status</th>\n",
       "      <th>occupation</th>\n",
       "      <th>race</th>\n",
       "      <th>sex</th>\n",
       "      <th>hours-per-week</th>\n",
       "      <th>native-country</th>\n",
       "      <th>income</th>\n",
       "    </tr>\n",
       "  </thead>\n",
       "  <tbody>\n",
       "    <tr>\n",
       "      <th>0</th>\n",
       "      <td>39</td>\n",
       "      <td>State-gov</td>\n",
       "      <td>Bachelors</td>\n",
       "      <td>Never-married</td>\n",
       "      <td>Adm-clerical</td>\n",
       "      <td>White</td>\n",
       "      <td>Male</td>\n",
       "      <td>40</td>\n",
       "      <td>United-States</td>\n",
       "      <td>&lt;=50K</td>\n",
       "    </tr>\n",
       "    <tr>\n",
       "      <th>1</th>\n",
       "      <td>50</td>\n",
       "      <td>Self-emp-not-inc</td>\n",
       "      <td>Bachelors</td>\n",
       "      <td>Married-civ-spouse</td>\n",
       "      <td>Exec-managerial</td>\n",
       "      <td>White</td>\n",
       "      <td>Male</td>\n",
       "      <td>13</td>\n",
       "      <td>United-States</td>\n",
       "      <td>&lt;=50K</td>\n",
       "    </tr>\n",
       "    <tr>\n",
       "      <th>2</th>\n",
       "      <td>38</td>\n",
       "      <td>Private</td>\n",
       "      <td>HS-grad</td>\n",
       "      <td>Divorced</td>\n",
       "      <td>Handlers-cleaners</td>\n",
       "      <td>White</td>\n",
       "      <td>Male</td>\n",
       "      <td>40</td>\n",
       "      <td>United-States</td>\n",
       "      <td>&lt;=50K</td>\n",
       "    </tr>\n",
       "    <tr>\n",
       "      <th>3</th>\n",
       "      <td>53</td>\n",
       "      <td>Private</td>\n",
       "      <td>11th</td>\n",
       "      <td>Married-civ-spouse</td>\n",
       "      <td>Handlers-cleaners</td>\n",
       "      <td>Black</td>\n",
       "      <td>Male</td>\n",
       "      <td>40</td>\n",
       "      <td>United-States</td>\n",
       "      <td>&lt;=50K</td>\n",
       "    </tr>\n",
       "    <tr>\n",
       "      <th>4</th>\n",
       "      <td>28</td>\n",
       "      <td>Private</td>\n",
       "      <td>Bachelors</td>\n",
       "      <td>Married-civ-spouse</td>\n",
       "      <td>Prof-specialty</td>\n",
       "      <td>Black</td>\n",
       "      <td>Female</td>\n",
       "      <td>40</td>\n",
       "      <td>Cuba</td>\n",
       "      <td>&lt;=50K</td>\n",
       "    </tr>\n",
       "  </tbody>\n",
       "</table>\n",
       "</div>"
      ],
      "text/plain": [
       "  age          workclass   education       marital-status          occupation  \\\n",
       "0  39          State-gov   Bachelors        Never-married        Adm-clerical   \n",
       "1  50   Self-emp-not-inc   Bachelors   Married-civ-spouse     Exec-managerial   \n",
       "2  38            Private     HS-grad             Divorced   Handlers-cleaners   \n",
       "3  53            Private        11th   Married-civ-spouse   Handlers-cleaners   \n",
       "4  28            Private   Bachelors   Married-civ-spouse      Prof-specialty   \n",
       "\n",
       "     race      sex hours-per-week  native-country  income  \n",
       "0   White     Male             40   United-States   <=50K  \n",
       "1   White     Male             13   United-States   <=50K  \n",
       "2   White     Male             40   United-States   <=50K  \n",
       "3   Black     Male             40   United-States   <=50K  \n",
       "4   Black   Female             40            Cuba   <=50K  "
      ]
     },
     "execution_count": 6,
     "metadata": {},
     "output_type": "execute_result"
    }
   ],
   "source": [
    "data_v001 = raw_data_transformed.drop([\n",
    "    \"fnlwgt\", \n",
    "    \"education-num\", \n",
    "    \"relationship\", \n",
    "    \"capital-gain\", \n",
    "    \"capital-loss\"], axis=1)\n",
    "\n",
    "data_v001.head(5)"
   ]
  },
  {
   "cell_type": "markdown",
   "metadata": {},
   "source": [
    "<u><p style=\"font-size:18px\">5.2. Transforming Cloumns into the Correct Data Type</p></u>"
   ]
  },
  {
   "cell_type": "markdown",
   "metadata": {},
   "source": [
    "At this point, the import of the .data file into Jupyter has caused the values in every column of the dataset to be interpreted as objects:"
   ]
  },
  {
   "cell_type": "code",
   "execution_count": 7,
   "metadata": {},
   "outputs": [
    {
     "data": {
      "text/plain": [
       "age               object\n",
       "workclass         object\n",
       "education         object\n",
       "marital-status    object\n",
       "occupation        object\n",
       "race              object\n",
       "sex               object\n",
       "hours-per-week    object\n",
       "native-country    object\n",
       "income            object\n",
       "dtype: object"
      ]
     },
     "execution_count": 7,
     "metadata": {},
     "output_type": "execute_result"
    }
   ],
   "source": [
    "data_v001.dtypes"
   ]
  },
  {
   "cell_type": "markdown",
   "metadata": {},
   "source": [
    "The \"object\" type is not practical for the future operations we plan to perform on our dataset, i.e. categorizations, dummy transformations and the creation of our model. \n",
    "\n",
    "To change this, we can use Panda's <em>astype</em> functionality to transform the columns into the format we would expect, and that we need in order to work with them in the following steps. We will choose the <u>integer</u> format for both <b>age</b> and <b>hours-per-week</b> as these variables are numeric, and the <u>category</u> format for all other columns, which are categorical."
   ]
  },
  {
   "cell_type": "code",
   "execution_count": 8,
   "metadata": {},
   "outputs": [],
   "source": [
    "data_v001 = data_v001.astype({\n",
    "\"age\": \"int\",\n",
    "\"workclass\": \"category\",\n",
    "\"education\": \"category\",\n",
    "\"marital-status\": \"category\",\n",
    "\"occupation\": \"category\",\n",
    "\"race\": \"category\",\n",
    "\"sex\": \"category\",\n",
    "\"hours-per-week\": \"int\",   \n",
    "\"native-country\": \"category\",\n",
    "\"income\": \"category\"})"
   ]
  },
  {
   "cell_type": "markdown",
   "metadata": {},
   "source": [
    "Let's check if the transformation has worked correctly:"
   ]
  },
  {
   "cell_type": "code",
   "execution_count": 9,
   "metadata": {},
   "outputs": [
    {
     "data": {
      "text/plain": [
       "age                  int32\n",
       "workclass         category\n",
       "education         category\n",
       "marital-status    category\n",
       "occupation        category\n",
       "race              category\n",
       "sex               category\n",
       "hours-per-week       int32\n",
       "native-country    category\n",
       "income            category\n",
       "dtype: object"
      ]
     },
     "execution_count": 9,
     "metadata": {},
     "output_type": "execute_result"
    }
   ],
   "source": [
    "data_v001.dtypes"
   ]
  },
  {
   "cell_type": "markdown",
   "metadata": {},
   "source": [
    "The transformation has indeed worked correctly and we can proceed to the next step."
   ]
  },
  {
   "cell_type": "markdown",
   "metadata": {},
   "source": [
    "<u><p style=\"font-size:18px\">5.3. Identifying and Dealing with Missing Values, Outliers and Errors</p></u>"
   ]
  },
  {
   "cell_type": "markdown",
   "metadata": {},
   "source": [
    "After we have have transformed our data, we can now identify possible missing values, outliers and/or errors in our dataset. We can start by having a look at the summary table for our new data_v001."
   ]
  },
  {
   "cell_type": "code",
   "execution_count": 10,
   "metadata": {},
   "outputs": [
    {
     "data": {
      "text/html": [
       "<div>\n",
       "<style scoped>\n",
       "    .dataframe tbody tr th:only-of-type {\n",
       "        vertical-align: middle;\n",
       "    }\n",
       "\n",
       "    .dataframe tbody tr th {\n",
       "        vertical-align: top;\n",
       "    }\n",
       "\n",
       "    .dataframe thead th {\n",
       "        text-align: right;\n",
       "    }\n",
       "</style>\n",
       "<table border=\"1\" class=\"dataframe\">\n",
       "  <thead>\n",
       "    <tr style=\"text-align: right;\">\n",
       "      <th></th>\n",
       "      <th>age</th>\n",
       "      <th>workclass</th>\n",
       "      <th>education</th>\n",
       "      <th>marital-status</th>\n",
       "      <th>occupation</th>\n",
       "      <th>race</th>\n",
       "      <th>sex</th>\n",
       "      <th>hours-per-week</th>\n",
       "      <th>native-country</th>\n",
       "      <th>income</th>\n",
       "    </tr>\n",
       "  </thead>\n",
       "  <tbody>\n",
       "    <tr>\n",
       "      <th>count</th>\n",
       "      <td>32561.000000</td>\n",
       "      <td>32561</td>\n",
       "      <td>32561</td>\n",
       "      <td>32561</td>\n",
       "      <td>32561</td>\n",
       "      <td>32561</td>\n",
       "      <td>32561</td>\n",
       "      <td>32561.000000</td>\n",
       "      <td>32561</td>\n",
       "      <td>32561</td>\n",
       "    </tr>\n",
       "    <tr>\n",
       "      <th>unique</th>\n",
       "      <td>NaN</td>\n",
       "      <td>9</td>\n",
       "      <td>16</td>\n",
       "      <td>7</td>\n",
       "      <td>15</td>\n",
       "      <td>5</td>\n",
       "      <td>2</td>\n",
       "      <td>NaN</td>\n",
       "      <td>42</td>\n",
       "      <td>2</td>\n",
       "    </tr>\n",
       "    <tr>\n",
       "      <th>top</th>\n",
       "      <td>NaN</td>\n",
       "      <td>Private</td>\n",
       "      <td>HS-grad</td>\n",
       "      <td>Married-civ-spouse</td>\n",
       "      <td>Prof-specialty</td>\n",
       "      <td>White</td>\n",
       "      <td>Male</td>\n",
       "      <td>NaN</td>\n",
       "      <td>United-States</td>\n",
       "      <td>&lt;=50K</td>\n",
       "    </tr>\n",
       "    <tr>\n",
       "      <th>freq</th>\n",
       "      <td>NaN</td>\n",
       "      <td>22696</td>\n",
       "      <td>10501</td>\n",
       "      <td>14976</td>\n",
       "      <td>4140</td>\n",
       "      <td>27816</td>\n",
       "      <td>21790</td>\n",
       "      <td>NaN</td>\n",
       "      <td>29170</td>\n",
       "      <td>24720</td>\n",
       "    </tr>\n",
       "    <tr>\n",
       "      <th>mean</th>\n",
       "      <td>38.581647</td>\n",
       "      <td>NaN</td>\n",
       "      <td>NaN</td>\n",
       "      <td>NaN</td>\n",
       "      <td>NaN</td>\n",
       "      <td>NaN</td>\n",
       "      <td>NaN</td>\n",
       "      <td>40.437456</td>\n",
       "      <td>NaN</td>\n",
       "      <td>NaN</td>\n",
       "    </tr>\n",
       "    <tr>\n",
       "      <th>std</th>\n",
       "      <td>13.640433</td>\n",
       "      <td>NaN</td>\n",
       "      <td>NaN</td>\n",
       "      <td>NaN</td>\n",
       "      <td>NaN</td>\n",
       "      <td>NaN</td>\n",
       "      <td>NaN</td>\n",
       "      <td>12.347429</td>\n",
       "      <td>NaN</td>\n",
       "      <td>NaN</td>\n",
       "    </tr>\n",
       "    <tr>\n",
       "      <th>min</th>\n",
       "      <td>17.000000</td>\n",
       "      <td>NaN</td>\n",
       "      <td>NaN</td>\n",
       "      <td>NaN</td>\n",
       "      <td>NaN</td>\n",
       "      <td>NaN</td>\n",
       "      <td>NaN</td>\n",
       "      <td>1.000000</td>\n",
       "      <td>NaN</td>\n",
       "      <td>NaN</td>\n",
       "    </tr>\n",
       "    <tr>\n",
       "      <th>25%</th>\n",
       "      <td>28.000000</td>\n",
       "      <td>NaN</td>\n",
       "      <td>NaN</td>\n",
       "      <td>NaN</td>\n",
       "      <td>NaN</td>\n",
       "      <td>NaN</td>\n",
       "      <td>NaN</td>\n",
       "      <td>40.000000</td>\n",
       "      <td>NaN</td>\n",
       "      <td>NaN</td>\n",
       "    </tr>\n",
       "    <tr>\n",
       "      <th>50%</th>\n",
       "      <td>37.000000</td>\n",
       "      <td>NaN</td>\n",
       "      <td>NaN</td>\n",
       "      <td>NaN</td>\n",
       "      <td>NaN</td>\n",
       "      <td>NaN</td>\n",
       "      <td>NaN</td>\n",
       "      <td>40.000000</td>\n",
       "      <td>NaN</td>\n",
       "      <td>NaN</td>\n",
       "    </tr>\n",
       "    <tr>\n",
       "      <th>75%</th>\n",
       "      <td>48.000000</td>\n",
       "      <td>NaN</td>\n",
       "      <td>NaN</td>\n",
       "      <td>NaN</td>\n",
       "      <td>NaN</td>\n",
       "      <td>NaN</td>\n",
       "      <td>NaN</td>\n",
       "      <td>45.000000</td>\n",
       "      <td>NaN</td>\n",
       "      <td>NaN</td>\n",
       "    </tr>\n",
       "    <tr>\n",
       "      <th>max</th>\n",
       "      <td>90.000000</td>\n",
       "      <td>NaN</td>\n",
       "      <td>NaN</td>\n",
       "      <td>NaN</td>\n",
       "      <td>NaN</td>\n",
       "      <td>NaN</td>\n",
       "      <td>NaN</td>\n",
       "      <td>99.000000</td>\n",
       "      <td>NaN</td>\n",
       "      <td>NaN</td>\n",
       "    </tr>\n",
       "  </tbody>\n",
       "</table>\n",
       "</div>"
      ],
      "text/plain": [
       "                 age workclass education       marital-status  \\\n",
       "count   32561.000000     32561     32561                32561   \n",
       "unique           NaN         9        16                    7   \n",
       "top              NaN   Private   HS-grad   Married-civ-spouse   \n",
       "freq             NaN     22696     10501                14976   \n",
       "mean       38.581647       NaN       NaN                  NaN   \n",
       "std        13.640433       NaN       NaN                  NaN   \n",
       "min        17.000000       NaN       NaN                  NaN   \n",
       "25%        28.000000       NaN       NaN                  NaN   \n",
       "50%        37.000000       NaN       NaN                  NaN   \n",
       "75%        48.000000       NaN       NaN                  NaN   \n",
       "max        90.000000       NaN       NaN                  NaN   \n",
       "\n",
       "             occupation    race    sex  hours-per-week  native-country  income  \n",
       "count             32561   32561  32561    32561.000000           32561   32561  \n",
       "unique               15       5      2             NaN              42       2  \n",
       "top      Prof-specialty   White   Male             NaN   United-States   <=50K  \n",
       "freq               4140   27816  21790             NaN           29170   24720  \n",
       "mean                NaN     NaN    NaN       40.437456             NaN     NaN  \n",
       "std                 NaN     NaN    NaN       12.347429             NaN     NaN  \n",
       "min                 NaN     NaN    NaN        1.000000             NaN     NaN  \n",
       "25%                 NaN     NaN    NaN       40.000000             NaN     NaN  \n",
       "50%                 NaN     NaN    NaN       40.000000             NaN     NaN  \n",
       "75%                 NaN     NaN    NaN       45.000000             NaN     NaN  \n",
       "max                 NaN     NaN    NaN       99.000000             NaN     NaN  "
      ]
     },
     "execution_count": 10,
     "metadata": {},
     "output_type": "execute_result"
    }
   ],
   "source": [
    "data_v001.describe(include=\"all\")"
   ]
  },
  {
   "cell_type": "markdown",
   "metadata": {},
   "source": [
    "We should note that, even though the counts do not indicate missing values (all variables have 32560 valid cases), there are other ways in which missing data could be indicated, for example by values such as \"9999\". This is why we should have a closer look at each of them."
   ]
  },
  {
   "cell_type": "markdown",
   "metadata": {},
   "source": [
    "<u><p style=\"font-size:16px\">5.3.1. Identifying Missing Values in <b>age</b></p></u>"
   ]
  },
  {
   "cell_type": "markdown",
   "metadata": {},
   "source": [
    "According to the summary, there should be no missing values in the <b>age</b> variable as we have a full base of 32560 respondents, just like in any other column of the dataset.\n",
    "\n",
    "However, to be 100% certain, we should check the unique values in <b>age</b> and see if they make sense. We can also check for missing values with the <u>isnull</u> operator:\n",
    "\n",
    "We will need the numpy library for these and many other operations that follow from here, so we will import it."
   ]
  },
  {
   "cell_type": "code",
   "execution_count": 11,
   "metadata": {},
   "outputs": [
    {
     "data": {
      "text/plain": [
       "array([17, 18, 19, 20, 21, 22, 23, 24, 25, 26, 27, 28, 29, 30, 31, 32, 33,\n",
       "       34, 35, 36, 37, 38, 39, 40, 41, 42, 43, 44, 45, 46, 47, 48, 49, 50,\n",
       "       51, 52, 53, 54, 55, 56, 57, 58, 59, 60, 61, 62, 63, 64, 65, 66, 67,\n",
       "       68, 69, 70, 71, 72, 73, 74, 75, 76, 77, 78, 79, 80, 81, 82, 83, 84,\n",
       "       85, 86, 87, 88, 90])"
      ]
     },
     "execution_count": 11,
     "metadata": {},
     "output_type": "execute_result"
    }
   ],
   "source": [
    "import numpy as np\n",
    "\n",
    "np.sort(data_v001[\"age\"].unique())"
   ]
  },
  {
   "cell_type": "code",
   "execution_count": 12,
   "metadata": {},
   "outputs": [
    {
     "data": {
      "text/plain": [
       "array([False])"
      ]
     },
     "execution_count": 12,
     "metadata": {},
     "output_type": "execute_result"
    }
   ],
   "source": [
    "data_v001[\"age\"].isnull().unique()"
   ]
  },
  {
   "cell_type": "markdown",
   "metadata": {},
   "source": [
    "We can see that the <b>age</b> variable includes values from 17 to 90 years, all cases have data, and there are no values present that do not make sense or could indicate missing values. As a result, there is no need for us to act with regard to <b>age</b>."
   ]
  },
  {
   "cell_type": "markdown",
   "metadata": {},
   "source": [
    "<u><p style=\"font-size:16px\">5.3.2. Identifying Missing Values in <b>workclass</b></p></u>"
   ]
  },
  {
   "cell_type": "markdown",
   "metadata": {},
   "source": [
    "What about <b>workclass</b>? The summary did not indicate missing values, but there is the possibility that missing values were indicated differently."
   ]
  },
  {
   "cell_type": "code",
   "execution_count": 13,
   "metadata": {},
   "outputs": [
    {
     "data": {
      "text/plain": [
       "array([' ?', ' Federal-gov', ' Local-gov', ' Never-worked', ' Private',\n",
       "       ' Self-emp-inc', ' Self-emp-not-inc', ' State-gov', ' Without-pay'],\n",
       "      dtype=object)"
      ]
     },
     "execution_count": 13,
     "metadata": {},
     "output_type": "execute_result"
    }
   ],
   "source": [
    "np.sort(data_v001[\"workclass\"].unique())"
   ]
  },
  {
   "cell_type": "markdown",
   "metadata": {},
   "source": [
    "We can observe two things from this result. Firstly, we have a category \"<b>?</b>\" in the workclass column, a clear indicator for missing values. Secondly, every category seems to have an empty space \" \" preceding it.\n",
    "\n",
    "The empty space is probably a result of the previous transformations that we applied to our data and thus we might also see this phenomenon appear in the other columns of our dataset. We can test this by checking the unique values of another column with categorical data, such as <b>education</b>:"
   ]
  },
  {
   "cell_type": "code",
   "execution_count": 14,
   "metadata": {},
   "outputs": [
    {
     "data": {
      "text/plain": [
       "array([' 10th', ' 11th', ' 12th', ' 1st-4th', ' 5th-6th', ' 7th-8th',\n",
       "       ' 9th', ' Assoc-acdm', ' Assoc-voc', ' Bachelors', ' Doctorate',\n",
       "       ' HS-grad', ' Masters', ' Preschool', ' Prof-school',\n",
       "       ' Some-college'], dtype=object)"
      ]
     },
     "execution_count": 14,
     "metadata": {},
     "output_type": "execute_result"
    }
   ],
   "source": [
    "np.sort(data_v001[\"education\"].unique())"
   ]
  },
  {
   "cell_type": "markdown",
   "metadata": {},
   "source": [
    "As expected, the empty space has been added to all categorical values. Since we want to avoid having to write a space whenever we refer to a categorical value, we can remove them from our dataset by using the <u>strip</u> functionality. We know that the space is always preceding the category at hand. Therefore, we can appy a <u>left strip</u> to each categrocial column:"
   ]
  },
  {
   "cell_type": "code",
   "execution_count": 15,
   "metadata": {},
   "outputs": [],
   "source": [
    "data_v001[\"workclass\"] = data_v001[\"workclass\"].str.lstrip()\n",
    "data_v001[\"education\"] = data_v001[\"education\"].str.lstrip()\n",
    "data_v001[\"marital-status\"] = data_v001[\"marital-status\"].str.lstrip()\n",
    "data_v001[\"occupation\"] = data_v001[\"occupation\"].str.lstrip()\n",
    "data_v001[\"race\"] = data_v001[\"race\"].str.lstrip()\n",
    "data_v001[\"sex\"] = data_v001[\"sex\"].str.lstrip()\n",
    "data_v001[\"native-country\"] = data_v001[\"native-country\"].str.lstrip()\n",
    "data_v001[\"income\"] = data_v001[\"income\"].str.lstrip()"
   ]
  },
  {
   "cell_type": "markdown",
   "metadata": {},
   "source": [
    "We can test if our approach worked:"
   ]
  },
  {
   "cell_type": "code",
   "execution_count": 16,
   "metadata": {
    "scrolled": true
   },
   "outputs": [
    {
     "data": {
      "text/plain": [
       "array(['?', 'Federal-gov', 'Local-gov', 'Never-worked', 'Private',\n",
       "       'Self-emp-inc', 'Self-emp-not-inc', 'State-gov', 'Without-pay'],\n",
       "      dtype=object)"
      ]
     },
     "execution_count": 16,
     "metadata": {},
     "output_type": "execute_result"
    }
   ],
   "source": [
    "np.sort(data_v001[\"workclass\"].unique())"
   ]
  },
  {
   "cell_type": "markdown",
   "metadata": {},
   "source": [
    "It seems like we have successfully removed all blank spaces preceding our categorical values. Thus, we can continue with cleaning the data. \n",
    "\n",
    "We concluded that \"<b>?</b>\" was indicating missing values in the <b>workclass</b> variable. Let us see for how many cases we do not have information on <b>workclass</b>:"
   ]
  },
  {
   "cell_type": "code",
   "execution_count": 17,
   "metadata": {},
   "outputs": [
    {
     "data": {
      "text/html": [
       "<div>\n",
       "<style scoped>\n",
       "    .dataframe tbody tr th:only-of-type {\n",
       "        vertical-align: middle;\n",
       "    }\n",
       "\n",
       "    .dataframe tbody tr th {\n",
       "        vertical-align: top;\n",
       "    }\n",
       "\n",
       "    .dataframe thead th {\n",
       "        text-align: right;\n",
       "    }\n",
       "</style>\n",
       "<table border=\"1\" class=\"dataframe\">\n",
       "  <thead>\n",
       "    <tr style=\"text-align: right;\">\n",
       "      <th></th>\n",
       "      <th>Counts</th>\n",
       "      <th>Percent of Data</th>\n",
       "    </tr>\n",
       "  </thead>\n",
       "  <tbody>\n",
       "    <tr>\n",
       "      <th>Private</th>\n",
       "      <td>22696</td>\n",
       "      <td>69.703019</td>\n",
       "    </tr>\n",
       "    <tr>\n",
       "      <th>Self-emp-not-inc</th>\n",
       "      <td>2541</td>\n",
       "      <td>7.803814</td>\n",
       "    </tr>\n",
       "    <tr>\n",
       "      <th>Local-gov</th>\n",
       "      <td>2093</td>\n",
       "      <td>6.427935</td>\n",
       "    </tr>\n",
       "    <tr>\n",
       "      <th>?</th>\n",
       "      <td>1836</td>\n",
       "      <td>5.638647</td>\n",
       "    </tr>\n",
       "    <tr>\n",
       "      <th>State-gov</th>\n",
       "      <td>1298</td>\n",
       "      <td>3.986364</td>\n",
       "    </tr>\n",
       "    <tr>\n",
       "      <th>Self-emp-inc</th>\n",
       "      <td>1116</td>\n",
       "      <td>3.427413</td>\n",
       "    </tr>\n",
       "    <tr>\n",
       "      <th>Federal-gov</th>\n",
       "      <td>960</td>\n",
       "      <td>2.948312</td>\n",
       "    </tr>\n",
       "    <tr>\n",
       "      <th>Without-pay</th>\n",
       "      <td>14</td>\n",
       "      <td>0.042996</td>\n",
       "    </tr>\n",
       "    <tr>\n",
       "      <th>Never-worked</th>\n",
       "      <td>7</td>\n",
       "      <td>0.021498</td>\n",
       "    </tr>\n",
       "  </tbody>\n",
       "</table>\n",
       "</div>"
      ],
      "text/plain": [
       "                  Counts  Percent of Data\n",
       "Private            22696        69.703019\n",
       "Self-emp-not-inc    2541         7.803814\n",
       "Local-gov           2093         6.427935\n",
       "?                   1836         5.638647\n",
       "State-gov           1298         3.986364\n",
       "Self-emp-inc        1116         3.427413\n",
       "Federal-gov          960         2.948312\n",
       "Without-pay           14         0.042996\n",
       "Never-worked           7         0.021498"
      ]
     },
     "execution_count": 17,
     "metadata": {},
     "output_type": "execute_result"
    }
   ],
   "source": [
    "wclass_check = pd.DataFrame()\n",
    "wclass_check[\"Counts\"] = data_v001[\"workclass\"].value_counts()\n",
    "wclass_check[\"Percent of Data\"] = data_v001[\"workclass\"].value_counts()/len(data_v001[\"workclass\"])*100\n",
    "wclass_check"
   ]
  },
  {
   "cell_type": "markdown",
   "metadata": {},
   "source": [
    "We can see that 1836 individuals (almost 6% of the sample) do not have any information provided for their work class. Even though this is a significant number, and we could use a data imputation teachnique to estimate values for these cases, deleting them would still leave us with a dataset of more than 30.000 cases. Since this dataset would still be large enough to perform a solid analysis on, we can decide to drop the cases with missing information for <b>workclass</b>.\n",
    "\n",
    "Moreover, thinking ahead with regard to our categorizations, it would also be wise to remove individuals who have work without pay as well as those who have never worked. This is because their sub-group is very small and they cannot be grouped together with other <b>workclass</b> categories in a meaningful way.\n",
    "\n",
    "As a result, we will remove all cases of missing values, as well as persons without pay and those who have never worked:"
   ]
  },
  {
   "cell_type": "code",
   "execution_count": 18,
   "metadata": {
    "scrolled": true
   },
   "outputs": [
    {
     "data": {
      "text/plain": [
       "Private             22696\n",
       "Self-emp-not-inc     2541\n",
       "Local-gov            2093\n",
       "State-gov            1298\n",
       "Self-emp-inc         1116\n",
       "Federal-gov           960\n",
       "Name: workclass, dtype: int64"
      ]
     },
     "execution_count": 18,
     "metadata": {},
     "output_type": "execute_result"
    }
   ],
   "source": [
    "data_v002 = data_v001[data_v001[\"workclass\"] != \"?\"]\n",
    "data_v002 = data_v002[data_v002[\"workclass\"] != \"Without-pay\"]\n",
    "data_v002 = data_v002[data_v002[\"workclass\"] != \"Never-worked\"]\n",
    "data_v002[\"workclass\"].value_counts()"
   ]
  },
  {
   "cell_type": "markdown",
   "metadata": {},
   "source": [
    "We have successfully cleaned the <b>workclass</b> column and can now move on to the next categorical variable:"
   ]
  },
  {
   "cell_type": "markdown",
   "metadata": {},
   "source": [
    "<u><p style=\"font-size:16px\">5.3.3. Identifying Missing Values in <b>education</b></p></u>"
   ]
  },
  {
   "cell_type": "markdown",
   "metadata": {},
   "source": [
    "What about missing values in <b>education</b>?"
   ]
  },
  {
   "cell_type": "code",
   "execution_count": 19,
   "metadata": {},
   "outputs": [
    {
     "data": {
      "text/plain": [
       "array(['10th', '11th', '12th', '1st-4th', '5th-6th', '7th-8th', '9th',\n",
       "       'Assoc-acdm', 'Assoc-voc', 'Bachelors', 'Doctorate', 'HS-grad',\n",
       "       'Masters', 'Preschool', 'Prof-school', 'Some-college'],\n",
       "      dtype=object)"
      ]
     },
     "execution_count": 19,
     "metadata": {},
     "output_type": "execute_result"
    }
   ],
   "source": [
    "np.sort(data_v002[\"education\"].unique())"
   ]
  },
  {
   "cell_type": "code",
   "execution_count": 20,
   "metadata": {},
   "outputs": [
    {
     "data": {
      "text/plain": [
       "array([False])"
      ]
     },
     "execution_count": 20,
     "metadata": {},
     "output_type": "execute_result"
    }
   ],
   "source": [
    "data_v002[\"education\"].isnull().unique()"
   ]
  },
  {
   "cell_type": "markdown",
   "metadata": {},
   "source": [
    "We can see 16 distinct categories in the <b>education</b>, all of which make sense and none of which is a question mark or another value that could indicate missing data. Moreover, we do not receive any counts for missing values. As a result, there is no need for us to act with regard to <b>education</b>."
   ]
  },
  {
   "cell_type": "markdown",
   "metadata": {},
   "source": [
    "<u><p style=\"font-size:16px\">5.3.4. Identifying Missing Values in <b>marital-status</b></p></u>"
   ]
  },
  {
   "cell_type": "markdown",
   "metadata": {},
   "source": [
    "We will apply our well-known check for <b>marital-status</b> as well."
   ]
  },
  {
   "cell_type": "code",
   "execution_count": 21,
   "metadata": {},
   "outputs": [
    {
     "data": {
      "text/plain": [
       "array(['Divorced', 'Married-AF-spouse', 'Married-civ-spouse',\n",
       "       'Married-spouse-absent', 'Never-married', 'Separated', 'Widowed'],\n",
       "      dtype=object)"
      ]
     },
     "execution_count": 21,
     "metadata": {},
     "output_type": "execute_result"
    }
   ],
   "source": [
    "np.sort(data_v002[\"marital-status\"].unique())"
   ]
  },
  {
   "cell_type": "code",
   "execution_count": 22,
   "metadata": {
    "scrolled": true
   },
   "outputs": [
    {
     "data": {
      "text/plain": [
       "array([False])"
      ]
     },
     "execution_count": 22,
     "metadata": {},
     "output_type": "execute_result"
    }
   ],
   "source": [
    "data_v002[\"marital-status\"].isnull().unique()"
   ]
  },
  {
   "cell_type": "markdown",
   "metadata": {},
   "source": [
    "Once more, all categories make sense and there do not seem to be missing values present. We can proceed."
   ]
  },
  {
   "cell_type": "markdown",
   "metadata": {},
   "source": [
    "<u><p style=\"font-size:16px\">5.3.5. Identifying Missing Values in <b>occupation</b></p></u>"
   ]
  },
  {
   "cell_type": "markdown",
   "metadata": {},
   "source": [
    "<b>Occupation</b> is next on our list:"
   ]
  },
  {
   "cell_type": "code",
   "execution_count": 23,
   "metadata": {},
   "outputs": [
    {
     "data": {
      "text/plain": [
       "array(['Adm-clerical', 'Armed-Forces', 'Craft-repair', 'Exec-managerial',\n",
       "       'Farming-fishing', 'Handlers-cleaners', 'Machine-op-inspct',\n",
       "       'Other-service', 'Priv-house-serv', 'Prof-specialty',\n",
       "       'Protective-serv', 'Sales', 'Tech-support', 'Transport-moving'],\n",
       "      dtype=object)"
      ]
     },
     "execution_count": 23,
     "metadata": {},
     "output_type": "execute_result"
    }
   ],
   "source": [
    "np.sort(data_v002[\"occupation\"].unique())"
   ]
  },
  {
   "cell_type": "code",
   "execution_count": 24,
   "metadata": {
    "scrolled": true
   },
   "outputs": [
    {
     "data": {
      "text/plain": [
       "array([False])"
      ]
     },
     "execution_count": 24,
     "metadata": {},
     "output_type": "execute_result"
    }
   ],
   "source": [
    "data_v002[\"occupation\"].isnull().unique()"
   ]
  },
  {
   "cell_type": "markdown",
   "metadata": {},
   "source": [
    "These categories make sense as well and there so not seem to be missing values in the <b>occupation</b> variable. We can move on."
   ]
  },
  {
   "cell_type": "markdown",
   "metadata": {},
   "source": [
    "<u><p style=\"font-size:16px\">5.3.6. Identifying Missing Values in <b>race</b></p></u>"
   ]
  },
  {
   "cell_type": "markdown",
   "metadata": {},
   "source": [
    "Next up is <b>Race</b>:"
   ]
  },
  {
   "cell_type": "code",
   "execution_count": 25,
   "metadata": {},
   "outputs": [
    {
     "data": {
      "text/plain": [
       "array(['Amer-Indian-Eskimo', 'Asian-Pac-Islander', 'Black', 'Other',\n",
       "       'White'], dtype=object)"
      ]
     },
     "execution_count": 25,
     "metadata": {},
     "output_type": "execute_result"
    }
   ],
   "source": [
    "np.sort(data_v002[\"race\"].unique())"
   ]
  },
  {
   "cell_type": "code",
   "execution_count": 26,
   "metadata": {
    "scrolled": false
   },
   "outputs": [
    {
     "data": {
      "text/plain": [
       "array([False])"
      ]
     },
     "execution_count": 26,
     "metadata": {},
     "output_type": "execute_result"
    }
   ],
   "source": [
    "data_v002[\"race\"].isnull().unique()"
   ]
  },
  {
   "cell_type": "markdown",
   "metadata": {},
   "source": [
    "This column looks good as well. We can move on without changes."
   ]
  },
  {
   "cell_type": "markdown",
   "metadata": {},
   "source": [
    "<u><p style=\"font-size:16px\">5.3.7. Identifying Missing Values in <b>sex</b></p></u>"
   ]
  },
  {
   "cell_type": "markdown",
   "metadata": {},
   "source": [
    "What about missing values in <b>sex</b>?:"
   ]
  },
  {
   "cell_type": "code",
   "execution_count": 27,
   "metadata": {
    "scrolled": true
   },
   "outputs": [
    {
     "data": {
      "text/plain": [
       "array(['Female', 'Male'], dtype=object)"
      ]
     },
     "execution_count": 27,
     "metadata": {},
     "output_type": "execute_result"
    }
   ],
   "source": [
    "np.sort(data_v002[\"sex\"].unique())"
   ]
  },
  {
   "cell_type": "code",
   "execution_count": 28,
   "metadata": {
    "scrolled": true
   },
   "outputs": [
    {
     "data": {
      "text/plain": [
       "array([False])"
      ]
     },
     "execution_count": 28,
     "metadata": {},
     "output_type": "execute_result"
    }
   ],
   "source": [
    "data_v002[\"sex\"].isnull().unique()"
   ]
  },
  {
   "cell_type": "markdown",
   "metadata": {},
   "source": [
    "We can move on to the next variable without changes."
   ]
  },
  {
   "cell_type": "markdown",
   "metadata": {},
   "source": [
    "<u><p style=\"font-size:16px\">5.3.8. Identifying Missing Values in <b>hours-per-week</b></p></u>"
   ]
  },
  {
   "cell_type": "code",
   "execution_count": 29,
   "metadata": {
    "scrolled": true
   },
   "outputs": [
    {
     "data": {
      "text/plain": [
       "array([ 1,  2,  3,  4,  5,  6,  7,  8,  9, 10, 11, 12, 13, 14, 15, 16, 17,\n",
       "       18, 19, 20, 21, 22, 23, 24, 25, 26, 27, 28, 29, 30, 31, 32, 33, 34,\n",
       "       35, 36, 37, 38, 39, 40, 41, 42, 43, 44, 45, 46, 47, 48, 49, 50, 51,\n",
       "       52, 53, 54, 55, 56, 57, 58, 59, 60, 61, 62, 63, 64, 65, 66, 67, 68,\n",
       "       70, 72, 73, 74, 75, 76, 77, 78, 80, 81, 82, 84, 85, 86, 87, 88, 89,\n",
       "       90, 91, 92, 94, 95, 96, 97, 98, 99])"
      ]
     },
     "execution_count": 29,
     "metadata": {},
     "output_type": "execute_result"
    }
   ],
   "source": [
    "np.sort(data_v002[\"hours-per-week\"].unique())"
   ]
  },
  {
   "cell_type": "code",
   "execution_count": 30,
   "metadata": {
    "scrolled": true
   },
   "outputs": [
    {
     "data": {
      "text/plain": [
       "array([False])"
      ]
     },
     "execution_count": 30,
     "metadata": {},
     "output_type": "execute_result"
    }
   ],
   "source": [
    "data_v002[\"hours-per-week\"].isnull().unique()"
   ]
  },
  {
   "cell_type": "markdown",
   "metadata": {},
   "source": [
    "<b>hours-per-week</b> does not seem to have missing values either. However, we can observe a very wide range of values with 1 hour per week being an exceptionally low and 99 hours per week being an exceptionally high workload. We will look more into this at a later point when we categorize the data."
   ]
  },
  {
   "cell_type": "markdown",
   "metadata": {},
   "source": [
    "<u><p style=\"font-size:16px\">5.3.9. Identifying Missing Values in <b>native-country</b></p></u>"
   ]
  },
  {
   "cell_type": "markdown",
   "metadata": {},
   "source": [
    "<b>Native-country</b> is the categorical variable with the most categories in our dataset. We might observe missing values here:"
   ]
  },
  {
   "cell_type": "code",
   "execution_count": 31,
   "metadata": {
    "scrolled": true
   },
   "outputs": [
    {
     "data": {
      "text/plain": [
       "array(['?', 'Cambodia', 'Canada', 'China', 'Columbia', 'Cuba',\n",
       "       'Dominican-Republic', 'Ecuador', 'El-Salvador', 'England',\n",
       "       'France', 'Germany', 'Greece', 'Guatemala', 'Haiti',\n",
       "       'Holand-Netherlands', 'Honduras', 'Hong', 'Hungary', 'India',\n",
       "       'Iran', 'Ireland', 'Italy', 'Jamaica', 'Japan', 'Laos', 'Mexico',\n",
       "       'Nicaragua', 'Outlying-US(Guam-USVI-etc)', 'Peru', 'Philippines',\n",
       "       'Poland', 'Portugal', 'Puerto-Rico', 'Scotland', 'South', 'Taiwan',\n",
       "       'Thailand', 'Trinadad&Tobago', 'United-States', 'Vietnam',\n",
       "       'Yugoslavia'], dtype=object)"
      ]
     },
     "execution_count": 31,
     "metadata": {},
     "output_type": "execute_result"
    }
   ],
   "source": [
    "np.sort(data_v002[\"native-country\"].unique())"
   ]
  },
  {
   "cell_type": "code",
   "execution_count": 32,
   "metadata": {
    "scrolled": false
   },
   "outputs": [
    {
     "data": {
      "text/plain": [
       "array([False])"
      ]
     },
     "execution_count": 32,
     "metadata": {},
     "output_type": "execute_result"
    }
   ],
   "source": [
    "data_v002[\"native-country\"].isnull().unique()"
   ]
  },
  {
   "cell_type": "markdown",
   "metadata": {},
   "source": [
    "We can see that we have missing values in form of \"?\" in the native-country variable. Let us check how many cases these apply to:"
   ]
  },
  {
   "cell_type": "code",
   "execution_count": 33,
   "metadata": {},
   "outputs": [
    {
     "data": {
      "text/plain": [
       "United-States                 27491\n",
       "Mexico                          610\n",
       "?                               556\n",
       "Philippines                     187\n",
       "Germany                         128\n",
       "Puerto-Rico                     109\n",
       "Canada                          107\n",
       "El-Salvador                     100\n",
       "India                           100\n",
       "Cuba                             92\n",
       "England                          86\n",
       "Jamaica                          80\n",
       "South                            71\n",
       "China                            68\n",
       "Italy                            68\n",
       "Dominican-Republic               67\n",
       "Vietnam                          64\n",
       "Guatemala                        63\n",
       "Japan                            59\n",
       "Columbia                         56\n",
       "Poland                           56\n",
       "Iran                             42\n",
       "Haiti                            42\n",
       "Taiwan                           42\n",
       "Portugal                         34\n",
       "Nicaragua                        33\n",
       "Peru                             30\n",
       "Greece                           29\n",
       "Ecuador                          27\n",
       "France                           27\n",
       "Ireland                          24\n",
       "Hong                             19\n",
       "Cambodia                         18\n",
       "Trinadad&Tobago                  18\n",
       "Laos                             17\n",
       "Thailand                         17\n",
       "Yugoslavia                       16\n",
       "Outlying-US(Guam-USVI-etc)       14\n",
       "Hungary                          13\n",
       "Honduras                         12\n",
       "Scotland                         11\n",
       "Holand-Netherlands                1\n",
       "Name: native-country, dtype: int64"
      ]
     },
     "execution_count": 33,
     "metadata": {},
     "output_type": "execute_result"
    }
   ],
   "source": [
    "data_v002[\"native-country\"].value_counts()"
   ]
  },
  {
   "cell_type": "markdown",
   "metadata": {},
   "source": [
    "We can observe two findings from this result. Firstly, we have 556 cases for which no information on the country of origin is available in the dataset. Secondly, United States citizens are heavily overrepresented in the data, in fact so much so, that even if we decided to only create two categories (US Citizen vs. Not US Citizen), our minority category would only make up ca. 10% of the sample. Moreover, summarizing the multitude of other countries in the dataset under just one category called \"Other Countries\" would not at all reflect the differences between them, e.g. from a cultural perspective. This would make any findings hard to interpret. Consequently, we choose to not investigate the effect of nationality on income given the dataset at hand.\n",
    "\n",
    "This leads us to the decision to drop the <b>native-country</b> variable from our dataset and continue without it. Moreover, due to this decision we can keep the 556 cases for which no information on the country of origin is available:"
   ]
  },
  {
   "cell_type": "code",
   "execution_count": 34,
   "metadata": {},
   "outputs": [],
   "source": [
    "data_v003 = data_v002.drop(\"native-country\", axis=1)"
   ]
  },
  {
   "cell_type": "markdown",
   "metadata": {},
   "source": [
    "<u><p style=\"font-size:16px\">5.3.9. Identifying Missing Values in <b>income</b></p></u>"
   ]
  },
  {
   "cell_type": "markdown",
   "metadata": {},
   "source": [
    "Last but not least, we will be checking for missing values in our dependent variable <b>income</b>:"
   ]
  },
  {
   "cell_type": "code",
   "execution_count": 35,
   "metadata": {},
   "outputs": [
    {
     "data": {
      "text/plain": [
       "array(['<=50K', '>50K'], dtype=object)"
      ]
     },
     "execution_count": 35,
     "metadata": {},
     "output_type": "execute_result"
    }
   ],
   "source": [
    "np.sort(data_v003[\"income\"].unique())"
   ]
  },
  {
   "cell_type": "code",
   "execution_count": 36,
   "metadata": {
    "scrolled": false
   },
   "outputs": [
    {
     "data": {
      "text/plain": [
       "array([False])"
      ]
     },
     "execution_count": 36,
     "metadata": {},
     "output_type": "execute_result"
    }
   ],
   "source": [
    "data_v003[\"income\"].isnull().unique()"
   ]
  },
  {
   "cell_type": "markdown",
   "metadata": {},
   "source": [
    "We can confirm that no missing values are present in our income variable as well. Therefore, we can move on to our categorization:"
   ]
  },
  {
   "cell_type": "markdown",
   "metadata": {},
   "source": [
    "<u><p style=\"font-size:18px\">5.4. Categorizing the Categorical Data</p></u>"
   ]
  },
  {
   "cell_type": "markdown",
   "metadata": {},
   "source": [
    "This section deals with the explanation for categorizing our data and the procedure connected to it."
   ]
  },
  {
   "cell_type": "markdown",
   "metadata": {},
   "source": [
    "<u><p style=\"font-size:16px\">5.4.1. Explaining the Categories</p></u>"
   ]
  },
  {
   "cell_type": "markdown",
   "metadata": {},
   "source": [
    "In order to better visualize the decisions for our categorization, we will take another short look at the summary table for our latest dataset:"
   ]
  },
  {
   "cell_type": "code",
   "execution_count": 37,
   "metadata": {},
   "outputs": [
    {
     "data": {
      "text/html": [
       "<div>\n",
       "<style scoped>\n",
       "    .dataframe tbody tr th:only-of-type {\n",
       "        vertical-align: middle;\n",
       "    }\n",
       "\n",
       "    .dataframe tbody tr th {\n",
       "        vertical-align: top;\n",
       "    }\n",
       "\n",
       "    .dataframe thead th {\n",
       "        text-align: right;\n",
       "    }\n",
       "</style>\n",
       "<table border=\"1\" class=\"dataframe\">\n",
       "  <thead>\n",
       "    <tr style=\"text-align: right;\">\n",
       "      <th></th>\n",
       "      <th>age</th>\n",
       "      <th>workclass</th>\n",
       "      <th>education</th>\n",
       "      <th>marital-status</th>\n",
       "      <th>occupation</th>\n",
       "      <th>race</th>\n",
       "      <th>sex</th>\n",
       "      <th>hours-per-week</th>\n",
       "      <th>income</th>\n",
       "    </tr>\n",
       "  </thead>\n",
       "  <tbody>\n",
       "    <tr>\n",
       "      <th>count</th>\n",
       "      <td>30704.000000</td>\n",
       "      <td>30704</td>\n",
       "      <td>30704</td>\n",
       "      <td>30704</td>\n",
       "      <td>30704</td>\n",
       "      <td>30704</td>\n",
       "      <td>30704</td>\n",
       "      <td>30704.000000</td>\n",
       "      <td>30704</td>\n",
       "    </tr>\n",
       "    <tr>\n",
       "      <th>unique</th>\n",
       "      <td>NaN</td>\n",
       "      <td>6</td>\n",
       "      <td>16</td>\n",
       "      <td>7</td>\n",
       "      <td>14</td>\n",
       "      <td>5</td>\n",
       "      <td>2</td>\n",
       "      <td>NaN</td>\n",
       "      <td>2</td>\n",
       "    </tr>\n",
       "    <tr>\n",
       "      <th>top</th>\n",
       "      <td>NaN</td>\n",
       "      <td>Private</td>\n",
       "      <td>HS-grad</td>\n",
       "      <td>Married-civ-spouse</td>\n",
       "      <td>Prof-specialty</td>\n",
       "      <td>White</td>\n",
       "      <td>Male</td>\n",
       "      <td>NaN</td>\n",
       "      <td>&lt;=50K</td>\n",
       "    </tr>\n",
       "    <tr>\n",
       "      <th>freq</th>\n",
       "      <td>NaN</td>\n",
       "      <td>22696</td>\n",
       "      <td>9959</td>\n",
       "      <td>14331</td>\n",
       "      <td>4140</td>\n",
       "      <td>26289</td>\n",
       "      <td>20779</td>\n",
       "      <td>NaN</td>\n",
       "      <td>23054</td>\n",
       "    </tr>\n",
       "    <tr>\n",
       "      <th>mean</th>\n",
       "      <td>38.439324</td>\n",
       "      <td>NaN</td>\n",
       "      <td>NaN</td>\n",
       "      <td>NaN</td>\n",
       "      <td>NaN</td>\n",
       "      <td>NaN</td>\n",
       "      <td>NaN</td>\n",
       "      <td>40.953068</td>\n",
       "      <td>NaN</td>\n",
       "    </tr>\n",
       "    <tr>\n",
       "      <th>std</th>\n",
       "      <td>13.112531</td>\n",
       "      <td>NaN</td>\n",
       "      <td>NaN</td>\n",
       "      <td>NaN</td>\n",
       "      <td>NaN</td>\n",
       "      <td>NaN</td>\n",
       "      <td>NaN</td>\n",
       "      <td>11.981501</td>\n",
       "      <td>NaN</td>\n",
       "    </tr>\n",
       "    <tr>\n",
       "      <th>min</th>\n",
       "      <td>17.000000</td>\n",
       "      <td>NaN</td>\n",
       "      <td>NaN</td>\n",
       "      <td>NaN</td>\n",
       "      <td>NaN</td>\n",
       "      <td>NaN</td>\n",
       "      <td>NaN</td>\n",
       "      <td>1.000000</td>\n",
       "      <td>NaN</td>\n",
       "    </tr>\n",
       "    <tr>\n",
       "      <th>25%</th>\n",
       "      <td>28.000000</td>\n",
       "      <td>NaN</td>\n",
       "      <td>NaN</td>\n",
       "      <td>NaN</td>\n",
       "      <td>NaN</td>\n",
       "      <td>NaN</td>\n",
       "      <td>NaN</td>\n",
       "      <td>40.000000</td>\n",
       "      <td>NaN</td>\n",
       "    </tr>\n",
       "    <tr>\n",
       "      <th>50%</th>\n",
       "      <td>37.000000</td>\n",
       "      <td>NaN</td>\n",
       "      <td>NaN</td>\n",
       "      <td>NaN</td>\n",
       "      <td>NaN</td>\n",
       "      <td>NaN</td>\n",
       "      <td>NaN</td>\n",
       "      <td>40.000000</td>\n",
       "      <td>NaN</td>\n",
       "    </tr>\n",
       "    <tr>\n",
       "      <th>75%</th>\n",
       "      <td>47.000000</td>\n",
       "      <td>NaN</td>\n",
       "      <td>NaN</td>\n",
       "      <td>NaN</td>\n",
       "      <td>NaN</td>\n",
       "      <td>NaN</td>\n",
       "      <td>NaN</td>\n",
       "      <td>45.000000</td>\n",
       "      <td>NaN</td>\n",
       "    </tr>\n",
       "    <tr>\n",
       "      <th>max</th>\n",
       "      <td>90.000000</td>\n",
       "      <td>NaN</td>\n",
       "      <td>NaN</td>\n",
       "      <td>NaN</td>\n",
       "      <td>NaN</td>\n",
       "      <td>NaN</td>\n",
       "      <td>NaN</td>\n",
       "      <td>99.000000</td>\n",
       "      <td>NaN</td>\n",
       "    </tr>\n",
       "  </tbody>\n",
       "</table>\n",
       "</div>"
      ],
      "text/plain": [
       "                 age workclass education      marital-status      occupation  \\\n",
       "count   30704.000000     30704     30704               30704           30704   \n",
       "unique           NaN         6        16                   7              14   \n",
       "top              NaN   Private   HS-grad  Married-civ-spouse  Prof-specialty   \n",
       "freq             NaN     22696      9959               14331            4140   \n",
       "mean       38.439324       NaN       NaN                 NaN             NaN   \n",
       "std        13.112531       NaN       NaN                 NaN             NaN   \n",
       "min        17.000000       NaN       NaN                 NaN             NaN   \n",
       "25%        28.000000       NaN       NaN                 NaN             NaN   \n",
       "50%        37.000000       NaN       NaN                 NaN             NaN   \n",
       "75%        47.000000       NaN       NaN                 NaN             NaN   \n",
       "max        90.000000       NaN       NaN                 NaN             NaN   \n",
       "\n",
       "         race    sex  hours-per-week income  \n",
       "count   30704  30704    30704.000000  30704  \n",
       "unique      5      2             NaN      2  \n",
       "top     White   Male             NaN  <=50K  \n",
       "freq    26289  20779             NaN  23054  \n",
       "mean      NaN    NaN       40.953068    NaN  \n",
       "std       NaN    NaN       11.981501    NaN  \n",
       "min       NaN    NaN        1.000000    NaN  \n",
       "25%       NaN    NaN       40.000000    NaN  \n",
       "50%       NaN    NaN       40.000000    NaN  \n",
       "75%       NaN    NaN       45.000000    NaN  \n",
       "max       NaN    NaN       99.000000    NaN  "
      ]
     },
     "execution_count": 37,
     "metadata": {},
     "output_type": "execute_result"
    }
   ],
   "source": [
    "data_v003.describe(include=\"all\")"
   ]
  },
  {
   "cell_type": "markdown",
   "metadata": {},
   "source": [
    "We can see that every variable apart from <b>sex</b> and <b>income</b> has at least 5 distinct categories. Considering that the best way to represent categorical data is by means of dummy variables, our dataset would grow singnificantly if we were to create a dummy variable for each category there is. This is why we should consider to simplify variables by categorizing them.  For instance, when looking at education, persons with a degree after 10, 11 or 12 years of school are probably not so different from each other as to justify an own dummy for each of them. Instead, we can create categories such as \"with higher education\" and \"without higher education\", thereby reducing our need for dummies and making <b>education</b> much easier to work with. The distinction between having or not having a higher education also appears meaningful when looking at income.\n",
    "\n",
    "In this analysis, we will also create age intervals for the <b>age</b> variable as these can reflect the different stages of life a person is in and the financial means connected to it, which typically vary throught one's lifetime. Moreover, we will create intervals for the <b>hours-per-week</b> column.\n",
    "\n",
    "In the following, there will be given a description about the categories that we plan to create for each variable:\n",
    "\n",
    "<b>\"Age\"</b> will be coded into 6 groups reflecting different stages in life:\n",
    "\n",
    "<b>\"17-24\"</b><br/>\n",
    "<b>\"25-34\"</b><br/>\n",
    "<b>\"35-44\"</b><br/>\n",
    "<b>\"45-54\"</b><br/>\n",
    "<b>\"55-64\"</b><br/>\n",
    "<b>\"65+\"</b><br/><br/>\n",
    "\n",
    "<b>\"Workclass\":</b> will be coded into public and private jobs, with \"Private\", \"Self-emp-not-inc\" and \"Self-emp-inc\" to be coded as private jobs and all government positions as public jobs. The coding will be: \n",
    "\n",
    "<b>\"0\"</b> for <b>\"Public\"</b><br/>\n",
    "<b>\"1\"</b> for <b>\"Private\"</b><br/><br/>\n",
    "    \n",
    "<b>\"Education\":</b> will be categorized into individuals with and without a higher education. That is, individuals with a higher education have at least some degree of college education or higher. The coding will be:\n",
    "\n",
    "<b>\"0\"</b> for <b>\"No higher education\"</b><br/>\n",
    "<b>\"1\"</b> for <b>\"Higher education\"</b><br/><br/>\n",
    "\n",
    "<b>\"Marital-status\":</b> will be coded into persons who are currently in a partnership where they are living with their partner (i.e. Married-AF-spouse and Married-civ-spouse) and those who are not (including due to separation and window(er)s). The coding will be:\n",
    "\n",
    "<b>\"0\"</b> for <b>\"Not in a relationship\"</b><br/>\n",
    "<b>\"1\"</b> for <b>\"In a relationship\"</b><br/><br/>\n",
    "\n",
    "<b>\"Occupation\":</b> will be coded into jobs that characterized by manual labour (blue collar) and office jobs that do not require manual labour (white collar). Under this categorization, \"Craft-repair\", \"Farming-fishing\", \"Handlers-cleaners\", \"Other-service\", \"Priv-house-serv\", \"Protective-serv\" and \"Transport-moving\" were defined as \"blue collar\" jobs. \"Armed Forces\" were not added to this category as the title is rather vague but most persons employed by the Armed Forces can be expected to earn a higher salary than most privately employed persons. Therefore, they were added to the \"white collar\" category. The coding will be: \n",
    "\n",
    "<b>\"0\"</b> for <b>\"Blue Collar\"</b><br/>\n",
    "<b>\"1\"</b> for <b>\"White Collar\"</b><br/><br/>\n",
    "\n",
    "<b>\"Race\":</b> will be categorized as \"white\" and \"non-white\" individuals. The coding will be: \n",
    "\n",
    "<b>\"0\"</b> for <b>\"Non-white\"</b><br/>\n",
    "<b>\"1\"</b> for <b>\"White\"</b><br/><br/>\n",
    "\n",
    "<b>\"Sex\":</b> will be coded as:\n",
    "\n",
    "<b>\"0\"</b> for <b>\"Female\"</b><br/>\n",
    "<b>\"1\"</b> for <b>\"Male\"</b><br/><br/>\n",
    "\n",
    "<b>\"Hours-per-week\":</b> will be coded as follows:\n",
    "\n",
    "Below 10 hours per week -> <b>Occassional Work</b><br/>\n",
    "10 to 30 hours per week -> <b>Part-time Work</b><br/>\n",
    "31 to 45 hours per week -> <b>Full-time Work</b><br/>\n",
    "More than 45 hours per week -> <b>Overworkers</b><br/><br/>\n",
    "\n",
    "Lastly, <b>\"Income\"</b>(our dependent variable) which describes whether or not an individual earn more than 50.000 dollars a year will be coded as:\n",
    "\n",
    "<b>\"0\"</b> for <b>Less than or equal to 50.000 Dollars</b><br/> \n",
    "<b>\"1\"</b> for <b>More than 50.000 Dollars</b>"
   ]
  },
  {
   "cell_type": "markdown",
   "metadata": {},
   "source": [
    "<u><p style=\"font-size:16px\">5.4.2. Creating the Categories</p></u>"
   ]
  },
  {
   "cell_type": "markdown",
   "metadata": {},
   "source": [
    "We will now create the categories according to the outlined principles. The newly categorized variables will be added as new columns to the dataframe. The <b>Age Groups</b> variable will later on be transformed into 5 dummy variables via Panda's <u>get_dummy</u> function."
   ]
  },
  {
   "cell_type": "markdown",
   "metadata": {},
   "source": [
    "<u><p style=\"font-size:14px\">5.4.2.1. Creating <b>Age Groups</b></p></u>"
   ]
  },
  {
   "cell_type": "markdown",
   "metadata": {},
   "source": [
    "To create the <b>Age Groups</b> column, we will be using Panda's <em>cut</em> functionality to define age bins that will place an individual in its respective bin according to the age intervals we defined earlier. The bins are excluding the first value defined for a bin an include the last. By only giving the last accepted values for each age interval (we know our lowest age is 17 and our highest age is 90), and pre-defining the interval labels, we can make the following work:"
   ]
  },
  {
   "cell_type": "code",
   "execution_count": 38,
   "metadata": {},
   "outputs": [
    {
     "data": {
      "text/html": [
       "<div>\n",
       "<style scoped>\n",
       "    .dataframe tbody tr th:only-of-type {\n",
       "        vertical-align: middle;\n",
       "    }\n",
       "\n",
       "    .dataframe tbody tr th {\n",
       "        vertical-align: top;\n",
       "    }\n",
       "\n",
       "    .dataframe thead th {\n",
       "        text-align: right;\n",
       "    }\n",
       "</style>\n",
       "<table border=\"1\" class=\"dataframe\">\n",
       "  <thead>\n",
       "    <tr style=\"text-align: right;\">\n",
       "      <th></th>\n",
       "      <th>0</th>\n",
       "    </tr>\n",
       "  </thead>\n",
       "  <tbody>\n",
       "    <tr>\n",
       "      <th>0</th>\n",
       "      <td>35-44</td>\n",
       "    </tr>\n",
       "    <tr>\n",
       "      <th>1</th>\n",
       "      <td>45-54</td>\n",
       "    </tr>\n",
       "    <tr>\n",
       "      <th>2</th>\n",
       "      <td>25-34</td>\n",
       "    </tr>\n",
       "    <tr>\n",
       "      <th>3</th>\n",
       "      <td>17-24</td>\n",
       "    </tr>\n",
       "    <tr>\n",
       "      <th>4</th>\n",
       "      <td>55-64</td>\n",
       "    </tr>\n",
       "    <tr>\n",
       "      <th>5</th>\n",
       "      <td>65+</td>\n",
       "    </tr>\n",
       "  </tbody>\n",
       "</table>\n",
       "</div>"
      ],
      "text/plain": [
       "       0\n",
       "0  35-44\n",
       "1  45-54\n",
       "2  25-34\n",
       "3  17-24\n",
       "4  55-64\n",
       "5    65+"
      ]
     },
     "execution_count": 38,
     "metadata": {},
     "output_type": "execute_result"
    }
   ],
   "source": [
    "bins_age = [16, 24, 34, 44, 54, 64, 90]\n",
    "labels_age = [\"17-24\", \"25-34\", \"35-44\", \"45-54\", \"55-64\", \"65+\"]\n",
    "\n",
    "data_v003[\"Age_Groups\"] = pd.cut(data_v003[\"age\"], bins=bins_age, labels=labels_age)\n",
    "pd.DataFrame(data_v003[\"Age_Groups\"].unique())"
   ]
  },
  {
   "cell_type": "markdown",
   "metadata": {},
   "source": [
    "We can now go ahead and categorize <b>workclass</b>:"
   ]
  },
  {
   "cell_type": "markdown",
   "metadata": {},
   "source": [
    "<u><p style=\"font-size:14px\">5.4.2.2. Creating <b>Workclass</b> coded</p></u>"
   ]
  },
  {
   "cell_type": "markdown",
   "metadata": {},
   "source": [
    "We can use Panda's <u>replace</u> functionality to create our new categories. As the new categories will be \"Private\" and \"Public\", we do not need to change the already existing \"Private\" category:"
   ]
  },
  {
   "cell_type": "code",
   "execution_count": 39,
   "metadata": {},
   "outputs": [
    {
     "data": {
      "text/html": [
       "<div>\n",
       "<style scoped>\n",
       "    .dataframe tbody tr th:only-of-type {\n",
       "        vertical-align: middle;\n",
       "    }\n",
       "\n",
       "    .dataframe tbody tr th {\n",
       "        vertical-align: top;\n",
       "    }\n",
       "\n",
       "    .dataframe thead th {\n",
       "        text-align: right;\n",
       "    }\n",
       "</style>\n",
       "<table border=\"1\" class=\"dataframe\">\n",
       "  <thead>\n",
       "    <tr style=\"text-align: right;\">\n",
       "      <th></th>\n",
       "      <th>0</th>\n",
       "    </tr>\n",
       "  </thead>\n",
       "  <tbody>\n",
       "    <tr>\n",
       "      <th>0</th>\n",
       "      <td>Public</td>\n",
       "    </tr>\n",
       "    <tr>\n",
       "      <th>1</th>\n",
       "      <td>Private</td>\n",
       "    </tr>\n",
       "  </tbody>\n",
       "</table>\n",
       "</div>"
      ],
      "text/plain": [
       "         0\n",
       "0   Public\n",
       "1  Private"
      ]
     },
     "execution_count": 39,
     "metadata": {},
     "output_type": "execute_result"
    }
   ],
   "source": [
    "data_v003[\"Workclass_c\"] = data_v003[\"workclass\"]\n",
    "\n",
    "data_v003[\"Workclass_c\"] = data_v003[\"Workclass_c\"].replace([\"Self-emp-not-inc\", \"Self-emp-inc\"], \"Private\")\n",
    "\n",
    "data_v003[\"Workclass_c\"] = data_v003[\"Workclass_c\"].replace([\"Local-gov\", \"State-gov\", \"Federal-gov\"], \"Public\")\n",
    "\n",
    "pd.DataFrame(data_v003[\"Workclass_c\"].unique())"
   ]
  },
  {
   "cell_type": "markdown",
   "metadata": {},
   "source": [
    "We can continue with education:"
   ]
  },
  {
   "cell_type": "markdown",
   "metadata": {},
   "source": [
    "<u><p style=\"font-size:14px\">5.4.2.3. Creating <b>Education</b> coded</p></u>"
   ]
  },
  {
   "cell_type": "markdown",
   "metadata": {},
   "source": [
    "We will use the same procedure as for <b>workclass</b>"
   ]
  },
  {
   "cell_type": "code",
   "execution_count": 40,
   "metadata": {},
   "outputs": [
    {
     "data": {
      "text/html": [
       "<div>\n",
       "<style scoped>\n",
       "    .dataframe tbody tr th:only-of-type {\n",
       "        vertical-align: middle;\n",
       "    }\n",
       "\n",
       "    .dataframe tbody tr th {\n",
       "        vertical-align: top;\n",
       "    }\n",
       "\n",
       "    .dataframe thead th {\n",
       "        text-align: right;\n",
       "    }\n",
       "</style>\n",
       "<table border=\"1\" class=\"dataframe\">\n",
       "  <thead>\n",
       "    <tr style=\"text-align: right;\">\n",
       "      <th></th>\n",
       "      <th>0</th>\n",
       "    </tr>\n",
       "  </thead>\n",
       "  <tbody>\n",
       "    <tr>\n",
       "      <th>0</th>\n",
       "      <td>Higher Education</td>\n",
       "    </tr>\n",
       "    <tr>\n",
       "      <th>1</th>\n",
       "      <td>No Higher Education</td>\n",
       "    </tr>\n",
       "  </tbody>\n",
       "</table>\n",
       "</div>"
      ],
      "text/plain": [
       "                     0\n",
       "0     Higher Education\n",
       "1  No Higher Education"
      ]
     },
     "execution_count": 40,
     "metadata": {},
     "output_type": "execute_result"
    }
   ],
   "source": [
    "data_v003[\"Education_c\"] = data_v003[\"education\"]\n",
    "\n",
    "data_v003[\"Education_c\"] = data_v003[\"Education_c\"].replace(\n",
    "    [\"Preschool\", \"1st-4th\", \"5th-6th\", \"7th-8th\", \"9th\", \"10th\", \"11th\", \"12th\", \"HS-grad\"], \"No Higher Education\")\n",
    "\n",
    "data_v003[\"Education_c\"] = data_v003[\"Education_c\"].replace(\n",
    "    [\"Some-college\", \"Bachelors\", \"Assoc-voc\", \"Assoc-acdm\", \"Masters\", \"Prof-school\", \"Doctorate\"], \"Higher Education\")\n",
    "\n",
    "pd.DataFrame(data_v003[\"Education_c\"].unique())"
   ]
  },
  {
   "cell_type": "markdown",
   "metadata": {},
   "source": [
    "Continuing with marital-status:"
   ]
  },
  {
   "cell_type": "markdown",
   "metadata": {},
   "source": [
    "<u><p style=\"font-size:14px\">5.4.2.4. Creating <b>Status</b> coded</p></u>"
   ]
  },
  {
   "cell_type": "markdown",
   "metadata": {},
   "source": [
    "We will use the same well-known procedure:"
   ]
  },
  {
   "cell_type": "code",
   "execution_count": 41,
   "metadata": {
    "scrolled": false
   },
   "outputs": [
    {
     "data": {
      "text/html": [
       "<div>\n",
       "<style scoped>\n",
       "    .dataframe tbody tr th:only-of-type {\n",
       "        vertical-align: middle;\n",
       "    }\n",
       "\n",
       "    .dataframe tbody tr th {\n",
       "        vertical-align: top;\n",
       "    }\n",
       "\n",
       "    .dataframe thead th {\n",
       "        text-align: right;\n",
       "    }\n",
       "</style>\n",
       "<table border=\"1\" class=\"dataframe\">\n",
       "  <thead>\n",
       "    <tr style=\"text-align: right;\">\n",
       "      <th></th>\n",
       "      <th>0</th>\n",
       "    </tr>\n",
       "  </thead>\n",
       "  <tbody>\n",
       "    <tr>\n",
       "      <th>0</th>\n",
       "      <td>Alone</td>\n",
       "    </tr>\n",
       "    <tr>\n",
       "      <th>1</th>\n",
       "      <td>With Partner</td>\n",
       "    </tr>\n",
       "  </tbody>\n",
       "</table>\n",
       "</div>"
      ],
      "text/plain": [
       "              0\n",
       "0         Alone\n",
       "1  With Partner"
      ]
     },
     "execution_count": 41,
     "metadata": {},
     "output_type": "execute_result"
    }
   ],
   "source": [
    "data_v003[\"Status_c\"] = data_v003[\"marital-status\"]\n",
    "\n",
    "data_v003[\"Status_c\"] = data_v003[\"Status_c\"].replace(\n",
    "    [\"Divorced\", \"Married-spouse-absent\", \"Separated\", \"Widowed\", \"Never-married\"], \"Alone\")\n",
    "\n",
    "data_v003[\"Status_c\"] = data_v003[\"Status_c\"].replace(\n",
    "    [\"Married-AF-spouse\", \"Married-civ-spouse\"], \"With Partner\")\n",
    "\n",
    "pd.DataFrame(data_v003[\"Status_c\"].unique())"
   ]
  },
  {
   "cell_type": "markdown",
   "metadata": {},
   "source": [
    "Heading over to our second-last variable to be coded: <b>occupation</b>"
   ]
  },
  {
   "cell_type": "markdown",
   "metadata": {},
   "source": [
    "<u><p style=\"font-size:14px\">5.4.2.5. Creating <b>Occupation</b> coded</p></u>"
   ]
  },
  {
   "cell_type": "markdown",
   "metadata": {},
   "source": [
    "Once more, we will apply the <em>replace</em> functionality:"
   ]
  },
  {
   "cell_type": "code",
   "execution_count": 42,
   "metadata": {
    "scrolled": true
   },
   "outputs": [
    {
     "data": {
      "text/html": [
       "<div>\n",
       "<style scoped>\n",
       "    .dataframe tbody tr th:only-of-type {\n",
       "        vertical-align: middle;\n",
       "    }\n",
       "\n",
       "    .dataframe tbody tr th {\n",
       "        vertical-align: top;\n",
       "    }\n",
       "\n",
       "    .dataframe thead th {\n",
       "        text-align: right;\n",
       "    }\n",
       "</style>\n",
       "<table border=\"1\" class=\"dataframe\">\n",
       "  <thead>\n",
       "    <tr style=\"text-align: right;\">\n",
       "      <th></th>\n",
       "      <th>0</th>\n",
       "    </tr>\n",
       "  </thead>\n",
       "  <tbody>\n",
       "    <tr>\n",
       "      <th>0</th>\n",
       "      <td>White Collar</td>\n",
       "    </tr>\n",
       "    <tr>\n",
       "      <th>1</th>\n",
       "      <td>Blue Collar</td>\n",
       "    </tr>\n",
       "  </tbody>\n",
       "</table>\n",
       "</div>"
      ],
      "text/plain": [
       "              0\n",
       "0  White Collar\n",
       "1   Blue Collar"
      ]
     },
     "execution_count": 42,
     "metadata": {},
     "output_type": "execute_result"
    }
   ],
   "source": [
    "data_v003[\"Occupation_c\"] = data_v003[\"occupation\"]\n",
    "\n",
    "data_v003[\"Occupation_c\"] = data_v003[\"Occupation_c\"].replace(\n",
    "    [\"Adm-clerical\", \"Armed-Forces\", \"Exec-managerial\", \"Prof-specialty\", \"Sales\", \"Tech-support\"], \"White Collar\")\n",
    "\n",
    "data_v003[\"Occupation_c\"] = data_v003[\"Occupation_c\"].replace(\n",
    "    [\"Craft-repair\", \"Farming-fishing\", \"Handlers-cleaners\", \"Machine-op-inspct\", \"Other-service\", \n",
    "     \"Priv-house-serv\", \"Protective-serv\", \"Transport-moving\"], \"Blue Collar\")\n",
    "\n",
    "pd.DataFrame(data_v003[\"Occupation_c\"].unique())"
   ]
  },
  {
   "cell_type": "markdown",
   "metadata": {},
   "source": [
    "Next up is <b>race</b>:"
   ]
  },
  {
   "cell_type": "markdown",
   "metadata": {},
   "source": [
    "<u><p style=\"font-size:14px\">5.4.2.6. Creating <b>race</b> coded</p></u>"
   ]
  },
  {
   "cell_type": "markdown",
   "metadata": {},
   "source": [
    "We will use the same well-known procedure. As our new categories will be \"White\" and \"Non-White\", we do not need to replace the already existing \"White\" category:"
   ]
  },
  {
   "cell_type": "code",
   "execution_count": 43,
   "metadata": {
    "scrolled": false
   },
   "outputs": [
    {
     "data": {
      "text/html": [
       "<div>\n",
       "<style scoped>\n",
       "    .dataframe tbody tr th:only-of-type {\n",
       "        vertical-align: middle;\n",
       "    }\n",
       "\n",
       "    .dataframe tbody tr th {\n",
       "        vertical-align: top;\n",
       "    }\n",
       "\n",
       "    .dataframe thead th {\n",
       "        text-align: right;\n",
       "    }\n",
       "</style>\n",
       "<table border=\"1\" class=\"dataframe\">\n",
       "  <thead>\n",
       "    <tr style=\"text-align: right;\">\n",
       "      <th></th>\n",
       "      <th>0</th>\n",
       "    </tr>\n",
       "  </thead>\n",
       "  <tbody>\n",
       "    <tr>\n",
       "      <th>0</th>\n",
       "      <td>White</td>\n",
       "    </tr>\n",
       "    <tr>\n",
       "      <th>1</th>\n",
       "      <td>Non-White</td>\n",
       "    </tr>\n",
       "  </tbody>\n",
       "</table>\n",
       "</div>"
      ],
      "text/plain": [
       "           0\n",
       "0      White\n",
       "1  Non-White"
      ]
     },
     "execution_count": 43,
     "metadata": {},
     "output_type": "execute_result"
    }
   ],
   "source": [
    "data_v003[\"Race_c\"] = data_v003[\"race\"]\n",
    "\n",
    "data_v003[\"Race_c\"] = data_v003[\"Race_c\"].replace(\n",
    "    [\"Amer-Indian-Eskimo\", \"Asian-Pac-Islander\", \"Black\", \"Other\"], \"Non-White\")\n",
    "\n",
    "pd.DataFrame(data_v003[\"Race_c\"].unique())"
   ]
  },
  {
   "cell_type": "markdown",
   "metadata": {},
   "source": [
    "Finally, we will re-code our <b>hours-per-week</b> variable:"
   ]
  },
  {
   "cell_type": "markdown",
   "metadata": {},
   "source": [
    "<u><p style=\"font-size:14px\">5.4.2.7. Creating <b>hours-per-week</b> coded</p></u>"
   ]
  },
  {
   "cell_type": "markdown",
   "metadata": {},
   "source": [
    "For <b>hours-per-week</b>, we will use the same procedure we used earlier for creating our age groups (using buckets). We know that the lowest workload in the data is 1 hours and the highest is 99 hours."
   ]
  },
  {
   "cell_type": "code",
   "execution_count": 44,
   "metadata": {},
   "outputs": [
    {
     "data": {
      "text/html": [
       "<div>\n",
       "<style scoped>\n",
       "    .dataframe tbody tr th:only-of-type {\n",
       "        vertical-align: middle;\n",
       "    }\n",
       "\n",
       "    .dataframe tbody tr th {\n",
       "        vertical-align: top;\n",
       "    }\n",
       "\n",
       "    .dataframe thead th {\n",
       "        text-align: right;\n",
       "    }\n",
       "</style>\n",
       "<table border=\"1\" class=\"dataframe\">\n",
       "  <thead>\n",
       "    <tr style=\"text-align: right;\">\n",
       "      <th></th>\n",
       "      <th>0</th>\n",
       "    </tr>\n",
       "  </thead>\n",
       "  <tbody>\n",
       "    <tr>\n",
       "      <th>0</th>\n",
       "      <td>Full-time Work</td>\n",
       "    </tr>\n",
       "    <tr>\n",
       "      <th>1</th>\n",
       "      <td>Part-time Work</td>\n",
       "    </tr>\n",
       "    <tr>\n",
       "      <th>2</th>\n",
       "      <td>Overworkers</td>\n",
       "    </tr>\n",
       "    <tr>\n",
       "      <th>3</th>\n",
       "      <td>Occassional Work</td>\n",
       "    </tr>\n",
       "  </tbody>\n",
       "</table>\n",
       "</div>"
      ],
      "text/plain": [
       "                  0\n",
       "0    Full-time Work\n",
       "1    Part-time Work\n",
       "2       Overworkers\n",
       "3  Occassional Work"
      ]
     },
     "execution_count": 44,
     "metadata": {},
     "output_type": "execute_result"
    }
   ],
   "source": [
    "bins_work = [0, 9, 30, 45, 99]\n",
    "labels_work = [\"Occassional Work\", \"Part-time Work\", \"Full-time Work\", \"Overworkers\"]\n",
    "\n",
    "data_v003[\"Hours-Per-Week_c\"] = pd.cut(data_v003[\"hours-per-week\"], bins=bins_work, labels=labels_work)\n",
    "pd.DataFrame(data_v003[\"Hours-Per-Week_c\"].unique())"
   ]
  },
  {
   "cell_type": "markdown",
   "metadata": {},
   "source": [
    "We have now concluded our recoding as there is no need to recode \"sex\" and \"income\", which already exist as dichotome variables. "
   ]
  },
  {
   "cell_type": "markdown",
   "metadata": {},
   "source": [
    "<u><p style=\"font-size:16px\">5.4.3. Deleting Uncoded Variables and Reordering the Dataset</p></u>"
   ]
  },
  {
   "cell_type": "markdown",
   "metadata": {},
   "source": [
    "To create our new dataset going forward, we can now drop our \"old\" uncoded variables. Moreover, we can re-arrange the columns of our dataset to create a better overview. Lastly, we can capitalize the <b>income</b> and <b>sex</b> variables to create consistency in among the columns names. We will view the head of the resulting new dataset:"
   ]
  },
  {
   "cell_type": "code",
   "execution_count": 45,
   "metadata": {},
   "outputs": [
    {
     "data": {
      "text/html": [
       "<div>\n",
       "<style scoped>\n",
       "    .dataframe tbody tr th:only-of-type {\n",
       "        vertical-align: middle;\n",
       "    }\n",
       "\n",
       "    .dataframe tbody tr th {\n",
       "        vertical-align: top;\n",
       "    }\n",
       "\n",
       "    .dataframe thead th {\n",
       "        text-align: right;\n",
       "    }\n",
       "</style>\n",
       "<table border=\"1\" class=\"dataframe\">\n",
       "  <thead>\n",
       "    <tr style=\"text-align: right;\">\n",
       "      <th></th>\n",
       "      <th>Income</th>\n",
       "      <th>Sex</th>\n",
       "      <th>Age_Groups</th>\n",
       "      <th>Race_c</th>\n",
       "      <th>Education_c</th>\n",
       "      <th>Occupation_c</th>\n",
       "      <th>Workclass_c</th>\n",
       "      <th>Hours-Per-Week_c</th>\n",
       "      <th>Status_c</th>\n",
       "    </tr>\n",
       "  </thead>\n",
       "  <tbody>\n",
       "    <tr>\n",
       "      <th>0</th>\n",
       "      <td>&lt;=50K</td>\n",
       "      <td>Male</td>\n",
       "      <td>35-44</td>\n",
       "      <td>White</td>\n",
       "      <td>Higher Education</td>\n",
       "      <td>White Collar</td>\n",
       "      <td>Public</td>\n",
       "      <td>Full-time Work</td>\n",
       "      <td>Alone</td>\n",
       "    </tr>\n",
       "    <tr>\n",
       "      <th>1</th>\n",
       "      <td>&lt;=50K</td>\n",
       "      <td>Male</td>\n",
       "      <td>45-54</td>\n",
       "      <td>White</td>\n",
       "      <td>Higher Education</td>\n",
       "      <td>White Collar</td>\n",
       "      <td>Private</td>\n",
       "      <td>Part-time Work</td>\n",
       "      <td>With Partner</td>\n",
       "    </tr>\n",
       "    <tr>\n",
       "      <th>2</th>\n",
       "      <td>&lt;=50K</td>\n",
       "      <td>Male</td>\n",
       "      <td>35-44</td>\n",
       "      <td>White</td>\n",
       "      <td>No Higher Education</td>\n",
       "      <td>Blue Collar</td>\n",
       "      <td>Private</td>\n",
       "      <td>Full-time Work</td>\n",
       "      <td>Alone</td>\n",
       "    </tr>\n",
       "    <tr>\n",
       "      <th>3</th>\n",
       "      <td>&lt;=50K</td>\n",
       "      <td>Male</td>\n",
       "      <td>45-54</td>\n",
       "      <td>Non-White</td>\n",
       "      <td>No Higher Education</td>\n",
       "      <td>Blue Collar</td>\n",
       "      <td>Private</td>\n",
       "      <td>Full-time Work</td>\n",
       "      <td>With Partner</td>\n",
       "    </tr>\n",
       "    <tr>\n",
       "      <th>4</th>\n",
       "      <td>&lt;=50K</td>\n",
       "      <td>Female</td>\n",
       "      <td>25-34</td>\n",
       "      <td>Non-White</td>\n",
       "      <td>Higher Education</td>\n",
       "      <td>White Collar</td>\n",
       "      <td>Private</td>\n",
       "      <td>Full-time Work</td>\n",
       "      <td>With Partner</td>\n",
       "    </tr>\n",
       "  </tbody>\n",
       "</table>\n",
       "</div>"
      ],
      "text/plain": [
       "  Income     Sex Age_Groups     Race_c          Education_c  Occupation_c  \\\n",
       "0  <=50K    Male      35-44      White     Higher Education  White Collar   \n",
       "1  <=50K    Male      45-54      White     Higher Education  White Collar   \n",
       "2  <=50K    Male      35-44      White  No Higher Education   Blue Collar   \n",
       "3  <=50K    Male      45-54  Non-White  No Higher Education   Blue Collar   \n",
       "4  <=50K  Female      25-34  Non-White     Higher Education  White Collar   \n",
       "\n",
       "  Workclass_c Hours-Per-Week_c      Status_c  \n",
       "0      Public   Full-time Work         Alone  \n",
       "1     Private   Part-time Work  With Partner  \n",
       "2     Private   Full-time Work         Alone  \n",
       "3     Private   Full-time Work  With Partner  \n",
       "4     Private   Full-time Work  With Partner  "
      ]
     },
     "execution_count": 45,
     "metadata": {},
     "output_type": "execute_result"
    }
   ],
   "source": [
    "data_v004 = data_v003.drop([\"age\",\"workclass\",\"education\",\"marital-status\",\"occupation\",\"race\", \"hours-per-week\"], axis=1)\n",
    "\n",
    "column_names = [\"income\", \"sex\", \"Age_Groups\", \"Race_c\", \"Education_c\", \n",
    "                \"Occupation_c\", \"Workclass_c\", \"Hours-Per-Week_c\", \"Status_c\"]\n",
    "\n",
    "data_v004 = data_v004.reindex(columns=column_names)\n",
    "\n",
    "data_v004 = data_v004.rename(columns={\"sex\": \"Sex\", \"income\": \"Income\"})\n",
    "\n",
    "data_v004.head()"
   ]
  },
  {
   "cell_type": "markdown",
   "metadata": {},
   "source": [
    "<u><p style=\"font-size:18px\">5.5. Dichotomizing Variables and Creating Dummies</p></u>"
   ]
  },
  {
   "cell_type": "markdown",
   "metadata": {},
   "source": [
    "We have now reached the point where we can dichotomize our categorical variables, so they can be interpreted by our alogrithms (as 0 and 1). While we already created convenient dichotomous variables for most columns in the previous steps, <b>Age_Groups</b> and <b>Hours-Per-Week_c</b> have more than two categories, which therefore need to be transformed into dummies. We will use Panda's <u>get_dummies</u> function to create dummy variables with the age group \"17-24\" as well as the \"Occasional Work\" (both categories are assumed to earn the least compared to the other groups in their categories) as reference categories:\n",
    "\n",
    "Our variables will be re-coded as follows with \"0\" as reference and \"1\" as comparison category:"
   ]
  },
  {
   "cell_type": "code",
   "execution_count": 46,
   "metadata": {},
   "outputs": [
    {
     "data": {
      "text/html": [
       "<div>\n",
       "<style scoped>\n",
       "    .dataframe tbody tr th:only-of-type {\n",
       "        vertical-align: middle;\n",
       "    }\n",
       "\n",
       "    .dataframe tbody tr th {\n",
       "        vertical-align: top;\n",
       "    }\n",
       "\n",
       "    .dataframe thead th {\n",
       "        text-align: right;\n",
       "    }\n",
       "</style>\n",
       "<table border=\"1\" class=\"dataframe\">\n",
       "  <thead>\n",
       "    <tr style=\"text-align: right;\">\n",
       "      <th></th>\n",
       "      <th>Income</th>\n",
       "      <th>Sex</th>\n",
       "      <th>Age_Groups</th>\n",
       "      <th>Race_c</th>\n",
       "      <th>Education_c</th>\n",
       "      <th>Occupation_c</th>\n",
       "      <th>Workclass_c</th>\n",
       "      <th>Hours-Per-Week_c</th>\n",
       "      <th>Status_c</th>\n",
       "    </tr>\n",
       "  </thead>\n",
       "  <tbody>\n",
       "    <tr>\n",
       "      <th>0</th>\n",
       "      <td>0</td>\n",
       "      <td>1</td>\n",
       "      <td>35-44</td>\n",
       "      <td>1</td>\n",
       "      <td>1</td>\n",
       "      <td>1</td>\n",
       "      <td>1</td>\n",
       "      <td>Full-time Work</td>\n",
       "      <td>0</td>\n",
       "    </tr>\n",
       "    <tr>\n",
       "      <th>1</th>\n",
       "      <td>0</td>\n",
       "      <td>1</td>\n",
       "      <td>45-54</td>\n",
       "      <td>1</td>\n",
       "      <td>1</td>\n",
       "      <td>1</td>\n",
       "      <td>0</td>\n",
       "      <td>Part-time Work</td>\n",
       "      <td>1</td>\n",
       "    </tr>\n",
       "    <tr>\n",
       "      <th>2</th>\n",
       "      <td>0</td>\n",
       "      <td>1</td>\n",
       "      <td>35-44</td>\n",
       "      <td>1</td>\n",
       "      <td>0</td>\n",
       "      <td>0</td>\n",
       "      <td>0</td>\n",
       "      <td>Full-time Work</td>\n",
       "      <td>0</td>\n",
       "    </tr>\n",
       "    <tr>\n",
       "      <th>3</th>\n",
       "      <td>0</td>\n",
       "      <td>1</td>\n",
       "      <td>45-54</td>\n",
       "      <td>0</td>\n",
       "      <td>0</td>\n",
       "      <td>0</td>\n",
       "      <td>0</td>\n",
       "      <td>Full-time Work</td>\n",
       "      <td>1</td>\n",
       "    </tr>\n",
       "    <tr>\n",
       "      <th>4</th>\n",
       "      <td>0</td>\n",
       "      <td>0</td>\n",
       "      <td>25-34</td>\n",
       "      <td>0</td>\n",
       "      <td>1</td>\n",
       "      <td>1</td>\n",
       "      <td>0</td>\n",
       "      <td>Full-time Work</td>\n",
       "      <td>1</td>\n",
       "    </tr>\n",
       "  </tbody>\n",
       "</table>\n",
       "</div>"
      ],
      "text/plain": [
       "   Income  Sex Age_Groups  Race_c  Education_c  Occupation_c  Workclass_c  \\\n",
       "0       0    1      35-44       1            1             1            1   \n",
       "1       0    1      45-54       1            1             1            0   \n",
       "2       0    1      35-44       1            0             0            0   \n",
       "3       0    1      45-54       0            0             0            0   \n",
       "4       0    0      25-34       0            1             1            0   \n",
       "\n",
       "  Hours-Per-Week_c  Status_c  \n",
       "0   Full-time Work         0  \n",
       "1   Part-time Work         1  \n",
       "2   Full-time Work         0  \n",
       "3   Full-time Work         1  \n",
       "4   Full-time Work         1  "
      ]
     },
     "execution_count": 46,
     "metadata": {},
     "output_type": "execute_result"
    }
   ],
   "source": [
    "data_v004[\"Income\"] = data_v004[\"Income\"].replace(\"<=50K\", 0)\n",
    "data_v004[\"Income\"] = data_v004[\"Income\"].replace(\">50K\", 1)\n",
    "\n",
    "data_v004[\"Sex\"] = data_v004[\"Sex\"].replace(\"Female\", 0)\n",
    "data_v004[\"Sex\"] = data_v004[\"Sex\"].replace(\"Male\", 1)\n",
    "\n",
    "data_v004[\"Race_c\"] = data_v004[\"Race_c\"].replace(\"Non-White\", 0)\n",
    "data_v004[\"Race_c\"] = data_v004[\"Race_c\"].replace(\"White\", 1)\n",
    "\n",
    "data_v004[\"Education_c\"] = data_v004[\"Education_c\"].replace(\"No Higher Education\", 0)\n",
    "data_v004[\"Education_c\"] = data_v004[\"Education_c\"].replace(\"Higher Education\", 1)\n",
    "\n",
    "data_v004[\"Occupation_c\"] = data_v004[\"Occupation_c\"].replace(\"Blue Collar\", 0)\n",
    "data_v004[\"Occupation_c\"] = data_v004[\"Occupation_c\"].replace(\"White Collar\", 1)\n",
    "\n",
    "data_v004[\"Workclass_c\"] = data_v004[\"Workclass_c\"].replace(\"Private\", 0)\n",
    "data_v004[\"Workclass_c\"] = data_v004[\"Workclass_c\"].replace(\"Public\", 1)\n",
    "\n",
    "data_v004[\"Status_c\"] = data_v004[\"Status_c\"].replace(\"Alone\", 0)\n",
    "data_v004[\"Status_c\"] = data_v004[\"Status_c\"].replace(\"With Partner\", 1)\n",
    "\n",
    "data_v004.head()"
   ]
  },
  {
   "cell_type": "markdown",
   "metadata": {},
   "source": [
    "We can now proceed and create dummy variables from our <b>Age Groups</b> and <b>and Hours-Per-Week_c</b> using Panda's <u>get_dummies</u> function. We will first extract the variables from the dataset, transform them, and merge them onto the dataset again. Our reference categories (\"17-24\" and \"Occasional Work\") will be dropped, so we avoid the \"dummy variable trap\". \n",
    "\n",
    "See more on the dummy variable trap here: https://www.algosome.com/articles/dummy-variable-trap-regression.html"
   ]
  },
  {
   "cell_type": "code",
   "execution_count": 47,
   "metadata": {},
   "outputs": [
    {
     "data": {
      "text/html": [
       "<div>\n",
       "<style scoped>\n",
       "    .dataframe tbody tr th:only-of-type {\n",
       "        vertical-align: middle;\n",
       "    }\n",
       "\n",
       "    .dataframe tbody tr th {\n",
       "        vertical-align: top;\n",
       "    }\n",
       "\n",
       "    .dataframe thead th {\n",
       "        text-align: right;\n",
       "    }\n",
       "</style>\n",
       "<table border=\"1\" class=\"dataframe\">\n",
       "  <thead>\n",
       "    <tr style=\"text-align: right;\">\n",
       "      <th></th>\n",
       "      <th>25-34</th>\n",
       "      <th>35-44</th>\n",
       "      <th>45-54</th>\n",
       "      <th>55-64</th>\n",
       "      <th>65+</th>\n",
       "    </tr>\n",
       "  </thead>\n",
       "  <tbody>\n",
       "    <tr>\n",
       "      <th>0</th>\n",
       "      <td>0</td>\n",
       "      <td>1</td>\n",
       "      <td>0</td>\n",
       "      <td>0</td>\n",
       "      <td>0</td>\n",
       "    </tr>\n",
       "    <tr>\n",
       "      <th>1</th>\n",
       "      <td>0</td>\n",
       "      <td>0</td>\n",
       "      <td>1</td>\n",
       "      <td>0</td>\n",
       "      <td>0</td>\n",
       "    </tr>\n",
       "    <tr>\n",
       "      <th>2</th>\n",
       "      <td>0</td>\n",
       "      <td>1</td>\n",
       "      <td>0</td>\n",
       "      <td>0</td>\n",
       "      <td>0</td>\n",
       "    </tr>\n",
       "    <tr>\n",
       "      <th>3</th>\n",
       "      <td>0</td>\n",
       "      <td>0</td>\n",
       "      <td>1</td>\n",
       "      <td>0</td>\n",
       "      <td>0</td>\n",
       "    </tr>\n",
       "    <tr>\n",
       "      <th>4</th>\n",
       "      <td>1</td>\n",
       "      <td>0</td>\n",
       "      <td>0</td>\n",
       "      <td>0</td>\n",
       "      <td>0</td>\n",
       "    </tr>\n",
       "  </tbody>\n",
       "</table>\n",
       "</div>"
      ],
      "text/plain": [
       "   25-34  35-44  45-54  55-64  65+\n",
       "0      0      1      0      0    0\n",
       "1      0      0      1      0    0\n",
       "2      0      1      0      0    0\n",
       "3      0      0      1      0    0\n",
       "4      1      0      0      0    0"
      ]
     },
     "execution_count": 47,
     "metadata": {},
     "output_type": "execute_result"
    }
   ],
   "source": [
    "Age_Dummy = pd.get_dummies(data_v004[\"Age_Groups\"], drop_first = True)\n",
    "Age_Dummy.head()"
   ]
  },
  {
   "cell_type": "code",
   "execution_count": 48,
   "metadata": {},
   "outputs": [
    {
     "data": {
      "text/html": [
       "<div>\n",
       "<style scoped>\n",
       "    .dataframe tbody tr th:only-of-type {\n",
       "        vertical-align: middle;\n",
       "    }\n",
       "\n",
       "    .dataframe tbody tr th {\n",
       "        vertical-align: top;\n",
       "    }\n",
       "\n",
       "    .dataframe thead th {\n",
       "        text-align: right;\n",
       "    }\n",
       "</style>\n",
       "<table border=\"1\" class=\"dataframe\">\n",
       "  <thead>\n",
       "    <tr style=\"text-align: right;\">\n",
       "      <th></th>\n",
       "      <th>Part-time Work</th>\n",
       "      <th>Full-time Work</th>\n",
       "      <th>Overworkers</th>\n",
       "    </tr>\n",
       "  </thead>\n",
       "  <tbody>\n",
       "    <tr>\n",
       "      <th>0</th>\n",
       "      <td>0</td>\n",
       "      <td>1</td>\n",
       "      <td>0</td>\n",
       "    </tr>\n",
       "    <tr>\n",
       "      <th>1</th>\n",
       "      <td>1</td>\n",
       "      <td>0</td>\n",
       "      <td>0</td>\n",
       "    </tr>\n",
       "    <tr>\n",
       "      <th>2</th>\n",
       "      <td>0</td>\n",
       "      <td>1</td>\n",
       "      <td>0</td>\n",
       "    </tr>\n",
       "    <tr>\n",
       "      <th>3</th>\n",
       "      <td>0</td>\n",
       "      <td>1</td>\n",
       "      <td>0</td>\n",
       "    </tr>\n",
       "    <tr>\n",
       "      <th>4</th>\n",
       "      <td>0</td>\n",
       "      <td>1</td>\n",
       "      <td>0</td>\n",
       "    </tr>\n",
       "  </tbody>\n",
       "</table>\n",
       "</div>"
      ],
      "text/plain": [
       "   Part-time Work  Full-time Work  Overworkers\n",
       "0               0               1            0\n",
       "1               1               0            0\n",
       "2               0               1            0\n",
       "3               0               1            0\n",
       "4               0               1            0"
      ]
     },
     "execution_count": 48,
     "metadata": {},
     "output_type": "execute_result"
    }
   ],
   "source": [
    "Hours_Dummy = pd.get_dummies(data_v004[\"Hours-Per-Week_c\"], drop_first = True)\n",
    "Hours_Dummy.head()"
   ]
  },
  {
   "cell_type": "markdown",
   "metadata": {},
   "source": [
    "The dummies can now be added to the dataset by using the <u>join</u> operator:"
   ]
  },
  {
   "cell_type": "code",
   "execution_count": 49,
   "metadata": {},
   "outputs": [
    {
     "data": {
      "text/html": [
       "<div>\n",
       "<style scoped>\n",
       "    .dataframe tbody tr th:only-of-type {\n",
       "        vertical-align: middle;\n",
       "    }\n",
       "\n",
       "    .dataframe tbody tr th {\n",
       "        vertical-align: top;\n",
       "    }\n",
       "\n",
       "    .dataframe thead th {\n",
       "        text-align: right;\n",
       "    }\n",
       "</style>\n",
       "<table border=\"1\" class=\"dataframe\">\n",
       "  <thead>\n",
       "    <tr style=\"text-align: right;\">\n",
       "      <th></th>\n",
       "      <th>Income</th>\n",
       "      <th>Sex</th>\n",
       "      <th>Age_Groups</th>\n",
       "      <th>Race_c</th>\n",
       "      <th>Education_c</th>\n",
       "      <th>Occupation_c</th>\n",
       "      <th>Workclass_c</th>\n",
       "      <th>Hours-Per-Week_c</th>\n",
       "      <th>Status_c</th>\n",
       "      <th>25-34</th>\n",
       "      <th>35-44</th>\n",
       "      <th>45-54</th>\n",
       "      <th>55-64</th>\n",
       "      <th>65+</th>\n",
       "      <th>Part-time Work</th>\n",
       "      <th>Full-time Work</th>\n",
       "      <th>Overworkers</th>\n",
       "    </tr>\n",
       "  </thead>\n",
       "  <tbody>\n",
       "    <tr>\n",
       "      <th>0</th>\n",
       "      <td>0</td>\n",
       "      <td>1</td>\n",
       "      <td>35-44</td>\n",
       "      <td>1</td>\n",
       "      <td>1</td>\n",
       "      <td>1</td>\n",
       "      <td>1</td>\n",
       "      <td>Full-time Work</td>\n",
       "      <td>0</td>\n",
       "      <td>0</td>\n",
       "      <td>1</td>\n",
       "      <td>0</td>\n",
       "      <td>0</td>\n",
       "      <td>0</td>\n",
       "      <td>0</td>\n",
       "      <td>1</td>\n",
       "      <td>0</td>\n",
       "    </tr>\n",
       "    <tr>\n",
       "      <th>1</th>\n",
       "      <td>0</td>\n",
       "      <td>1</td>\n",
       "      <td>45-54</td>\n",
       "      <td>1</td>\n",
       "      <td>1</td>\n",
       "      <td>1</td>\n",
       "      <td>0</td>\n",
       "      <td>Part-time Work</td>\n",
       "      <td>1</td>\n",
       "      <td>0</td>\n",
       "      <td>0</td>\n",
       "      <td>1</td>\n",
       "      <td>0</td>\n",
       "      <td>0</td>\n",
       "      <td>1</td>\n",
       "      <td>0</td>\n",
       "      <td>0</td>\n",
       "    </tr>\n",
       "    <tr>\n",
       "      <th>2</th>\n",
       "      <td>0</td>\n",
       "      <td>1</td>\n",
       "      <td>35-44</td>\n",
       "      <td>1</td>\n",
       "      <td>0</td>\n",
       "      <td>0</td>\n",
       "      <td>0</td>\n",
       "      <td>Full-time Work</td>\n",
       "      <td>0</td>\n",
       "      <td>0</td>\n",
       "      <td>1</td>\n",
       "      <td>0</td>\n",
       "      <td>0</td>\n",
       "      <td>0</td>\n",
       "      <td>0</td>\n",
       "      <td>1</td>\n",
       "      <td>0</td>\n",
       "    </tr>\n",
       "    <tr>\n",
       "      <th>3</th>\n",
       "      <td>0</td>\n",
       "      <td>1</td>\n",
       "      <td>45-54</td>\n",
       "      <td>0</td>\n",
       "      <td>0</td>\n",
       "      <td>0</td>\n",
       "      <td>0</td>\n",
       "      <td>Full-time Work</td>\n",
       "      <td>1</td>\n",
       "      <td>0</td>\n",
       "      <td>0</td>\n",
       "      <td>1</td>\n",
       "      <td>0</td>\n",
       "      <td>0</td>\n",
       "      <td>0</td>\n",
       "      <td>1</td>\n",
       "      <td>0</td>\n",
       "    </tr>\n",
       "    <tr>\n",
       "      <th>4</th>\n",
       "      <td>0</td>\n",
       "      <td>0</td>\n",
       "      <td>25-34</td>\n",
       "      <td>0</td>\n",
       "      <td>1</td>\n",
       "      <td>1</td>\n",
       "      <td>0</td>\n",
       "      <td>Full-time Work</td>\n",
       "      <td>1</td>\n",
       "      <td>1</td>\n",
       "      <td>0</td>\n",
       "      <td>0</td>\n",
       "      <td>0</td>\n",
       "      <td>0</td>\n",
       "      <td>0</td>\n",
       "      <td>1</td>\n",
       "      <td>0</td>\n",
       "    </tr>\n",
       "  </tbody>\n",
       "</table>\n",
       "</div>"
      ],
      "text/plain": [
       "   Income  Sex Age_Groups  Race_c  Education_c  Occupation_c  Workclass_c  \\\n",
       "0       0    1      35-44       1            1             1            1   \n",
       "1       0    1      45-54       1            1             1            0   \n",
       "2       0    1      35-44       1            0             0            0   \n",
       "3       0    1      45-54       0            0             0            0   \n",
       "4       0    0      25-34       0            1             1            0   \n",
       "\n",
       "  Hours-Per-Week_c  Status_c  25-34  35-44  45-54  55-64  65+  Part-time Work  \\\n",
       "0   Full-time Work         0      0      1      0      0    0               0   \n",
       "1   Part-time Work         1      0      0      1      0    0               1   \n",
       "2   Full-time Work         0      0      1      0      0    0               0   \n",
       "3   Full-time Work         1      0      0      1      0    0               0   \n",
       "4   Full-time Work         1      1      0      0      0    0               0   \n",
       "\n",
       "   Full-time Work  Overworkers  \n",
       "0               1            0  \n",
       "1               0            0  \n",
       "2               1            0  \n",
       "3               1            0  \n",
       "4               1            0  "
      ]
     },
     "execution_count": 49,
     "metadata": {},
     "output_type": "execute_result"
    }
   ],
   "source": [
    "data_v004 = data_v004.join([Age_Dummy,Hours_Dummy])\n",
    "data_v004.head()"
   ]
  },
  {
   "cell_type": "markdown",
   "metadata": {},
   "source": [
    "We can now delete our \"old\" <b>Age Groups</b> and <b>Hours-Per-Week_c</b> variable and re-order our columns for a better overview. We will save the result in a new dataset:"
   ]
  },
  {
   "cell_type": "code",
   "execution_count": 50,
   "metadata": {
    "scrolled": false
   },
   "outputs": [
    {
     "data": {
      "text/html": [
       "<div>\n",
       "<style scoped>\n",
       "    .dataframe tbody tr th:only-of-type {\n",
       "        vertical-align: middle;\n",
       "    }\n",
       "\n",
       "    .dataframe tbody tr th {\n",
       "        vertical-align: top;\n",
       "    }\n",
       "\n",
       "    .dataframe thead th {\n",
       "        text-align: right;\n",
       "    }\n",
       "</style>\n",
       "<table border=\"1\" class=\"dataframe\">\n",
       "  <thead>\n",
       "    <tr style=\"text-align: right;\">\n",
       "      <th></th>\n",
       "      <th>Income</th>\n",
       "      <th>Sex</th>\n",
       "      <th>25-34</th>\n",
       "      <th>35-44</th>\n",
       "      <th>45-54</th>\n",
       "      <th>55-64</th>\n",
       "      <th>65+</th>\n",
       "      <th>Race_c</th>\n",
       "      <th>Education_c</th>\n",
       "      <th>Occupation_c</th>\n",
       "      <th>Workclass_c</th>\n",
       "      <th>Part-time Work</th>\n",
       "      <th>Full-time Work</th>\n",
       "      <th>Overworkers</th>\n",
       "      <th>Status_c</th>\n",
       "    </tr>\n",
       "  </thead>\n",
       "  <tbody>\n",
       "    <tr>\n",
       "      <th>0</th>\n",
       "      <td>0</td>\n",
       "      <td>1</td>\n",
       "      <td>0</td>\n",
       "      <td>1</td>\n",
       "      <td>0</td>\n",
       "      <td>0</td>\n",
       "      <td>0</td>\n",
       "      <td>1</td>\n",
       "      <td>1</td>\n",
       "      <td>1</td>\n",
       "      <td>1</td>\n",
       "      <td>0</td>\n",
       "      <td>1</td>\n",
       "      <td>0</td>\n",
       "      <td>0</td>\n",
       "    </tr>\n",
       "    <tr>\n",
       "      <th>1</th>\n",
       "      <td>0</td>\n",
       "      <td>1</td>\n",
       "      <td>0</td>\n",
       "      <td>0</td>\n",
       "      <td>1</td>\n",
       "      <td>0</td>\n",
       "      <td>0</td>\n",
       "      <td>1</td>\n",
       "      <td>1</td>\n",
       "      <td>1</td>\n",
       "      <td>0</td>\n",
       "      <td>1</td>\n",
       "      <td>0</td>\n",
       "      <td>0</td>\n",
       "      <td>1</td>\n",
       "    </tr>\n",
       "    <tr>\n",
       "      <th>2</th>\n",
       "      <td>0</td>\n",
       "      <td>1</td>\n",
       "      <td>0</td>\n",
       "      <td>1</td>\n",
       "      <td>0</td>\n",
       "      <td>0</td>\n",
       "      <td>0</td>\n",
       "      <td>1</td>\n",
       "      <td>0</td>\n",
       "      <td>0</td>\n",
       "      <td>0</td>\n",
       "      <td>0</td>\n",
       "      <td>1</td>\n",
       "      <td>0</td>\n",
       "      <td>0</td>\n",
       "    </tr>\n",
       "    <tr>\n",
       "      <th>3</th>\n",
       "      <td>0</td>\n",
       "      <td>1</td>\n",
       "      <td>0</td>\n",
       "      <td>0</td>\n",
       "      <td>1</td>\n",
       "      <td>0</td>\n",
       "      <td>0</td>\n",
       "      <td>0</td>\n",
       "      <td>0</td>\n",
       "      <td>0</td>\n",
       "      <td>0</td>\n",
       "      <td>0</td>\n",
       "      <td>1</td>\n",
       "      <td>0</td>\n",
       "      <td>1</td>\n",
       "    </tr>\n",
       "    <tr>\n",
       "      <th>4</th>\n",
       "      <td>0</td>\n",
       "      <td>0</td>\n",
       "      <td>1</td>\n",
       "      <td>0</td>\n",
       "      <td>0</td>\n",
       "      <td>0</td>\n",
       "      <td>0</td>\n",
       "      <td>0</td>\n",
       "      <td>1</td>\n",
       "      <td>1</td>\n",
       "      <td>0</td>\n",
       "      <td>0</td>\n",
       "      <td>1</td>\n",
       "      <td>0</td>\n",
       "      <td>1</td>\n",
       "    </tr>\n",
       "  </tbody>\n",
       "</table>\n",
       "</div>"
      ],
      "text/plain": [
       "   Income  Sex  25-34  35-44  45-54  55-64  65+  Race_c  Education_c  \\\n",
       "0       0    1      0      1      0      0    0       1            1   \n",
       "1       0    1      0      0      1      0    0       1            1   \n",
       "2       0    1      0      1      0      0    0       1            0   \n",
       "3       0    1      0      0      1      0    0       0            0   \n",
       "4       0    0      1      0      0      0    0       0            1   \n",
       "\n",
       "   Occupation_c  Workclass_c  Part-time Work  Full-time Work  Overworkers  \\\n",
       "0             1            1               0               1            0   \n",
       "1             1            0               1               0            0   \n",
       "2             0            0               0               1            0   \n",
       "3             0            0               0               1            0   \n",
       "4             1            0               0               1            0   \n",
       "\n",
       "   Status_c  \n",
       "0         0  \n",
       "1         1  \n",
       "2         0  \n",
       "3         1  \n",
       "4         1  "
      ]
     },
     "execution_count": 50,
     "metadata": {},
     "output_type": "execute_result"
    }
   ],
   "source": [
    "data_v005 = data_v004.drop([\"Age_Groups\", \"Hours-Per-Week_c\"], axis=1)\n",
    "\n",
    "column_names_new = [\"Income\", \"Sex\", \"25-34\", \"35-44\", \"45-54\", \"55-64\", \"65+\",  \n",
    "                    \"Race_c\", \"Education_c\", \"Occupation_c\", \"Workclass_c\", \"Part-time Work\",\n",
    "                    \"Full-time Work\",\"Overworkers\",\"Status_c\"]\n",
    "\n",
    "data_v005 = data_v005.reindex(columns=column_names_new)\n",
    "\n",
    "data_v005.head()"
   ]
  },
  {
   "cell_type": "markdown",
   "metadata": {},
   "source": [
    "<u><p style=\"font-size:18px\">5.7. Checking for Multicollinearity</p></u>"
   ]
  },
  {
   "cell_type": "markdown",
   "metadata": {},
   "source": [
    "Before we can continue to apply our classifiers, we should check if there is multicollinearity between our variables, which would artificially inflate our models' predictive power and reduce its performance outside of the training data.\n",
    "\n",
    "We can check for multicollinearity via the use of <u>Variance Inflation Factors (VIFs)</u>. The idea is that a linear regression is run for each of the regressors, whereas one of them always acts as the dependent, and the others as independent variables. We then receive <u>R² values</u> for each regression, which indicate how well each variable can be explained by others. VIF values of 10 or higher have been described as indicating a problematic amount of collinearity, which should be corrected, possibly by dropping the respective variable from the model."
   ]
  },
  {
   "cell_type": "markdown",
   "metadata": {},
   "source": [
    "<u><p style=\"font-size:16px\">5.7.1. Investigating Multicollinearity via <em>Variance Inflation Factors (VIFs)</em></p></u>"
   ]
  },
  {
   "cell_type": "markdown",
   "metadata": {},
   "source": [
    "We can perform VIF analysis with Statsmodels, from which we will import the corresponding module:"
   ]
  },
  {
   "cell_type": "code",
   "execution_count": 51,
   "metadata": {},
   "outputs": [
    {
     "data": {
      "text/html": [
       "<div>\n",
       "<style scoped>\n",
       "    .dataframe tbody tr th:only-of-type {\n",
       "        vertical-align: middle;\n",
       "    }\n",
       "\n",
       "    .dataframe tbody tr th {\n",
       "        vertical-align: top;\n",
       "    }\n",
       "\n",
       "    .dataframe thead th {\n",
       "        text-align: right;\n",
       "    }\n",
       "</style>\n",
       "<table border=\"1\" class=\"dataframe\">\n",
       "  <thead>\n",
       "    <tr style=\"text-align: right;\">\n",
       "      <th></th>\n",
       "      <th>VIF</th>\n",
       "      <th>Regressors</th>\n",
       "    </tr>\n",
       "  </thead>\n",
       "  <tbody>\n",
       "    <tr>\n",
       "      <th>0</th>\n",
       "      <td>4.148047</td>\n",
       "      <td>Sex</td>\n",
       "    </tr>\n",
       "    <tr>\n",
       "      <th>1</th>\n",
       "      <td>2.994861</td>\n",
       "      <td>25-34</td>\n",
       "    </tr>\n",
       "    <tr>\n",
       "      <th>2</th>\n",
       "      <td>3.141630</td>\n",
       "      <td>35-44</td>\n",
       "    </tr>\n",
       "    <tr>\n",
       "      <th>3</th>\n",
       "      <td>2.578394</td>\n",
       "      <td>45-54</td>\n",
       "    </tr>\n",
       "    <tr>\n",
       "      <th>4</th>\n",
       "      <td>1.763942</td>\n",
       "      <td>55-64</td>\n",
       "    </tr>\n",
       "    <tr>\n",
       "      <th>5</th>\n",
       "      <td>1.213402</td>\n",
       "      <td>65+</td>\n",
       "    </tr>\n",
       "    <tr>\n",
       "      <th>6</th>\n",
       "      <td>6.826837</td>\n",
       "      <td>Race_c</td>\n",
       "    </tr>\n",
       "    <tr>\n",
       "      <th>7</th>\n",
       "      <td>2.728517</td>\n",
       "      <td>Education_c</td>\n",
       "    </tr>\n",
       "    <tr>\n",
       "      <th>8</th>\n",
       "      <td>2.766648</td>\n",
       "      <td>Occupation_c</td>\n",
       "    </tr>\n",
       "    <tr>\n",
       "      <th>9</th>\n",
       "      <td>1.213617</td>\n",
       "      <td>Workclass_c</td>\n",
       "    </tr>\n",
       "    <tr>\n",
       "      <th>10</th>\n",
       "      <td>2.327874</td>\n",
       "      <td>Part-time Work</td>\n",
       "    </tr>\n",
       "    <tr>\n",
       "      <th>11</th>\n",
       "      <td>9.895518</td>\n",
       "      <td>Full-time Work</td>\n",
       "    </tr>\n",
       "    <tr>\n",
       "      <th>12</th>\n",
       "      <td>4.973672</td>\n",
       "      <td>Overworkers</td>\n",
       "    </tr>\n",
       "    <tr>\n",
       "      <th>13</th>\n",
       "      <td>2.675704</td>\n",
       "      <td>Status_c</td>\n",
       "    </tr>\n",
       "  </tbody>\n",
       "</table>\n",
       "</div>"
      ],
      "text/plain": [
       "         VIF      Regressors\n",
       "0   4.148047             Sex\n",
       "1   2.994861           25-34\n",
       "2   3.141630           35-44\n",
       "3   2.578394           45-54\n",
       "4   1.763942           55-64\n",
       "5   1.213402             65+\n",
       "6   6.826837          Race_c\n",
       "7   2.728517     Education_c\n",
       "8   2.766648    Occupation_c\n",
       "9   1.213617     Workclass_c\n",
       "10  2.327874  Part-time Work\n",
       "11  9.895518  Full-time Work\n",
       "12  4.973672     Overworkers\n",
       "13  2.675704        Status_c"
      ]
     },
     "execution_count": 51,
     "metadata": {},
     "output_type": "execute_result"
    }
   ],
   "source": [
    "from statsmodels.stats.outliers_influence import variance_inflation_factor\n",
    "\n",
    "regressors = data_v005.drop([\"Income\"], axis=1)\n",
    "\n",
    "vif = pd.DataFrame()\n",
    "vif[\"VIF\"] = [variance_inflation_factor(regressors.values, i) for i in range(regressors.shape[1])]\n",
    "vif[\"Regressors\"] = regressors.columns\n",
    "\n",
    "vif"
   ]
  },
  {
   "cell_type": "markdown",
   "metadata": {},
   "source": [
    "The VIF analysis reaveals that our <b>Full-time Work</b> variable is very close to a value of 10, which is our threshold for removing a variable due to multicollinearity. However, as the value is still below 10, we will choose to keep it for now and continue with all variables to fit our initial model, which will be a <u>logistic regression</u>.\n",
    "\n",
    "To indicate that we have concluded the data pre-processing stage and our dataset is ready for analysis, we can now save it as our final \"v1\" version:"
   ]
  },
  {
   "cell_type": "code",
   "execution_count": 52,
   "metadata": {},
   "outputs": [],
   "source": [
    "data_v1 = data_v005.copy()"
   ]
  },
  {
   "cell_type": "markdown",
   "metadata": {},
   "source": [
    "<u><p style=\"font-size:18px\">5.8. Performing an Initial Logistic Regression for Feature Selection</p></u>"
   ]
  },
  {
   "cell_type": "markdown",
   "metadata": {},
   "source": [
    "We have arrived at the point where we have prepared our data sufficiently to perform an ititial the logistic regression analysis with Statsmodels. Logistic regression with Statsmodels has the advantage that it provides a summary table as output, which provides <u>p-values</u> for independent <u>t-tests</u> that are performed between each of our independent and the dependent variable <b>Income</b>. By interpreting these p-values, we can decide whether or not one or more of our regressors can be dropped from our dataset before we fit our other classifiers.\n",
    "\n",
    "Let's define the targets and inputs for our initial logistic regression. Note that we will not split our data into train and test data just yet as this step only serves the selection of features by of evaluating p-values."
   ]
  },
  {
   "cell_type": "code",
   "execution_count": 53,
   "metadata": {},
   "outputs": [],
   "source": [
    "inputs_initial = data_v1.drop([\"Income\"], axis=1)\n",
    "targets_initial = data_v1[\"Income\"]"
   ]
  },
  {
   "cell_type": "markdown",
   "metadata": {},
   "source": [
    "We can now fit the initial logistic regression with Statsmodels, which requires the import of the corresponding libraries. We will alos add an intercept to the model, as this is required for logistic regressions with Statsmodels."
   ]
  },
  {
   "cell_type": "code",
   "execution_count": 54,
   "metadata": {
    "scrolled": true
   },
   "outputs": [
    {
     "name": "stdout",
     "output_type": "stream",
     "text": [
      "Optimization terminated successfully.\n",
      "         Current function value: 0.375659\n",
      "         Iterations 9\n"
     ]
    }
   ],
   "source": [
    "import statsmodels.api as sm\n",
    "\n",
    "inputs_initial_const = sm.add_constant(inputs_initial)\n",
    "reg_log_initial = sm.Logit(targets_initial,inputs_initial_const)\n",
    "results_log_initial = reg_log_initial.fit()"
   ]
  },
  {
   "cell_type": "markdown",
   "metadata": {},
   "source": [
    "Let's look at our model summary:"
   ]
  },
  {
   "cell_type": "code",
   "execution_count": 55,
   "metadata": {
    "scrolled": true
   },
   "outputs": [
    {
     "data": {
      "text/html": [
       "<table class=\"simpletable\">\n",
       "<caption>Logit Regression Results</caption>\n",
       "<tr>\n",
       "  <th>Dep. Variable:</th>        <td>Income</td>      <th>  No. Observations:  </th>  <td> 30704</td> \n",
       "</tr>\n",
       "<tr>\n",
       "  <th>Model:</th>                 <td>Logit</td>      <th>  Df Residuals:      </th>  <td> 30689</td> \n",
       "</tr>\n",
       "<tr>\n",
       "  <th>Method:</th>                 <td>MLE</td>       <th>  Df Model:          </th>  <td>    14</td> \n",
       "</tr>\n",
       "<tr>\n",
       "  <th>Date:</th>            <td>Sat, 04 Jul 2020</td> <th>  Pseudo R-squ.:     </th>  <td>0.3309</td> \n",
       "</tr>\n",
       "<tr>\n",
       "  <th>Time:</th>                <td>08:42:36</td>     <th>  Log-Likelihood:    </th> <td> -11534.</td>\n",
       "</tr>\n",
       "<tr>\n",
       "  <th>converged:</th>             <td>True</td>       <th>  LL-Null:           </th> <td> -17237.</td>\n",
       "</tr>\n",
       "<tr>\n",
       "  <th>Covariance Type:</th>     <td>nonrobust</td>    <th>  LLR p-value:       </th>  <td> 0.000</td> \n",
       "</tr>\n",
       "</table>\n",
       "<table class=\"simpletable\">\n",
       "<tr>\n",
       "         <td></td>           <th>coef</th>     <th>std err</th>      <th>z</th>      <th>P>|z|</th>  <th>[0.025</th>    <th>0.975]</th>  \n",
       "</tr>\n",
       "<tr>\n",
       "  <th>const</th>          <td>   -7.4837</td> <td>    0.274</td> <td>  -27.280</td> <td> 0.000</td> <td>   -8.021</td> <td>   -6.946</td>\n",
       "</tr>\n",
       "<tr>\n",
       "  <th>Sex</th>            <td>    0.3640</td> <td>    0.047</td> <td>    7.798</td> <td> 0.000</td> <td>    0.272</td> <td>    0.455</td>\n",
       "</tr>\n",
       "<tr>\n",
       "  <th>25-34</th>          <td>    1.7076</td> <td>    0.139</td> <td>   12.302</td> <td> 0.000</td> <td>    1.436</td> <td>    1.980</td>\n",
       "</tr>\n",
       "<tr>\n",
       "  <th>35-44</th>          <td>    2.4099</td> <td>    0.138</td> <td>   17.491</td> <td> 0.000</td> <td>    2.140</td> <td>    2.680</td>\n",
       "</tr>\n",
       "<tr>\n",
       "  <th>45-54</th>          <td>    2.7309</td> <td>    0.139</td> <td>   19.694</td> <td> 0.000</td> <td>    2.459</td> <td>    3.003</td>\n",
       "</tr>\n",
       "<tr>\n",
       "  <th>55-64</th>          <td>    2.4575</td> <td>    0.143</td> <td>   17.199</td> <td> 0.000</td> <td>    2.177</td> <td>    2.738</td>\n",
       "</tr>\n",
       "<tr>\n",
       "  <th>65+</th>            <td>    2.1934</td> <td>    0.163</td> <td>   13.468</td> <td> 0.000</td> <td>    1.874</td> <td>    2.513</td>\n",
       "</tr>\n",
       "<tr>\n",
       "  <th>Race_c</th>         <td>    0.2687</td> <td>    0.053</td> <td>    5.075</td> <td> 0.000</td> <td>    0.165</td> <td>    0.372</td>\n",
       "</tr>\n",
       "<tr>\n",
       "  <th>Education_c</th>    <td>    0.9880</td> <td>    0.038</td> <td>   26.263</td> <td> 0.000</td> <td>    0.914</td> <td>    1.062</td>\n",
       "</tr>\n",
       "<tr>\n",
       "  <th>Occupation_c</th>   <td>    1.0608</td> <td>    0.038</td> <td>   28.107</td> <td> 0.000</td> <td>    0.987</td> <td>    1.135</td>\n",
       "</tr>\n",
       "<tr>\n",
       "  <th>Workclass_c</th>    <td>    0.1171</td> <td>    0.045</td> <td>    2.608</td> <td> 0.009</td> <td>    0.029</td> <td>    0.205</td>\n",
       "</tr>\n",
       "<tr>\n",
       "  <th>Part-time Work</th> <td>    0.1190</td> <td>    0.241</td> <td>    0.494</td> <td> 0.621</td> <td>   -0.353</td> <td>    0.591</td>\n",
       "</tr>\n",
       "<tr>\n",
       "  <th>Full-time Work</th> <td>    1.0422</td> <td>    0.232</td> <td>    4.483</td> <td> 0.000</td> <td>    0.587</td> <td>    1.498</td>\n",
       "</tr>\n",
       "<tr>\n",
       "  <th>Overworkers</th>    <td>    1.5664</td> <td>    0.234</td> <td>    6.703</td> <td> 0.000</td> <td>    1.108</td> <td>    2.024</td>\n",
       "</tr>\n",
       "<tr>\n",
       "  <th>Status_c</th>       <td>    2.1343</td> <td>    0.043</td> <td>   49.841</td> <td> 0.000</td> <td>    2.050</td> <td>    2.218</td>\n",
       "</tr>\n",
       "</table>"
      ],
      "text/plain": [
       "<class 'statsmodels.iolib.summary.Summary'>\n",
       "\"\"\"\n",
       "                           Logit Regression Results                           \n",
       "==============================================================================\n",
       "Dep. Variable:                 Income   No. Observations:                30704\n",
       "Model:                          Logit   Df Residuals:                    30689\n",
       "Method:                           MLE   Df Model:                           14\n",
       "Date:                Sat, 04 Jul 2020   Pseudo R-squ.:                  0.3309\n",
       "Time:                        08:42:36   Log-Likelihood:                -11534.\n",
       "converged:                       True   LL-Null:                       -17237.\n",
       "Covariance Type:            nonrobust   LLR p-value:                     0.000\n",
       "==================================================================================\n",
       "                     coef    std err          z      P>|z|      [0.025      0.975]\n",
       "----------------------------------------------------------------------------------\n",
       "const             -7.4837      0.274    -27.280      0.000      -8.021      -6.946\n",
       "Sex                0.3640      0.047      7.798      0.000       0.272       0.455\n",
       "25-34              1.7076      0.139     12.302      0.000       1.436       1.980\n",
       "35-44              2.4099      0.138     17.491      0.000       2.140       2.680\n",
       "45-54              2.7309      0.139     19.694      0.000       2.459       3.003\n",
       "55-64              2.4575      0.143     17.199      0.000       2.177       2.738\n",
       "65+                2.1934      0.163     13.468      0.000       1.874       2.513\n",
       "Race_c             0.2687      0.053      5.075      0.000       0.165       0.372\n",
       "Education_c        0.9880      0.038     26.263      0.000       0.914       1.062\n",
       "Occupation_c       1.0608      0.038     28.107      0.000       0.987       1.135\n",
       "Workclass_c        0.1171      0.045      2.608      0.009       0.029       0.205\n",
       "Part-time Work     0.1190      0.241      0.494      0.621      -0.353       0.591\n",
       "Full-time Work     1.0422      0.232      4.483      0.000       0.587       1.498\n",
       "Overworkers        1.5664      0.234      6.703      0.000       1.108       2.024\n",
       "Status_c           2.1343      0.043     49.841      0.000       2.050       2.218\n",
       "==================================================================================\n",
       "\"\"\""
      ]
     },
     "execution_count": 55,
     "metadata": {},
     "output_type": "execute_result"
    }
   ],
   "source": [
    "results_log_initial.summary()"
   ]
  },
  {
   "cell_type": "markdown",
   "metadata": {},
   "source": [
    "We can see that all but one variables are relevant for our model. Only <b>Part-time Work</b> fails to contribute meaningfully to explain our <b>Income</b> variable, with a p-value much larger than the commonly accepted 0.05. As a result, we will drop this variable from our inputs and perform the analysis again to verify that all other variables stay relevant after the operation: "
   ]
  },
  {
   "cell_type": "code",
   "execution_count": 56,
   "metadata": {},
   "outputs": [
    {
     "name": "stdout",
     "output_type": "stream",
     "text": [
      "Optimization terminated successfully.\n",
      "         Current function value: 0.375663\n",
      "         Iterations 9\n"
     ]
    },
    {
     "data": {
      "text/html": [
       "<table class=\"simpletable\">\n",
       "<caption>Logit Regression Results</caption>\n",
       "<tr>\n",
       "  <th>Dep. Variable:</th>        <td>Income</td>      <th>  No. Observations:  </th>  <td> 30704</td> \n",
       "</tr>\n",
       "<tr>\n",
       "  <th>Model:</th>                 <td>Logit</td>      <th>  Df Residuals:      </th>  <td> 30690</td> \n",
       "</tr>\n",
       "<tr>\n",
       "  <th>Method:</th>                 <td>MLE</td>       <th>  Df Model:          </th>  <td>    13</td> \n",
       "</tr>\n",
       "<tr>\n",
       "  <th>Date:</th>            <td>Sat, 04 Jul 2020</td> <th>  Pseudo R-squ.:     </th>  <td>0.3308</td> \n",
       "</tr>\n",
       "<tr>\n",
       "  <th>Time:</th>                <td>08:42:36</td>     <th>  Log-Likelihood:    </th> <td> -11534.</td>\n",
       "</tr>\n",
       "<tr>\n",
       "  <th>converged:</th>             <td>True</td>       <th>  LL-Null:           </th> <td> -17237.</td>\n",
       "</tr>\n",
       "<tr>\n",
       "  <th>Covariance Type:</th>     <td>nonrobust</td>    <th>  LLR p-value:       </th>  <td> 0.000</td> \n",
       "</tr>\n",
       "</table>\n",
       "<table class=\"simpletable\">\n",
       "<tr>\n",
       "         <td></td>           <th>coef</th>     <th>std err</th>      <th>z</th>      <th>P>|z|</th>  <th>[0.025</th>    <th>0.975]</th>  \n",
       "</tr>\n",
       "<tr>\n",
       "  <th>const</th>          <td>   -7.3742</td> <td>    0.161</td> <td>  -45.807</td> <td> 0.000</td> <td>   -7.690</td> <td>   -7.059</td>\n",
       "</tr>\n",
       "<tr>\n",
       "  <th>Sex</th>            <td>    0.3639</td> <td>    0.047</td> <td>    7.797</td> <td> 0.000</td> <td>    0.272</td> <td>    0.455</td>\n",
       "</tr>\n",
       "<tr>\n",
       "  <th>25-34</th>          <td>    1.7069</td> <td>    0.139</td> <td>   12.297</td> <td> 0.000</td> <td>    1.435</td> <td>    1.979</td>\n",
       "</tr>\n",
       "<tr>\n",
       "  <th>35-44</th>          <td>    2.4091</td> <td>    0.138</td> <td>   17.487</td> <td> 0.000</td> <td>    2.139</td> <td>    2.679</td>\n",
       "</tr>\n",
       "<tr>\n",
       "  <th>45-54</th>          <td>    2.7301</td> <td>    0.139</td> <td>   19.689</td> <td> 0.000</td> <td>    2.458</td> <td>    3.002</td>\n",
       "</tr>\n",
       "<tr>\n",
       "  <th>55-64</th>          <td>    2.4565</td> <td>    0.143</td> <td>   17.194</td> <td> 0.000</td> <td>    2.176</td> <td>    2.736</td>\n",
       "</tr>\n",
       "<tr>\n",
       "  <th>65+</th>            <td>    2.1896</td> <td>    0.163</td> <td>   13.460</td> <td> 0.000</td> <td>    1.871</td> <td>    2.508</td>\n",
       "</tr>\n",
       "<tr>\n",
       "  <th>Race_c</th>         <td>    0.2687</td> <td>    0.053</td> <td>    5.077</td> <td> 0.000</td> <td>    0.165</td> <td>    0.372</td>\n",
       "</tr>\n",
       "<tr>\n",
       "  <th>Education_c</th>    <td>    0.9880</td> <td>    0.038</td> <td>   26.262</td> <td> 0.000</td> <td>    0.914</td> <td>    1.062</td>\n",
       "</tr>\n",
       "<tr>\n",
       "  <th>Occupation_c</th>   <td>    1.0607</td> <td>    0.038</td> <td>   28.105</td> <td> 0.000</td> <td>    0.987</td> <td>    1.135</td>\n",
       "</tr>\n",
       "<tr>\n",
       "  <th>Workclass_c</th>    <td>    0.1171</td> <td>    0.045</td> <td>    2.609</td> <td> 0.009</td> <td>    0.029</td> <td>    0.205</td>\n",
       "</tr>\n",
       "<tr>\n",
       "  <th>Full-time Work</th> <td>    0.9337</td> <td>    0.075</td> <td>   12.516</td> <td> 0.000</td> <td>    0.787</td> <td>    1.080</td>\n",
       "</tr>\n",
       "<tr>\n",
       "  <th>Overworkers</th>    <td>    1.4579</td> <td>    0.078</td> <td>   18.627</td> <td> 0.000</td> <td>    1.305</td> <td>    1.611</td>\n",
       "</tr>\n",
       "<tr>\n",
       "  <th>Status_c</th>       <td>    2.1342</td> <td>    0.043</td> <td>   49.840</td> <td> 0.000</td> <td>    2.050</td> <td>    2.218</td>\n",
       "</tr>\n",
       "</table>"
      ],
      "text/plain": [
       "<class 'statsmodels.iolib.summary.Summary'>\n",
       "\"\"\"\n",
       "                           Logit Regression Results                           \n",
       "==============================================================================\n",
       "Dep. Variable:                 Income   No. Observations:                30704\n",
       "Model:                          Logit   Df Residuals:                    30690\n",
       "Method:                           MLE   Df Model:                           13\n",
       "Date:                Sat, 04 Jul 2020   Pseudo R-squ.:                  0.3308\n",
       "Time:                        08:42:36   Log-Likelihood:                -11534.\n",
       "converged:                       True   LL-Null:                       -17237.\n",
       "Covariance Type:            nonrobust   LLR p-value:                     0.000\n",
       "==================================================================================\n",
       "                     coef    std err          z      P>|z|      [0.025      0.975]\n",
       "----------------------------------------------------------------------------------\n",
       "const             -7.3742      0.161    -45.807      0.000      -7.690      -7.059\n",
       "Sex                0.3639      0.047      7.797      0.000       0.272       0.455\n",
       "25-34              1.7069      0.139     12.297      0.000       1.435       1.979\n",
       "35-44              2.4091      0.138     17.487      0.000       2.139       2.679\n",
       "45-54              2.7301      0.139     19.689      0.000       2.458       3.002\n",
       "55-64              2.4565      0.143     17.194      0.000       2.176       2.736\n",
       "65+                2.1896      0.163     13.460      0.000       1.871       2.508\n",
       "Race_c             0.2687      0.053      5.077      0.000       0.165       0.372\n",
       "Education_c        0.9880      0.038     26.262      0.000       0.914       1.062\n",
       "Occupation_c       1.0607      0.038     28.105      0.000       0.987       1.135\n",
       "Workclass_c        0.1171      0.045      2.609      0.009       0.029       0.205\n",
       "Full-time Work     0.9337      0.075     12.516      0.000       0.787       1.080\n",
       "Overworkers        1.4579      0.078     18.627      0.000       1.305       1.611\n",
       "Status_c           2.1342      0.043     49.840      0.000       2.050       2.218\n",
       "==================================================================================\n",
       "\"\"\""
      ]
     },
     "execution_count": 56,
     "metadata": {},
     "output_type": "execute_result"
    }
   ],
   "source": [
    "inputs_initial_2 = inputs_initial.drop([\"Part-time Work\"], axis=1)\n",
    "\n",
    "inputs_initial_const_2 = sm.add_constant(inputs_initial_2)\n",
    "reg_log_initial_2 = sm.Logit(targets_initial,inputs_initial_const_2)\n",
    "results_log_initial_2 = reg_log_initial_2.fit()\n",
    "\n",
    "results_log_initial_2.summary()"
   ]
  },
  {
   "cell_type": "markdown",
   "metadata": {},
   "source": [
    "Our second iteration confirms that all remaining variables are relevant for explaining our dependent variable <b>Income</b>. We can also make a first assessment of our logistic model in order to learn more about our regressors and their relationship with <b>Income</b>.\n",
    "\n",
    "\n",
    "The p-value of the <u>LLR (Log-Likelyhood-Ratio) test</u> tells us that our model is highly signifcant (with three zeroes). It is significantly different from the LL-Null model (a constant-only-model).\n",
    "\n",
    "\n",
    "<u>McFadden's R² (Pseudo R-aquared)</u> has a value of 0.33. Values between 0.2 and 0.4 are considered a good fit."
   ]
  },
  {
   "cell_type": "markdown",
   "metadata": {},
   "source": [
    "<u><p style=\"font-size:16px\">5.8.1. Interpreting the Results of the Logistic Regression</p></u>"
   ]
  },
  {
   "cell_type": "markdown",
   "metadata": {},
   "source": [
    "Since our model is displaying the <u>log(odds)</u>, we need to apply the <u>np.exp()</u> (expontential) operator in order to interpret the odds for the coefficients correctly. We can summarize them in a data frame, ordered by strength (or weight) of impact:"
   ]
  },
  {
   "cell_type": "code",
   "execution_count": 57,
   "metadata": {
    "scrolled": true
   },
   "outputs": [
    {
     "data": {
      "text/html": [
       "<div>\n",
       "<style scoped>\n",
       "    .dataframe tbody tr th:only-of-type {\n",
       "        vertical-align: middle;\n",
       "    }\n",
       "\n",
       "    .dataframe tbody tr th {\n",
       "        vertical-align: top;\n",
       "    }\n",
       "\n",
       "    .dataframe thead th {\n",
       "        text-align: right;\n",
       "    }\n",
       "</style>\n",
       "<table border=\"1\" class=\"dataframe\">\n",
       "  <thead>\n",
       "    <tr style=\"text-align: right;\">\n",
       "      <th></th>\n",
       "      <th>Weights</th>\n",
       "    </tr>\n",
       "  </thead>\n",
       "  <tbody>\n",
       "    <tr>\n",
       "      <th>45-54</th>\n",
       "      <td>15.334530</td>\n",
       "    </tr>\n",
       "    <tr>\n",
       "      <th>55-64</th>\n",
       "      <td>11.663424</td>\n",
       "    </tr>\n",
       "    <tr>\n",
       "      <th>35-44</th>\n",
       "      <td>11.124420</td>\n",
       "    </tr>\n",
       "    <tr>\n",
       "      <th>65+</th>\n",
       "      <td>8.931760</td>\n",
       "    </tr>\n",
       "    <tr>\n",
       "      <th>Status_c</th>\n",
       "      <td>8.450690</td>\n",
       "    </tr>\n",
       "    <tr>\n",
       "      <th>25-34</th>\n",
       "      <td>5.511705</td>\n",
       "    </tr>\n",
       "    <tr>\n",
       "      <th>Overworkers</th>\n",
       "      <td>4.296965</td>\n",
       "    </tr>\n",
       "    <tr>\n",
       "      <th>Occupation_c</th>\n",
       "      <td>2.888487</td>\n",
       "    </tr>\n",
       "    <tr>\n",
       "      <th>Education_c</th>\n",
       "      <td>2.685760</td>\n",
       "    </tr>\n",
       "    <tr>\n",
       "      <th>Full-time Work</th>\n",
       "      <td>2.543887</td>\n",
       "    </tr>\n",
       "    <tr>\n",
       "      <th>Sex</th>\n",
       "      <td>1.438948</td>\n",
       "    </tr>\n",
       "    <tr>\n",
       "      <th>Race_c</th>\n",
       "      <td>1.308310</td>\n",
       "    </tr>\n",
       "    <tr>\n",
       "      <th>Workclass_c</th>\n",
       "      <td>1.124227</td>\n",
       "    </tr>\n",
       "    <tr>\n",
       "      <th>const</th>\n",
       "      <td>0.000627</td>\n",
       "    </tr>\n",
       "  </tbody>\n",
       "</table>\n",
       "</div>"
      ],
      "text/plain": [
       "                  Weights\n",
       "45-54           15.334530\n",
       "55-64           11.663424\n",
       "35-44           11.124420\n",
       "65+              8.931760\n",
       "Status_c         8.450690\n",
       "25-34            5.511705\n",
       "Overworkers      4.296965\n",
       "Occupation_c     2.888487\n",
       "Education_c      2.685760\n",
       "Full-time Work   2.543887\n",
       "Sex              1.438948\n",
       "Race_c           1.308310\n",
       "Workclass_c      1.124227\n",
       "const            0.000627"
      ]
     },
     "execution_count": 57,
     "metadata": {},
     "output_type": "execute_result"
    }
   ],
   "source": [
    "coefficients_initial_2 = results_log_initial_2.params\n",
    "\n",
    "coefficients_table = pd.DataFrame(np.exp(coefficients_initial_2), columns=[\"Weights\"])\n",
    "\n",
    "coefficients_table.sort_values(by=['Weights'], ascending=False)"
   ]
  },
  {
   "cell_type": "markdown",
   "metadata": {},
   "source": [
    "Brace for a more detailed interpretation of the relationship between income and our independent variables! :)\n",
    "\n",
    "We can see that the \"membership\" in a specific <b>age group</b> is by far the most defining indicator for an individual's income. As expected, the older an individual, the higher the chances that she/he is earning a high income. One main factor contributing to this is possibly the effect of seniority in the job, with more years on the job market resulting in more senior positions and a higher salary. However, there are other effects that need to be considered too, which we will mention soon. The biggest difference can be observed between the reference group (17-24 year olds) and the 45-54 year olds with the latter being more than 15 times as likely to have a high income. It seems that income peaks in this age group and falls off afterwards, with most persons aged 65+ probably being retired already and thus earning a lower income. However, this group is still almost 8 times as likely to earn more than 50.000 dollars a year comared to the (youngest) reference group.\n",
    "\n",
    "It can be seen that <b>status</b> also has a big impact, meaning that indviduals in active partnerships are about 8 times as likely to earn more than 50.000 dollars a year than those being \"alone\". This might be due to the fact that the income measured here is the household income and that two persons can contribute more to it than a single person. However, since <b>status</b> in this dataset was only measured by \"being married\", chances for someone actually being married also increase with age. Therefore, the gaping difference in income between the youngest and the older age groups is probably amplyfied by the fact that there are more married individuals in the older ages. A further indicator for this is that the differences of the odds between the age groups 35+ are not as big, with exception of the oldest age group, where retirement likely plays a role.\n",
    "\n",
    "As one would expect, individuals who work a lot also have a higher chance of having a higher income, with <b>Overworkers</b> having an approximately 4 times higher chance to receive a high income compared to occassional, and 1.5 times higher chance compared to full-time workers.\n",
    "\n",
    "The effect of both education and occupation is very similar in strength:\n",
    "\n",
    "Individuals with a higher <b>education</b> are almost three times as likely to have a higher income compared to those without. However, many persons in the youngest age group might not yet have had the chance to reach their highest possible education. Therefore, education is likely another confounding factor that emphasizes the differences in income with regard to age.\n",
    "\n",
    "We can observe a similar impact of <b>occupation</b> on a persons income, signalling that \"white collar\" workers are almost 3 times as likely as \"blue collar\" workers to have a high income. This is due to the fact that white collar jobs are associated with skilled labour, which is usually rewarded with a higher salary, whereas blue collar positions comprise unskilled labour with lower salaries. Again, there might be an age-effect present for younger individuals who are yet to reach their definitive job position.\n",
    "\n",
    "It was also to expect that men are more likely to have a high yearly income than women, which is caused by the pay gap between the <b>genders</b> that still exists in most countries today (and this dataset it from the 1970s). However, even though men are around 44% more likely to earn more than 50.000 dollars a year compared to women, the effect is not as pronounced as it is for many other variables that we tested.\n",
    "\n",
    "There is also a discrepancy between <b>white and non-white</b> individuals. Being white appears to offer a 31% higher chance to receive a high yearly income. Since most of the individuals in the data are from North America, this result mostly reflects the situation there but might be similar in other western countries.\n",
    "\n",
    "Lastly, there is a roughly 12% lower chance to earn more than 50.000 dollars are year for those who work for <b>private companies compared to persons in public positions</b>. Even though the effect is not very big, it might be plausible considering that public institutions mostly offer better working conditions and boni to their workers. Also, seniority is rewarded more linearly in the public sector. Private companies can freely decide which salaries they want to pay and how they want to reward seniority, whereas there are more fixed rules for this in public jobs. Moreover, private companies are profit oriented and might apply practices such as employing cheap labour (and dumping) to save money. It can be argued that private companies also have the potential to pay significantly higher salaries than public institutions ever would, but in the broad perspective, there are probably more companies that pay out lower rather than higher salaries compared to the public sector.\n",
    "\n",
    "<b>Conclusion</b>: Married, white men aged 45-54, with a higher education and a white collar job within the public sector, in which they work lots of hours, have the best chance to have an income above 50.000 dollars yearly, whereas single, non-white women between 17-24, without a higher education and a blue collar job in the private sector, in wich they only work occassionally, have the lowest chances of earning more than 50.000 dollars a year."
   ]
  },
  {
   "cell_type": "markdown",
   "metadata": {},
   "source": [
    "<u><p style=\"font-size:20px\">6. Beginning the Classification Process</p></u>"
   ]
  },
  {
   "cell_type": "markdown",
   "metadata": {},
   "source": [
    "After we have gotten an overview over the importance of our regressors for out dependent variable, we can proceed to run a variety of classifiers to determine which one proves best to predict the income of an individual based on the variables we have in our dataset. Before fitting our models, however, we need to split our data into train and test data."
   ]
  },
  {
   "cell_type": "markdown",
   "metadata": {},
   "source": [
    "<u><p style=\"font-size:18px\">6.1. Splitting the Dataset into Train and Test Data</p></u>"
   ]
  },
  {
   "cell_type": "markdown",
   "metadata": {},
   "source": [
    "In order to ensure that we are not overfitting our model on the dataset at hand, and also in order to be able to cross-validate our classifiers, we will split our preprocessed dataset into a training and test dataset. The training dataset will be used by our models to learn on, while the test dataset will be used to validate its accuracy.\n",
    "\n",
    "We can apply Sklearn's <u>train_test_split</u> method to split our dataset into training and test data. <u>Train_test_split</u> provides the advantage that it creates both the input and the target datasets for both train and test data. Moreover, it shuffles the cases in the sets by default, so we can be sure to remove potential effects that may exist due to the order in which cases were saved in the dataset. We will need to import the relevant module for this functionality.\n",
    "\n",
    "A common train-test-split is the 80/20 split, that is 80% of the dataset is chosen as train and 20% as test data. The goal is to retain the bulk of the data points in the test dataset so we are not losing the underlying patterns in the data due to shrinking our dataset too much.\n",
    "\n",
    "We can apply Sklearn's <u>\"train_test_split\"</u> as follows, after we imported the necessary library:\n",
    "\n",
    "<em>Additional info:</em> We will also set the random shuffle to a specific state (333), so we will attain the same shuffle order each time we re-run the code in this notebook.\n",
    "\n",
    "<em>Additional info 2:</em> We will also remove the <b>Part-time Work</b> variable from our dataset which we identified to be not explanatory for <b>Income<b>:"
   ]
  },
  {
   "cell_type": "code",
   "execution_count": 58,
   "metadata": {},
   "outputs": [],
   "source": [
    "data_v2 = data_v1.drop(\"Part-time Work\", axis=1)\n",
    "\n",
    "targets = data_v2[\"Income\"]\n",
    "inputs = data_v2.drop(\"Income\", axis=1)\n",
    "\n",
    "from sklearn.model_selection import train_test_split\n",
    "\n",
    "inputs_train, inputs_test, targets_train, targets_test = train_test_split(inputs, targets, test_size=0.2, random_state=333) "
   ]
  },
  {
   "cell_type": "markdown",
   "metadata": {},
   "source": [
    "We can test if our split has worked correctly:"
   ]
  },
  {
   "cell_type": "code",
   "execution_count": 59,
   "metadata": {},
   "outputs": [
    {
     "data": {
      "text/html": [
       "<div>\n",
       "<style scoped>\n",
       "    .dataframe tbody tr th:only-of-type {\n",
       "        vertical-align: middle;\n",
       "    }\n",
       "\n",
       "    .dataframe tbody tr th {\n",
       "        vertical-align: top;\n",
       "    }\n",
       "\n",
       "    .dataframe thead th {\n",
       "        text-align: right;\n",
       "    }\n",
       "</style>\n",
       "<table border=\"1\" class=\"dataframe\">\n",
       "  <thead>\n",
       "    <tr style=\"text-align: right;\">\n",
       "      <th></th>\n",
       "      <th>Dataset</th>\n",
       "      <th>Sample Size</th>\n",
       "      <th>Sample Percentage</th>\n",
       "    </tr>\n",
       "  </thead>\n",
       "  <tbody>\n",
       "    <tr>\n",
       "      <th>0</th>\n",
       "      <td>inputs_train</td>\n",
       "      <td>24563</td>\n",
       "      <td>0.799993</td>\n",
       "    </tr>\n",
       "    <tr>\n",
       "      <th>1</th>\n",
       "      <td>inputs_test</td>\n",
       "      <td>6141</td>\n",
       "      <td>0.200007</td>\n",
       "    </tr>\n",
       "    <tr>\n",
       "      <th>2</th>\n",
       "      <td>targets_train</td>\n",
       "      <td>24563</td>\n",
       "      <td>0.799993</td>\n",
       "    </tr>\n",
       "    <tr>\n",
       "      <th>3</th>\n",
       "      <td>targets_test</td>\n",
       "      <td>6141</td>\n",
       "      <td>0.200007</td>\n",
       "    </tr>\n",
       "  </tbody>\n",
       "</table>\n",
       "</div>"
      ],
      "text/plain": [
       "         Dataset  Sample Size  Sample Percentage\n",
       "0   inputs_train        24563           0.799993\n",
       "1    inputs_test         6141           0.200007\n",
       "2  targets_train        24563           0.799993\n",
       "3   targets_test         6141           0.200007"
      ]
     },
     "execution_count": 59,
     "metadata": {},
     "output_type": "execute_result"
    }
   ],
   "source": [
    "split_test = pd.DataFrame()\n",
    "split_test[\"Dataset\"] = [\"inputs_train\", \"inputs_test\", \"targets_train\", \"targets_test\"]\n",
    "split_test[\"Sample Size\"] = [len(inputs_train.index), len(inputs_test.index), len(targets_train.index), len(targets_test.index)]\n",
    "split_test[\"Sample Percentage\"] = split_test[\"Sample Size\"] / len(data_v2.index)\n",
    "split_test"
   ]
  },
  {
   "cell_type": "markdown",
   "metadata": {},
   "source": [
    "Our split worked indeed, we have achieved an 80/20 split for our train and test data. We can now go ahead and fit our classifiers."
   ]
  },
  {
   "cell_type": "markdown",
   "metadata": {},
   "source": [
    "<u><p style=\"font-size:18px\">6.2. Fitting the Classifiers</p></u>"
   ]
  },
  {
   "cell_type": "markdown",
   "metadata": {},
   "source": [
    "There are a a number of classifiers we can appply to our problem. Here is a list of the ones we will apply in the following order. Be aware that we are applying the logistic regression approach again on our training dataset in order to compare its predictive power to the other classifiers. \n",
    "\n",
    "Model 1: Logistic Regression<br/>\n",
    "Model 2: Gaussian Naive Bayes<br/>\n",
    "Model 3: Support Vector Classifier<br/>\n",
    "Model 4: Linear SVC (Support Vector Machines)<br/>\n",
    "Model 5: Perceptron<br/>\n",
    "Model 6: Multilayer Perceptron<br/>\n",
    "Model 7: Decision Tree Classifier<br/>\n",
    "Model 8: Random Forest<br/>\n",
    "Model 9: K-Nearest Neighbors<br/>\n",
    "Model 10: Stochastic Gradient Descent<br/>\n",
    "Model 11: ADA Boost Classifier<br/>\n",
    "Model 12: Gradient Boosting Classifier<br/>\n",
    "Model 13: XGBoost<br/>\n",
    "\n",
    "We will apply all of these classifiers as part of a single function which will return their accuracies for the training dataset. Moreover, the same function will make each classifier predict outputs for our test dataset and save them in a data frame. The predictions will later be used for comparison with our real test outputs and accuracy scores will be calculated. Lastly, we will use the strongest classifier to predict for 3 fictional individuals whether they would earn more than 50.000 dollars a year or not.\n",
    "\n",
    "Extra info: There are a number of libraries we need to import for our classifiers to work. There are detailed descriptions for each of them and their corresponding libraries. We will not explain them in detail here, but just focus on their results. We will also import the modules for <u>KFold cross-validation</u>, <u>GridSearch</u> for identifying the best hyperparameters for each model, and <u>confusion matrix</u> to determine their accuracy, from sklearn:"
   ]
  },
  {
   "cell_type": "code",
   "execution_count": 60,
   "metadata": {},
   "outputs": [],
   "source": [
    "from sklearn.model_selection import KFold\n",
    "from sklearn.model_selection import cross_val_score, GridSearchCV\n",
    "from sklearn.metrics import confusion_matrix\n",
    "\n",
    "num_folds = 10\n",
    "kfold = KFold(num_folds)"
   ]
  },
  {
   "cell_type": "markdown",
   "metadata": {},
   "source": [
    "Now we define a function that will tests all classifers for us, return their accuracy and save predicted outputs for our test inputs in a data frame:"
   ]
  },
  {
   "cell_type": "code",
   "execution_count": 61,
   "metadata": {},
   "outputs": [],
   "source": [
    "def spot_check(x_train, y_train, x_test):\n",
    "    l=dict()\n",
    "    c=dict()\n",
    "    pred=pd.DataFrame()\n",
    "    \n",
    "    \n",
    "    # MODEL-1) LogisticRegression\n",
    "    # ---------------------------\n",
    "    \n",
    "    from sklearn.linear_model import LogisticRegression\n",
    "    \n",
    "    logreg = LogisticRegression()\n",
    "    \n",
    "    algos=('newton-cg', 'lbfgs', 'liblinear', 'sag', 'saga')\n",
    "    panalties = ['l2']\n",
    "    grid = {'penalty': panalties, 'solver': algos}\n",
    "    grid = GridSearchCV(estimator=logreg, param_grid=grid, cv=kfold, scoring='accuracy')\n",
    "    grid.fit(x_train, y_train)\n",
    "    logreg = grid.best_estimator_\n",
    "    print(\"MODEL-1: Accuracy of LogisticRegression : \", round(grid.best_score_ * 100,2))\n",
    "    l['acc_logreg']=round(grid.best_score_ * 100,2)\n",
    "    c['acc_logreg']=logreg\n",
    "    \n",
    "    p = pd.DataFrame(logreg.predict(x_test))\n",
    "    pred = pd.concat([pred, p], axis=1)\n",
    "    \n",
    "    \n",
    "    # MODEL-2) Gaussian Naive Bayes\n",
    "    # -----------------------------\n",
    "    \n",
    "    from sklearn.naive_bayes import GaussianNB\n",
    "    \n",
    "    gaussian = GaussianNB()\n",
    "    \n",
    "    results = cross_val_score(gaussian, x_train, y_train, cv=kfold, scoring='accuracy')\n",
    "    \n",
    "    acc_gaussian = round(results.mean() * 100, 2)\n",
    "    print(\"MODEL-2: Accuracy of GaussianNB : \", acc_gaussian)\n",
    "    l['acc_gaussian']=acc_gaussian\n",
    "    c['acc_gaussian']=gaussian\n",
    "    \n",
    "    p = pd.DataFrame(gaussian.fit(x_train, y_train).predict(x_test))\n",
    "    pred = pd.concat([pred, p], axis=1)\n",
    "    \n",
    "    \n",
    "    # MODEL-3) Support Vector Classifier\n",
    "    # ----------------------------------\n",
    "\n",
    "    from sklearn.svm import SVC\n",
    "    \n",
    "    kernels = ['linear', 'poly', 'rbf', 'sigmoid']\n",
    "    grid = {'kernel': kernels}\n",
    "    svc = SVC()\n",
    "    grid = GridSearchCV(estimator=svc, param_grid=grid, cv=kfold, scoring='accuracy')\n",
    "    grid.fit(x_train, y_train)\n",
    "    svc = grid.best_estimator_\n",
    "    print(\"MODEL-3: Accuracy of Support Vector Machines : \", round(grid.best_score_ * 100,2))\n",
    "    l['acc_svc']=round(grid.best_score_ * 100,2)\n",
    "    c['acc_svc']=svc\n",
    "\n",
    "    p = pd.DataFrame(svc.predict(x_test))\n",
    "    pred = pd.concat([pred, p], axis=1)\n",
    "    \n",
    "    \n",
    "    # MODEL-4) Linear SVC\n",
    "    # -------------------\n",
    "\n",
    "    from sklearn.svm import LinearSVC\n",
    "   \n",
    "    linear_svc = LinearSVC(random_state=333)\n",
    "    \n",
    "    results = cross_val_score(linear_svc, x_train, y_train, cv=kfold, scoring='accuracy')\n",
    "    \n",
    "    acc_linear_svc = round(results.mean() * 100, 2)\n",
    "    print(\"MODEL-4: Accuracy of LinearSVC : \", acc_linear_svc)\n",
    "    l['acc_linear_svc']=acc_linear_svc\n",
    "    c['acc_linear_svc']=linear_svc\n",
    "    \n",
    "    p = pd.DataFrame(linear_svc.fit(x_train, y_train).predict(x_test))\n",
    "    pred = pd.concat([pred, p], axis=1)\n",
    "    \n",
    "    \n",
    "    # MODEL-5) Perceptron\n",
    "    # -------------------\n",
    "\n",
    "    from sklearn.linear_model import Perceptron\n",
    "    \n",
    "    panalties = ['l1','l2']\n",
    "    grid = {'penalty': panalties}\n",
    "    perceptron1 = Perceptron(random_state=333)\n",
    "    grid = GridSearchCV(estimator=perceptron1, param_grid=grid, cv=kfold, scoring='accuracy', n_jobs=-1)\n",
    "    grid.fit(x_train, y_train)\n",
    "    perceptron1 = grid.best_estimator_\n",
    "    print(\"MODEL-5: Accuracy of Perceptron : \", round(grid.best_score_ * 100,2))\n",
    "    l['acc_perceptron']=round(grid.best_score_ * 100,2)\n",
    "    c['acc_perceptron']=perceptron1\n",
    "    \n",
    "    p = pd.DataFrame(perceptron1.predict(x_test))\n",
    "    pred = pd.concat([pred, p], axis=1)\n",
    "    \n",
    "\n",
    "    # MODEL-6) Multilayer Perceptron\n",
    "    # -------------------------------\n",
    "    \n",
    "    from sklearn.neural_network import MLPClassifier\n",
    "    \n",
    "    activation = ('identity', 'logistic', 'tanh', 'relu')\n",
    "    solver = ('lbfgs', 'sgd', 'adam')\n",
    "    learning_rate = ('constant', 'invscaling', 'adaptive')\n",
    "    grid = {'activation': activation, 'solver': solver, 'learning_rate': learning_rate}\n",
    "    perceptron2 = MLPClassifier(random_state=333, max_iter = 300)\n",
    "    grid = GridSearchCV(estimator=perceptron2, param_grid=grid, cv=kfold, scoring='accuracy', n_jobs=-1)\n",
    "    grid.fit(x_train, y_train)\n",
    "    perceptron2 = grid.best_estimator_\n",
    "    print(\"MODEL-6: Accuracy of MLPerceptron : \", round(grid.best_score_ * 100,2))\n",
    "    l['acc_mlperceptron']= round(grid.best_score_ * 100,2)\n",
    "    c['acc_mlperceptron']=perceptron2\n",
    "\n",
    "    p = pd.DataFrame(perceptron2.predict(x_test))\n",
    "    pred = pd.concat([pred, p], axis=1)\n",
    "    \n",
    "    \n",
    "    # MODEL-7) Decision Tree Classifier\n",
    "    # ---------------------------------\n",
    "    \n",
    "    from sklearn.tree import DecisionTreeClassifier\n",
    "    \n",
    "    criteria = ('gini', 'entropy')\n",
    "    max_depths = [i for i in range(2, 10)]\n",
    "    grid = {'criterion': criteria, 'max_depth': max_depths}\n",
    "    decisiontree = DecisionTreeClassifier()\n",
    "    grid = GridSearchCV(estimator=decisiontree, param_grid=grid, cv=kfold, scoring='accuracy', n_jobs=-1)\n",
    "    grid.fit(x_train, y_train)\n",
    "    decisiontree = grid.best_estimator_\n",
    "    print(\"MODEL-7: Accuracy of DecisionTreeClassifier : \", round(grid.best_score_ * 100,2))\n",
    "    l['acc_decisiontree']= round(grid.best_score_ * 100,2)\n",
    "    c['acc_decisiontree']=decisiontree\n",
    "    \n",
    "    p = pd.DataFrame(decisiontree.predict(x_test))\n",
    "    pred = pd.concat([pred, p], axis=1)\n",
    "    \n",
    "    \n",
    "    # MODEL-8) Random Forest\n",
    "    # ----------------------\n",
    "    \n",
    "    from sklearn.ensemble import RandomForestClassifier\n",
    "    \n",
    "    criteria = ('gini', 'entropy')\n",
    "    n_estimators = [i for i in range(20, 201, 20)]\n",
    "    max_depths = [i for i in range(2, 20)]\n",
    "    grid = {'criterion': criteria, 'max_depth': max_depths, 'n_estimators': n_estimators}\n",
    "    randomforest = RandomForestClassifier(random_state=33)\n",
    "    grid = GridSearchCV(estimator=randomforest, param_grid=grid, cv=kfold, scoring='accuracy', n_jobs=-1)\n",
    "    grid.fit(x_train, y_train)\n",
    "    randomforest = grid.best_estimator_\n",
    "    print(\"MODEL-8: Accuracy of RandomForestClassifier : \", round(grid.best_score_ * 100,2))\n",
    "    l['acc_randomforest']= round(grid.best_score_ * 100,2)\n",
    "    c['acc_randomforest']=randomforest\n",
    "\n",
    "    p = pd.DataFrame(randomforest.predict(x_test))\n",
    "    pred = pd.concat([pred, p], axis=1)\n",
    "    \n",
    "    \n",
    "    # MODEL-9) KNN or k-Nearest Neighbors\n",
    "    # -----------------------------------\n",
    "\n",
    "    from sklearn.neighbors import KNeighborsClassifier\n",
    "    \n",
    "    algorithm = ('auto', 'ball_tree', 'kd_tree', 'brute')\n",
    "    n_neighbors = [i for i in range(1,30)]\n",
    "    grid = {'algorithm': algorithm, 'n_neighbors': n_neighbors}\n",
    "    knn = KNeighborsClassifier()\n",
    "    grid = GridSearchCV(estimator=knn, param_grid=grid, cv=kfold, scoring='accuracy', n_jobs=-1)\n",
    "    grid.fit(x_train, y_train)\n",
    "    knn = grid.best_estimator_\n",
    "    print(\"MODEL-9: Accuracy of k-Nearest Neighbors : \",round(grid.best_score_ * 100,2))\n",
    "    l['acc_knn']= round(grid.best_score_ * 100,2)\n",
    "    c['acc_knn']=knn\n",
    "    \n",
    "    p = pd.DataFrame(knn.predict(x_test))\n",
    "    pred = pd.concat([pred, p], axis=1)\n",
    "    \n",
    "    \n",
    "    # MODEL-10) Stochastic Gradient Descent\n",
    "    # -------------------------------------\n",
    "    \n",
    "    from sklearn.linear_model import SGDClassifier\n",
    "    \n",
    "    sgd = SGDClassifier(random_state=333)\n",
    "    \n",
    "    results = cross_val_score(sgd, x_train, y_train, cv=kfold, scoring='accuracy')\n",
    "    \n",
    "    acc_sgd = round(results.mean() * 100, 2)\n",
    "    print(\"MODEL-10: Accuracy of Stochastic Gradient Descent : \", acc_sgd)\n",
    "    l['acc_sgd']= acc_sgd\n",
    "    c['acc_sgd']=sgd\n",
    "    \n",
    "    p = pd.DataFrame(sgd.fit(x_train, y_train).predict(x_test))\n",
    "    pred = pd.concat([pred, p], axis=1)\n",
    "\n",
    "    \n",
    "    # MODEL-11) ADABoost Classifier\n",
    "    # -----------------------------\n",
    "    \n",
    "    from sklearn.ensemble import AdaBoostClassifier\n",
    "    n_estimators = [100,140,145,150,160, 170,175,180,185];\n",
    "    learning_r = [0.1,1,0.01,0.5]\n",
    "\n",
    "    grid = {'n_estimators':n_estimators, 'learning_rate':learning_r}\n",
    "    \n",
    "    grid = GridSearchCV(AdaBoostClassifier(base_estimator= None),param_grid=grid,cv=kfold,scoring='accuracy',n_jobs = -1)\n",
    "    grid.fit(x_train, y_train) \n",
    "    \n",
    "    ada = grid.best_estimator_\n",
    "    print(\"MODEL-11: Accuracy of adaboosgt : \", round(grid.best_score_ * 100,2))\n",
    "    l['acc_adaboost']=round(grid.best_score_ * 100,2)\n",
    "    c['acc_adaboost']=ada\n",
    "    \n",
    "    p = pd.DataFrame(ada.predict(x_test))\n",
    "    pred = pd.concat([pred, p], axis=1)\n",
    "\n",
    "\n",
    "    # MODEL-12) Gradient Boosting Classifier\n",
    "    # --------------------------------------\n",
    "    \n",
    "    from sklearn.ensemble import GradientBoostingClassifier\n",
    "    \n",
    "    gbk = GradientBoostingClassifier()\n",
    "    \n",
    "    results = cross_val_score(gbk, x_train, y_train, cv=kfold, scoring='accuracy')\n",
    "    \n",
    "    acc_gbk = round(results.mean() * 100, 2)\n",
    "    print(\"MODEL-12: Accuracy of GradientBoostingClassifier : \", acc_gbk)\n",
    "    l['acc_gbk']= acc_gbk\n",
    "    c['acc_gbk']=gbk\n",
    "    \n",
    "    p = pd.DataFrame(gbk.fit(x_train, y_train).predict(x_test))\n",
    "    pred = pd.concat([pred, p], axis=1)\n",
    "    \n",
    "    \n",
    "    # MODEL-13) XGBoost\n",
    "    # -----------------\n",
    "    \n",
    "    from xgboost import XGBClassifier\n",
    "    \n",
    "    classifier = XGBClassifier()\n",
    "    \n",
    "    results = cross_val_score(classifier, x_train, y_train, cv=kfold, scoring='accuracy')\n",
    "    \n",
    "    acc_xgb=round(results.mean() * 100, 2)\n",
    "    print(\"MODEL-13: Accuracy of XGBoost : \", acc_xgb)\n",
    "    l['acc_xgb']= acc_xgb\n",
    "    c['acc_xgb']=classifier\n",
    "    \n",
    "    p = pd.DataFrame(classifier.fit(x_train, y_train).predict(x_test))\n",
    "    pred = pd.concat([pred, p], axis=1)\n",
    "    \n",
    "    \n",
    "    return l, c, pred"
   ]
  },
  {
   "cell_type": "markdown",
   "metadata": {},
   "source": [
    "Now we will feed our train inputs, targets and test inputs and run the function."
   ]
  },
  {
   "cell_type": "code",
   "execution_count": 62,
   "metadata": {
    "scrolled": true
   },
   "outputs": [
    {
     "name": "stdout",
     "output_type": "stream",
     "text": [
      "MODEL-1: Accuracy of LogisticRegression :  82.12\n",
      "MODEL-2: Accuracy of GaussianNB :  79.22\n",
      "MODEL-3: Accuracy of Support Vector Machines :  82.29\n",
      "MODEL-4: Accuracy of LinearSVC :  82.07\n",
      "MODEL-5: Accuracy of Perceptron :  72.09\n",
      "MODEL-6: Accuracy of MLPerceptron :  82.29\n",
      "MODEL-7: Accuracy of DecisionTreeClassifier :  82.1\n",
      "MODEL-8: Accuracy of RandomForestClassifier :  82.47\n",
      "MODEL-9: Accuracy of k-Nearest Neighbors :  82.15\n",
      "MODEL-10: Accuracy of Stochastic Gradient Descent :  81.73\n",
      "MODEL-11: Accuracy of adaboosgt :  82.05\n",
      "MODEL-12: Accuracy of GradientBoostingClassifier :  82.5\n",
      "MODEL-13: Accuracy of XGBoost :  82.38\n"
     ]
    }
   ],
   "source": [
    "accuracy_list, classifiers, predictions = spot_check(inputs_train, targets_train, inputs_test)"
   ]
  },
  {
   "cell_type": "markdown",
   "metadata": {},
   "source": [
    "<u><p style=\"font-size:18px\">6.3. Summarizing the Outputs of the Classifiers</p></u>"
   ]
  },
  {
   "cell_type": "markdown",
   "metadata": {},
   "source": [
    "We can summarize the classifiers as follows, sorted by their accuracy:"
   ]
  },
  {
   "cell_type": "code",
   "execution_count": 63,
   "metadata": {},
   "outputs": [
    {
     "data": {
      "text/html": [
       "<div>\n",
       "<style scoped>\n",
       "    .dataframe tbody tr th:only-of-type {\n",
       "        vertical-align: middle;\n",
       "    }\n",
       "\n",
       "    .dataframe tbody tr th {\n",
       "        vertical-align: top;\n",
       "    }\n",
       "\n",
       "    .dataframe thead th {\n",
       "        text-align: right;\n",
       "    }\n",
       "</style>\n",
       "<table border=\"1\" class=\"dataframe\">\n",
       "  <thead>\n",
       "    <tr style=\"text-align: right;\">\n",
       "      <th></th>\n",
       "      <th>Classifier</th>\n",
       "      <th>Accuracy</th>\n",
       "    </tr>\n",
       "  </thead>\n",
       "  <tbody>\n",
       "    <tr>\n",
       "      <th>11</th>\n",
       "      <td>acc_gbk</td>\n",
       "      <td>82.50</td>\n",
       "    </tr>\n",
       "    <tr>\n",
       "      <th>7</th>\n",
       "      <td>acc_randomforest</td>\n",
       "      <td>82.47</td>\n",
       "    </tr>\n",
       "    <tr>\n",
       "      <th>12</th>\n",
       "      <td>acc_xgb</td>\n",
       "      <td>82.38</td>\n",
       "    </tr>\n",
       "    <tr>\n",
       "      <th>2</th>\n",
       "      <td>acc_svc</td>\n",
       "      <td>82.29</td>\n",
       "    </tr>\n",
       "    <tr>\n",
       "      <th>5</th>\n",
       "      <td>acc_mlperceptron</td>\n",
       "      <td>82.29</td>\n",
       "    </tr>\n",
       "    <tr>\n",
       "      <th>8</th>\n",
       "      <td>acc_knn</td>\n",
       "      <td>82.15</td>\n",
       "    </tr>\n",
       "    <tr>\n",
       "      <th>0</th>\n",
       "      <td>acc_logreg</td>\n",
       "      <td>82.12</td>\n",
       "    </tr>\n",
       "    <tr>\n",
       "      <th>6</th>\n",
       "      <td>acc_decisiontree</td>\n",
       "      <td>82.10</td>\n",
       "    </tr>\n",
       "    <tr>\n",
       "      <th>3</th>\n",
       "      <td>acc_linear_svc</td>\n",
       "      <td>82.07</td>\n",
       "    </tr>\n",
       "    <tr>\n",
       "      <th>10</th>\n",
       "      <td>acc_adaboost</td>\n",
       "      <td>82.05</td>\n",
       "    </tr>\n",
       "    <tr>\n",
       "      <th>9</th>\n",
       "      <td>acc_sgd</td>\n",
       "      <td>81.73</td>\n",
       "    </tr>\n",
       "    <tr>\n",
       "      <th>1</th>\n",
       "      <td>acc_gaussian</td>\n",
       "      <td>79.22</td>\n",
       "    </tr>\n",
       "    <tr>\n",
       "      <th>4</th>\n",
       "      <td>acc_perceptron</td>\n",
       "      <td>72.09</td>\n",
       "    </tr>\n",
       "  </tbody>\n",
       "</table>\n",
       "</div>"
      ],
      "text/plain": [
       "          Classifier  Accuracy\n",
       "11           acc_gbk     82.50\n",
       "7   acc_randomforest     82.47\n",
       "12           acc_xgb     82.38\n",
       "2            acc_svc     82.29\n",
       "5   acc_mlperceptron     82.29\n",
       "8            acc_knn     82.15\n",
       "0         acc_logreg     82.12\n",
       "6   acc_decisiontree     82.10\n",
       "3     acc_linear_svc     82.07\n",
       "10      acc_adaboost     82.05\n",
       "9            acc_sgd     81.73\n",
       "1       acc_gaussian     79.22\n",
       "4     acc_perceptron     72.09"
      ]
     },
     "execution_count": 63,
     "metadata": {},
     "output_type": "execute_result"
    }
   ],
   "source": [
    "acclist = pd.DataFrame()\n",
    "\n",
    "acclist[\"Classifier\"] = accuracy_list.keys()\n",
    "acclist[\"Accuracy\"] = accuracy_list.values()\n",
    "\n",
    "acclist.sort_values(by=[\"Accuracy\"], ascending=False)"
   ]
  },
  {
   "cell_type": "markdown",
   "metadata": {},
   "source": [
    "We can also visualize the results by means of a bar chart created with matplotlib, which we will import for this purpose."
   ]
  },
  {
   "cell_type": "code",
   "execution_count": 64,
   "metadata": {
    "scrolled": false
   },
   "outputs": [
    {
     "data": {
      "text/plain": [
       "<module 'matplotlib.pyplot' from 'C:\\\\Users\\\\bg\\\\Anaconda3\\\\lib\\\\site-packages\\\\matplotlib\\\\pyplot.py'>"
      ]
     },
     "execution_count": 64,
     "metadata": {},
     "output_type": "execute_result"
    },
    {
     "data": {
      "image/png": "[encoded data removed]",
      "text/plain": [
       "<Figure size 1080x360 with 1 Axes>"
      ]
     },
     "metadata": {},
     "output_type": "display_data"
    }
   ],
   "source": [
    "import matplotlib.pyplot as plt\n",
    "\n",
    "plt.figure(figsize=(15,5))\n",
    "plt.bar(\"Classifier\", \"Accuracy\", data=acclist.sort_values(by=[\"Accuracy\"], ascending=False))\n",
    "plt.title(\"Classifiers and Accuracy for Training Data\", size=24)\n",
    "plt.xlabel(\"Classifier\", size=20)\n",
    "plt.ylabel(\"Accuracy\", size=20)\n",
    "plt.xticks(ticks=acclist[\"Classifier\"], size=14, rotation=45)\n",
    "plt.yticks(ticks=[i for i in range(0,110,10)], size=14)\n",
    "plt"
   ]
  },
  {
   "cell_type": "markdown",
   "metadata": {},
   "source": [
    "We can see that several classifiers score similar accuracies for our problem with the best one(s) classifying approximately 82% of the training data correctly. But do these accuracies directly translate into predictive power for out test outputs? We will check this in the following steps."
   ]
  },
  {
   "cell_type": "markdown",
   "metadata": {},
   "source": [
    "<u><p style=\"font-size:18px\">6.4. Examining the Predictive Power via Validation with the Test Outputs</p></u>"
   ]
  },
  {
   "cell_type": "markdown",
   "metadata": {},
   "source": [
    "Firstly, we will re-name the columns of our data frame which includes the predicted test outputs for each classifier, which we earlier obtained from our function:"
   ]
  },
  {
   "cell_type": "code",
   "execution_count": 65,
   "metadata": {
    "scrolled": false
   },
   "outputs": [
    {
     "data": {
      "text/html": [
       "<div>\n",
       "<style scoped>\n",
       "    .dataframe tbody tr th:only-of-type {\n",
       "        vertical-align: middle;\n",
       "    }\n",
       "\n",
       "    .dataframe tbody tr th {\n",
       "        vertical-align: top;\n",
       "    }\n",
       "\n",
       "    .dataframe thead th {\n",
       "        text-align: right;\n",
       "    }\n",
       "</style>\n",
       "<table border=\"1\" class=\"dataframe\">\n",
       "  <thead>\n",
       "    <tr style=\"text-align: right;\">\n",
       "      <th></th>\n",
       "      <th>LogReg</th>\n",
       "      <th>NB</th>\n",
       "      <th>SVM</th>\n",
       "      <th>SVC</th>\n",
       "      <th>Perc</th>\n",
       "      <th>MLPerc</th>\n",
       "      <th>DTC</th>\n",
       "      <th>RFC</th>\n",
       "      <th>KNN</th>\n",
       "      <th>SGD</th>\n",
       "      <th>ADA</th>\n",
       "      <th>GBC</th>\n",
       "      <th>XGB</th>\n",
       "    </tr>\n",
       "  </thead>\n",
       "  <tbody>\n",
       "    <tr>\n",
       "      <th>0</th>\n",
       "      <td>0</td>\n",
       "      <td>0</td>\n",
       "      <td>0</td>\n",
       "      <td>0</td>\n",
       "      <td>0</td>\n",
       "      <td>0</td>\n",
       "      <td>0</td>\n",
       "      <td>0</td>\n",
       "      <td>0</td>\n",
       "      <td>0</td>\n",
       "      <td>0</td>\n",
       "      <td>0</td>\n",
       "      <td>0</td>\n",
       "    </tr>\n",
       "    <tr>\n",
       "      <th>1</th>\n",
       "      <td>1</td>\n",
       "      <td>1</td>\n",
       "      <td>1</td>\n",
       "      <td>1</td>\n",
       "      <td>1</td>\n",
       "      <td>1</td>\n",
       "      <td>1</td>\n",
       "      <td>1</td>\n",
       "      <td>1</td>\n",
       "      <td>1</td>\n",
       "      <td>1</td>\n",
       "      <td>1</td>\n",
       "      <td>1</td>\n",
       "    </tr>\n",
       "    <tr>\n",
       "      <th>2</th>\n",
       "      <td>1</td>\n",
       "      <td>1</td>\n",
       "      <td>0</td>\n",
       "      <td>1</td>\n",
       "      <td>0</td>\n",
       "      <td>0</td>\n",
       "      <td>0</td>\n",
       "      <td>0</td>\n",
       "      <td>1</td>\n",
       "      <td>0</td>\n",
       "      <td>1</td>\n",
       "      <td>0</td>\n",
       "      <td>0</td>\n",
       "    </tr>\n",
       "    <tr>\n",
       "      <th>3</th>\n",
       "      <td>1</td>\n",
       "      <td>1</td>\n",
       "      <td>1</td>\n",
       "      <td>1</td>\n",
       "      <td>0</td>\n",
       "      <td>1</td>\n",
       "      <td>1</td>\n",
       "      <td>1</td>\n",
       "      <td>1</td>\n",
       "      <td>1</td>\n",
       "      <td>1</td>\n",
       "      <td>1</td>\n",
       "      <td>1</td>\n",
       "    </tr>\n",
       "    <tr>\n",
       "      <th>4</th>\n",
       "      <td>0</td>\n",
       "      <td>1</td>\n",
       "      <td>0</td>\n",
       "      <td>0</td>\n",
       "      <td>0</td>\n",
       "      <td>0</td>\n",
       "      <td>0</td>\n",
       "      <td>0</td>\n",
       "      <td>0</td>\n",
       "      <td>0</td>\n",
       "      <td>0</td>\n",
       "      <td>0</td>\n",
       "      <td>0</td>\n",
       "    </tr>\n",
       "  </tbody>\n",
       "</table>\n",
       "</div>"
      ],
      "text/plain": [
       "   LogReg  NB  SVM  SVC  Perc  MLPerc  DTC  RFC  KNN  SGD  ADA  GBC  XGB\n",
       "0       0   0    0    0     0       0    0    0    0    0    0    0    0\n",
       "1       1   1    1    1     1       1    1    1    1    1    1    1    1\n",
       "2       1   1    0    1     0       0    0    0    1    0    1    0    0\n",
       "3       1   1    1    1     0       1    1    1    1    1    1    1    1\n",
       "4       0   1    0    0     0       0    0    0    0    0    0    0    0"
      ]
     },
     "execution_count": 65,
     "metadata": {},
     "output_type": "execute_result"
    }
   ],
   "source": [
    "predictions.columns=[\"LogReg\", \"NB\", \"SVM\", \"SVC\", \"Perc\", \"MLPerc\", \"DTC\", \n",
    "                            \"RFC\", \"KNN\", \"SGD\", \"ADA\", \"GBC\", \"XGB\"]\n",
    "predictions.head(5)"
   ]
  },
  {
   "cell_type": "markdown",
   "metadata": {},
   "source": [
    "In order to assess the accuracy of each model, we can create confusion matrices which will show us how many cases of the test targets were predicted correctly by each model. We will do this in the following way:\n",
    "\n",
    "We will substract the actual results from each column of the predictions data frame. For each case that we receive the result \"0\", the prediction has been identical with the actualt result, and thus correct. For each case that we receive the result \"-1\", the predictions have resulted in a false negative and for each result of \"1\" in a false positive. \n",
    "\n",
    "In order to correctly substract the test targets, we need to reset their index first."
   ]
  },
  {
   "cell_type": "code",
   "execution_count": 216,
   "metadata": {},
   "outputs": [
    {
     "data": {
      "text/html": [
       "<div>\n",
       "<style scoped>\n",
       "    .dataframe tbody tr th:only-of-type {\n",
       "        vertical-align: middle;\n",
       "    }\n",
       "\n",
       "    .dataframe tbody tr th {\n",
       "        vertical-align: top;\n",
       "    }\n",
       "\n",
       "    .dataframe thead th {\n",
       "        text-align: right;\n",
       "    }\n",
       "</style>\n",
       "<table border=\"1\" class=\"dataframe\">\n",
       "  <thead>\n",
       "    <tr style=\"text-align: right;\">\n",
       "      <th></th>\n",
       "      <th>LogReg</th>\n",
       "      <th>NB</th>\n",
       "      <th>SVM</th>\n",
       "      <th>SVC</th>\n",
       "      <th>Perc</th>\n",
       "      <th>MLPerc</th>\n",
       "      <th>DTC</th>\n",
       "      <th>RFC</th>\n",
       "      <th>KNN</th>\n",
       "      <th>SGD</th>\n",
       "      <th>ADA</th>\n",
       "      <th>GBC</th>\n",
       "      <th>XGB</th>\n",
       "    </tr>\n",
       "  </thead>\n",
       "  <tbody>\n",
       "    <tr>\n",
       "      <th>0</th>\n",
       "      <td>0</td>\n",
       "      <td>0</td>\n",
       "      <td>0</td>\n",
       "      <td>0</td>\n",
       "      <td>0</td>\n",
       "      <td>0</td>\n",
       "      <td>0</td>\n",
       "      <td>0</td>\n",
       "      <td>0</td>\n",
       "      <td>0</td>\n",
       "      <td>0</td>\n",
       "      <td>0</td>\n",
       "      <td>0</td>\n",
       "    </tr>\n",
       "    <tr>\n",
       "      <th>1</th>\n",
       "      <td>0</td>\n",
       "      <td>0</td>\n",
       "      <td>0</td>\n",
       "      <td>0</td>\n",
       "      <td>0</td>\n",
       "      <td>0</td>\n",
       "      <td>0</td>\n",
       "      <td>0</td>\n",
       "      <td>0</td>\n",
       "      <td>0</td>\n",
       "      <td>0</td>\n",
       "      <td>0</td>\n",
       "      <td>0</td>\n",
       "    </tr>\n",
       "    <tr>\n",
       "      <th>2</th>\n",
       "      <td>1</td>\n",
       "      <td>1</td>\n",
       "      <td>0</td>\n",
       "      <td>1</td>\n",
       "      <td>0</td>\n",
       "      <td>0</td>\n",
       "      <td>0</td>\n",
       "      <td>0</td>\n",
       "      <td>1</td>\n",
       "      <td>0</td>\n",
       "      <td>1</td>\n",
       "      <td>0</td>\n",
       "      <td>0</td>\n",
       "    </tr>\n",
       "    <tr>\n",
       "      <th>3</th>\n",
       "      <td>1</td>\n",
       "      <td>1</td>\n",
       "      <td>1</td>\n",
       "      <td>1</td>\n",
       "      <td>0</td>\n",
       "      <td>1</td>\n",
       "      <td>1</td>\n",
       "      <td>1</td>\n",
       "      <td>1</td>\n",
       "      <td>1</td>\n",
       "      <td>1</td>\n",
       "      <td>1</td>\n",
       "      <td>1</td>\n",
       "    </tr>\n",
       "    <tr>\n",
       "      <th>4</th>\n",
       "      <td>0</td>\n",
       "      <td>1</td>\n",
       "      <td>0</td>\n",
       "      <td>0</td>\n",
       "      <td>0</td>\n",
       "      <td>0</td>\n",
       "      <td>0</td>\n",
       "      <td>0</td>\n",
       "      <td>0</td>\n",
       "      <td>0</td>\n",
       "      <td>0</td>\n",
       "      <td>0</td>\n",
       "      <td>0</td>\n",
       "    </tr>\n",
       "  </tbody>\n",
       "</table>\n",
       "</div>"
      ],
      "text/plain": [
       "   LogReg  NB  SVM  SVC  Perc  MLPerc  DTC  RFC  KNN  SGD  ADA  GBC  XGB\n",
       "0       0   0    0    0     0       0    0    0    0    0    0    0    0\n",
       "1       0   0    0    0     0       0    0    0    0    0    0    0    0\n",
       "2       1   1    0    1     0       0    0    0    1    0    1    0    0\n",
       "3       1   1    1    1     0       1    1    1    1    1    1    1    1\n",
       "4       0   1    0    0     0       0    0    0    0    0    0    0    0"
      ]
     },
     "execution_count": 216,
     "metadata": {},
     "output_type": "execute_result"
    }
   ],
   "source": [
    "targets_test_reset = targets_test.reset_index(drop=True)\n",
    "\n",
    "prediction_results = predictions.subtract(targets_test_reset, axis = 0)\n",
    "\n",
    "prediction_results.head(5)"
   ]
  },
  {
   "cell_type": "markdown",
   "metadata": {},
   "source": [
    "We can now test for each classifier the ratio of false positives (FP), to false negatives (FN), to correct predictions (CP):"
   ]
  },
  {
   "cell_type": "code",
   "execution_count": 224,
   "metadata": {},
   "outputs": [
    {
     "data": {
      "text/html": [
       "<div>\n",
       "<style scoped>\n",
       "    .dataframe tbody tr th:only-of-type {\n",
       "        vertical-align: middle;\n",
       "    }\n",
       "\n",
       "    .dataframe tbody tr th {\n",
       "        vertical-align: top;\n",
       "    }\n",
       "\n",
       "    .dataframe thead th {\n",
       "        text-align: right;\n",
       "    }\n",
       "</style>\n",
       "<table border=\"1\" class=\"dataframe\">\n",
       "  <thead>\n",
       "    <tr style=\"text-align: right;\">\n",
       "      <th></th>\n",
       "      <th>RFC</th>\n",
       "      <th>KNN</th>\n",
       "      <th>SVM</th>\n",
       "      <th>DTC</th>\n",
       "      <th>MLPerc</th>\n",
       "      <th>XGB</th>\n",
       "      <th>GBC</th>\n",
       "      <th>LogReg</th>\n",
       "      <th>ADA</th>\n",
       "      <th>SGD</th>\n",
       "      <th>SVC</th>\n",
       "      <th>NB</th>\n",
       "      <th>Perc</th>\n",
       "    </tr>\n",
       "  </thead>\n",
       "  <tbody>\n",
       "    <tr>\n",
       "      <th>FN</th>\n",
       "      <td>668.00</td>\n",
       "      <td>643.00</td>\n",
       "      <td>668.00</td>\n",
       "      <td>636.0</td>\n",
       "      <td>665.00</td>\n",
       "      <td>654.00</td>\n",
       "      <td>657.00</td>\n",
       "      <td>644.00</td>\n",
       "      <td>645.00</td>\n",
       "      <td>620.00</td>\n",
       "      <td>640.00</td>\n",
       "      <td>564.00</td>\n",
       "      <td>1124.00</td>\n",
       "    </tr>\n",
       "    <tr>\n",
       "      <th>FP</th>\n",
       "      <td>386.00</td>\n",
       "      <td>418.00</td>\n",
       "      <td>397.00</td>\n",
       "      <td>434.0</td>\n",
       "      <td>407.00</td>\n",
       "      <td>418.00</td>\n",
       "      <td>416.00</td>\n",
       "      <td>442.00</td>\n",
       "      <td>442.00</td>\n",
       "      <td>469.00</td>\n",
       "      <td>456.00</td>\n",
       "      <td>729.00</td>\n",
       "      <td>317.00</td>\n",
       "    </tr>\n",
       "    <tr>\n",
       "      <th>CP</th>\n",
       "      <td>5087.00</td>\n",
       "      <td>5080.00</td>\n",
       "      <td>5076.00</td>\n",
       "      <td>5071.0</td>\n",
       "      <td>5069.00</td>\n",
       "      <td>5069.00</td>\n",
       "      <td>5068.00</td>\n",
       "      <td>5055.00</td>\n",
       "      <td>5054.00</td>\n",
       "      <td>5052.00</td>\n",
       "      <td>5045.00</td>\n",
       "      <td>4848.00</td>\n",
       "      <td>4700.00</td>\n",
       "    </tr>\n",
       "    <tr>\n",
       "      <th>Accuracy</th>\n",
       "      <td>79.28</td>\n",
       "      <td>79.11</td>\n",
       "      <td>79.02</td>\n",
       "      <td>78.9</td>\n",
       "      <td>78.85</td>\n",
       "      <td>78.85</td>\n",
       "      <td>78.83</td>\n",
       "      <td>78.52</td>\n",
       "      <td>78.49</td>\n",
       "      <td>78.44</td>\n",
       "      <td>78.28</td>\n",
       "      <td>73.33</td>\n",
       "      <td>69.34</td>\n",
       "    </tr>\n",
       "  </tbody>\n",
       "</table>\n",
       "</div>"
      ],
      "text/plain": [
       "              RFC      KNN      SVM     DTC   MLPerc      XGB      GBC  \\\n",
       "FN         668.00   643.00   668.00   636.0   665.00   654.00   657.00   \n",
       "FP         386.00   418.00   397.00   434.0   407.00   418.00   416.00   \n",
       "CP        5087.00  5080.00  5076.00  5071.0  5069.00  5069.00  5068.00   \n",
       "Accuracy    79.28    79.11    79.02    78.9    78.85    78.85    78.83   \n",
       "\n",
       "           LogReg      ADA      SGD      SVC       NB     Perc  \n",
       "FN         644.00   645.00   620.00   640.00   564.00  1124.00  \n",
       "FP         442.00   442.00   469.00   456.00   729.00   317.00  \n",
       "CP        5055.00  5054.00  5052.00  5045.00  4848.00  4700.00  \n",
       "Accuracy    78.52    78.49    78.44    78.28    73.33    69.34  "
      ]
     },
     "execution_count": 224,
     "metadata": {},
     "output_type": "execute_result"
    }
   ],
   "source": [
    "pred_tab_p = pd.DataFrame()\n",
    "pred_tab_r = pd.DataFrame()\n",
    "\n",
    "for i in prediction_results.columns.values:\n",
    "    p = pd.DataFrame(prediction_results[i].value_counts())\n",
    "    r = round(pd.Series(1 - (prediction_results[i].value_counts()[1] + prediction_results[i].value_counts()[-1]) / prediction_results[i].value_counts()[0]),4)\n",
    "    \n",
    "    pred_tab_p = pd.concat([pred_tab_p, p], axis=1)\n",
    "    pred_tab_r = pd.concat([pred_tab_r, r*100], axis=1)\n",
    "    \n",
    "pred_tab_p = pred_tab_p.rename(index={0:\"CP\", -1:\"FN\", 1:\"FP\"})\n",
    "pred_tab_r = pred_tab_r.rename(index={0: \"Accuracy\"})\n",
    "pred_tab_r.columns = prediction_results.columns.values\n",
    "\n",
    "pred_tab = pd.concat([pred_tab_p, pred_tab_r], axis=0)\n",
    "pred_tab = pred_tab.reindex([\"FN\",\"FP\",\"CP\",\"Accuracy\"])\n",
    "\n",
    "pred_tab.sort_values(by=\"Accuracy\", axis=1, ascending=False)"
   ]
  },
  {
   "cell_type": "markdown",
   "metadata": {},
   "source": [
    "We can see that the <u>Random Forest Classifier</u> has been the best to predict the actual outcomes of our test targets with a close to 80% accuracy. The accuracy is below the one we received for the same classifier on the training data, which is to expect as the model was learning to fit the training data most accurately.\n",
    "\n",
    "However, with its accuracy being only 82.47 - 79.28 = 3.19% lower, we can conclude that we have not overfit our model too much, so it remains useful for classifying future, unknown data.\n",
    "\n",
    "We can also have a look again at the order of best classification for the training data."
   ]
  },
  {
   "cell_type": "code",
   "execution_count": 209,
   "metadata": {},
   "outputs": [
    {
     "data": {
      "text/html": [
       "<div>\n",
       "<style scoped>\n",
       "    .dataframe tbody tr th:only-of-type {\n",
       "        vertical-align: middle;\n",
       "    }\n",
       "\n",
       "    .dataframe tbody tr th {\n",
       "        vertical-align: top;\n",
       "    }\n",
       "\n",
       "    .dataframe thead th {\n",
       "        text-align: right;\n",
       "    }\n",
       "</style>\n",
       "<table border=\"1\" class=\"dataframe\">\n",
       "  <thead>\n",
       "    <tr style=\"text-align: right;\">\n",
       "      <th></th>\n",
       "      <th>GBC</th>\n",
       "      <th>RFC</th>\n",
       "      <th>XGB</th>\n",
       "      <th>SVM</th>\n",
       "      <th>MLPerc</th>\n",
       "      <th>KNN</th>\n",
       "      <th>LogReg</th>\n",
       "      <th>DTC</th>\n",
       "      <th>SVC</th>\n",
       "      <th>ADA</th>\n",
       "      <th>SGD</th>\n",
       "      <th>NB</th>\n",
       "      <th>Perc</th>\n",
       "    </tr>\n",
       "  </thead>\n",
       "  <tbody>\n",
       "    <tr>\n",
       "      <th>Accuracy</th>\n",
       "      <td>82.5</td>\n",
       "      <td>82.47</td>\n",
       "      <td>82.38</td>\n",
       "      <td>82.29</td>\n",
       "      <td>82.29</td>\n",
       "      <td>82.15</td>\n",
       "      <td>82.12</td>\n",
       "      <td>82.1</td>\n",
       "      <td>82.07</td>\n",
       "      <td>82.05</td>\n",
       "      <td>81.73</td>\n",
       "      <td>79.22</td>\n",
       "      <td>72.09</td>\n",
       "    </tr>\n",
       "  </tbody>\n",
       "</table>\n",
       "</div>"
      ],
      "text/plain": [
       "           GBC    RFC    XGB    SVM MLPerc    KNN LogReg   DTC    SVC    ADA  \\\n",
       "Accuracy  82.5  82.47  82.38  82.29  82.29  82.15  82.12  82.1  82.07  82.05   \n",
       "\n",
       "            SGD     NB   Perc  \n",
       "Accuracy  81.73  79.22  72.09  "
      ]
     },
     "execution_count": 209,
     "metadata": {},
     "output_type": "execute_result"
    }
   ],
   "source": [
    "pred_tab_train = pd.DataFrame([acclist[\"Classifier\"],acclist[\"Accuracy\"]]) \n",
    "pred_tab_train.columns = [\"LogReg\", \"NB\", \"SVM\", \"SVC\", \"Perc\", \"MLPerc\", \"DTC\", \"RFC\", \"KNN\", \"SGD\", \"ADA\", \"GBC\", \"XGB\"]\n",
    "pred_tab_train = pred_tab_train.iloc[1:]\n",
    "pred_tab_train.sort_values(by=\"Accuracy\", axis=1, ascending=False)"
   ]
  },
  {
   "cell_type": "markdown",
   "metadata": {},
   "source": [
    "It becomes visible here that the order of best performers is slightly different. We can look at how well each classifier performed on the test data in comparison to training data performance:"
   ]
  },
  {
   "cell_type": "code",
   "execution_count": 225,
   "metadata": {},
   "outputs": [
    {
     "data": {
      "text/html": [
       "<div>\n",
       "<style scoped>\n",
       "    .dataframe tbody tr th:only-of-type {\n",
       "        vertical-align: middle;\n",
       "    }\n",
       "\n",
       "    .dataframe tbody tr th {\n",
       "        vertical-align: top;\n",
       "    }\n",
       "\n",
       "    .dataframe thead th {\n",
       "        text-align: right;\n",
       "    }\n",
       "</style>\n",
       "<table border=\"1\" class=\"dataframe\">\n",
       "  <thead>\n",
       "    <tr style=\"text-align: right;\">\n",
       "      <th></th>\n",
       "      <th>Perc</th>\n",
       "      <th>KNN</th>\n",
       "      <th>RFC</th>\n",
       "      <th>DTC</th>\n",
       "      <th>SVM</th>\n",
       "      <th>SGD</th>\n",
       "      <th>MLPerc</th>\n",
       "      <th>XGB</th>\n",
       "      <th>ADA</th>\n",
       "      <th>LogReg</th>\n",
       "      <th>GBC</th>\n",
       "      <th>SVC</th>\n",
       "      <th>NB</th>\n",
       "    </tr>\n",
       "  </thead>\n",
       "  <tbody>\n",
       "    <tr>\n",
       "      <th>Accuracy</th>\n",
       "      <td>-2.75</td>\n",
       "      <td>-3.04</td>\n",
       "      <td>-3.19</td>\n",
       "      <td>-3.2</td>\n",
       "      <td>-3.27</td>\n",
       "      <td>-3.29</td>\n",
       "      <td>-3.44</td>\n",
       "      <td>-3.53</td>\n",
       "      <td>-3.56</td>\n",
       "      <td>-3.6</td>\n",
       "      <td>-3.67</td>\n",
       "      <td>-3.79</td>\n",
       "      <td>-5.89</td>\n",
       "    </tr>\n",
       "  </tbody>\n",
       "</table>\n",
       "</div>"
      ],
      "text/plain": [
       "          Perc   KNN   RFC  DTC   SVM   SGD MLPerc   XGB   ADA LogReg   GBC  \\\n",
       "Accuracy -2.75 -3.04 -3.19 -3.2 -3.27 -3.29  -3.44 -3.53 -3.56   -3.6 -3.67   \n",
       "\n",
       "           SVC    NB  \n",
       "Accuracy -3.79 -5.89  "
      ]
     },
     "execution_count": 225,
     "metadata": {},
     "output_type": "execute_result"
    }
   ],
   "source": [
    "acc_comp = pd.DataFrame()\n",
    "\n",
    "for i in pred_tab.columns.values:\n",
    "    acc_comp[i] = pred_tab.iloc[3:][i] - pred_tab_train[i]\n",
    "\n",
    "acc_comp.sort_values(by=\"Accuracy\", axis=1, ascending=False)"
   ]
  },
  {
   "cell_type": "markdown",
   "metadata": {},
   "source": [
    "While both <u>Naive Bayes</u> and <u>Perceptron</u> (both relatively simple models) show the \"worst\" performance among all classifiers on both traing and test data, <u>Naive Bayes</u> has been performing worst with an around 6% lower accuracy compared to the training data. <u>Perceptron</u>, on the other hand, has shown the most stability in its predictions, even though it is still underperforming in comparison to the other classifiers.\n",
    "\n",
    "Considering the overall results, the <u>Random Forest</u>, <u>KNN</u> and <u>Support Vector Machines</u> classifiers have performed particularly well, even though the differences to the opther classifiers are very small. Apart from <u>Naive Bayes</u> and the simple <u>Perceptron</u>, any other classifier would probably produce satisfactory results for predicting the outcomes of future data. However, we will choose the winner for the test data, the <u>Random Forest</u> classifier, to predict whether the yearly income of 3 fictional individuals, is likely to be higher than 50.000 dollars."
   ]
  },
  {
   "cell_type": "markdown",
   "metadata": {},
   "source": [
    "<u><p style=\"font-size:20px\">7. Predicting the Income of 4 Fictional Persons</p></u>"
   ]
  },
  {
   "cell_type": "markdown",
   "metadata": {},
   "source": [
    "As a last step of this example, we can check for 3 fictional individuals whether, according to our model, these individuals would earn more than 50.000 dollars a year or not.\n",
    "\n",
    "We are going to test 3 individuals of which 2 are our \"stereotypes\" that we described in the conclusion of our results after the initial logistic regression, and 1 other will have a random combination of the characteristics in our dataset:\n",
    "\n",
    "1. The first person will be a married, overworking white man aged 45-54, with a higher education and a white collar job within the public sector.\n",
    "\n",
    "\n",
    "2. The second person will be an single, occassionally working non-white woman aged 17-24, without a higher education and a blue collar job in the private sector.\n",
    "\n",
    "\n",
    "3. The third person will be a divorced, full-time working non-white man aged 55-64, without a higher education and a blue collar job in the public sector.\n",
    "\n",
    "We first need to create our cases in a new dataset. To get the right column names, we can take the column descriptions from our last dataset:"
   ]
  },
  {
   "cell_type": "code",
   "execution_count": 228,
   "metadata": {},
   "outputs": [
    {
     "data": {
      "text/html": [
       "<div>\n",
       "<style scoped>\n",
       "    .dataframe tbody tr th:only-of-type {\n",
       "        vertical-align: middle;\n",
       "    }\n",
       "\n",
       "    .dataframe tbody tr th {\n",
       "        vertical-align: top;\n",
       "    }\n",
       "\n",
       "    .dataframe thead th {\n",
       "        text-align: right;\n",
       "    }\n",
       "</style>\n",
       "<table border=\"1\" class=\"dataframe\">\n",
       "  <thead>\n",
       "    <tr style=\"text-align: right;\">\n",
       "      <th></th>\n",
       "      <th>Sex</th>\n",
       "      <th>25-34</th>\n",
       "      <th>35-44</th>\n",
       "      <th>45-54</th>\n",
       "      <th>55-64</th>\n",
       "      <th>65+</th>\n",
       "      <th>Race_c</th>\n",
       "      <th>Education_c</th>\n",
       "      <th>Occupation_c</th>\n",
       "      <th>Workclass_c</th>\n",
       "      <th>Full-time Work</th>\n",
       "      <th>Overworkers</th>\n",
       "      <th>Status_c</th>\n",
       "    </tr>\n",
       "  </thead>\n",
       "  <tbody>\n",
       "    <tr>\n",
       "      <th>0</th>\n",
       "      <td>1</td>\n",
       "      <td>0</td>\n",
       "      <td>0</td>\n",
       "      <td>1</td>\n",
       "      <td>0</td>\n",
       "      <td>0</td>\n",
       "      <td>1</td>\n",
       "      <td>1</td>\n",
       "      <td>1</td>\n",
       "      <td>1</td>\n",
       "      <td>0</td>\n",
       "      <td>1</td>\n",
       "      <td>1</td>\n",
       "    </tr>\n",
       "    <tr>\n",
       "      <th>1</th>\n",
       "      <td>0</td>\n",
       "      <td>0</td>\n",
       "      <td>0</td>\n",
       "      <td>0</td>\n",
       "      <td>0</td>\n",
       "      <td>0</td>\n",
       "      <td>0</td>\n",
       "      <td>0</td>\n",
       "      <td>0</td>\n",
       "      <td>0</td>\n",
       "      <td>0</td>\n",
       "      <td>0</td>\n",
       "      <td>0</td>\n",
       "    </tr>\n",
       "    <tr>\n",
       "      <th>2</th>\n",
       "      <td>1</td>\n",
       "      <td>0</td>\n",
       "      <td>0</td>\n",
       "      <td>0</td>\n",
       "      <td>1</td>\n",
       "      <td>0</td>\n",
       "      <td>0</td>\n",
       "      <td>0</td>\n",
       "      <td>0</td>\n",
       "      <td>1</td>\n",
       "      <td>1</td>\n",
       "      <td>0</td>\n",
       "      <td>0</td>\n",
       "    </tr>\n",
       "  </tbody>\n",
       "</table>\n",
       "</div>"
      ],
      "text/plain": [
       "   Sex  25-34  35-44  45-54  55-64  65+  Race_c  Education_c  Occupation_c  \\\n",
       "0    1      0      0      1      0    0       1            1             1   \n",
       "1    0      0      0      0      0    0       0            0             0   \n",
       "2    1      0      0      0      1    0       0            0             0   \n",
       "\n",
       "   Workclass_c  Full-time Work  Overworkers  Status_c  \n",
       "0            1               0            1         1  \n",
       "1            0               0            0         0  \n",
       "2            1               1            0         0  "
      ]
     },
     "execution_count": 228,
     "metadata": {},
     "output_type": "execute_result"
    }
   ],
   "source": [
    "column_names = inputs_train.columns.values\n",
    "\n",
    "predict_persons = pd.DataFrame([\n",
    "    [1, 0, 0, 1, 0, 0, 1, 1, 1, 1, 0, 1, 1],\n",
    "    [0, 0, 0, 0, 0, 0, 0, 0, 0, 0, 0, 0, 0],\n",
    "    [1, 0, 0, 0, 1, 0, 0, 0, 0, 1, 1, 0, 0]], columns=column_names) \n",
    "\n",
    "predict_persons"
   ]
  },
  {
   "cell_type": "markdown",
   "metadata": {},
   "source": [
    "In order to predict out outputs with the <u>Random Forest</u> classifier, we need to call its instance again outside of the function we have defined it in before. "
   ]
  },
  {
   "cell_type": "code",
   "execution_count": null,
   "metadata": {},
   "outputs": [],
   "source": [
    "# MODEL-8) Random Forest\n",
    "# ----------------------\n",
    "    \n",
    "criteria = ('gini', 'entropy')\n",
    "n_estimators = [i for i in range(20, 201, 20)]\n",
    "max_depths = [i for i in range(2, 20)]\n",
    "grid = {'criterion': criteria, 'max_depth': max_depths, 'n_estimators': n_estimators}\n",
    "randomforest = RandomForestClassifier(random_state=33)\n",
    "grid = GridSearchCV(estimator=randomforest, param_grid=grid, cv=kfold, scoring='accuracy', n_jobs=-1)\n",
    "grid.fit(inputs_train, targets_train)\n",
    "randomforest = grid.best_estimator_"
   ]
  },
  {
   "cell_type": "code",
   "execution_count": 285,
   "metadata": {},
   "outputs": [
    {
     "data": {
      "text/plain": [
       "array([[0.18788227, 0.81211773],\n",
       "       [0.99860887, 0.00139113],\n",
       "       [0.95462674, 0.04537326]])"
      ]
     },
     "execution_count": 285,
     "metadata": {},
     "output_type": "execute_result"
    }
   ],
   "source": [
    "randomforest.predict_proba(predict_persons)"
   ]
  },
  {
   "cell_type": "markdown",
   "metadata": {},
   "source": [
    "We can see that our stereotype white, older, overworking married man has an approximately 81% chance to earn more than 50.000 dollars a year, while the chances for an umarried, non-white, occassionally working, young woman are next to zero. Lastly, our divorced, none-white male with a full-time blue collar job and close to his retirement has only a 4-5% chance of having a high income."
   ]
  }
 ],
 "metadata": {
  "kernelspec": {
   "display_name": "Python 3",
   "language": "python",
   "name": "python3"
  },
  "language_info": {
   "codemirror_mode": {
    "name": "ipython",
    "version": 3
   },
   "file_extension": ".py",
   "mimetype": "text/x-python",
   "name": "python",
   "nbconvert_exporter": "python",
   "pygments_lexer": "ipython3",
   "version": "3.7.6"
  }
 },
 "nbformat": 4,
 "nbformat_minor": 2
}
