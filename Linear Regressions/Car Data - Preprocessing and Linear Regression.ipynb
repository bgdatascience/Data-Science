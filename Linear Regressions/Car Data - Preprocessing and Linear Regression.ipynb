{
 "cells": [
  {
   "cell_type": "markdown",
   "metadata": {},
   "source": [
    "<em><p style=\"font-size:24px\">Linear Regression and Prediction with Car Data</p></em>"
   ]
  },
  {
   "cell_type": "markdown",
   "metadata": {},
   "source": [
    "<u><p style=\"font-size:20px\">1. Formulating the Goal of the Analysis</p></u>"
   ]
  },
  {
   "cell_type": "markdown",
   "metadata": {},
   "source": [
    "This example focuses on data gathered from several second-hand car dealerships. The aim of the analysis is to create a linear regression model that uses the available features of second-hand cars to explain the dependent variable <b>Car Price</b> as well as possible. The model will be tested and used to predict the prices of 3 fictional cars that could theoretically be offered by your car dealer next door."
   ]
  },
  {
   "cell_type": "markdown",
   "metadata": {},
   "source": [
    "<u><p style=\"font-size:20px\">2. Importing the Relevant Libraries</p></u>"
   ]
  },
  {
   "cell_type": "markdown",
   "metadata": {},
   "source": [
    "First, we will import the relevant libraries which we need throughout the example. We will import further packages from Sklearn later on in the process, together with the tasks at hand, so it becomes clearer and more integrated in the work-flow."
   ]
  },
  {
   "cell_type": "markdown",
   "metadata": {},
   "source": [
    "<em>Additional info</em>: We will activate Seaborn's visuals to overwrite the standard matplotlib styles for plots."
   ]
  },
  {
   "cell_type": "code",
   "execution_count": 1,
   "metadata": {},
   "outputs": [
    {
     "data": {
      "text/plain": [
       "<function seaborn.rcmod.set(context='notebook', style='darkgrid', palette='deep', font='sans-serif', font_scale=1, color_codes=True, rc=None)>"
      ]
     },
     "execution_count": 1,
     "metadata": {},
     "output_type": "execute_result"
    }
   ],
   "source": [
    "import numpy as np\n",
    "import pandas as pd\n",
    "import statsmodels.api as sm\n",
    "import seaborn as sns\n",
    "import matplotlib.pyplot as plt\n",
    "sns.set"
   ]
  },
  {
   "cell_type": "markdown",
   "metadata": {},
   "source": [
    "<u><p style=\"font-size:20px\">3. Importing the Data</p></u>"
   ]
  },
  {
   "cell_type": "markdown",
   "metadata": {},
   "source": [
    "We will now import (or read) the data, which has been saved as a comma delimited .csv file:"
   ]
  },
  {
   "cell_type": "code",
   "execution_count": 2,
   "metadata": {},
   "outputs": [],
   "source": [
    "raw_data = pd.read_csv(\"Car_Example.csv\")"
   ]
  },
  {
   "cell_type": "markdown",
   "metadata": {},
   "source": [
    "<u><p style=\"font-size:20px\">4. Exploring the Data</p></u>"
   ]
  },
  {
   "cell_type": "markdown",
   "metadata": {},
   "source": [
    "We can describe the data by looking at a first summary:"
   ]
  },
  {
   "cell_type": "code",
   "execution_count": 3,
   "metadata": {},
   "outputs": [
    {
     "data": {
      "text/html": [
       "<div>\n",
       "<style scoped>\n",
       "    .dataframe tbody tr th:only-of-type {\n",
       "        vertical-align: middle;\n",
       "    }\n",
       "\n",
       "    .dataframe tbody tr th {\n",
       "        vertical-align: top;\n",
       "    }\n",
       "\n",
       "    .dataframe thead th {\n",
       "        text-align: right;\n",
       "    }\n",
       "</style>\n",
       "<table border=\"1\" class=\"dataframe\">\n",
       "  <thead>\n",
       "    <tr style=\"text-align: right;\">\n",
       "      <th></th>\n",
       "      <th>Brand</th>\n",
       "      <th>Price</th>\n",
       "      <th>Body</th>\n",
       "      <th>Mileage</th>\n",
       "      <th>EngineV</th>\n",
       "      <th>Engine Type</th>\n",
       "      <th>Registration</th>\n",
       "      <th>Year</th>\n",
       "      <th>Model</th>\n",
       "    </tr>\n",
       "  </thead>\n",
       "  <tbody>\n",
       "    <tr>\n",
       "      <th>count</th>\n",
       "      <td>4345</td>\n",
       "      <td>4173.000000</td>\n",
       "      <td>4345</td>\n",
       "      <td>4345.000000</td>\n",
       "      <td>4195.000000</td>\n",
       "      <td>4345</td>\n",
       "      <td>4345</td>\n",
       "      <td>4345.000000</td>\n",
       "      <td>4345</td>\n",
       "    </tr>\n",
       "    <tr>\n",
       "      <th>unique</th>\n",
       "      <td>7</td>\n",
       "      <td>NaN</td>\n",
       "      <td>6</td>\n",
       "      <td>NaN</td>\n",
       "      <td>NaN</td>\n",
       "      <td>4</td>\n",
       "      <td>2</td>\n",
       "      <td>NaN</td>\n",
       "      <td>312</td>\n",
       "    </tr>\n",
       "    <tr>\n",
       "      <th>top</th>\n",
       "      <td>Volkswagen</td>\n",
       "      <td>NaN</td>\n",
       "      <td>sedan</td>\n",
       "      <td>NaN</td>\n",
       "      <td>NaN</td>\n",
       "      <td>Diesel</td>\n",
       "      <td>yes</td>\n",
       "      <td>NaN</td>\n",
       "      <td>E-Class</td>\n",
       "    </tr>\n",
       "    <tr>\n",
       "      <th>freq</th>\n",
       "      <td>936</td>\n",
       "      <td>NaN</td>\n",
       "      <td>1649</td>\n",
       "      <td>NaN</td>\n",
       "      <td>NaN</td>\n",
       "      <td>2019</td>\n",
       "      <td>3947</td>\n",
       "      <td>NaN</td>\n",
       "      <td>199</td>\n",
       "    </tr>\n",
       "    <tr>\n",
       "      <th>mean</th>\n",
       "      <td>NaN</td>\n",
       "      <td>19418.746935</td>\n",
       "      <td>NaN</td>\n",
       "      <td>161.237284</td>\n",
       "      <td>2.790734</td>\n",
       "      <td>NaN</td>\n",
       "      <td>NaN</td>\n",
       "      <td>2006.550058</td>\n",
       "      <td>NaN</td>\n",
       "    </tr>\n",
       "    <tr>\n",
       "      <th>std</th>\n",
       "      <td>NaN</td>\n",
       "      <td>25584.242620</td>\n",
       "      <td>NaN</td>\n",
       "      <td>105.705797</td>\n",
       "      <td>5.066437</td>\n",
       "      <td>NaN</td>\n",
       "      <td>NaN</td>\n",
       "      <td>6.719097</td>\n",
       "      <td>NaN</td>\n",
       "    </tr>\n",
       "    <tr>\n",
       "      <th>min</th>\n",
       "      <td>NaN</td>\n",
       "      <td>600.000000</td>\n",
       "      <td>NaN</td>\n",
       "      <td>0.000000</td>\n",
       "      <td>0.600000</td>\n",
       "      <td>NaN</td>\n",
       "      <td>NaN</td>\n",
       "      <td>1969.000000</td>\n",
       "      <td>NaN</td>\n",
       "    </tr>\n",
       "    <tr>\n",
       "      <th>25%</th>\n",
       "      <td>NaN</td>\n",
       "      <td>6999.000000</td>\n",
       "      <td>NaN</td>\n",
       "      <td>86.000000</td>\n",
       "      <td>1.800000</td>\n",
       "      <td>NaN</td>\n",
       "      <td>NaN</td>\n",
       "      <td>2003.000000</td>\n",
       "      <td>NaN</td>\n",
       "    </tr>\n",
       "    <tr>\n",
       "      <th>50%</th>\n",
       "      <td>NaN</td>\n",
       "      <td>11500.000000</td>\n",
       "      <td>NaN</td>\n",
       "      <td>155.000000</td>\n",
       "      <td>2.200000</td>\n",
       "      <td>NaN</td>\n",
       "      <td>NaN</td>\n",
       "      <td>2008.000000</td>\n",
       "      <td>NaN</td>\n",
       "    </tr>\n",
       "    <tr>\n",
       "      <th>75%</th>\n",
       "      <td>NaN</td>\n",
       "      <td>21700.000000</td>\n",
       "      <td>NaN</td>\n",
       "      <td>230.000000</td>\n",
       "      <td>3.000000</td>\n",
       "      <td>NaN</td>\n",
       "      <td>NaN</td>\n",
       "      <td>2012.000000</td>\n",
       "      <td>NaN</td>\n",
       "    </tr>\n",
       "    <tr>\n",
       "      <th>max</th>\n",
       "      <td>NaN</td>\n",
       "      <td>300000.000000</td>\n",
       "      <td>NaN</td>\n",
       "      <td>980.000000</td>\n",
       "      <td>99.990000</td>\n",
       "      <td>NaN</td>\n",
       "      <td>NaN</td>\n",
       "      <td>2016.000000</td>\n",
       "      <td>NaN</td>\n",
       "    </tr>\n",
       "  </tbody>\n",
       "</table>\n",
       "</div>"
      ],
      "text/plain": [
       "             Brand          Price   Body      Mileage      EngineV  \\\n",
       "count         4345    4173.000000   4345  4345.000000  4195.000000   \n",
       "unique           7            NaN      6          NaN          NaN   \n",
       "top     Volkswagen            NaN  sedan          NaN          NaN   \n",
       "freq           936            NaN   1649          NaN          NaN   \n",
       "mean           NaN   19418.746935    NaN   161.237284     2.790734   \n",
       "std            NaN   25584.242620    NaN   105.705797     5.066437   \n",
       "min            NaN     600.000000    NaN     0.000000     0.600000   \n",
       "25%            NaN    6999.000000    NaN    86.000000     1.800000   \n",
       "50%            NaN   11500.000000    NaN   155.000000     2.200000   \n",
       "75%            NaN   21700.000000    NaN   230.000000     3.000000   \n",
       "max            NaN  300000.000000    NaN   980.000000    99.990000   \n",
       "\n",
       "       Engine Type Registration         Year    Model  \n",
       "count         4345         4345  4345.000000     4345  \n",
       "unique           4            2          NaN      312  \n",
       "top         Diesel          yes          NaN  E-Class  \n",
       "freq          2019         3947          NaN      199  \n",
       "mean           NaN          NaN  2006.550058      NaN  \n",
       "std            NaN          NaN     6.719097      NaN  \n",
       "min            NaN          NaN  1969.000000      NaN  \n",
       "25%            NaN          NaN  2003.000000      NaN  \n",
       "50%            NaN          NaN  2008.000000      NaN  \n",
       "75%            NaN          NaN  2012.000000      NaN  \n",
       "max            NaN          NaN  2016.000000      NaN  "
      ]
     },
     "execution_count": 3,
     "metadata": {},
     "output_type": "execute_result"
    }
   ],
   "source": [
    "raw_data.describe(include=\"all\")"
   ]
  },
  {
   "cell_type": "markdown",
   "metadata": {},
   "source": [
    "<u><p style=\"font-size:18px\">4.1. Variable Clarification</p></u>"
   ]
  },
  {
   "cell_type": "markdown",
   "metadata": {},
   "source": [
    "The dataset provides cases of second-hand cars that were offered at several car dealerships. Each car has a variety of features to describe it. Here a brief description:\n",
    "\n",
    "<b>Brand</b>: The car brand. We have 7 unique brands in the dataset. The data is categorical.\n",
    "\n",
    "<b>Price</b>: The price a car was offered for at the dealership (in dollars). It is the dependent variable in this analysis. The data is numerical.\n",
    "\n",
    "<b>Body</b>: The car's body type. We have 6 unique body types. The data is categorical.\n",
    "\n",
    "<b>Mileage</b>: The amount of miles the car was driven in its lifetime (in 1000s). The data is numerical.\n",
    "\n",
    "<b>EngineV</b>: The car's engine volume in litres. The data is numerical.\n",
    "\n",
    "<b>Engine Type</b>: The car's engine (or fuel) type. We have 4 unique engine types. The data is categorical.\n",
    "\n",
    "<b>Registration</b>: Shows whether or not a car has a valid registration. The data is categorical and dichotomous.\n",
    "\n",
    "<b>Year</b>: The year in which the car was manufactured. The data is numerical.\n",
    "\n",
    "<b>Model</b>: The car model. We have 312 unique models. The data is categorical."
   ]
  },
  {
   "cell_type": "markdown",
   "metadata": {},
   "source": [
    "<u><p style=\"font-size:18px\">4.2. Verifying Linear Relationships</p></u>"
   ]
  },
  {
   "cell_type": "markdown",
   "metadata": {},
   "source": [
    "Perfoming a linear regression implies that the independent variables (or regressors) have a linear relationship with the dependent variable (or regressand). To test if this assumption is true, we can plot our numeric regressors <b>Mileage</b>, <b>Engine Volume</b> and <b>Year</b> against the <b>Price</b> variable, which should be our regressand."
   ]
  },
  {
   "cell_type": "code",
   "execution_count": 4,
   "metadata": {},
   "outputs": [
    {
     "data": {
      "image/png": "[encoded data removed]",
      "text/plain": [
       "<Figure size 1080x216 with 3 Axes>"
      ]
     },
     "metadata": {
      "needs_background": "light"
     },
     "output_type": "display_data"
    }
   ],
   "source": [
    "fig, (ax1, ax2, ax3) = plt.subplots(1, 3, figsize= (15,3))\n",
    "\n",
    "ax1.scatter(raw_data['Mileage'], raw_data['Price'], c=\"blue\")\n",
    "ax1.set_title('Price vs. Mileage')\n",
    "\n",
    "ax2.scatter(raw_data['EngineV'], raw_data['Price'], c=\"red\")\n",
    "ax2.set_title('Price vs. Engine Volume')\n",
    "\n",
    "ax3.scatter(raw_data['Year'], raw_data['Price'], c=\"green\")\n",
    "ax3.set_title('Price vs. Year')\n",
    "\n",
    "plt.show()"
   ]
  },
  {
   "cell_type": "markdown",
   "metadata": {},
   "source": [
    "We can see that <b>Price</b> and <b>Mileage</b> as well as <b>Price</b> and <b>Year</b> have exponential relationships. The more miles a car was driven, the lower its price will be. Similarly, the later the manufacturing year of the car, the higher its price. Even though these relationships are not linear, we can transform them to be linear by taking the natural logarithm of the price variable, which we need to keep in mind for the rest of the analysis.\n",
    "\n",
    "The relationship between <b>Price</b> and <b>Engine Volume</b> is not very clear at first sight. We can see that the bulk of the data is taking on rather small values for <b>Engine Volume</b>, which seems reasonable because engine volumes for most cars range between 1 and 6 litres. However, we can see that some values are much higher, describing unrealistic volumes of 20 litres or higher. It is likely that we are looking at errors in the data here, which obscure the observable relationship and that we should deal with when cleaning the data."
   ]
  },
  {
   "cell_type": "markdown",
   "metadata": {},
   "source": [
    "<u><p style=\"font-size:20px\">5. Cleaning and Preparing the Data</p></u>"
   ]
  },
  {
   "cell_type": "markdown",
   "metadata": {},
   "source": [
    "In this section, we will take a closer look at the variables in the dataset with respect to their usefulness for the analysis. We will also identify errors, missing values and outliers and clean the dataset in order to prepare it for the analysis."
   ]
  },
  {
   "cell_type": "markdown",
   "metadata": {},
   "source": [
    "<u><p style=\"font-size:18px\">5.1. Dropping Unusable Variables:</p></u>"
   ]
  },
  {
   "cell_type": "markdown",
   "metadata": {},
   "source": [
    "Generally, we would like to use as many relevant variables as possible to predict the car price. However, we can see that the <b>Model</b> variable with its 312 unique values would prove difficult to include in our analysis. Since the data is categorical, we would need to create 312 dummy variables to represent them in the data. This would not only make our dataset confusing and tedious, but also overcomplicate our model. Moreover, a quick summary of the unique sizes of model categories shows us that the vast majority of models are so underrepresented in the data that it would not be possible to measure their impact on the result:"
   ]
  },
  {
   "cell_type": "code",
   "execution_count": 5,
   "metadata": {},
   "outputs": [
    {
     "data": {
      "text/plain": [
       "array([199, 172, 171, 146, 134, 119,  88,  77,  76,  69,  66,  61,  60,\n",
       "        59,  58,  54,  52,  51,  49,  48,  45,  41,  40,  38,  30,  29,\n",
       "        28,  26,  25,  24,  23,  22,  21,  19,  18,  17,  16,  15,  14,\n",
       "        13,  12,  11,  10,   9,   8,   7,   6,   5,   4,   3,   2,   1],\n",
       "      dtype=int64)"
      ]
     },
     "execution_count": 5,
     "metadata": {},
     "output_type": "execute_result"
    }
   ],
   "source": [
    "raw_data[\"Model\"].value_counts().unique()"
   ]
  },
  {
   "cell_type": "markdown",
   "metadata": {},
   "source": [
    "Consequently, we will drop the \"Model\" variable from our dataset and define a new version without it:"
   ]
  },
  {
   "cell_type": "code",
   "execution_count": 6,
   "metadata": {},
   "outputs": [],
   "source": [
    "data_v001 = raw_data.drop([\"Model\"], axis=1)"
   ]
  },
  {
   "cell_type": "markdown",
   "metadata": {},
   "source": [
    "<u><p style=\"font-size:18px\">5.2. Identifying and Dealing with Missing Values, Outliers and Errors</p></u>"
   ]
  },
  {
   "cell_type": "markdown",
   "metadata": {},
   "source": [
    "From our initial descriptive overview, we could see that there are missing values in the data for both <b>Price</b> and <b>Engine Volume</b>, as their overall count of cases did not sum up to the total base of the dataset, which is 4345 cases. \n",
    "\n",
    "Moreover, there seem to be high discrepancies between the minimum and maximum values of the <b>Price</b>, <b>Mileage</b> and <b>Engine Volume</b> variables. This indicates that we have outliers in the data.\n",
    "\n",
    "Lastly, our visualization of the relationships between <b>Price</b> and <b>Mileage</b>, <b>Engine Volume</b> as well as <b>Year</b>, has revealed that there appear to be errors in the <b>Engine Volume</b> variable as it takes on unrealistically high values.\n",
    "\n",
    "We will tackle these issues step by step. First, we will have a look at the errors in the data for <b>Engine Volume</b>, and possibly delete the flawed cases. We will then move on to dealing with outliers and missing values."
   ]
  },
  {
   "cell_type": "markdown",
   "metadata": {},
   "source": [
    "<u><p style=\"font-size:16px\">5.2.1. Removing Errors from <b>Engine Volume</b></p></u>"
   ]
  },
  {
   "cell_type": "markdown",
   "metadata": {},
   "source": [
    "A quick online-search on engine volumes tells us that engines with a volume of more than 6 litres are extremely rare in \"conventional\" cars and are for the most part only used in luxury brands or racing cars. For example, the Bugatti Chiron, which currenly sells for around 3 million dollars upwards, has an engine volume of 8.0 liters. However, we would probably be surprised to find one at a second-hand car dealership. At the same time, the minimum value for engine volume in liters is 1.\n",
    "\n",
    "For the benefit of the doubt, we can choose the very upper limit for engine volume in our dataset to be 8 litres. Moreover, we know that our minimum value should be 1. Let us investigate how many cases of cars with an engine volume of more than 8 or less than 1 liters we have:"
   ]
  },
  {
   "cell_type": "code",
   "execution_count": 7,
   "metadata": {},
   "outputs": [
    {
     "data": {
      "text/html": [
       "<div>\n",
       "<style scoped>\n",
       "    .dataframe tbody tr th:only-of-type {\n",
       "        vertical-align: middle;\n",
       "    }\n",
       "\n",
       "    .dataframe tbody tr th {\n",
       "        vertical-align: top;\n",
       "    }\n",
       "\n",
       "    .dataframe thead th {\n",
       "        text-align: right;\n",
       "    }\n",
       "</style>\n",
       "<table border=\"1\" class=\"dataframe\">\n",
       "  <thead>\n",
       "    <tr style=\"text-align: right;\">\n",
       "      <th></th>\n",
       "      <th>EngineV</th>\n",
       "    </tr>\n",
       "  </thead>\n",
       "  <tbody>\n",
       "    <tr>\n",
       "      <th>&gt; 8 Liters</th>\n",
       "      <td>22</td>\n",
       "    </tr>\n",
       "    <tr>\n",
       "      <th>&lt; 1 Liters</th>\n",
       "      <td>2</td>\n",
       "    </tr>\n",
       "    <tr>\n",
       "      <th>Total</th>\n",
       "      <td>24</td>\n",
       "    </tr>\n",
       "  </tbody>\n",
       "</table>\n",
       "</div>"
      ],
      "text/plain": [
       "            EngineV\n",
       "> 8 Liters       22\n",
       "< 1 Liters        2\n",
       "Total            24"
      ]
     },
     "execution_count": 7,
     "metadata": {},
     "output_type": "execute_result"
    }
   ],
   "source": [
    "enginev_ht8 = data_v001[data_v001.EngineV > 8].EngineV.count()\n",
    "enginev_lt1 = data_v001[data_v001.EngineV < 1].EngineV.count()\n",
    "enginev_sum = enginev_ht8 + enginev_lt1\n",
    "\n",
    "enginev_check = pd.DataFrame([enginev_ht8, enginev_lt1, enginev_sum])\n",
    "enginev_check.rename(columns={0: \"EngineV\"}, index={0: \"> 8 Liters\", 1: \"< 1 Liters\", 2: \"Total\"}, inplace=True)\n",
    "enginev_check"
   ]
  },
  {
   "cell_type": "markdown",
   "metadata": {},
   "source": [
    "We can see that we only have a relatively small number of cases that fulfil these criteria. As these cases account for only 0.5% of our whole dataset, we can choose to drop them and create a new version of our dataset:"
   ]
  },
  {
   "cell_type": "code",
   "execution_count": 8,
   "metadata": {},
   "outputs": [],
   "source": [
    "data_v002 = data_v001[data_v001[\"EngineV\"] <= 8]\n",
    "data_v002 = data_v002[data_v002[\"EngineV\"] >= 1]"
   ]
  },
  {
   "cell_type": "markdown",
   "metadata": {},
   "source": [
    "<u><p style=\"font-size:16px\">5.2.2. Dealing with Outliers</p></u>"
   ]
  },
  {
   "cell_type": "markdown",
   "metadata": {},
   "source": [
    "We can plot our numerical data to get a better idea about outliers:"
   ]
  },
  {
   "cell_type": "code",
   "execution_count": 9,
   "metadata": {},
   "outputs": [
    {
     "data": {
      "image/png": "[encoded data removed]",
      "text/plain": [
       "<Figure size 1800x360 with 4 Axes>"
      ]
     },
     "metadata": {
      "needs_background": "light"
     },
     "output_type": "display_data"
    }
   ],
   "source": [
    "fig, (ax1, ax2, ax3, ax4) = plt.subplots(1, 4, figsize= (25,5))\n",
    "\n",
    "sns.distplot(data_v002[\"Price\"], ax=ax1, color=\"blue\")\n",
    "sns.distplot(data_v002[\"Mileage\"], ax=ax2, color=\"green\")\n",
    "sns.distplot(data_v002[\"EngineV\"], ax=ax3, color=\"red\")\n",
    "sns.distplot(data_v002[\"Year\"], ax=ax4, color=\"magenta\")\n",
    "         \n",
    "plt.show()"
   ]
  },
  {
   "cell_type": "markdown",
   "metadata": {},
   "source": [
    "<em><b>Observations</b></em>:\n",
    "    \n",
    "We can see that <b>Price</b> has a very long tail towards high prices (a strong positive skew). At the same time, we could see in our data summary earlier that we have a few cars with very low prices as well.\n",
    "\n",
    "For <b>Mileage</b>, we have a high number of zero values, indicating that these cars have never been driven. It is possible that these are the cars that previous \"first-hand\" dealers have not been able to sell, thus they did not have a previous owner who actually used them. Moreover, only few cars have been driven 500.000 miles or more in their lifetime.\n",
    "\n",
    "The <b>Engine Volume</b> is positively skewed as well. However, we can now see the effect of removing the flawed entries with unrealistically low or high engine volumes from the data.\n",
    "\n",
    "Regarding the <b>Year</b>, we can see that the vast majority of cars has a production year after 1985, with only a couple of very old cars that are even older than that."
   ]
  },
  {
   "cell_type": "markdown",
   "metadata": {},
   "source": [
    "<em><b>Solutions</b></em>:\n",
    "\n",
    "There are different ways to tackle outliers in our data, and it appears that different strategies are necessary for each variable. By also focusing on the quetion \"What kind of second-hand cars would most potential buyers be interested in?\", we will choose the following approaches:\n",
    "\n",
    "We assume that there are no inherent errors in the values for <b>Price</b> - only a few outliers. We can identify these by using <em>\"Interquartile Ranges\"</em>, which can be supported visually by <em>Boxplots</em>. We can then choose to remove them or only remove \"extreme\" outliers, depending on how many we find and how it would impact our dataset. Moreover, we should probably consider that potential buyers are unlikely to buy very cheap (as they might have hidden flaws) or very expensive cars (out of reach and interest for most buyers).\n",
    "\n",
    "Regarding the <b>Mileage</b>, we can choose a similar approach. We will be using <em>\"Interquartile Ranges\"</em> and <em>Boxplots</em> here as well. However, it is probably a good idea to take a practical perspective as well. For instance, we can probably assume that not many potantial buyers would be interested in buying a car that has been driven more than 500.000 miles in its lifetime.\n",
    "\n",
    "Since we removed unrealistic values regarding <b>Engine Volume</b> earlier, there is no reason to remove further cases based on it. Moreover, it can be argued that there are potential buyers for cars of all engine sizes.\n",
    "\n",
    "Lastly, when looking at the <b>Year</b> variable, one could argue that the vast majority of buyers would not be interested in a car that has been manufactured more than 20 years ago, probably even 10. That said, we should also consider the \"reality\" of our dataset at hand and not remove too many cases based on the manufacturing year. While looking at both the practical approach and the dataset itself, we can probably find a cut-off point that makes good sense.\n",
    "\n",
    "Since defining the range of the <b>Year</b> variable is the most arbitrary choice that we make, we will start with this adjustment first. We will then continue to handle outliers in <b>Price</b> and <b>Mileage</b>."
   ]
  },
  {
   "cell_type": "markdown",
   "metadata": {},
   "source": [
    "<u><p style=\"font-size:14px\">5.2.2.1. Defining the Range of the <b>Year</b> Variable</p></u>"
   ]
  },
  {
   "cell_type": "markdown",
   "metadata": {},
   "source": [
    "While it does not seem that there is anything wrong with the data for the manufacturing <b>Year</b> of the cars in the dataset, most potential buyers would probably not want to buy a second-hand car that is more than 20 or even more than 10 years old. At the same time, we would not want to remove too many of our datapoints, so we still have a solid base that represents the existing relationships in the data.\n",
    "\n",
    "We can have a look at how many cases we would need to remove from the data if we were to only consider cars that are newer than 25 years and below, taking into account that the dataset was created in 2016:"
   ]
  },
  {
   "cell_type": "code",
   "execution_count": 10,
   "metadata": {},
   "outputs": [],
   "source": [
    "cases_lost_year = []\n",
    "for i in range(1990,2007): \n",
    "    y = data_v002[data_v002.Year < i].Year.count()\n",
    "    cases_lost_year.append(y)"
   ]
  },
  {
   "cell_type": "code",
   "execution_count": 11,
   "metadata": {},
   "outputs": [
    {
     "data": {
      "text/html": [
       "<div>\n",
       "<style scoped>\n",
       "    .dataframe tbody tr th:only-of-type {\n",
       "        vertical-align: middle;\n",
       "    }\n",
       "\n",
       "    .dataframe tbody tr th {\n",
       "        vertical-align: top;\n",
       "    }\n",
       "\n",
       "    .dataframe thead th {\n",
       "        text-align: right;\n",
       "    }\n",
       "</style>\n",
       "<table border=\"1\" class=\"dataframe\">\n",
       "  <thead>\n",
       "    <tr style=\"text-align: right;\">\n",
       "      <th></th>\n",
       "      <th>From Year</th>\n",
       "      <th>Years to Date</th>\n",
       "      <th>Cases Lost</th>\n",
       "      <th>Percentage Lost</th>\n",
       "    </tr>\n",
       "  </thead>\n",
       "  <tbody>\n",
       "    <tr>\n",
       "      <th>0</th>\n",
       "      <td>1990</td>\n",
       "      <td>26</td>\n",
       "      <td>102</td>\n",
       "      <td>0.02</td>\n",
       "    </tr>\n",
       "    <tr>\n",
       "      <th>1</th>\n",
       "      <td>1991</td>\n",
       "      <td>25</td>\n",
       "      <td>120</td>\n",
       "      <td>0.03</td>\n",
       "    </tr>\n",
       "    <tr>\n",
       "      <th>2</th>\n",
       "      <td>1992</td>\n",
       "      <td>24</td>\n",
       "      <td>151</td>\n",
       "      <td>0.04</td>\n",
       "    </tr>\n",
       "    <tr>\n",
       "      <th>3</th>\n",
       "      <td>1993</td>\n",
       "      <td>23</td>\n",
       "      <td>175</td>\n",
       "      <td>0.04</td>\n",
       "    </tr>\n",
       "    <tr>\n",
       "      <th>4</th>\n",
       "      <td>1994</td>\n",
       "      <td>22</td>\n",
       "      <td>202</td>\n",
       "      <td>0.05</td>\n",
       "    </tr>\n",
       "    <tr>\n",
       "      <th>5</th>\n",
       "      <td>1995</td>\n",
       "      <td>21</td>\n",
       "      <td>239</td>\n",
       "      <td>0.06</td>\n",
       "    </tr>\n",
       "    <tr>\n",
       "      <th>6</th>\n",
       "      <td>1996</td>\n",
       "      <td>20</td>\n",
       "      <td>283</td>\n",
       "      <td>0.07</td>\n",
       "    </tr>\n",
       "    <tr>\n",
       "      <th>7</th>\n",
       "      <td>1997</td>\n",
       "      <td>19</td>\n",
       "      <td>346</td>\n",
       "      <td>0.08</td>\n",
       "    </tr>\n",
       "    <tr>\n",
       "      <th>8</th>\n",
       "      <td>1998</td>\n",
       "      <td>18</td>\n",
       "      <td>421</td>\n",
       "      <td>0.10</td>\n",
       "    </tr>\n",
       "    <tr>\n",
       "      <th>9</th>\n",
       "      <td>1999</td>\n",
       "      <td>17</td>\n",
       "      <td>496</td>\n",
       "      <td>0.12</td>\n",
       "    </tr>\n",
       "    <tr>\n",
       "      <th>10</th>\n",
       "      <td>2000</td>\n",
       "      <td>16</td>\n",
       "      <td>599</td>\n",
       "      <td>0.14</td>\n",
       "    </tr>\n",
       "    <tr>\n",
       "      <th>11</th>\n",
       "      <td>2001</td>\n",
       "      <td>15</td>\n",
       "      <td>742</td>\n",
       "      <td>0.18</td>\n",
       "    </tr>\n",
       "    <tr>\n",
       "      <th>12</th>\n",
       "      <td>2002</td>\n",
       "      <td>14</td>\n",
       "      <td>879</td>\n",
       "      <td>0.21</td>\n",
       "    </tr>\n",
       "    <tr>\n",
       "      <th>13</th>\n",
       "      <td>2003</td>\n",
       "      <td>13</td>\n",
       "      <td>1005</td>\n",
       "      <td>0.24</td>\n",
       "    </tr>\n",
       "    <tr>\n",
       "      <th>14</th>\n",
       "      <td>2004</td>\n",
       "      <td>12</td>\n",
       "      <td>1157</td>\n",
       "      <td>0.28</td>\n",
       "    </tr>\n",
       "    <tr>\n",
       "      <th>15</th>\n",
       "      <td>2005</td>\n",
       "      <td>11</td>\n",
       "      <td>1313</td>\n",
       "      <td>0.31</td>\n",
       "    </tr>\n",
       "    <tr>\n",
       "      <th>16</th>\n",
       "      <td>2006</td>\n",
       "      <td>10</td>\n",
       "      <td>1487</td>\n",
       "      <td>0.36</td>\n",
       "    </tr>\n",
       "  </tbody>\n",
       "</table>\n",
       "</div>"
      ],
      "text/plain": [
       "    From Year  Years to Date  Cases Lost  Percentage Lost\n",
       "0        1990             26         102             0.02\n",
       "1        1991             25         120             0.03\n",
       "2        1992             24         151             0.04\n",
       "3        1993             23         175             0.04\n",
       "4        1994             22         202             0.05\n",
       "5        1995             21         239             0.06\n",
       "6        1996             20         283             0.07\n",
       "7        1997             19         346             0.08\n",
       "8        1998             18         421             0.10\n",
       "9        1999             17         496             0.12\n",
       "10       2000             16         599             0.14\n",
       "11       2001             15         742             0.18\n",
       "12       2002             14         879             0.21\n",
       "13       2003             13        1005             0.24\n",
       "14       2004             12        1157             0.28\n",
       "15       2005             11        1313             0.31\n",
       "16       2006             10        1487             0.36"
      ]
     },
     "execution_count": 11,
     "metadata": {},
     "output_type": "execute_result"
    }
   ],
   "source": [
    "year_loss = pd.DataFrame()\n",
    "year_loss[\"From Year\"] = range(1990,2007)\n",
    "year_loss[\"Years to Date\"] = 2016 - year_loss[\"From Year\"]\n",
    "year_loss[\"Cases Lost\"] = cases_lost_year\n",
    "year_loss[\"Percentage Lost\"] = round(year_loss[\"Cases Lost\"] / len(data_v002.index), 2)\n",
    "year_loss"
   ]
  },
  {
   "cell_type": "code",
   "execution_count": 12,
   "metadata": {},
   "outputs": [
    {
     "data": {
      "image/png": "[encoded data removed]",
      "text/plain": [
       "<Figure size 432x288 with 1 Axes>"
      ]
     },
     "metadata": {
      "needs_background": "light"
     },
     "output_type": "display_data"
    }
   ],
   "source": [
    "plt.plot(year_loss[\"From Year\"],year_loss[\"Percentage Lost\"])\n",
    "\n",
    "plt.plot(year_loss[\"From Year\"],year_loss[\"Percentage Lost\"], markevery=range(3,4), ls=\"\", marker=\"o\", c=\"r\")\n",
    "\n",
    "plt.title(\"From Year vs. Cases Lost\", size=18)\n",
    "plt.xlabel(\"From Year\", size=16)\n",
    "plt.ylabel(\"% of Cases Lost\", size=16)\n",
    "\n",
    "plt.show()"
   ]
  },
  {
   "cell_type": "markdown",
   "metadata": {},
   "source": [
    "In order to keep as many data points as possible, but also considering that most buyers would not be interested in buying very old cars, we can decide to set our cut-off point at just below 5% of the overall dataset, which corresponds to the manufacturing year of 1993. \n",
    "\n",
    "Consequently, we will remove cars that are older than 23 years form the dataset."
   ]
  },
  {
   "cell_type": "code",
   "execution_count": 13,
   "metadata": {},
   "outputs": [],
   "source": [
    "data_v003 = data_v002[data_v002[\"Year\"] >= 1993]"
   ]
  },
  {
   "cell_type": "markdown",
   "metadata": {},
   "source": [
    "<u><p style=\"font-size:14px\">5.2.2.2. Tackling Outliers in the <b>Price</b> and <b>Mileage</b> Variables</p></u>"
   ]
  },
  {
   "cell_type": "markdown",
   "metadata": {},
   "source": [
    "Contrary to choosing the range of manufacturing years, the identification of outliers for <b>Price</b> and <b>Mileage</b> will be relying on the results of <em>\"Box Plots\"</em> and <em>\"Interquartile Ranges\"</em>. We can display the plots first:"
   ]
  },
  {
   "cell_type": "code",
   "execution_count": 14,
   "metadata": {},
   "outputs": [
    {
     "data": {
      "image/png": "[encoded data removed]",
      "text/plain": [
       "<Figure size 1080x360 with 2 Axes>"
      ]
     },
     "metadata": {
      "needs_background": "light"
     },
     "output_type": "display_data"
    }
   ],
   "source": [
    "fig, (ax1, ax2) = plt.subplots(1, 2, figsize= (15,5))\n",
    "\n",
    "sns.boxplot(data_v003[\"Price\"], ax=ax1, orient=\"v\", color=\"yellow\")\n",
    "sns.boxplot(data_v003[\"Mileage\"], ax=ax2, orient=\"v\", color=\"grey\")\n",
    "     \n",
    "plt.show()"
   ]
  },
  {
   "cell_type": "markdown",
   "metadata": {},
   "source": [
    "We can see that there are a number outliers in the <b>Price</b> range of more than 50.000 dollars in the data, whereas the cut-off point for <b>Mileage</b> is a bit above 400.000 miles driven. Let's find the exact numbers:"
   ]
  },
  {
   "cell_type": "code",
   "execution_count": 15,
   "metadata": {},
   "outputs": [
    {
     "data": {
      "text/html": [
       "<div>\n",
       "<style scoped>\n",
       "    .dataframe tbody tr th:only-of-type {\n",
       "        vertical-align: middle;\n",
       "    }\n",
       "\n",
       "    .dataframe tbody tr th {\n",
       "        vertical-align: top;\n",
       "    }\n",
       "\n",
       "    .dataframe thead th {\n",
       "        text-align: right;\n",
       "    }\n",
       "</style>\n",
       "<table border=\"1\" class=\"dataframe\">\n",
       "  <thead>\n",
       "    <tr style=\"text-align: right;\">\n",
       "      <th></th>\n",
       "      <th>Price</th>\n",
       "      <th>Mileage</th>\n",
       "    </tr>\n",
       "  </thead>\n",
       "  <tbody>\n",
       "    <tr>\n",
       "      <th>count</th>\n",
       "      <td>3829.000000</td>\n",
       "      <td>3996.000000</td>\n",
       "    </tr>\n",
       "    <tr>\n",
       "      <th>mean</th>\n",
       "      <td>20355.053045</td>\n",
       "      <td>156.038789</td>\n",
       "    </tr>\n",
       "    <tr>\n",
       "      <th>std</th>\n",
       "      <td>26200.195237</td>\n",
       "      <td>100.670293</td>\n",
       "    </tr>\n",
       "    <tr>\n",
       "      <th>min</th>\n",
       "      <td>800.000000</td>\n",
       "      <td>0.000000</td>\n",
       "    </tr>\n",
       "    <tr>\n",
       "      <th>25%</th>\n",
       "      <td>7500.000000</td>\n",
       "      <td>84.000000</td>\n",
       "    </tr>\n",
       "    <tr>\n",
       "      <th>50%</th>\n",
       "      <td>11999.000000</td>\n",
       "      <td>152.000000</td>\n",
       "    </tr>\n",
       "    <tr>\n",
       "      <th>75%</th>\n",
       "      <td>22600.000000</td>\n",
       "      <td>220.000000</td>\n",
       "    </tr>\n",
       "    <tr>\n",
       "      <th>max</th>\n",
       "      <td>300000.000000</td>\n",
       "      <td>980.000000</td>\n",
       "    </tr>\n",
       "  </tbody>\n",
       "</table>\n",
       "</div>"
      ],
      "text/plain": [
       "               Price      Mileage\n",
       "count    3829.000000  3996.000000\n",
       "mean    20355.053045   156.038789\n",
       "std     26200.195237   100.670293\n",
       "min       800.000000     0.000000\n",
       "25%      7500.000000    84.000000\n",
       "50%     11999.000000   152.000000\n",
       "75%     22600.000000   220.000000\n",
       "max    300000.000000   980.000000"
      ]
     },
     "execution_count": 15,
     "metadata": {},
     "output_type": "execute_result"
    }
   ],
   "source": [
    "quartiles = pd.DataFrame()\n",
    "quartiles[\"Price\"] = data_v003[\"Price\"].describe()\n",
    "quartiles[\"Mileage\"] = data_v003[\"Mileage\"].describe()\n",
    "quartiles"
   ]
  },
  {
   "cell_type": "markdown",
   "metadata": {},
   "source": [
    "We can now calculate the <em>\"Interquartile Range\"</em> (<b>IQR</b>) as the difference between the third (<b>Q3</b>) and the first (<b>Q1</b>) quartile. At the same time, the lower limit for identifying outliers will be <b>Q1</b> minus 1.5 times <b>IQR</b>, while the upper limit will be <b>Q3</b> plus 1.5 times <b>IQR</b>. We will summarize these results in a table:"
   ]
  },
  {
   "cell_type": "code",
   "execution_count": 16,
   "metadata": {},
   "outputs": [
    {
     "data": {
      "text/html": [
       "<div>\n",
       "<style scoped>\n",
       "    .dataframe tbody tr th:only-of-type {\n",
       "        vertical-align: middle;\n",
       "    }\n",
       "\n",
       "    .dataframe tbody tr th {\n",
       "        vertical-align: top;\n",
       "    }\n",
       "\n",
       "    .dataframe thead th {\n",
       "        text-align: right;\n",
       "    }\n",
       "</style>\n",
       "<table border=\"1\" class=\"dataframe\">\n",
       "  <thead>\n",
       "    <tr style=\"text-align: right;\">\n",
       "      <th></th>\n",
       "      <th>Price</th>\n",
       "      <th>Mileage</th>\n",
       "    </tr>\n",
       "  </thead>\n",
       "  <tbody>\n",
       "    <tr>\n",
       "      <th>Lower Limit</th>\n",
       "      <td>-15150.0</td>\n",
       "      <td>-120.0</td>\n",
       "    </tr>\n",
       "    <tr>\n",
       "      <th>Upper Limit</th>\n",
       "      <td>45250.0</td>\n",
       "      <td>424.0</td>\n",
       "    </tr>\n",
       "  </tbody>\n",
       "</table>\n",
       "</div>"
      ],
      "text/plain": [
       "               Price  Mileage\n",
       "Lower Limit -15150.0   -120.0\n",
       "Upper Limit  45250.0    424.0"
      ]
     },
     "execution_count": 16,
     "metadata": {},
     "output_type": "execute_result"
    }
   ],
   "source": [
    "q1_price = quartiles.iloc[4][0]\n",
    "q1_mileage = quartiles.iloc[4][1]\n",
    "\n",
    "q3_price = quartiles.iloc[6][0]\n",
    "q3_mileage = quartiles.iloc[6][1]\n",
    "\n",
    "iqr_price = q3_price - q1_price\n",
    "iqr_mileage = q3_mileage - q1_mileage\n",
    "\n",
    "lower_limit_price = q1_price - 1.5 * iqr_price\n",
    "lower_limit_mileage = q1_mileage - 1.5 * iqr_mileage\n",
    "\n",
    "upper_limit_price = q3_price + 1.5 * iqr_price\n",
    "upper_limit_mileage = q3_mileage + 1.5 * iqr_mileage\n",
    "\n",
    "outlier_limits = pd.DataFrame()\n",
    "outlier_limits[\"Price\"] = lower_limit_price, upper_limit_price\n",
    "outlier_limits[\"Mileage\"] = lower_limit_mileage, upper_limit_mileage\n",
    "outlier_limits.rename(index={0: \"Lower Limit\", 1: \"Upper Limit\"}, inplace=True)\n",
    "outlier_limits"
   ]
  },
  {
   "cell_type": "markdown",
   "metadata": {},
   "source": [
    "By using <em>\"Interquartile Ranges\"</em> we were able to identify the upper and lower limits for both <b>Price</b> and <b>Mileage</b>, for which values above and below these thresholds can be considered suspected outliers. The lower limits for both variables are unattainable as it is not possible for a car to have a negative price or mileage. This signals that zero values are well within the \"allowed\" range for both variables and we only need to look at cases above the upper limits.\n",
    "\n",
    "We should now look at the practical side and see how many data points fall above the upper limits:"
   ]
  },
  {
   "cell_type": "code",
   "execution_count": 17,
   "metadata": {},
   "outputs": [
    {
     "data": {
      "text/html": [
       "<div>\n",
       "<style scoped>\n",
       "    .dataframe tbody tr th:only-of-type {\n",
       "        vertical-align: middle;\n",
       "    }\n",
       "\n",
       "    .dataframe tbody tr th {\n",
       "        vertical-align: top;\n",
       "    }\n",
       "\n",
       "    .dataframe thead th {\n",
       "        text-align: right;\n",
       "    }\n",
       "</style>\n",
       "<table border=\"1\" class=\"dataframe\">\n",
       "  <thead>\n",
       "    <tr style=\"text-align: right;\">\n",
       "      <th></th>\n",
       "      <th>Number of Outliers</th>\n",
       "    </tr>\n",
       "  </thead>\n",
       "  <tbody>\n",
       "    <tr>\n",
       "      <th>Price</th>\n",
       "      <td>342</td>\n",
       "    </tr>\n",
       "    <tr>\n",
       "      <th>Mileage</th>\n",
       "      <td>34</td>\n",
       "    </tr>\n",
       "    <tr>\n",
       "      <th>Total</th>\n",
       "      <td>376</td>\n",
       "    </tr>\n",
       "  </tbody>\n",
       "</table>\n",
       "</div>"
      ],
      "text/plain": [
       "         Number of Outliers\n",
       "Price                   342\n",
       "Mileage                  34\n",
       "Total                   376"
      ]
     },
     "execution_count": 17,
     "metadata": {},
     "output_type": "execute_result"
    }
   ],
   "source": [
    "price_outlier_high = data_v003[data_v003.Price > upper_limit_price].Price.count()\n",
    "mileage_outlier_high = data_v003[data_v003.Mileage > upper_limit_mileage].Mileage.count()\n",
    "total_outlier_high = price_outlier_high + mileage_outlier_high\n",
    "\n",
    "outlier_check = pd.DataFrame([price_outlier_high , mileage_outlier_high, total_outlier_high])\n",
    "outlier_check.rename(columns={0: \"Number of Outliers\"}, index={0: \"Price\", 1: \"Mileage\", 2: \"Total\"}, inplace=True)\n",
    "outlier_check"
   ]
  },
  {
   "cell_type": "markdown",
   "metadata": {},
   "source": [
    "The limit identified for <b>Mileage</b>, produces only a relatively low number of cases, namely 34 cases or less than 1% of the remaining sample (we have 3996 cases remaining in the latest dataset at this point). \n",
    "\n",
    "This is an acceptable low number, so we can apply the rule, maybe round up just a bit and delete cases with a mileage of more than 425.000 miles.\n",
    "\n",
    "At the same time, the cut-off point for <b>Price</b> suggests that a further 376 cases, or almost 10% of the data, should be removed as well. In order to keep as many cases as possible, we can choose to be a bit more \"tolerant\" regarding the maximum price tag we allow a car in our dataset to have. As a starting point, we can try to gradually increase the constant with which the <b>IRQ</b> for <b>Price</b> is multiplied and then added to <b>Q3</b>. Similar to <b>Year</b>, we can check the impact on the data for different constants, for instance 1.5 to 3.5, in steps of 0.1:"
   ]
  },
  {
   "cell_type": "code",
   "execution_count": 18,
   "metadata": {},
   "outputs": [],
   "source": [
    "constants = np.arange(1.5,3.6,0.1)\n",
    "\n",
    "price_cutoff = []\n",
    "for i in constants: \n",
    "    p = q3_price + i * iqr_price\n",
    "    price_cutoff.append(p)\n",
    "\n",
    "cases_lost_price = []\n",
    "for i in constants: \n",
    "    lp = data_v003[data_v003.Price > (q3_price + i * iqr_price)].Price.count()\n",
    "    cases_lost_price.append(lp)"
   ]
  },
  {
   "cell_type": "code",
   "execution_count": 19,
   "metadata": {
    "scrolled": true
   },
   "outputs": [
    {
     "data": {
      "text/html": [
       "<div>\n",
       "<style scoped>\n",
       "    .dataframe tbody tr th:only-of-type {\n",
       "        vertical-align: middle;\n",
       "    }\n",
       "\n",
       "    .dataframe tbody tr th {\n",
       "        vertical-align: top;\n",
       "    }\n",
       "\n",
       "    .dataframe thead th {\n",
       "        text-align: right;\n",
       "    }\n",
       "</style>\n",
       "<table border=\"1\" class=\"dataframe\">\n",
       "  <thead>\n",
       "    <tr style=\"text-align: right;\">\n",
       "      <th></th>\n",
       "      <th>Constant</th>\n",
       "      <th>Price Cut-Off</th>\n",
       "      <th>Cases Lost</th>\n",
       "      <th>Percentage Lost</th>\n",
       "    </tr>\n",
       "  </thead>\n",
       "  <tbody>\n",
       "    <tr>\n",
       "      <th>0</th>\n",
       "      <td>1.5</td>\n",
       "      <td>45250.0</td>\n",
       "      <td>342</td>\n",
       "      <td>0.09</td>\n",
       "    </tr>\n",
       "    <tr>\n",
       "      <th>1</th>\n",
       "      <td>1.6</td>\n",
       "      <td>46760.0</td>\n",
       "      <td>330</td>\n",
       "      <td>0.08</td>\n",
       "    </tr>\n",
       "    <tr>\n",
       "      <th>2</th>\n",
       "      <td>1.7</td>\n",
       "      <td>48270.0</td>\n",
       "      <td>307</td>\n",
       "      <td>0.08</td>\n",
       "    </tr>\n",
       "    <tr>\n",
       "      <th>3</th>\n",
       "      <td>1.8</td>\n",
       "      <td>49780.0</td>\n",
       "      <td>297</td>\n",
       "      <td>0.07</td>\n",
       "    </tr>\n",
       "    <tr>\n",
       "      <th>4</th>\n",
       "      <td>1.9</td>\n",
       "      <td>51290.0</td>\n",
       "      <td>286</td>\n",
       "      <td>0.07</td>\n",
       "    </tr>\n",
       "    <tr>\n",
       "      <th>5</th>\n",
       "      <td>2.0</td>\n",
       "      <td>52800.0</td>\n",
       "      <td>267</td>\n",
       "      <td>0.07</td>\n",
       "    </tr>\n",
       "    <tr>\n",
       "      <th>6</th>\n",
       "      <td>2.1</td>\n",
       "      <td>54310.0</td>\n",
       "      <td>262</td>\n",
       "      <td>0.07</td>\n",
       "    </tr>\n",
       "    <tr>\n",
       "      <th>7</th>\n",
       "      <td>2.2</td>\n",
       "      <td>55820.0</td>\n",
       "      <td>244</td>\n",
       "      <td>0.06</td>\n",
       "    </tr>\n",
       "    <tr>\n",
       "      <th>8</th>\n",
       "      <td>2.3</td>\n",
       "      <td>57330.0</td>\n",
       "      <td>234</td>\n",
       "      <td>0.06</td>\n",
       "    </tr>\n",
       "    <tr>\n",
       "      <th>9</th>\n",
       "      <td>2.4</td>\n",
       "      <td>58840.0</td>\n",
       "      <td>229</td>\n",
       "      <td>0.06</td>\n",
       "    </tr>\n",
       "    <tr>\n",
       "      <th>10</th>\n",
       "      <td>2.5</td>\n",
       "      <td>60350.0</td>\n",
       "      <td>224</td>\n",
       "      <td>0.06</td>\n",
       "    </tr>\n",
       "    <tr>\n",
       "      <th>11</th>\n",
       "      <td>2.6</td>\n",
       "      <td>61860.0</td>\n",
       "      <td>218</td>\n",
       "      <td>0.05</td>\n",
       "    </tr>\n",
       "    <tr>\n",
       "      <th>12</th>\n",
       "      <td>2.7</td>\n",
       "      <td>63370.0</td>\n",
       "      <td>206</td>\n",
       "      <td>0.05</td>\n",
       "    </tr>\n",
       "    <tr>\n",
       "      <th>13</th>\n",
       "      <td>2.8</td>\n",
       "      <td>64880.0</td>\n",
       "      <td>202</td>\n",
       "      <td>0.05</td>\n",
       "    </tr>\n",
       "    <tr>\n",
       "      <th>14</th>\n",
       "      <td>2.9</td>\n",
       "      <td>66390.0</td>\n",
       "      <td>190</td>\n",
       "      <td>0.05</td>\n",
       "    </tr>\n",
       "    <tr>\n",
       "      <th>15</th>\n",
       "      <td>3.0</td>\n",
       "      <td>67900.0</td>\n",
       "      <td>181</td>\n",
       "      <td>0.05</td>\n",
       "    </tr>\n",
       "    <tr>\n",
       "      <th>16</th>\n",
       "      <td>3.1</td>\n",
       "      <td>69410.0</td>\n",
       "      <td>174</td>\n",
       "      <td>0.04</td>\n",
       "    </tr>\n",
       "    <tr>\n",
       "      <th>17</th>\n",
       "      <td>3.2</td>\n",
       "      <td>70920.0</td>\n",
       "      <td>159</td>\n",
       "      <td>0.04</td>\n",
       "    </tr>\n",
       "    <tr>\n",
       "      <th>18</th>\n",
       "      <td>3.3</td>\n",
       "      <td>72430.0</td>\n",
       "      <td>151</td>\n",
       "      <td>0.04</td>\n",
       "    </tr>\n",
       "    <tr>\n",
       "      <th>19</th>\n",
       "      <td>3.4</td>\n",
       "      <td>73940.0</td>\n",
       "      <td>146</td>\n",
       "      <td>0.04</td>\n",
       "    </tr>\n",
       "    <tr>\n",
       "      <th>20</th>\n",
       "      <td>3.5</td>\n",
       "      <td>75450.0</td>\n",
       "      <td>138</td>\n",
       "      <td>0.03</td>\n",
       "    </tr>\n",
       "  </tbody>\n",
       "</table>\n",
       "</div>"
      ],
      "text/plain": [
       "    Constant  Price Cut-Off  Cases Lost  Percentage Lost\n",
       "0        1.5        45250.0         342             0.09\n",
       "1        1.6        46760.0         330             0.08\n",
       "2        1.7        48270.0         307             0.08\n",
       "3        1.8        49780.0         297             0.07\n",
       "4        1.9        51290.0         286             0.07\n",
       "5        2.0        52800.0         267             0.07\n",
       "6        2.1        54310.0         262             0.07\n",
       "7        2.2        55820.0         244             0.06\n",
       "8        2.3        57330.0         234             0.06\n",
       "9        2.4        58840.0         229             0.06\n",
       "10       2.5        60350.0         224             0.06\n",
       "11       2.6        61860.0         218             0.05\n",
       "12       2.7        63370.0         206             0.05\n",
       "13       2.8        64880.0         202             0.05\n",
       "14       2.9        66390.0         190             0.05\n",
       "15       3.0        67900.0         181             0.05\n",
       "16       3.1        69410.0         174             0.04\n",
       "17       3.2        70920.0         159             0.04\n",
       "18       3.3        72430.0         151             0.04\n",
       "19       3.4        73940.0         146             0.04\n",
       "20       3.5        75450.0         138             0.03"
      ]
     },
     "execution_count": 19,
     "metadata": {},
     "output_type": "execute_result"
    }
   ],
   "source": [
    "price_loss = pd.DataFrame()\n",
    "price_loss[\"Constant\"] = constants\n",
    "price_loss[\"Price Cut-Off\"] = price_cutoff\n",
    "price_loss[\"Cases Lost\"] = cases_lost_price\n",
    "price_loss[\"Percentage Lost\"] = round(price_loss[\"Cases Lost\"] / len(data_v003.index), 2)\n",
    "price_loss"
   ]
  },
  {
   "cell_type": "code",
   "execution_count": 20,
   "metadata": {},
   "outputs": [
    {
     "data": {
      "image/png": "[encoded data removed]",
      "text/plain": [
       "<Figure size 432x288 with 1 Axes>"
      ]
     },
     "metadata": {
      "needs_background": "light"
     },
     "output_type": "display_data"
    }
   ],
   "source": [
    "plt.plot(price_loss[\"Price Cut-Off\"],price_loss[\"Percentage Lost\"])\n",
    "\n",
    "plt.plot(price_loss[\"Price Cut-Off\"],price_loss[\"Percentage Lost\"], markevery=range(16,17), ls=\"\", marker=\"o\", c=\"r\")\n",
    "\n",
    "plt.title(\"Price Cut-Off vs. Cases Lost\", size=18)\n",
    "plt.xlabel(\"Price Cut-Off\", size=16)\n",
    "plt.ylabel(\"% of Cases Lost\", size=16)\n",
    "\n",
    "plt.show()"
   ]
  },
  {
   "cell_type": "markdown",
   "metadata": {},
   "source": [
    "Considering again to remove as few cases as possible, we can define the cut-off point just below 5% of the cases of the whole dataset. Rounding up a little again, we decide that the maximum price for a car in our dataset will be 70.000 dollars.\n",
    "\n",
    "We can now go ahead and remove cars with a <b>Mileage</b> over 425.000 miles, and those with a price tag of over 70.000 dollars as outliers from our dataset:"
   ]
  },
  {
   "cell_type": "code",
   "execution_count": 21,
   "metadata": {},
   "outputs": [],
   "source": [
    "data_v004 = data_v003[data_v003[\"Mileage\"] <= 425]\n",
    "data_v004 = data_v004[data_v004[\"Price\"] <= 70000]"
   ]
  },
  {
   "cell_type": "markdown",
   "metadata": {},
   "source": [
    "Let's have a look at our new dataset:"
   ]
  },
  {
   "cell_type": "code",
   "execution_count": 22,
   "metadata": {},
   "outputs": [
    {
     "data": {
      "image/png": "[encoded data removed]",
      "text/plain": [
       "<Figure size 1800x360 with 4 Axes>"
      ]
     },
     "metadata": {
      "needs_background": "light"
     },
     "output_type": "display_data"
    }
   ],
   "source": [
    "fig, (ax1, ax2, ax3, ax4) = plt.subplots(1, 4, figsize= (25,5))\n",
    "\n",
    "sns.distplot(data_v004[\"Price\"], ax=ax1, color=\"blue\")\n",
    "sns.distplot(data_v004[\"Mileage\"], ax=ax2, color=\"green\")\n",
    "sns.distplot(data_v004[\"EngineV\"], ax=ax3, color=\"red\")\n",
    "sns.distplot(data_v004[\"Year\"], ax=ax4, color=\"magenta\")\n",
    "         \n",
    "plt.show()"
   ]
  },
  {
   "cell_type": "code",
   "execution_count": 23,
   "metadata": {},
   "outputs": [
    {
     "data": {
      "text/html": [
       "<div>\n",
       "<style scoped>\n",
       "    .dataframe tbody tr th:only-of-type {\n",
       "        vertical-align: middle;\n",
       "    }\n",
       "\n",
       "    .dataframe tbody tr th {\n",
       "        vertical-align: top;\n",
       "    }\n",
       "\n",
       "    .dataframe thead th {\n",
       "        text-align: right;\n",
       "    }\n",
       "</style>\n",
       "<table border=\"1\" class=\"dataframe\">\n",
       "  <thead>\n",
       "    <tr style=\"text-align: right;\">\n",
       "      <th></th>\n",
       "      <th>Brand</th>\n",
       "      <th>Price</th>\n",
       "      <th>Body</th>\n",
       "      <th>Mileage</th>\n",
       "      <th>EngineV</th>\n",
       "      <th>Engine Type</th>\n",
       "      <th>Registration</th>\n",
       "      <th>Year</th>\n",
       "    </tr>\n",
       "  </thead>\n",
       "  <tbody>\n",
       "    <tr>\n",
       "      <th>count</th>\n",
       "      <td>3637</td>\n",
       "      <td>3637.000000</td>\n",
       "      <td>3637</td>\n",
       "      <td>3637.000000</td>\n",
       "      <td>3637.000000</td>\n",
       "      <td>3637</td>\n",
       "      <td>3637</td>\n",
       "      <td>3637.000000</td>\n",
       "    </tr>\n",
       "    <tr>\n",
       "      <th>unique</th>\n",
       "      <td>7</td>\n",
       "      <td>NaN</td>\n",
       "      <td>6</td>\n",
       "      <td>NaN</td>\n",
       "      <td>NaN</td>\n",
       "      <td>4</td>\n",
       "      <td>2</td>\n",
       "      <td>NaN</td>\n",
       "    </tr>\n",
       "    <tr>\n",
       "      <th>top</th>\n",
       "      <td>Volkswagen</td>\n",
       "      <td>NaN</td>\n",
       "      <td>sedan</td>\n",
       "      <td>NaN</td>\n",
       "      <td>NaN</td>\n",
       "      <td>Diesel</td>\n",
       "      <td>yes</td>\n",
       "      <td>NaN</td>\n",
       "    </tr>\n",
       "    <tr>\n",
       "      <th>freq</th>\n",
       "      <td>817</td>\n",
       "      <td>NaN</td>\n",
       "      <td>1362</td>\n",
       "      <td>NaN</td>\n",
       "      <td>NaN</td>\n",
       "      <td>1700</td>\n",
       "      <td>3281</td>\n",
       "      <td>NaN</td>\n",
       "    </tr>\n",
       "    <tr>\n",
       "      <th>mean</th>\n",
       "      <td>NaN</td>\n",
       "      <td>16161.489995</td>\n",
       "      <td>NaN</td>\n",
       "      <td>162.043992</td>\n",
       "      <td>2.429260</td>\n",
       "      <td>NaN</td>\n",
       "      <td>NaN</td>\n",
       "      <td>2006.940610</td>\n",
       "    </tr>\n",
       "    <tr>\n",
       "      <th>std</th>\n",
       "      <td>NaN</td>\n",
       "      <td>13336.149438</td>\n",
       "      <td>NaN</td>\n",
       "      <td>90.149977</td>\n",
       "      <td>0.943008</td>\n",
       "      <td>NaN</td>\n",
       "      <td>NaN</td>\n",
       "      <td>5.375482</td>\n",
       "    </tr>\n",
       "    <tr>\n",
       "      <th>min</th>\n",
       "      <td>NaN</td>\n",
       "      <td>800.000000</td>\n",
       "      <td>NaN</td>\n",
       "      <td>0.000000</td>\n",
       "      <td>1.000000</td>\n",
       "      <td>NaN</td>\n",
       "      <td>NaN</td>\n",
       "      <td>1993.000000</td>\n",
       "    </tr>\n",
       "    <tr>\n",
       "      <th>25%</th>\n",
       "      <td>NaN</td>\n",
       "      <td>7450.000000</td>\n",
       "      <td>NaN</td>\n",
       "      <td>97.000000</td>\n",
       "      <td>1.800000</td>\n",
       "      <td>NaN</td>\n",
       "      <td>NaN</td>\n",
       "      <td>2003.000000</td>\n",
       "    </tr>\n",
       "    <tr>\n",
       "      <th>50%</th>\n",
       "      <td>NaN</td>\n",
       "      <td>11700.000000</td>\n",
       "      <td>NaN</td>\n",
       "      <td>159.000000</td>\n",
       "      <td>2.200000</td>\n",
       "      <td>NaN</td>\n",
       "      <td>NaN</td>\n",
       "      <td>2008.000000</td>\n",
       "    </tr>\n",
       "    <tr>\n",
       "      <th>75%</th>\n",
       "      <td>NaN</td>\n",
       "      <td>20500.000000</td>\n",
       "      <td>NaN</td>\n",
       "      <td>223.000000</td>\n",
       "      <td>3.000000</td>\n",
       "      <td>NaN</td>\n",
       "      <td>NaN</td>\n",
       "      <td>2011.000000</td>\n",
       "    </tr>\n",
       "    <tr>\n",
       "      <th>max</th>\n",
       "      <td>NaN</td>\n",
       "      <td>70000.000000</td>\n",
       "      <td>NaN</td>\n",
       "      <td>423.000000</td>\n",
       "      <td>7.200000</td>\n",
       "      <td>NaN</td>\n",
       "      <td>NaN</td>\n",
       "      <td>2016.000000</td>\n",
       "    </tr>\n",
       "  </tbody>\n",
       "</table>\n",
       "</div>"
      ],
      "text/plain": [
       "             Brand         Price   Body      Mileage      EngineV Engine Type  \\\n",
       "count         3637   3637.000000   3637  3637.000000  3637.000000        3637   \n",
       "unique           7           NaN      6          NaN          NaN           4   \n",
       "top     Volkswagen           NaN  sedan          NaN          NaN      Diesel   \n",
       "freq           817           NaN   1362          NaN          NaN        1700   \n",
       "mean           NaN  16161.489995    NaN   162.043992     2.429260         NaN   \n",
       "std            NaN  13336.149438    NaN    90.149977     0.943008         NaN   \n",
       "min            NaN    800.000000    NaN     0.000000     1.000000         NaN   \n",
       "25%            NaN   7450.000000    NaN    97.000000     1.800000         NaN   \n",
       "50%            NaN  11700.000000    NaN   159.000000     2.200000         NaN   \n",
       "75%            NaN  20500.000000    NaN   223.000000     3.000000         NaN   \n",
       "max            NaN  70000.000000    NaN   423.000000     7.200000         NaN   \n",
       "\n",
       "       Registration         Year  \n",
       "count          3637  3637.000000  \n",
       "unique            2          NaN  \n",
       "top             yes          NaN  \n",
       "freq           3281          NaN  \n",
       "mean            NaN  2006.940610  \n",
       "std             NaN     5.375482  \n",
       "min             NaN  1993.000000  \n",
       "25%             NaN  2003.000000  \n",
       "50%             NaN  2008.000000  \n",
       "75%             NaN  2011.000000  \n",
       "max             NaN  2016.000000  "
      ]
     },
     "execution_count": 23,
     "metadata": {},
     "output_type": "execute_result"
    }
   ],
   "source": [
    "data_v004.describe(include=\"all\")"
   ]
  },
  {
   "cell_type": "markdown",
   "metadata": {},
   "source": [
    "We have successfully removed the most extreme outliers in our data and are now looking at distributions that look at lot more \"normal\", with less extreme skews. At the same time, we have \"saved\" as many data points as possible in each step and thus retained a solid base of 3637 cases for our analysis."
   ]
  },
  {
   "cell_type": "markdown",
   "metadata": {},
   "source": [
    "<u><p style=\"font-size:18px\">5.3. Transforming the <b>Price</b> Variable</p></u>"
   ]
  },
  {
   "cell_type": "markdown",
   "metadata": {},
   "source": [
    "It is time to revisit the relationships between our dependent variable <b>Price<b/> and our independent variables <b>Mileage</b>, <b>Engine Volume</b> and <b>Year</b>. Let's have a look at the same plots that we looked at before we cleaned our data:"
   ]
  },
  {
   "cell_type": "code",
   "execution_count": 24,
   "metadata": {},
   "outputs": [
    {
     "data": {
      "image/png": "[encoded data removed]",
      "text/plain": [
       "<Figure size 1080x216 with 3 Axes>"
      ]
     },
     "metadata": {
      "needs_background": "light"
     },
     "output_type": "display_data"
    }
   ],
   "source": [
    "fig, (ax1, ax2, ax3) = plt.subplots(1, 3, figsize= (15,3))\n",
    "\n",
    "ax1.scatter(data_v004['Mileage'], data_v004['Price'], c=\"blue\")\n",
    "ax1.set_title('Price vs. Mileage')\n",
    "\n",
    "ax2.scatter(data_v004['EngineV'], data_v004['Price'], c=\"red\")\n",
    "ax2.set_title('Price vs. Engine Volume')\n",
    "\n",
    "ax3.scatter(data_v004['Year'], data_v004['Price'], c=\"green\")\n",
    "ax3.set_title('Price vs. Year')\n",
    "\n",
    "plt.show()"
   ]
  },
  {
   "cell_type": "markdown",
   "metadata": {
    "collapsed": true
   },
   "source": [
    "Except for <b>Engine Volume</b>, where the relationship is not as pronounced, our variables suggest an exponential relationship with <b>Price</b>, rather than linear one. This is not optimal if we try to describe the regressors' impact using a linear regression model.\n",
    "\n",
    "To solve this problem, we can apply the natural logarithm to <b>Price</b>, which is expected to turn the relationship into a linear one. We have to keep this transformation in mind when we are interpreting the results of our model later on.\n",
    "\n",
    "We can apply the transformation of <b>Price</b> by adding the <b>log(Price)</b> as a new variable to our dataset:"
   ]
  },
  {
   "cell_type": "code",
   "execution_count": 25,
   "metadata": {},
   "outputs": [],
   "source": [
    "data_v004['Log_Price'] = np.log(data_v004[\"Price\"])"
   ]
  },
  {
   "cell_type": "markdown",
   "metadata": {},
   "source": [
    "Let's look at the relationships again:"
   ]
  },
  {
   "cell_type": "code",
   "execution_count": 26,
   "metadata": {},
   "outputs": [
    {
     "data": {
      "image/png": "[encoded data removed]",
      "text/plain": [
       "<Figure size 1080x216 with 3 Axes>"
      ]
     },
     "metadata": {
      "needs_background": "light"
     },
     "output_type": "display_data"
    }
   ],
   "source": [
    "fig, (ax1, ax2, ax3) = plt.subplots(1, 3, figsize= (15,3))\n",
    "\n",
    "ax1.scatter(data_v004['Mileage'], data_v004['Log_Price'], c=\"blue\")\n",
    "ax1.set_title('Price vs. Mileage')\n",
    "\n",
    "ax2.scatter(data_v004['EngineV'], data_v004['Log_Price'], c=\"red\")\n",
    "ax2.set_title('Price vs. Engine Volume')\n",
    "\n",
    "ax3.scatter(data_v004['Year'], data_v004['Log_Price'], c=\"green\")\n",
    "ax3.set_title('Price vs. Year')\n",
    "\n",
    "plt.show()"
   ]
  },
  {
   "cell_type": "markdown",
   "metadata": {},
   "source": [
    "The log-transformation has produced more linear relationships, which can be better described by a linear model.\n",
    "\n",
    "As we are not needing our \"old\" <b>Price</b> variable anymore, we can drop it from the dataset."
   ]
  },
  {
   "cell_type": "code",
   "execution_count": 27,
   "metadata": {},
   "outputs": [],
   "source": [
    "data_v005 = data_v004.drop([\"Price\"], axis=1)"
   ]
  },
  {
   "cell_type": "markdown",
   "metadata": {},
   "source": [
    "<u><p style=\"font-size:18px\">5.4. Meeting the Requirements for a Linear Regression</p></u>"
   ]
  },
  {
   "cell_type": "markdown",
   "metadata": {},
   "source": [
    "Before creating our linear model, we need to make sure that all assumptions for performing a\n",
    "linear regression are met:\n",
    "\n",
    "1. <b>No endogeneity</b> -> Meaning no variable in the regression should be correlated with\n",
    "the regression's error term, or that there should not be a third variable that explains the output, but which the model does not account for. -> This is difficult to check for our model as we can only observe the variables that are given to us in the dataset. However, we should always assume that there are factors influencing our output that we have not been able to measure, or decided to exclude. An example is the <b>Model</b> variable that we decided to drop earlier, or a \"damage\" variable that tells us whether or not a car had an accident in its lifetime, but which we have no data for. Possible endogeneity should always be considered when interpreting the results of a regression model.<br/><br/>\n",
    "\n",
    "2. <b>Normality</b> -> Meaning the regression's error term should be normally distributed. -> We can assume this condition to be met due to the <em>Central Limit Theorem</em>, which states that in large samples the distribution of the error term will approximate normality. With more than 3600 observations, we have a large enough sample size for the <em>Central Limit Theorem</em> to apply.<br/><br/>\n",
    "\n",
    "3. <b>Zero Residual Mean</b> -> Will be accomplished as we will be adding an intercept to the model. This will ensure that the mean of the residuals of the regression line will approximate zero.<br/><br/>\n",
    "\n",
    "4. <b>Homoscedasticity</b> -> Meaning that the observed values should be equally spread around the regression line (e.g. the spread of observed values does not increase systematically with an increase in price). We have avoided this problem by means of the log-transformation of our <b>Price</b> variable, which has produced linear relationships with our regressors for which we observed an equal spread of overvations around a possible regressions line in our scatter plots.<br/><br/>\n",
    "\n",
    "5. <b>No autocorrelation</b> -> Meaning none of the data points in our sample is a reproduction of an earlier data point and therefore correlated to it. This problem occurs mostly when looking at panel data or time series. In our case, we merely have a \"snapshot\" of a situation on the market for used cars in 2016, so there is no reason to assume autocorrelation between the data points in the dataset.<br/><br/>\n",
    "\n",
    "6. <b>Multicollinearity</b> - Meaning none of the regressors in the model should be correlated with any one or more of the other regressors. We can probably assume that multicollinearity exists in our dataset because, from a logical point of view, <b>Mileage</b> and <b>Year</b> should be correlated in a way that the newer the car, the lower its <b>Mileage</b>.<br/>\n",
    "\n",
    "We can check for multicollinearity via the use of <em>Variance Inflation Factors (VIFs)</em>. The idea is that a linear regression is run for each of the regressors, whereas one of them always acts as the dependent, and the others as independent variables. We then receive <em>R² values</em> for each regression, which indicate how well each variable can be explained by others. VIF values of 10 or higher have been described as indicating a problematic amount of collinearity, which should be corrected, possibly by dropping the respective variable from the model. \n",
    "\n",
    "We can perform VIF analysis with Statsmodels:"
   ]
  },
  {
   "cell_type": "markdown",
   "metadata": {},
   "source": [
    "<u><p style=\"font-size:16px\">5.4.1. Investigating Multicollinearity via <em>Variance Inflation Factors (VIFs)</em></p></u>"
   ]
  },
  {
   "cell_type": "code",
   "execution_count": 28,
   "metadata": {},
   "outputs": [],
   "source": [
    "from statsmodels.stats.outliers_influence import variance_inflation_factor\n",
    "\n",
    "variables = data_v005[[\"Mileage\", \"Year\", \"EngineV\"]]\n",
    "\n",
    "vif = pd.DataFrame()\n",
    "vif[\"VIF\"] = [variance_inflation_factor(variables.values, i) for i in range(variables.shape[1])]\n",
    "vif[\"Features\"] = variables.columns"
   ]
  },
  {
   "cell_type": "code",
   "execution_count": 29,
   "metadata": {},
   "outputs": [
    {
     "data": {
      "text/html": [
       "<div>\n",
       "<style scoped>\n",
       "    .dataframe tbody tr th:only-of-type {\n",
       "        vertical-align: middle;\n",
       "    }\n",
       "\n",
       "    .dataframe tbody tr th {\n",
       "        vertical-align: top;\n",
       "    }\n",
       "\n",
       "    .dataframe thead th {\n",
       "        text-align: right;\n",
       "    }\n",
       "</style>\n",
       "<table border=\"1\" class=\"dataframe\">\n",
       "  <thead>\n",
       "    <tr style=\"text-align: right;\">\n",
       "      <th></th>\n",
       "      <th>VIF</th>\n",
       "      <th>Features</th>\n",
       "    </tr>\n",
       "  </thead>\n",
       "  <tbody>\n",
       "    <tr>\n",
       "      <th>0</th>\n",
       "      <td>4.224940</td>\n",
       "      <td>Mileage</td>\n",
       "    </tr>\n",
       "    <tr>\n",
       "      <th>1</th>\n",
       "      <td>10.207965</td>\n",
       "      <td>Year</td>\n",
       "    </tr>\n",
       "    <tr>\n",
       "      <th>2</th>\n",
       "      <td>7.667343</td>\n",
       "      <td>EngineV</td>\n",
       "    </tr>\n",
       "  </tbody>\n",
       "</table>\n",
       "</div>"
      ],
      "text/plain": [
       "         VIF Features\n",
       "0   4.224940  Mileage\n",
       "1  10.207965     Year\n",
       "2   7.667343  EngineV"
      ]
     },
     "execution_count": 29,
     "metadata": {},
     "output_type": "execute_result"
    }
   ],
   "source": [
    "vif"
   ]
  },
  {
   "cell_type": "markdown",
   "metadata": {},
   "source": [
    "With a VIF value of 1 signalling no multicollinearity at all, values up to 10 (ideally lower) have been considered acceptable. However, as our <b>Year</b> variable surpasses this threshold, we are better advised to not include it in our model. This is due to the fact that its inclusion would artificially increase the explanatory power of our model and, secondly, the VIF analysis has revealed that <b>Mileage</b> and <b>Engine Volume</b> already explain much of the same variation that <b>Year</b> explains.\n",
    "\n",
    "As a result, we will decide to drop <b>Year</b> from our dataset:"
   ]
  },
  {
   "cell_type": "code",
   "execution_count": 30,
   "metadata": {},
   "outputs": [],
   "source": [
    "data_v006 = data_v005.drop([\"Year\"], axis=1)"
   ]
  },
  {
   "cell_type": "markdown",
   "metadata": {},
   "source": [
    "<u><p style=\"font-size:18px\">5.5. Creating Dummies from Categorical Variables</p></u>"
   ]
  },
  {
   "cell_type": "markdown",
   "metadata": {},
   "source": [
    "It is now time to create dummies from the categorical variables we have in our dataset. As a quick overview of our dataset reminds us, these variables are <b>Brand</b>, <b>Body Type</b>, <b>Engine Type</b> and <b>Registration</b>:"
   ]
  },
  {
   "cell_type": "code",
   "execution_count": 31,
   "metadata": {},
   "outputs": [
    {
     "data": {
      "text/html": [
       "<div>\n",
       "<style scoped>\n",
       "    .dataframe tbody tr th:only-of-type {\n",
       "        vertical-align: middle;\n",
       "    }\n",
       "\n",
       "    .dataframe tbody tr th {\n",
       "        vertical-align: top;\n",
       "    }\n",
       "\n",
       "    .dataframe thead th {\n",
       "        text-align: right;\n",
       "    }\n",
       "</style>\n",
       "<table border=\"1\" class=\"dataframe\">\n",
       "  <thead>\n",
       "    <tr style=\"text-align: right;\">\n",
       "      <th></th>\n",
       "      <th>Brand</th>\n",
       "      <th>Body</th>\n",
       "      <th>Mileage</th>\n",
       "      <th>EngineV</th>\n",
       "      <th>Engine Type</th>\n",
       "      <th>Registration</th>\n",
       "      <th>Log_Price</th>\n",
       "    </tr>\n",
       "  </thead>\n",
       "  <tbody>\n",
       "    <tr>\n",
       "      <th>count</th>\n",
       "      <td>3637</td>\n",
       "      <td>3637</td>\n",
       "      <td>3637.000000</td>\n",
       "      <td>3637.000000</td>\n",
       "      <td>3637</td>\n",
       "      <td>3637</td>\n",
       "      <td>3637.000000</td>\n",
       "    </tr>\n",
       "    <tr>\n",
       "      <th>unique</th>\n",
       "      <td>7</td>\n",
       "      <td>6</td>\n",
       "      <td>NaN</td>\n",
       "      <td>NaN</td>\n",
       "      <td>4</td>\n",
       "      <td>2</td>\n",
       "      <td>NaN</td>\n",
       "    </tr>\n",
       "    <tr>\n",
       "      <th>top</th>\n",
       "      <td>Volkswagen</td>\n",
       "      <td>sedan</td>\n",
       "      <td>NaN</td>\n",
       "      <td>NaN</td>\n",
       "      <td>Diesel</td>\n",
       "      <td>yes</td>\n",
       "      <td>NaN</td>\n",
       "    </tr>\n",
       "    <tr>\n",
       "      <th>freq</th>\n",
       "      <td>817</td>\n",
       "      <td>1362</td>\n",
       "      <td>NaN</td>\n",
       "      <td>NaN</td>\n",
       "      <td>1700</td>\n",
       "      <td>3281</td>\n",
       "      <td>NaN</td>\n",
       "    </tr>\n",
       "    <tr>\n",
       "      <th>mean</th>\n",
       "      <td>NaN</td>\n",
       "      <td>NaN</td>\n",
       "      <td>162.043992</td>\n",
       "      <td>2.429260</td>\n",
       "      <td>NaN</td>\n",
       "      <td>NaN</td>\n",
       "      <td>9.391792</td>\n",
       "    </tr>\n",
       "    <tr>\n",
       "      <th>std</th>\n",
       "      <td>NaN</td>\n",
       "      <td>NaN</td>\n",
       "      <td>90.149977</td>\n",
       "      <td>0.943008</td>\n",
       "      <td>NaN</td>\n",
       "      <td>NaN</td>\n",
       "      <td>0.786548</td>\n",
       "    </tr>\n",
       "    <tr>\n",
       "      <th>min</th>\n",
       "      <td>NaN</td>\n",
       "      <td>NaN</td>\n",
       "      <td>0.000000</td>\n",
       "      <td>1.000000</td>\n",
       "      <td>NaN</td>\n",
       "      <td>NaN</td>\n",
       "      <td>6.684612</td>\n",
       "    </tr>\n",
       "    <tr>\n",
       "      <th>25%</th>\n",
       "      <td>NaN</td>\n",
       "      <td>NaN</td>\n",
       "      <td>97.000000</td>\n",
       "      <td>1.800000</td>\n",
       "      <td>NaN</td>\n",
       "      <td>NaN</td>\n",
       "      <td>8.915969</td>\n",
       "    </tr>\n",
       "    <tr>\n",
       "      <th>50%</th>\n",
       "      <td>NaN</td>\n",
       "      <td>NaN</td>\n",
       "      <td>159.000000</td>\n",
       "      <td>2.200000</td>\n",
       "      <td>NaN</td>\n",
       "      <td>NaN</td>\n",
       "      <td>9.367344</td>\n",
       "    </tr>\n",
       "    <tr>\n",
       "      <th>75%</th>\n",
       "      <td>NaN</td>\n",
       "      <td>NaN</td>\n",
       "      <td>223.000000</td>\n",
       "      <td>3.000000</td>\n",
       "      <td>NaN</td>\n",
       "      <td>NaN</td>\n",
       "      <td>9.928180</td>\n",
       "    </tr>\n",
       "    <tr>\n",
       "      <th>max</th>\n",
       "      <td>NaN</td>\n",
       "      <td>NaN</td>\n",
       "      <td>423.000000</td>\n",
       "      <td>7.200000</td>\n",
       "      <td>NaN</td>\n",
       "      <td>NaN</td>\n",
       "      <td>11.156251</td>\n",
       "    </tr>\n",
       "  </tbody>\n",
       "</table>\n",
       "</div>"
      ],
      "text/plain": [
       "             Brand   Body      Mileage      EngineV Engine Type Registration  \\\n",
       "count         3637   3637  3637.000000  3637.000000        3637         3637   \n",
       "unique           7      6          NaN          NaN           4            2   \n",
       "top     Volkswagen  sedan          NaN          NaN      Diesel          yes   \n",
       "freq           817   1362          NaN          NaN        1700         3281   \n",
       "mean           NaN    NaN   162.043992     2.429260         NaN          NaN   \n",
       "std            NaN    NaN    90.149977     0.943008         NaN          NaN   \n",
       "min            NaN    NaN     0.000000     1.000000         NaN          NaN   \n",
       "25%            NaN    NaN    97.000000     1.800000         NaN          NaN   \n",
       "50%            NaN    NaN   159.000000     2.200000         NaN          NaN   \n",
       "75%            NaN    NaN   223.000000     3.000000         NaN          NaN   \n",
       "max            NaN    NaN   423.000000     7.200000         NaN          NaN   \n",
       "\n",
       "          Log_Price  \n",
       "count   3637.000000  \n",
       "unique          NaN  \n",
       "top             NaN  \n",
       "freq            NaN  \n",
       "mean       9.391792  \n",
       "std        0.786548  \n",
       "min        6.684612  \n",
       "25%        8.915969  \n",
       "50%        9.367344  \n",
       "75%        9.928180  \n",
       "max       11.156251  "
      ]
     },
     "execution_count": 31,
     "metadata": {},
     "output_type": "execute_result"
    }
   ],
   "source": [
    "data_v006.describe(include=\"all\")"
   ]
  },
  {
   "cell_type": "markdown",
   "metadata": {},
   "source": [
    "We can use Panda's practical <em>\"Get Dummies\"</em> function which will automatically scan our dataset for categorical variables, create dummies from these, and drop the previous categorical variables. <em>\"Get Dummies\"</em> will always drop the first category of each categorical variable in order to avoid the \"Dummy Variable Trap\". That is if all other categories are 0, then the first category would necessarily need to be 1, so by adding an extra dummy for the first category, we would introduce multicollinearity as the combination of all the other categories could predict the outcome of the first dummy perfectly.\n",
    "\n",
    "The dropped category of each variable will be its reference category, meaning the coefficients for each dummy will later on be interpreted with respect to the reference category. Our reference categories are:\n",
    "\n",
    "For <b>Brand</b> -> Audi<br/>\n",
    "For <b>Body Type</b> -> Crossover<br/>\n",
    "For <b>Engine Type</b> -> Diesel<br/>\n",
    "For <b>Registration</b> -> No (no registration)<br/>\n",
    "\n",
    "Let's apply <em>\"Get Dummies\"</em> and have a look at our new dataset:"
   ]
  },
  {
   "cell_type": "code",
   "execution_count": 32,
   "metadata": {},
   "outputs": [],
   "source": [
    "data_v007 = pd.get_dummies(data_v006, drop_first = True)"
   ]
  },
  {
   "cell_type": "code",
   "execution_count": 33,
   "metadata": {},
   "outputs": [
    {
     "data": {
      "text/html": [
       "<div>\n",
       "<style scoped>\n",
       "    .dataframe tbody tr th:only-of-type {\n",
       "        vertical-align: middle;\n",
       "    }\n",
       "\n",
       "    .dataframe tbody tr th {\n",
       "        vertical-align: top;\n",
       "    }\n",
       "\n",
       "    .dataframe thead th {\n",
       "        text-align: right;\n",
       "    }\n",
       "</style>\n",
       "<table border=\"1\" class=\"dataframe\">\n",
       "  <thead>\n",
       "    <tr style=\"text-align: right;\">\n",
       "      <th></th>\n",
       "      <th>Mileage</th>\n",
       "      <th>EngineV</th>\n",
       "      <th>Log_Price</th>\n",
       "      <th>Brand_BMW</th>\n",
       "      <th>Brand_Mercedes-Benz</th>\n",
       "      <th>Brand_Mitsubishi</th>\n",
       "      <th>Brand_Renault</th>\n",
       "      <th>Brand_Toyota</th>\n",
       "      <th>Brand_Volkswagen</th>\n",
       "      <th>Body_hatch</th>\n",
       "      <th>Body_other</th>\n",
       "      <th>Body_sedan</th>\n",
       "      <th>Body_vagon</th>\n",
       "      <th>Body_van</th>\n",
       "      <th>Engine Type_Gas</th>\n",
       "      <th>Engine Type_Other</th>\n",
       "      <th>Engine Type_Petrol</th>\n",
       "      <th>Registration_yes</th>\n",
       "    </tr>\n",
       "  </thead>\n",
       "  <tbody>\n",
       "    <tr>\n",
       "      <th>count</th>\n",
       "      <td>3637.000000</td>\n",
       "      <td>3637.000000</td>\n",
       "      <td>3637.000000</td>\n",
       "      <td>3637.000000</td>\n",
       "      <td>3637.000000</td>\n",
       "      <td>3637.000000</td>\n",
       "      <td>3637.000000</td>\n",
       "      <td>3637.000000</td>\n",
       "      <td>3637.000000</td>\n",
       "      <td>3637.000000</td>\n",
       "      <td>3637.000000</td>\n",
       "      <td>3637.000000</td>\n",
       "      <td>3637.000000</td>\n",
       "      <td>3637.000000</td>\n",
       "      <td>3637.000000</td>\n",
       "      <td>3637.000000</td>\n",
       "      <td>3637.000000</td>\n",
       "      <td>3637.000000</td>\n",
       "    </tr>\n",
       "    <tr>\n",
       "      <th>mean</th>\n",
       "      <td>162.043992</td>\n",
       "      <td>2.429260</td>\n",
       "      <td>9.391792</td>\n",
       "      <td>0.156998</td>\n",
       "      <td>0.185867</td>\n",
       "      <td>0.080011</td>\n",
       "      <td>0.117404</td>\n",
       "      <td>0.130877</td>\n",
       "      <td>0.224636</td>\n",
       "      <td>0.065988</td>\n",
       "      <td>0.097883</td>\n",
       "      <td>0.374484</td>\n",
       "      <td>0.100357</td>\n",
       "      <td>0.163596</td>\n",
       "      <td>0.146824</td>\n",
       "      <td>0.026120</td>\n",
       "      <td>0.359637</td>\n",
       "      <td>0.902117</td>\n",
       "    </tr>\n",
       "    <tr>\n",
       "      <th>std</th>\n",
       "      <td>90.149977</td>\n",
       "      <td>0.943008</td>\n",
       "      <td>0.786548</td>\n",
       "      <td>0.363848</td>\n",
       "      <td>0.389053</td>\n",
       "      <td>0.271348</td>\n",
       "      <td>0.321946</td>\n",
       "      <td>0.337312</td>\n",
       "      <td>0.417400</td>\n",
       "      <td>0.248296</td>\n",
       "      <td>0.297197</td>\n",
       "      <td>0.484056</td>\n",
       "      <td>0.300517</td>\n",
       "      <td>0.369960</td>\n",
       "      <td>0.353979</td>\n",
       "      <td>0.159515</td>\n",
       "      <td>0.479960</td>\n",
       "      <td>0.297197</td>\n",
       "    </tr>\n",
       "    <tr>\n",
       "      <th>min</th>\n",
       "      <td>0.000000</td>\n",
       "      <td>1.000000</td>\n",
       "      <td>6.684612</td>\n",
       "      <td>0.000000</td>\n",
       "      <td>0.000000</td>\n",
       "      <td>0.000000</td>\n",
       "      <td>0.000000</td>\n",
       "      <td>0.000000</td>\n",
       "      <td>0.000000</td>\n",
       "      <td>0.000000</td>\n",
       "      <td>0.000000</td>\n",
       "      <td>0.000000</td>\n",
       "      <td>0.000000</td>\n",
       "      <td>0.000000</td>\n",
       "      <td>0.000000</td>\n",
       "      <td>0.000000</td>\n",
       "      <td>0.000000</td>\n",
       "      <td>0.000000</td>\n",
       "    </tr>\n",
       "    <tr>\n",
       "      <th>25%</th>\n",
       "      <td>97.000000</td>\n",
       "      <td>1.800000</td>\n",
       "      <td>8.915969</td>\n",
       "      <td>0.000000</td>\n",
       "      <td>0.000000</td>\n",
       "      <td>0.000000</td>\n",
       "      <td>0.000000</td>\n",
       "      <td>0.000000</td>\n",
       "      <td>0.000000</td>\n",
       "      <td>0.000000</td>\n",
       "      <td>0.000000</td>\n",
       "      <td>0.000000</td>\n",
       "      <td>0.000000</td>\n",
       "      <td>0.000000</td>\n",
       "      <td>0.000000</td>\n",
       "      <td>0.000000</td>\n",
       "      <td>0.000000</td>\n",
       "      <td>1.000000</td>\n",
       "    </tr>\n",
       "    <tr>\n",
       "      <th>50%</th>\n",
       "      <td>159.000000</td>\n",
       "      <td>2.200000</td>\n",
       "      <td>9.367344</td>\n",
       "      <td>0.000000</td>\n",
       "      <td>0.000000</td>\n",
       "      <td>0.000000</td>\n",
       "      <td>0.000000</td>\n",
       "      <td>0.000000</td>\n",
       "      <td>0.000000</td>\n",
       "      <td>0.000000</td>\n",
       "      <td>0.000000</td>\n",
       "      <td>0.000000</td>\n",
       "      <td>0.000000</td>\n",
       "      <td>0.000000</td>\n",
       "      <td>0.000000</td>\n",
       "      <td>0.000000</td>\n",
       "      <td>0.000000</td>\n",
       "      <td>1.000000</td>\n",
       "    </tr>\n",
       "    <tr>\n",
       "      <th>75%</th>\n",
       "      <td>223.000000</td>\n",
       "      <td>3.000000</td>\n",
       "      <td>9.928180</td>\n",
       "      <td>0.000000</td>\n",
       "      <td>0.000000</td>\n",
       "      <td>0.000000</td>\n",
       "      <td>0.000000</td>\n",
       "      <td>0.000000</td>\n",
       "      <td>0.000000</td>\n",
       "      <td>0.000000</td>\n",
       "      <td>0.000000</td>\n",
       "      <td>1.000000</td>\n",
       "      <td>0.000000</td>\n",
       "      <td>0.000000</td>\n",
       "      <td>0.000000</td>\n",
       "      <td>0.000000</td>\n",
       "      <td>1.000000</td>\n",
       "      <td>1.000000</td>\n",
       "    </tr>\n",
       "    <tr>\n",
       "      <th>max</th>\n",
       "      <td>423.000000</td>\n",
       "      <td>7.200000</td>\n",
       "      <td>11.156251</td>\n",
       "      <td>1.000000</td>\n",
       "      <td>1.000000</td>\n",
       "      <td>1.000000</td>\n",
       "      <td>1.000000</td>\n",
       "      <td>1.000000</td>\n",
       "      <td>1.000000</td>\n",
       "      <td>1.000000</td>\n",
       "      <td>1.000000</td>\n",
       "      <td>1.000000</td>\n",
       "      <td>1.000000</td>\n",
       "      <td>1.000000</td>\n",
       "      <td>1.000000</td>\n",
       "      <td>1.000000</td>\n",
       "      <td>1.000000</td>\n",
       "      <td>1.000000</td>\n",
       "    </tr>\n",
       "  </tbody>\n",
       "</table>\n",
       "</div>"
      ],
      "text/plain": [
       "           Mileage      EngineV    Log_Price    Brand_BMW  \\\n",
       "count  3637.000000  3637.000000  3637.000000  3637.000000   \n",
       "mean    162.043992     2.429260     9.391792     0.156998   \n",
       "std      90.149977     0.943008     0.786548     0.363848   \n",
       "min       0.000000     1.000000     6.684612     0.000000   \n",
       "25%      97.000000     1.800000     8.915969     0.000000   \n",
       "50%     159.000000     2.200000     9.367344     0.000000   \n",
       "75%     223.000000     3.000000     9.928180     0.000000   \n",
       "max     423.000000     7.200000    11.156251     1.000000   \n",
       "\n",
       "       Brand_Mercedes-Benz  Brand_Mitsubishi  Brand_Renault  Brand_Toyota  \\\n",
       "count          3637.000000       3637.000000    3637.000000   3637.000000   \n",
       "mean              0.185867          0.080011       0.117404      0.130877   \n",
       "std               0.389053          0.271348       0.321946      0.337312   \n",
       "min               0.000000          0.000000       0.000000      0.000000   \n",
       "25%               0.000000          0.000000       0.000000      0.000000   \n",
       "50%               0.000000          0.000000       0.000000      0.000000   \n",
       "75%               0.000000          0.000000       0.000000      0.000000   \n",
       "max               1.000000          1.000000       1.000000      1.000000   \n",
       "\n",
       "       Brand_Volkswagen   Body_hatch   Body_other   Body_sedan   Body_vagon  \\\n",
       "count       3637.000000  3637.000000  3637.000000  3637.000000  3637.000000   \n",
       "mean           0.224636     0.065988     0.097883     0.374484     0.100357   \n",
       "std            0.417400     0.248296     0.297197     0.484056     0.300517   \n",
       "min            0.000000     0.000000     0.000000     0.000000     0.000000   \n",
       "25%            0.000000     0.000000     0.000000     0.000000     0.000000   \n",
       "50%            0.000000     0.000000     0.000000     0.000000     0.000000   \n",
       "75%            0.000000     0.000000     0.000000     1.000000     0.000000   \n",
       "max            1.000000     1.000000     1.000000     1.000000     1.000000   \n",
       "\n",
       "          Body_van  Engine Type_Gas  Engine Type_Other  Engine Type_Petrol  \\\n",
       "count  3637.000000      3637.000000        3637.000000         3637.000000   \n",
       "mean      0.163596         0.146824           0.026120            0.359637   \n",
       "std       0.369960         0.353979           0.159515            0.479960   \n",
       "min       0.000000         0.000000           0.000000            0.000000   \n",
       "25%       0.000000         0.000000           0.000000            0.000000   \n",
       "50%       0.000000         0.000000           0.000000            0.000000   \n",
       "75%       0.000000         0.000000           0.000000            1.000000   \n",
       "max       1.000000         1.000000           1.000000            1.000000   \n",
       "\n",
       "       Registration_yes  \n",
       "count       3637.000000  \n",
       "mean           0.902117  \n",
       "std            0.297197  \n",
       "min            0.000000  \n",
       "25%            1.000000  \n",
       "50%            1.000000  \n",
       "75%            1.000000  \n",
       "max            1.000000  "
      ]
     },
     "execution_count": 33,
     "metadata": {},
     "output_type": "execute_result"
    }
   ],
   "source": [
    "data_v007.describe(include=\"all\")"
   ]
  },
  {
   "cell_type": "markdown",
   "metadata": {},
   "source": [
    "<u><p style=\"font-size:16px\">5.5.1. Re-examining Multicollinearity with Dummies</p></u>"
   ]
  },
  {
   "cell_type": "markdown",
   "metadata": {},
   "source": [
    "We have now introduced a range of new dummy variables and at the same time prepared all the regressors that we plan to feed to our model.\n",
    "\n",
    "We should now re-examine multicollinearity among all regressors to make sure that we have not introduced new relationships between our regressors:"
   ]
  },
  {
   "cell_type": "code",
   "execution_count": 34,
   "metadata": {},
   "outputs": [
    {
     "data": {
      "text/html": [
       "<div>\n",
       "<style scoped>\n",
       "    .dataframe tbody tr th:only-of-type {\n",
       "        vertical-align: middle;\n",
       "    }\n",
       "\n",
       "    .dataframe tbody tr th {\n",
       "        vertical-align: top;\n",
       "    }\n",
       "\n",
       "    .dataframe thead th {\n",
       "        text-align: right;\n",
       "    }\n",
       "</style>\n",
       "<table border=\"1\" class=\"dataframe\">\n",
       "  <thead>\n",
       "    <tr style=\"text-align: right;\">\n",
       "      <th></th>\n",
       "      <th>VIF</th>\n",
       "      <th>Features</th>\n",
       "    </tr>\n",
       "  </thead>\n",
       "  <tbody>\n",
       "    <tr>\n",
       "      <th>0</th>\n",
       "      <td>4.996497</td>\n",
       "      <td>Mileage</td>\n",
       "    </tr>\n",
       "    <tr>\n",
       "      <th>1</th>\n",
       "      <td>8.171754</td>\n",
       "      <td>EngineV</td>\n",
       "    </tr>\n",
       "    <tr>\n",
       "      <th>2</th>\n",
       "      <td>2.282814</td>\n",
       "      <td>Brand_BMW</td>\n",
       "    </tr>\n",
       "    <tr>\n",
       "      <th>3</th>\n",
       "      <td>2.870286</td>\n",
       "      <td>Brand_Mercedes-Benz</td>\n",
       "    </tr>\n",
       "    <tr>\n",
       "      <th>4</th>\n",
       "      <td>1.671119</td>\n",
       "      <td>Brand_Mitsubishi</td>\n",
       "    </tr>\n",
       "    <tr>\n",
       "      <th>5</th>\n",
       "      <td>2.149815</td>\n",
       "      <td>Brand_Renault</td>\n",
       "    </tr>\n",
       "    <tr>\n",
       "      <th>6</th>\n",
       "      <td>2.216443</td>\n",
       "      <td>Brand_Toyota</td>\n",
       "    </tr>\n",
       "    <tr>\n",
       "      <th>7</th>\n",
       "      <td>2.927736</td>\n",
       "      <td>Brand_Volkswagen</td>\n",
       "    </tr>\n",
       "    <tr>\n",
       "      <th>8</th>\n",
       "      <td>1.475078</td>\n",
       "      <td>Body_hatch</td>\n",
       "    </tr>\n",
       "    <tr>\n",
       "      <th>9</th>\n",
       "      <td>1.554451</td>\n",
       "      <td>Body_other</td>\n",
       "    </tr>\n",
       "    <tr>\n",
       "      <th>10</th>\n",
       "      <td>3.084474</td>\n",
       "      <td>Body_sedan</td>\n",
       "    </tr>\n",
       "    <tr>\n",
       "      <th>11</th>\n",
       "      <td>1.616874</td>\n",
       "      <td>Body_vagon</td>\n",
       "    </tr>\n",
       "    <tr>\n",
       "      <th>12</th>\n",
       "      <td>2.579834</td>\n",
       "      <td>Body_van</td>\n",
       "    </tr>\n",
       "    <tr>\n",
       "      <th>13</th>\n",
       "      <td>1.701702</td>\n",
       "      <td>Engine Type_Gas</td>\n",
       "    </tr>\n",
       "    <tr>\n",
       "      <th>14</th>\n",
       "      <td>1.082813</td>\n",
       "      <td>Engine Type_Other</td>\n",
       "    </tr>\n",
       "    <tr>\n",
       "      <th>15</th>\n",
       "      <td>2.531654</td>\n",
       "      <td>Engine Type_Petrol</td>\n",
       "    </tr>\n",
       "    <tr>\n",
       "      <th>16</th>\n",
       "      <td>9.448641</td>\n",
       "      <td>Registration_yes</td>\n",
       "    </tr>\n",
       "  </tbody>\n",
       "</table>\n",
       "</div>"
      ],
      "text/plain": [
       "         VIF             Features\n",
       "0   4.996497              Mileage\n",
       "1   8.171754              EngineV\n",
       "2   2.282814            Brand_BMW\n",
       "3   2.870286  Brand_Mercedes-Benz\n",
       "4   1.671119     Brand_Mitsubishi\n",
       "5   2.149815        Brand_Renault\n",
       "6   2.216443         Brand_Toyota\n",
       "7   2.927736     Brand_Volkswagen\n",
       "8   1.475078           Body_hatch\n",
       "9   1.554451           Body_other\n",
       "10  3.084474           Body_sedan\n",
       "11  1.616874           Body_vagon\n",
       "12  2.579834             Body_van\n",
       "13  1.701702      Engine Type_Gas\n",
       "14  1.082813    Engine Type_Other\n",
       "15  2.531654   Engine Type_Petrol\n",
       "16  9.448641     Registration_yes"
      ]
     },
     "execution_count": 34,
     "metadata": {},
     "output_type": "execute_result"
    }
   ],
   "source": [
    "regressors = data_v007.drop(\"Log_Price\", axis=1)\n",
    "\n",
    "vif_regressors = pd.DataFrame()\n",
    "vif_regressors[\"VIF\"] = [variance_inflation_factor(regressors.values, i) for i in range(regressors.shape[1])]\n",
    "vif_regressors[\"Features\"] = regressors.columns\n",
    "vif_regressors"
   ]
  },
  {
   "cell_type": "markdown",
   "metadata": {},
   "source": [
    "Even though <b>Engine Volume</b> and <b> Registration_yes</b> are very close to a value of 10, all regressors qualify to be included in our model from a multicollinearity point of view."
   ]
  },
  {
   "cell_type": "markdown",
   "metadata": {},
   "source": [
    "<u><p style=\"font-size:18px\">5.6. Standardizing <b>Mileage</b> and <b>Engine Volume</b></p></u>"
   ]
  },
  {
   "cell_type": "markdown",
   "metadata": {},
   "source": [
    "Usually, dummy variables do not need to be standardized as they are dichotomous and only have 0 and 1 as their possible values.\n",
    "\n",
    "However, our numeric variables <b>Mileage</b> and <b>Engine Volume</b> are measured on scales with amplitudes that are quite different from each other. Whereas the possible values for <b>Mileage</b> range from 0 to over 400, possible <b>Engine Volumes</b> only range from 1 to slightly over 7.\n",
    "\n",
    "Adding <b>Mileage</b> and <b>Engine Volume</b> in their current state to our regression would lead the model to assign a much higher importance to <b>Mileage</b>, only because it can take on much higher values.\n",
    "\n",
    "To solve this problem, we can standardize (or scale) both inputs in order to bring them to a comparable level.\n",
    "\n",
    "We can use Sklearn's <em>Standard Scaler</em> to scale <b>Mileage</b> and <b>Engine Volume</b>, so they will have a mean of 0 and a standard deviation of 1, bringing their amplitude much closer to those of our dummies, and making both variables and their impacts comparable to each other."
   ]
  },
  {
   "cell_type": "markdown",
   "metadata": {},
   "source": [
    "To apply <em>Standard Scaler</em> to our numeric variables, we first need to split them from our regressors:"
   ]
  },
  {
   "cell_type": "code",
   "execution_count": 35,
   "metadata": {},
   "outputs": [],
   "source": [
    "inputs_numeric = regressors[[\"Mileage\",\"EngineV\"]]\n",
    "inputs_dummies = regressors.drop([\"Mileage\",\"EngineV\"], axis=1)"
   ]
  },
  {
   "cell_type": "markdown",
   "metadata": {},
   "source": [
    "Now we can apply <em>Standard Scaler</em> to our numeric inputs only."
   ]
  },
  {
   "cell_type": "code",
   "execution_count": 36,
   "metadata": {},
   "outputs": [
    {
     "data": {
      "text/html": [
       "<div>\n",
       "<style scoped>\n",
       "    .dataframe tbody tr th:only-of-type {\n",
       "        vertical-align: middle;\n",
       "    }\n",
       "\n",
       "    .dataframe tbody tr th {\n",
       "        vertical-align: top;\n",
       "    }\n",
       "\n",
       "    .dataframe thead th {\n",
       "        text-align: right;\n",
       "    }\n",
       "</style>\n",
       "<table border=\"1\" class=\"dataframe\">\n",
       "  <thead>\n",
       "    <tr style=\"text-align: right;\">\n",
       "      <th></th>\n",
       "      <th>Mileage_Scaled</th>\n",
       "      <th>EngineV_Scaled</th>\n",
       "    </tr>\n",
       "  </thead>\n",
       "  <tbody>\n",
       "    <tr>\n",
       "      <th>0</th>\n",
       "      <td>2.173966</td>\n",
       "      <td>2.726480</td>\n",
       "    </tr>\n",
       "    <tr>\n",
       "      <th>1</th>\n",
       "      <td>0.864856</td>\n",
       "      <td>1.878014</td>\n",
       "    </tr>\n",
       "    <tr>\n",
       "      <th>2</th>\n",
       "      <td>-0.466442</td>\n",
       "      <td>-0.455266</td>\n",
       "    </tr>\n",
       "    <tr>\n",
       "      <th>3</th>\n",
       "      <td>0.421090</td>\n",
       "      <td>0.287142</td>\n",
       "    </tr>\n",
       "    <tr>\n",
       "      <th>4</th>\n",
       "      <td>0.343431</td>\n",
       "      <td>-0.985557</td>\n",
       "    </tr>\n",
       "    <tr>\n",
       "      <th>...</th>\n",
       "      <td>...</td>\n",
       "      <td>...</td>\n",
       "    </tr>\n",
       "    <tr>\n",
       "      <th>3632</th>\n",
       "      <td>-0.111430</td>\n",
       "      <td>-0.879499</td>\n",
       "    </tr>\n",
       "    <tr>\n",
       "      <th>3633</th>\n",
       "      <td>0.010606</td>\n",
       "      <td>0.075025</td>\n",
       "    </tr>\n",
       "    <tr>\n",
       "      <th>3634</th>\n",
       "      <td>-1.409445</td>\n",
       "      <td>-0.879499</td>\n",
       "    </tr>\n",
       "    <tr>\n",
       "      <th>3635</th>\n",
       "      <td>-1.786646</td>\n",
       "      <td>1.135607</td>\n",
       "    </tr>\n",
       "    <tr>\n",
       "      <th>3636</th>\n",
       "      <td>-0.422066</td>\n",
       "      <td>-0.455266</td>\n",
       "    </tr>\n",
       "  </tbody>\n",
       "</table>\n",
       "<p>3637 rows × 2 columns</p>\n",
       "</div>"
      ],
      "text/plain": [
       "      Mileage_Scaled  EngineV_Scaled\n",
       "0           2.173966        2.726480\n",
       "1           0.864856        1.878014\n",
       "2          -0.466442       -0.455266\n",
       "3           0.421090        0.287142\n",
       "4           0.343431       -0.985557\n",
       "...              ...             ...\n",
       "3632       -0.111430       -0.879499\n",
       "3633        0.010606        0.075025\n",
       "3634       -1.409445       -0.879499\n",
       "3635       -1.786646        1.135607\n",
       "3636       -0.422066       -0.455266\n",
       "\n",
       "[3637 rows x 2 columns]"
      ]
     },
     "execution_count": 36,
     "metadata": {},
     "output_type": "execute_result"
    }
   ],
   "source": [
    "from sklearn.preprocessing import StandardScaler\n",
    "\n",
    "scaler = StandardScaler()\n",
    "\n",
    "scaler.fit(inputs_numeric)\n",
    "\n",
    "inputs_numeric_scaled = pd.DataFrame(scaler.transform(inputs_numeric))\n",
    "                                     \n",
    "inputs_numeric_scaled = inputs_numeric_scaled.rename(columns={0: \"Mileage_Scaled\", 1: \"EngineV_Scaled\"})\n",
    "\n",
    "inputs_numeric_scaled"
   ]
  },
  {
   "cell_type": "markdown",
   "metadata": {},
   "source": [
    "After we have achieved the scaling of our numeric inputs, we need to merge them together with our dummy variables again. We will use the <em>join</em> operator to achieve this goal.\n",
    "\n",
    "However, <em>Standard Scaler</em> has produced the new dataset \"inputs_numeric_scaled\" with newly set index parameters, startin from 0 to 3636. Meanwhile, our dataset with dummy variables has retained its original index values, which are not identical to the new values due to the cases we have deleted earlier. This is problematic when trying to join datasets because Pandas will by default try to match index numbers when joining.\n",
    "\n",
    "In order to successfully join \"inputs_numeric_scaled\" with our dummies again, we need to reset the index for our \"inputs_dummies\" as well:\n",
    "\n",
    "<em>Additional info</em>: The <em>reset_index</em> operator also introduces a column named \"index\" by default, which we can choose to drop with the addition \"drop=True\""
   ]
  },
  {
   "cell_type": "code",
   "execution_count": 37,
   "metadata": {},
   "outputs": [
    {
     "data": {
      "text/html": [
       "<div>\n",
       "<style scoped>\n",
       "    .dataframe tbody tr th:only-of-type {\n",
       "        vertical-align: middle;\n",
       "    }\n",
       "\n",
       "    .dataframe tbody tr th {\n",
       "        vertical-align: top;\n",
       "    }\n",
       "\n",
       "    .dataframe thead th {\n",
       "        text-align: right;\n",
       "    }\n",
       "</style>\n",
       "<table border=\"1\" class=\"dataframe\">\n",
       "  <thead>\n",
       "    <tr style=\"text-align: right;\">\n",
       "      <th></th>\n",
       "      <th>Mileage_Scaled</th>\n",
       "      <th>EngineV_Scaled</th>\n",
       "      <th>Brand_BMW</th>\n",
       "      <th>Brand_Mercedes-Benz</th>\n",
       "      <th>Brand_Mitsubishi</th>\n",
       "      <th>Brand_Renault</th>\n",
       "      <th>Brand_Toyota</th>\n",
       "      <th>Brand_Volkswagen</th>\n",
       "      <th>Body_hatch</th>\n",
       "      <th>Body_other</th>\n",
       "      <th>Body_sedan</th>\n",
       "      <th>Body_vagon</th>\n",
       "      <th>Body_van</th>\n",
       "      <th>Engine Type_Gas</th>\n",
       "      <th>Engine Type_Other</th>\n",
       "      <th>Engine Type_Petrol</th>\n",
       "      <th>Registration_yes</th>\n",
       "    </tr>\n",
       "  </thead>\n",
       "  <tbody>\n",
       "    <tr>\n",
       "      <th>0</th>\n",
       "      <td>2.173966</td>\n",
       "      <td>2.726480</td>\n",
       "      <td>0</td>\n",
       "      <td>1</td>\n",
       "      <td>0</td>\n",
       "      <td>0</td>\n",
       "      <td>0</td>\n",
       "      <td>0</td>\n",
       "      <td>0</td>\n",
       "      <td>0</td>\n",
       "      <td>1</td>\n",
       "      <td>0</td>\n",
       "      <td>0</td>\n",
       "      <td>1</td>\n",
       "      <td>0</td>\n",
       "      <td>0</td>\n",
       "      <td>1</td>\n",
       "    </tr>\n",
       "    <tr>\n",
       "      <th>1</th>\n",
       "      <td>0.864856</td>\n",
       "      <td>1.878014</td>\n",
       "      <td>0</td>\n",
       "      <td>0</td>\n",
       "      <td>0</td>\n",
       "      <td>0</td>\n",
       "      <td>0</td>\n",
       "      <td>0</td>\n",
       "      <td>0</td>\n",
       "      <td>0</td>\n",
       "      <td>0</td>\n",
       "      <td>0</td>\n",
       "      <td>0</td>\n",
       "      <td>0</td>\n",
       "      <td>0</td>\n",
       "      <td>1</td>\n",
       "      <td>1</td>\n",
       "    </tr>\n",
       "    <tr>\n",
       "      <th>2</th>\n",
       "      <td>-0.466442</td>\n",
       "      <td>-0.455266</td>\n",
       "      <td>0</td>\n",
       "      <td>0</td>\n",
       "      <td>0</td>\n",
       "      <td>0</td>\n",
       "      <td>1</td>\n",
       "      <td>0</td>\n",
       "      <td>0</td>\n",
       "      <td>0</td>\n",
       "      <td>0</td>\n",
       "      <td>0</td>\n",
       "      <td>0</td>\n",
       "      <td>0</td>\n",
       "      <td>0</td>\n",
       "      <td>1</td>\n",
       "      <td>1</td>\n",
       "    </tr>\n",
       "    <tr>\n",
       "      <th>3</th>\n",
       "      <td>0.421090</td>\n",
       "      <td>0.287142</td>\n",
       "      <td>0</td>\n",
       "      <td>0</td>\n",
       "      <td>0</td>\n",
       "      <td>0</td>\n",
       "      <td>0</td>\n",
       "      <td>0</td>\n",
       "      <td>0</td>\n",
       "      <td>0</td>\n",
       "      <td>0</td>\n",
       "      <td>1</td>\n",
       "      <td>0</td>\n",
       "      <td>0</td>\n",
       "      <td>0</td>\n",
       "      <td>0</td>\n",
       "      <td>1</td>\n",
       "    </tr>\n",
       "    <tr>\n",
       "      <th>4</th>\n",
       "      <td>0.343431</td>\n",
       "      <td>-0.985557</td>\n",
       "      <td>0</td>\n",
       "      <td>0</td>\n",
       "      <td>0</td>\n",
       "      <td>1</td>\n",
       "      <td>0</td>\n",
       "      <td>0</td>\n",
       "      <td>0</td>\n",
       "      <td>0</td>\n",
       "      <td>0</td>\n",
       "      <td>1</td>\n",
       "      <td>0</td>\n",
       "      <td>0</td>\n",
       "      <td>0</td>\n",
       "      <td>0</td>\n",
       "      <td>1</td>\n",
       "    </tr>\n",
       "  </tbody>\n",
       "</table>\n",
       "</div>"
      ],
      "text/plain": [
       "   Mileage_Scaled  EngineV_Scaled  Brand_BMW  Brand_Mercedes-Benz  \\\n",
       "0        2.173966        2.726480          0                    1   \n",
       "1        0.864856        1.878014          0                    0   \n",
       "2       -0.466442       -0.455266          0                    0   \n",
       "3        0.421090        0.287142          0                    0   \n",
       "4        0.343431       -0.985557          0                    0   \n",
       "\n",
       "   Brand_Mitsubishi  Brand_Renault  Brand_Toyota  Brand_Volkswagen  \\\n",
       "0                 0              0             0                 0   \n",
       "1                 0              0             0                 0   \n",
       "2                 0              0             1                 0   \n",
       "3                 0              0             0                 0   \n",
       "4                 0              1             0                 0   \n",
       "\n",
       "   Body_hatch  Body_other  Body_sedan  Body_vagon  Body_van  Engine Type_Gas  \\\n",
       "0           0           0           1           0         0                1   \n",
       "1           0           0           0           0         0                0   \n",
       "2           0           0           0           0         0                0   \n",
       "3           0           0           0           1         0                0   \n",
       "4           0           0           0           1         0                0   \n",
       "\n",
       "   Engine Type_Other  Engine Type_Petrol  Registration_yes  \n",
       "0                  0                   0                 1  \n",
       "1                  0                   1                 1  \n",
       "2                  0                   1                 1  \n",
       "3                  0                   0                 1  \n",
       "4                  0                   0                 1  "
      ]
     },
     "execution_count": 37,
     "metadata": {},
     "output_type": "execute_result"
    }
   ],
   "source": [
    "inputs_dummies = inputs_dummies.reset_index(drop=True)\n",
    "\n",
    "inputs_all = inputs_numeric_scaled.join(inputs_dummies)\n",
    "\n",
    "inputs_all.head()"
   ]
  },
  {
   "cell_type": "markdown",
   "metadata": {},
   "source": [
    "The result is a new input dataset with scaled variables that can directly be used as an input for our regression."
   ]
  },
  {
   "cell_type": "markdown",
   "metadata": {},
   "source": [
    "For the sake of good style, we can create our final dataset, which includes both our dependent and independent variables and signalizes that the data has passed the pre-processing stage. \n",
    "\n",
    "Once more, we need to make sure to reset the index of our <b>log(Price)</b> variable before joining the datasets:"
   ]
  },
  {
   "cell_type": "code",
   "execution_count": 38,
   "metadata": {},
   "outputs": [
    {
     "data": {
      "text/html": [
       "<div>\n",
       "<style scoped>\n",
       "    .dataframe tbody tr th:only-of-type {\n",
       "        vertical-align: middle;\n",
       "    }\n",
       "\n",
       "    .dataframe tbody tr th {\n",
       "        vertical-align: top;\n",
       "    }\n",
       "\n",
       "    .dataframe thead th {\n",
       "        text-align: right;\n",
       "    }\n",
       "</style>\n",
       "<table border=\"1\" class=\"dataframe\">\n",
       "  <thead>\n",
       "    <tr style=\"text-align: right;\">\n",
       "      <th></th>\n",
       "      <th>Log_Price</th>\n",
       "      <th>Mileage_Scaled</th>\n",
       "      <th>EngineV_Scaled</th>\n",
       "      <th>Brand_BMW</th>\n",
       "      <th>Brand_Mercedes-Benz</th>\n",
       "      <th>Brand_Mitsubishi</th>\n",
       "      <th>Brand_Renault</th>\n",
       "      <th>Brand_Toyota</th>\n",
       "      <th>Brand_Volkswagen</th>\n",
       "      <th>Body_hatch</th>\n",
       "      <th>Body_other</th>\n",
       "      <th>Body_sedan</th>\n",
       "      <th>Body_vagon</th>\n",
       "      <th>Body_van</th>\n",
       "      <th>Engine Type_Gas</th>\n",
       "      <th>Engine Type_Other</th>\n",
       "      <th>Engine Type_Petrol</th>\n",
       "      <th>Registration_yes</th>\n",
       "    </tr>\n",
       "  </thead>\n",
       "  <tbody>\n",
       "    <tr>\n",
       "      <th>0</th>\n",
       "      <td>9.495519</td>\n",
       "      <td>2.173966</td>\n",
       "      <td>2.726480</td>\n",
       "      <td>0</td>\n",
       "      <td>1</td>\n",
       "      <td>0</td>\n",
       "      <td>0</td>\n",
       "      <td>0</td>\n",
       "      <td>0</td>\n",
       "      <td>0</td>\n",
       "      <td>0</td>\n",
       "      <td>1</td>\n",
       "      <td>0</td>\n",
       "      <td>0</td>\n",
       "      <td>1</td>\n",
       "      <td>0</td>\n",
       "      <td>0</td>\n",
       "      <td>1</td>\n",
       "    </tr>\n",
       "    <tr>\n",
       "      <th>1</th>\n",
       "      <td>10.043249</td>\n",
       "      <td>0.864856</td>\n",
       "      <td>1.878014</td>\n",
       "      <td>0</td>\n",
       "      <td>0</td>\n",
       "      <td>0</td>\n",
       "      <td>0</td>\n",
       "      <td>0</td>\n",
       "      <td>0</td>\n",
       "      <td>0</td>\n",
       "      <td>0</td>\n",
       "      <td>0</td>\n",
       "      <td>0</td>\n",
       "      <td>0</td>\n",
       "      <td>0</td>\n",
       "      <td>0</td>\n",
       "      <td>1</td>\n",
       "      <td>1</td>\n",
       "    </tr>\n",
       "    <tr>\n",
       "      <th>2</th>\n",
       "      <td>9.814656</td>\n",
       "      <td>-0.466442</td>\n",
       "      <td>-0.455266</td>\n",
       "      <td>0</td>\n",
       "      <td>0</td>\n",
       "      <td>0</td>\n",
       "      <td>0</td>\n",
       "      <td>1</td>\n",
       "      <td>0</td>\n",
       "      <td>0</td>\n",
       "      <td>0</td>\n",
       "      <td>0</td>\n",
       "      <td>0</td>\n",
       "      <td>0</td>\n",
       "      <td>0</td>\n",
       "      <td>0</td>\n",
       "      <td>1</td>\n",
       "      <td>1</td>\n",
       "    </tr>\n",
       "    <tr>\n",
       "      <th>3</th>\n",
       "      <td>9.560997</td>\n",
       "      <td>0.421090</td>\n",
       "      <td>0.287142</td>\n",
       "      <td>0</td>\n",
       "      <td>0</td>\n",
       "      <td>0</td>\n",
       "      <td>0</td>\n",
       "      <td>0</td>\n",
       "      <td>0</td>\n",
       "      <td>0</td>\n",
       "      <td>0</td>\n",
       "      <td>0</td>\n",
       "      <td>1</td>\n",
       "      <td>0</td>\n",
       "      <td>0</td>\n",
       "      <td>0</td>\n",
       "      <td>0</td>\n",
       "      <td>1</td>\n",
       "    </tr>\n",
       "    <tr>\n",
       "      <th>4</th>\n",
       "      <td>9.287209</td>\n",
       "      <td>0.343431</td>\n",
       "      <td>-0.985557</td>\n",
       "      <td>0</td>\n",
       "      <td>0</td>\n",
       "      <td>0</td>\n",
       "      <td>1</td>\n",
       "      <td>0</td>\n",
       "      <td>0</td>\n",
       "      <td>0</td>\n",
       "      <td>0</td>\n",
       "      <td>0</td>\n",
       "      <td>1</td>\n",
       "      <td>0</td>\n",
       "      <td>0</td>\n",
       "      <td>0</td>\n",
       "      <td>0</td>\n",
       "      <td>1</td>\n",
       "    </tr>\n",
       "  </tbody>\n",
       "</table>\n",
       "</div>"
      ],
      "text/plain": [
       "   Log_Price  Mileage_Scaled  EngineV_Scaled  Brand_BMW  Brand_Mercedes-Benz  \\\n",
       "0   9.495519        2.173966        2.726480          0                    1   \n",
       "1  10.043249        0.864856        1.878014          0                    0   \n",
       "2   9.814656       -0.466442       -0.455266          0                    0   \n",
       "3   9.560997        0.421090        0.287142          0                    0   \n",
       "4   9.287209        0.343431       -0.985557          0                    0   \n",
       "\n",
       "   Brand_Mitsubishi  Brand_Renault  Brand_Toyota  Brand_Volkswagen  \\\n",
       "0                 0              0             0                 0   \n",
       "1                 0              0             0                 0   \n",
       "2                 0              0             1                 0   \n",
       "3                 0              0             0                 0   \n",
       "4                 0              1             0                 0   \n",
       "\n",
       "   Body_hatch  Body_other  Body_sedan  Body_vagon  Body_van  Engine Type_Gas  \\\n",
       "0           0           0           1           0         0                1   \n",
       "1           0           0           0           0         0                0   \n",
       "2           0           0           0           0         0                0   \n",
       "3           0           0           0           1         0                0   \n",
       "4           0           0           0           1         0                0   \n",
       "\n",
       "   Engine Type_Other  Engine Type_Petrol  Registration_yes  \n",
       "0                  0                   0                 1  \n",
       "1                  0                   1                 1  \n",
       "2                  0                   1                 1  \n",
       "3                  0                   0                 1  \n",
       "4                  0                   0                 1  "
      ]
     },
     "execution_count": 38,
     "metadata": {},
     "output_type": "execute_result"
    }
   ],
   "source": [
    "log_price = pd.DataFrame(data_v007[\"Log_Price\"].reset_index(drop=True))\n",
    "\n",
    "data_v1 = log_price.join(inputs_all)\n",
    "\n",
    "data_v1.head()"
   ]
  },
  {
   "cell_type": "markdown",
   "metadata": {},
   "source": [
    "<u><p style=\"font-size:20px\">6. Performing the Regression</p></u>"
   ]
  },
  {
   "cell_type": "markdown",
   "metadata": {},
   "source": [
    "We have arrived at the point where we have prepared our data sufficiently to perform the linear regression analysis.\n",
    "\n",
    "However, in order to make sure that we are not overfitting our model on the dataset at hand, we will split our preprocessed dataset into a training and test dataset. The training dataset will be used to fit our model, while the test dataset will be used to objectively test its accuracy.\n",
    "\n",
    "We will then proceed to fit an initial model to our test dataset and examine whether all of our input variables are providing meaningful contributions to explain our <b>log(Price)</b> variable. Depending on the results, we can then adjust our model by potentially removing unimportant regressors.\n",
    "\n",
    "We will start by splitting our dataset into train and test data:"
   ]
  },
  {
   "cell_type": "markdown",
   "metadata": {},
   "source": [
    "<u><p style=\"font-size:18px\">6.1. Splitting the Dataset into Train and Test Data</p></u>"
   ]
  },
  {
   "cell_type": "markdown",
   "metadata": {},
   "source": [
    "We can apply Sklearn's <em>\"train_test_split\"</em> method to split our dataset into training and test data. <em>\"Train_test_split\"</em> provides the advantage that it creates both the input and the target datasets for both train and test data. Moreover, it shuffles the cases in the sets by default, so we can be sure to remove potential effects that may exist due to the order in which cases were saved in the dataset.\n",
    "\n",
    "A common train-test-split is the 80/20 split, that is 80% of the dataset is chosen as train and 20% as test data. The goal is always to retain the bulk of the data points in the test dataset so we are not losing the underlying patterns in the data due to shrinking our dataset too much. \n",
    "\n",
    "We can apply Sklearn's <em>\"train_test_split\"</em> as follows:\n",
    "\n",
    "<em>Additional info:</em> We will also set the random shuffle to a specific state (333), so we will attain the same shuffle order each time we run this code again."
   ]
  },
  {
   "cell_type": "code",
   "execution_count": 39,
   "metadata": {},
   "outputs": [],
   "source": [
    "targets_raw = data_v1[\"Log_Price\"]\n",
    "inputs_raw = data_v1.drop(\"Log_Price\", axis=1)\n",
    "\n",
    "from sklearn.model_selection import train_test_split\n",
    "\n",
    "inputs_train_initial, inputs_test, targets_train_initial, targets_test = train_test_split(inputs_raw, targets_raw, test_size=0.2, random_state=333) "
   ]
  },
  {
   "cell_type": "markdown",
   "metadata": {},
   "source": [
    "We can test if our split has worked correctly:"
   ]
  },
  {
   "cell_type": "code",
   "execution_count": 40,
   "metadata": {},
   "outputs": [
    {
     "data": {
      "text/html": [
       "<div>\n",
       "<style scoped>\n",
       "    .dataframe tbody tr th:only-of-type {\n",
       "        vertical-align: middle;\n",
       "    }\n",
       "\n",
       "    .dataframe tbody tr th {\n",
       "        vertical-align: top;\n",
       "    }\n",
       "\n",
       "    .dataframe thead th {\n",
       "        text-align: right;\n",
       "    }\n",
       "</style>\n",
       "<table border=\"1\" class=\"dataframe\">\n",
       "  <thead>\n",
       "    <tr style=\"text-align: right;\">\n",
       "      <th></th>\n",
       "      <th>Dataset</th>\n",
       "      <th>Sample Size</th>\n",
       "      <th>Sample Percentage</th>\n",
       "    </tr>\n",
       "  </thead>\n",
       "  <tbody>\n",
       "    <tr>\n",
       "      <th>0</th>\n",
       "      <td>inputs_train_initial</td>\n",
       "      <td>2909</td>\n",
       "      <td>0.799835</td>\n",
       "    </tr>\n",
       "    <tr>\n",
       "      <th>1</th>\n",
       "      <td>inputs_test</td>\n",
       "      <td>728</td>\n",
       "      <td>0.200165</td>\n",
       "    </tr>\n",
       "    <tr>\n",
       "      <th>2</th>\n",
       "      <td>targets_train_initial</td>\n",
       "      <td>2909</td>\n",
       "      <td>0.799835</td>\n",
       "    </tr>\n",
       "    <tr>\n",
       "      <th>3</th>\n",
       "      <td>targets_test</td>\n",
       "      <td>728</td>\n",
       "      <td>0.200165</td>\n",
       "    </tr>\n",
       "  </tbody>\n",
       "</table>\n",
       "</div>"
      ],
      "text/plain": [
       "                 Dataset  Sample Size  Sample Percentage\n",
       "0   inputs_train_initial         2909           0.799835\n",
       "1            inputs_test          728           0.200165\n",
       "2  targets_train_initial         2909           0.799835\n",
       "3           targets_test          728           0.200165"
      ]
     },
     "execution_count": 40,
     "metadata": {},
     "output_type": "execute_result"
    }
   ],
   "source": [
    "split_test = pd.DataFrame()\n",
    "split_test[\"Dataset\"] = [\"inputs_train_initial\", \"inputs_test\", \"targets_train_initial\", \"targets_test\"]\n",
    "split_test[\"Sample Size\"] = [len(inputs_train_initial.index), len(inputs_test.index), len(targets_train_initial.index), len(targets_test.index)]\n",
    "split_test[\"Sample Percentage\"] = split_test[\"Sample Size\"] / len(data_v1.index)\n",
    "split_test"
   ]
  },
  {
   "cell_type": "markdown",
   "metadata": {},
   "source": [
    "Our split worked indeed, we have roughly achieved an 80/20 split for our train and test data. We can now go ahead and fit our initial model."
   ]
  },
  {
   "cell_type": "markdown",
   "metadata": {},
   "source": [
    "<u><p style=\"font-size:18px\">6.2. Fitting the Initial Model</p></u>"
   ]
  },
  {
   "cell_type": "markdown",
   "metadata": {},
   "source": [
    "We can now fit the initial linear regression with Sklean. A constant will be added automatically to the model. "
   ]
  },
  {
   "cell_type": "code",
   "execution_count": 41,
   "metadata": {},
   "outputs": [
    {
     "data": {
      "text/plain": [
       "LinearRegression(copy_X=True, fit_intercept=True, n_jobs=None, normalize=False)"
      ]
     },
     "execution_count": 41,
     "metadata": {},
     "output_type": "execute_result"
    }
   ],
   "source": [
    "from sklearn.linear_model import LinearRegression\n",
    "\n",
    "reg_initial = LinearRegression()\n",
    "reg_initial.fit(inputs_train_initial,targets_train_initial)"
   ]
  },
  {
   "cell_type": "markdown",
   "metadata": {},
   "source": [
    "We can now retrieve the R squared value which displays the proportion of variance in the <b>log(Price)</b> variable explained by our initial model:"
   ]
  },
  {
   "cell_type": "code",
   "execution_count": 42,
   "metadata": {},
   "outputs": [
    {
     "data": {
      "text/plain": [
       "0.7476727517246993"
      ]
     },
     "execution_count": 42,
     "metadata": {},
     "output_type": "execute_result"
    }
   ],
   "source": [
    "r2_initial = reg_initial.score(inputs_train_initial,targets_train_initial)\n",
    "r2_initial"
   ]
  },
  {
   "cell_type": "markdown",
   "metadata": {},
   "source": [
    "Moreover, we can calculate the adjusted R squared, which calculates the proportion of variance explained while accounting for the number of factors in our initial model:"
   ]
  },
  {
   "cell_type": "code",
   "execution_count": 43,
   "metadata": {},
   "outputs": [
    {
     "data": {
      "text/plain": [
       "(2909, 17)"
      ]
     },
     "execution_count": 43,
     "metadata": {},
     "output_type": "execute_result"
    }
   ],
   "source": [
    "inputs_train_initial.shape"
   ]
  },
  {
   "cell_type": "code",
   "execution_count": 44,
   "metadata": {},
   "outputs": [
    {
     "data": {
      "text/plain": [
       "0.746188987206996"
      ]
     },
     "execution_count": 44,
     "metadata": {},
     "output_type": "execute_result"
    }
   ],
   "source": [
    "n_initial=inputs_train_initial.shape[0]\n",
    "\n",
    "p_initial=inputs_train_initial.shape[1]\n",
    "\n",
    "adjusted_r2_initial = 1-(1-r2_initial)*(n_initial-1)/(n_initial-p_initial-1)\n",
    "\n",
    "adjusted_r2_initial"
   ]
  },
  {
   "cell_type": "markdown",
   "metadata": {},
   "source": [
    "The results suggest that our initial model is able to explain almost 75% of the variance of the <b>log(Price)</b>. However, our adjusted R squared is slightly lower than the initial R squared, leading to the suspicion that there might be one or more variables that do not contribute meaningfully to the model.\n",
    "\n",
    "We can calculate p-values via Sklearn's <em>f-regresssion</em> functionality. It will create simple regressions with each regressor as input and the <b>log(Price)</b> variable as target variable. It will then compare the fit of each regression with an intercept-only model and calculate p-values to indicate whether a given model explains significantly more variance in the target variable compared to the intercept-only model. \n",
    "\n",
    "Let's apply <em>f-regresssions</em> to investigate the contribution of each of our regressors:"
   ]
  },
  {
   "cell_type": "code",
   "execution_count": 45,
   "metadata": {},
   "outputs": [
    {
     "data": {
      "text/html": [
       "<div>\n",
       "<style scoped>\n",
       "    .dataframe tbody tr th:only-of-type {\n",
       "        vertical-align: middle;\n",
       "    }\n",
       "\n",
       "    .dataframe tbody tr th {\n",
       "        vertical-align: top;\n",
       "    }\n",
       "\n",
       "    .dataframe thead th {\n",
       "        text-align: right;\n",
       "    }\n",
       "</style>\n",
       "<table border=\"1\" class=\"dataframe\">\n",
       "  <thead>\n",
       "    <tr style=\"text-align: right;\">\n",
       "      <th></th>\n",
       "      <th>Features</th>\n",
       "      <th>P-Values</th>\n",
       "    </tr>\n",
       "  </thead>\n",
       "  <tbody>\n",
       "    <tr>\n",
       "      <th>0</th>\n",
       "      <td>Mileage_Scaled</td>\n",
       "      <td>0.000</td>\n",
       "    </tr>\n",
       "    <tr>\n",
       "      <th>1</th>\n",
       "      <td>EngineV_Scaled</td>\n",
       "      <td>0.000</td>\n",
       "    </tr>\n",
       "    <tr>\n",
       "      <th>2</th>\n",
       "      <td>Brand_BMW</td>\n",
       "      <td>0.000</td>\n",
       "    </tr>\n",
       "    <tr>\n",
       "      <th>3</th>\n",
       "      <td>Brand_Mercedes-Benz</td>\n",
       "      <td>0.000</td>\n",
       "    </tr>\n",
       "    <tr>\n",
       "      <th>4</th>\n",
       "      <td>Brand_Mitsubishi</td>\n",
       "      <td>0.000</td>\n",
       "    </tr>\n",
       "    <tr>\n",
       "      <th>5</th>\n",
       "      <td>Brand_Renault</td>\n",
       "      <td>0.000</td>\n",
       "    </tr>\n",
       "    <tr>\n",
       "      <th>6</th>\n",
       "      <td>Brand_Toyota</td>\n",
       "      <td>0.000</td>\n",
       "    </tr>\n",
       "    <tr>\n",
       "      <th>7</th>\n",
       "      <td>Brand_Volkswagen</td>\n",
       "      <td>0.000</td>\n",
       "    </tr>\n",
       "    <tr>\n",
       "      <th>8</th>\n",
       "      <td>Body_hatch</td>\n",
       "      <td>0.000</td>\n",
       "    </tr>\n",
       "    <tr>\n",
       "      <th>9</th>\n",
       "      <td>Body_other</td>\n",
       "      <td>0.010</td>\n",
       "    </tr>\n",
       "    <tr>\n",
       "      <th>10</th>\n",
       "      <td>Body_sedan</td>\n",
       "      <td>0.000</td>\n",
       "    </tr>\n",
       "    <tr>\n",
       "      <th>11</th>\n",
       "      <td>Body_vagon</td>\n",
       "      <td>0.000</td>\n",
       "    </tr>\n",
       "    <tr>\n",
       "      <th>12</th>\n",
       "      <td>Body_van</td>\n",
       "      <td>0.000</td>\n",
       "    </tr>\n",
       "    <tr>\n",
       "      <th>13</th>\n",
       "      <td>Engine Type_Gas</td>\n",
       "      <td>0.002</td>\n",
       "    </tr>\n",
       "    <tr>\n",
       "      <th>14</th>\n",
       "      <td>Engine Type_Other</td>\n",
       "      <td>0.022</td>\n",
       "    </tr>\n",
       "    <tr>\n",
       "      <th>15</th>\n",
       "      <td>Engine Type_Petrol</td>\n",
       "      <td>0.000</td>\n",
       "    </tr>\n",
       "    <tr>\n",
       "      <th>16</th>\n",
       "      <td>Registration_yes</td>\n",
       "      <td>0.000</td>\n",
       "    </tr>\n",
       "  </tbody>\n",
       "</table>\n",
       "</div>"
      ],
      "text/plain": [
       "               Features  P-Values\n",
       "0        Mileage_Scaled     0.000\n",
       "1        EngineV_Scaled     0.000\n",
       "2             Brand_BMW     0.000\n",
       "3   Brand_Mercedes-Benz     0.000\n",
       "4      Brand_Mitsubishi     0.000\n",
       "5         Brand_Renault     0.000\n",
       "6          Brand_Toyota     0.000\n",
       "7      Brand_Volkswagen     0.000\n",
       "8            Body_hatch     0.000\n",
       "9            Body_other     0.010\n",
       "10           Body_sedan     0.000\n",
       "11           Body_vagon     0.000\n",
       "12             Body_van     0.000\n",
       "13      Engine Type_Gas     0.002\n",
       "14    Engine Type_Other     0.022\n",
       "15   Engine Type_Petrol     0.000\n",
       "16     Registration_yes     0.000"
      ]
     },
     "execution_count": 45,
     "metadata": {},
     "output_type": "execute_result"
    }
   ],
   "source": [
    "from sklearn.feature_selection import f_regression\n",
    "\n",
    "p_values = (f_regression(inputs_train_initial,targets_train_initial)[1]).round(3)\n",
    "features = inputs_train_initial.columns.values\n",
    "\n",
    "F_Tests = pd.DataFrame()\n",
    "F_Tests[\"Features\"] = features\n",
    "F_Tests[\"P-Values\"] = p_values\n",
    "F_Tests"
   ]
  },
  {
   "cell_type": "markdown",
   "metadata": {},
   "source": [
    "We can see that all variables seem to contribute significantly to our output as their p-values are consistently below 0.05 (meaning there is a less than a 5% chance that a simple regression with each of them produces the same outcome as a constant-only model).\n",
    "\n",
    "As a result, there is no need to adjust our model any further and we can continue to extract our coefficients and the intercept:"
   ]
  },
  {
   "cell_type": "markdown",
   "metadata": {},
   "source": [
    "<u><p style=\"font-size:18px\">6.3. Interpreting the Intercept and Coefficients</p></u>"
   ]
  },
  {
   "cell_type": "markdown",
   "metadata": {},
   "source": [
    "Let's extract the model's intercept:"
   ]
  },
  {
   "cell_type": "code",
   "execution_count": 46,
   "metadata": {},
   "outputs": [
    {
     "data": {
      "text/plain": [
       "9.046236504078024"
      ]
     },
     "execution_count": 46,
     "metadata": {},
     "output_type": "execute_result"
    }
   ],
   "source": [
    "reg_initial.intercept_"
   ]
  },
  {
   "cell_type": "markdown",
   "metadata": {},
   "source": [
    "We can see that our regression line intersects the y-axis at a value of 9. Moreover, our coefficients can be summarized as follows (ordered by impact):"
   ]
  },
  {
   "cell_type": "code",
   "execution_count": 47,
   "metadata": {},
   "outputs": [
    {
     "data": {
      "text/html": [
       "<div>\n",
       "<style scoped>\n",
       "    .dataframe tbody tr th:only-of-type {\n",
       "        vertical-align: middle;\n",
       "    }\n",
       "\n",
       "    .dataframe tbody tr th {\n",
       "        vertical-align: top;\n",
       "    }\n",
       "\n",
       "    .dataframe thead th {\n",
       "        text-align: right;\n",
       "    }\n",
       "</style>\n",
       "<table border=\"1\" class=\"dataframe\">\n",
       "  <thead>\n",
       "    <tr style=\"text-align: right;\">\n",
       "      <th></th>\n",
       "      <th>Features</th>\n",
       "      <th>Coefficients</th>\n",
       "    </tr>\n",
       "  </thead>\n",
       "  <tbody>\n",
       "    <tr>\n",
       "      <th>16</th>\n",
       "      <td>Registration_yes</td>\n",
       "      <td>1.104598</td>\n",
       "    </tr>\n",
       "    <tr>\n",
       "      <th>0</th>\n",
       "      <td>Mileage_Scaled</td>\n",
       "      <td>-0.403352</td>\n",
       "    </tr>\n",
       "    <tr>\n",
       "      <th>1</th>\n",
       "      <td>EngineV_Scaled</td>\n",
       "      <td>0.183097</td>\n",
       "    </tr>\n",
       "    <tr>\n",
       "      <th>15</th>\n",
       "      <td>Engine Type_Petrol</td>\n",
       "      <td>-0.263260</td>\n",
       "    </tr>\n",
       "    <tr>\n",
       "      <th>14</th>\n",
       "      <td>Engine Type_Other</td>\n",
       "      <td>-0.173042</td>\n",
       "    </tr>\n",
       "    <tr>\n",
       "      <th>13</th>\n",
       "      <td>Engine Type_Gas</td>\n",
       "      <td>-0.300220</td>\n",
       "    </tr>\n",
       "    <tr>\n",
       "      <th>7</th>\n",
       "      <td>Brand_Volkswagen</td>\n",
       "      <td>-0.236891</td>\n",
       "    </tr>\n",
       "    <tr>\n",
       "      <th>6</th>\n",
       "      <td>Brand_Toyota</td>\n",
       "      <td>-0.192949</td>\n",
       "    </tr>\n",
       "    <tr>\n",
       "      <th>5</th>\n",
       "      <td>Brand_Renault</td>\n",
       "      <td>-0.599732</td>\n",
       "    </tr>\n",
       "    <tr>\n",
       "      <th>4</th>\n",
       "      <td>Brand_Mitsubishi</td>\n",
       "      <td>-0.528186</td>\n",
       "    </tr>\n",
       "    <tr>\n",
       "      <th>3</th>\n",
       "      <td>Brand_Mercedes-Benz</td>\n",
       "      <td>-0.022750</td>\n",
       "    </tr>\n",
       "    <tr>\n",
       "      <th>2</th>\n",
       "      <td>Brand_BMW</td>\n",
       "      <td>0.034129</td>\n",
       "    </tr>\n",
       "    <tr>\n",
       "      <th>12</th>\n",
       "      <td>Body_van</td>\n",
       "      <td>-0.440332</td>\n",
       "    </tr>\n",
       "    <tr>\n",
       "      <th>11</th>\n",
       "      <td>Body_vagon</td>\n",
       "      <td>-0.387511</td>\n",
       "    </tr>\n",
       "    <tr>\n",
       "      <th>10</th>\n",
       "      <td>Body_sedan</td>\n",
       "      <td>-0.370815</td>\n",
       "    </tr>\n",
       "    <tr>\n",
       "      <th>9</th>\n",
       "      <td>Body_other</td>\n",
       "      <td>-0.315618</td>\n",
       "    </tr>\n",
       "    <tr>\n",
       "      <th>8</th>\n",
       "      <td>Body_hatch</td>\n",
       "      <td>-0.547204</td>\n",
       "    </tr>\n",
       "  </tbody>\n",
       "</table>\n",
       "</div>"
      ],
      "text/plain": [
       "               Features  Coefficients\n",
       "16     Registration_yes      1.104598\n",
       "0        Mileage_Scaled     -0.403352\n",
       "1        EngineV_Scaled      0.183097\n",
       "15   Engine Type_Petrol     -0.263260\n",
       "14    Engine Type_Other     -0.173042\n",
       "13      Engine Type_Gas     -0.300220\n",
       "7      Brand_Volkswagen     -0.236891\n",
       "6          Brand_Toyota     -0.192949\n",
       "5         Brand_Renault     -0.599732\n",
       "4      Brand_Mitsubishi     -0.528186\n",
       "3   Brand_Mercedes-Benz     -0.022750\n",
       "2             Brand_BMW      0.034129\n",
       "12             Body_van     -0.440332\n",
       "11           Body_vagon     -0.387511\n",
       "10           Body_sedan     -0.370815\n",
       "9            Body_other     -0.315618\n",
       "8            Body_hatch     -0.547204"
      ]
     },
     "execution_count": 47,
     "metadata": {},
     "output_type": "execute_result"
    }
   ],
   "source": [
    "Model_Overview = pd.DataFrame()\n",
    "Model_Overview[\"Features\"] = inputs_train_initial.columns.values\n",
    "Model_Overview[\"Coefficients\"] = reg_initial.coef_\n",
    "Model_Overview.sort_values(by=['Features'], ascending=False)"
   ]
  },
  {
   "cell_type": "markdown",
   "metadata": {},
   "source": [
    "We can see that <b>Registration_yes</b> has a strong positive effect on the price of a car when compared to cars without a valid license. This makes sense as cars with a valid licence are probably ready to drive, legally allowed to be used on public streets and can be assumed to be in a better condition than cars that do not have a valid license. In a way, a valid licence can tell more about a car than the fact that it is legally allowed to be driven in public. It can be thought of as an indicator for a well-functioning car as well, hence the strong positive impact on the price tag.\n",
    "\n",
    "<b>Engine Volume</b> has a positive effect as well, indicating that the bigger the engine, the higher the price. This makes sense as well. However, since <b>Engine Volume</b> has been standardized, the magnitude of the effect cannot be interpreted straight forward from this table. The same holds true for <b>Mileage</b>, which, as expected, has a strong negative impact on a car's price tag.\n",
    "\n",
    "Some further take-aways from this initial table are:\n",
    "\n",
    "- Audis (reference category for <b>Brand</b>), BMWs and Mercedes tend to have very similar price tags. The table indicates that BMWs tend to be slightly more and Mercedes slightly less expensive than Audis. However, the differences are very small. Mitsubishis and Renaults, on the other hand, tend to be much less expensive than Audis, BMWs and Mercedes, but also significantly less expensive than Volkswagen or Toyotas. At the same time, Toyotas and Volkswagen are rather close together when it comes to their price.\n",
    "\n",
    "\n",
    "- Compared to a Crossover (reference category for <b>Body Type</b>), any other body type will result in a lower price. This has probably to do with the fact that cars of the type crossover tend to be bigger and more powerful compared to other body types. The body type \"Hatch\" appears to be the cheapest option.\n",
    "\n",
    "\n",
    "- Compared to a diesel engine (reference category for <b>Engine Type</b>), any other engine appears to be coming with a lower price tag. Gas appears to be the cheapest option, probably because it is the most unfamiliar form of engine. Petrol engines, on the other hand, could be cheaper because they are less modern and probably perceived as less clean as well."
   ]
  },
  {
   "cell_type": "markdown",
   "metadata": {},
   "source": [
    "<u><p style=\"font-size:18px\">6.4. Examining the Predictive Power Visually</p></u>"
   ]
  },
  {
   "cell_type": "markdown",
   "metadata": {},
   "source": [
    "In order to represent the fit of our model in a more visual way, we can plot the values that are predicted by our model against our actual observed values. That is, we use our regression model to produce predicted targets for our initial training inputs, and plot them against our actual training targets:"
   ]
  },
  {
   "cell_type": "code",
   "execution_count": 48,
   "metadata": {},
   "outputs": [
    {
     "data": {
      "text/plain": [
       "<function matplotlib.pyplot.show(*args, **kw)>"
      ]
     },
     "execution_count": 48,
     "metadata": {},
     "output_type": "execute_result"
    },
    {
     "data": {
      "image/png": "[encoded data removed]",
      "text/plain": [
       "<Figure size 432x288 with 1 Axes>"
      ]
     },
     "metadata": {
      "needs_background": "light"
     },
     "output_type": "display_data"
    }
   ],
   "source": [
    "targets_train_predicted = reg_initial.predict(inputs_train_initial)\n",
    "\n",
    "sns.regplot(x=targets_train_initial, y=targets_train_predicted, scatter_kws = {\"color\": \"blue\"}, line_kws = {\"color\": \"red\"})\n",
    "\n",
    "plt.xlabel('Actual Train Targets', size=18)\n",
    "\n",
    "plt.ylabel('Predicted Train Targets', size=18)\n",
    "\n",
    "plt.show"
   ]
  },
  {
   "cell_type": "markdown",
   "metadata": {},
   "source": [
    "We can also examine the distribution of residuals, that is the distribution of the differences between our predicted values and the actualy training targets:"
   ]
  },
  {
   "cell_type": "code",
   "execution_count": 49,
   "metadata": {},
   "outputs": [
    {
     "data": {
      "text/plain": [
       "Text(0.5, 1.0, 'Residuals')"
      ]
     },
     "execution_count": 49,
     "metadata": {},
     "output_type": "execute_result"
    },
    {
     "data": {
      "image/png": "[encoded data removed]",
      "text/plain": [
       "<Figure size 432x288 with 1 Axes>"
      ]
     },
     "metadata": {
      "needs_background": "light"
     },
     "output_type": "display_data"
    }
   ],
   "source": [
    "sns.distplot(targets_train_initial - targets_train_predicted)\n",
    "plt.title(\"Residuals\", size=18)"
   ]
  },
  {
   "cell_type": "markdown",
   "metadata": {},
   "source": [
    "We can see that we have a normal distribution, with many predicted values being close to the actual, observed values. At the same time, there are tails to both the positive and negative direction that indicate observed values being over- or underestimated.\n",
    "\n",
    "We can see that we have a slight negative skew, indicating that there are more cases where our model predicted a price that was higher than the actual one. In other words, our model tends to overestimate rather than underestimate the actual car price. This means in practice, that a potential buyer who would use our model to predict the price of her/his new, second-hand dream car would probably find said car at a more favorable price than anticipated, which sounds like good news in general. :)"
   ]
  },
  {
   "cell_type": "markdown",
   "metadata": {},
   "source": [
    "<u><p style=\"font-size:20px\">7. Testing the Model</p></u>"
   ]
  },
  {
   "cell_type": "markdown",
   "metadata": {},
   "source": [
    "We have now reached the point where we can test our model against our designated test data. To do this, we will use our model once more to generate predicted tagets, this time for our test inputs, and plot them against our actual test targets:"
   ]
  },
  {
   "cell_type": "code",
   "execution_count": 50,
   "metadata": {},
   "outputs": [
    {
     "data": {
      "text/plain": [
       "<function matplotlib.pyplot.show(*args, **kw)>"
      ]
     },
     "execution_count": 50,
     "metadata": {},
     "output_type": "execute_result"
    },
    {
     "data": {
      "image/png": "[encoded data removed]",
      "text/plain": [
       "<Figure size 432x288 with 1 Axes>"
      ]
     },
     "metadata": {
      "needs_background": "light"
     },
     "output_type": "display_data"
    }
   ],
   "source": [
    "targets_test_predicted = reg_initial.predict(inputs_test)\n",
    "\n",
    "sns.regplot(x=targets_test, y=targets_test_predicted, scatter_kws = {\"color\": \"blue\"}, line_kws = {\"color\": \"red\"})\n",
    "\n",
    "plt.xlabel('Actual Test Targets', size=18)\n",
    "\n",
    "plt.ylabel('Predicted Test Targets', size=18)\n",
    "\n",
    "plt.show"
   ]
  },
  {
   "cell_type": "markdown",
   "metadata": {},
   "source": [
    "We can also check the R squared value which givs us an idea about how well our model fits the test data:"
   ]
  },
  {
   "cell_type": "code",
   "execution_count": 51,
   "metadata": {},
   "outputs": [
    {
     "data": {
      "text/plain": [
       "0.7363372818964267"
      ]
     },
     "execution_count": 51,
     "metadata": {},
     "output_type": "execute_result"
    }
   ],
   "source": [
    "r2_test = reg_initial.score(inputs_test,targets_test)\n",
    "r2_test"
   ]
  },
  {
   "cell_type": "markdown",
   "metadata": {},
   "source": [
    "The result shows that our model was able to predict almost 74% of the variance of the <b>log(Price)</b> variable in our test dataset.\n",
    "\n",
    "It was to expect that the accuracy would be a bit lower compared to the train data as the model itself was trained on it. However, the difference in accuracy is only very small, which indicates that our model would perform almost as well on data \"it has never seen\" as on our training dataset:"
   ]
  },
  {
   "cell_type": "code",
   "execution_count": 52,
   "metadata": {},
   "outputs": [
    {
     "data": {
      "text/plain": [
       "0.011335469828272604"
      ]
     },
     "execution_count": 52,
     "metadata": {},
     "output_type": "execute_result"
    }
   ],
   "source": [
    "r2_initial - r2_test"
   ]
  },
  {
   "cell_type": "markdown",
   "metadata": {},
   "source": [
    "This test was an important step to objectively verify our model and ensure that it has not been overfit on the training data.\n",
    "\n",
    "We can conclude that we have successfully created a linear model which, given new inputs for our regressors, can predict the price of any specified car with an accuracy of ca. 74%."
   ]
  },
  {
   "cell_type": "markdown",
   "metadata": {},
   "source": [
    "<u><p style=\"font-size:20px\">8. Predicting the Price for 3 Fictional Cars</p></u>"
   ]
  },
  {
   "cell_type": "markdown",
   "metadata": {},
   "source": [
    "As a last step of this example, we can check which prices we should expect, according to our model, if we decided to buy one (or all) out of 3 possible (fictional) cars from our second-hand car dealership next door. \n",
    "\n",
    "We are going to test 3 cars:\n",
    "\n",
    "1. The first car will be a BMW hatchback with diesel engine, valid registration, a mileage of 200.000 miles and an engine volume of 2 liters.\n",
    "\n",
    "2. The second car will be a Mitsubishi sedan with petrol engine, valid registration, a mileage of 100.000 miles and an engine volume of 1.6 liters.\n",
    "\n",
    "3. The third car will be a Volkswagen van with gas engine, no valid registration, a mileage of 300.000 miles and an engine volume of 3 liters.\n",
    "\n",
    "We first need to create our cases in a new dataset that we call \"Predict_Cars\". To get the right column names, we can take the column descriptions from our last dataset before we scaled <b>Mileage</b> and <b>Engine</b>:"
   ]
  },
  {
   "cell_type": "code",
   "execution_count": 53,
   "metadata": {},
   "outputs": [
    {
     "data": {
      "text/html": [
       "<div>\n",
       "<style scoped>\n",
       "    .dataframe tbody tr th:only-of-type {\n",
       "        vertical-align: middle;\n",
       "    }\n",
       "\n",
       "    .dataframe tbody tr th {\n",
       "        vertical-align: top;\n",
       "    }\n",
       "\n",
       "    .dataframe thead th {\n",
       "        text-align: right;\n",
       "    }\n",
       "</style>\n",
       "<table border=\"1\" class=\"dataframe\">\n",
       "  <thead>\n",
       "    <tr style=\"text-align: right;\">\n",
       "      <th></th>\n",
       "      <th>Mileage</th>\n",
       "      <th>EngineV</th>\n",
       "      <th>Brand_BMW</th>\n",
       "      <th>Brand_Mercedes-Benz</th>\n",
       "      <th>Brand_Mitsubishi</th>\n",
       "      <th>Brand_Renault</th>\n",
       "      <th>Brand_Toyota</th>\n",
       "      <th>Brand_Volkswagen</th>\n",
       "      <th>Body_hatch</th>\n",
       "      <th>Body_other</th>\n",
       "      <th>Body_sedan</th>\n",
       "      <th>Body_vagon</th>\n",
       "      <th>Body_van</th>\n",
       "      <th>Engine Type_Gas</th>\n",
       "      <th>Engine Type_Other</th>\n",
       "      <th>Engine Type_Petrol</th>\n",
       "      <th>Registration_yes</th>\n",
       "    </tr>\n",
       "  </thead>\n",
       "  <tbody>\n",
       "    <tr>\n",
       "      <th>0</th>\n",
       "      <td>200</td>\n",
       "      <td>2.0</td>\n",
       "      <td>1</td>\n",
       "      <td>0</td>\n",
       "      <td>0</td>\n",
       "      <td>0</td>\n",
       "      <td>0</td>\n",
       "      <td>0</td>\n",
       "      <td>1</td>\n",
       "      <td>0</td>\n",
       "      <td>0</td>\n",
       "      <td>0</td>\n",
       "      <td>0</td>\n",
       "      <td>0</td>\n",
       "      <td>0</td>\n",
       "      <td>0</td>\n",
       "      <td>1</td>\n",
       "    </tr>\n",
       "    <tr>\n",
       "      <th>1</th>\n",
       "      <td>100</td>\n",
       "      <td>1.6</td>\n",
       "      <td>0</td>\n",
       "      <td>0</td>\n",
       "      <td>1</td>\n",
       "      <td>0</td>\n",
       "      <td>0</td>\n",
       "      <td>0</td>\n",
       "      <td>0</td>\n",
       "      <td>0</td>\n",
       "      <td>1</td>\n",
       "      <td>0</td>\n",
       "      <td>0</td>\n",
       "      <td>0</td>\n",
       "      <td>0</td>\n",
       "      <td>1</td>\n",
       "      <td>1</td>\n",
       "    </tr>\n",
       "    <tr>\n",
       "      <th>2</th>\n",
       "      <td>300</td>\n",
       "      <td>3.0</td>\n",
       "      <td>0</td>\n",
       "      <td>0</td>\n",
       "      <td>0</td>\n",
       "      <td>0</td>\n",
       "      <td>0</td>\n",
       "      <td>1</td>\n",
       "      <td>0</td>\n",
       "      <td>0</td>\n",
       "      <td>0</td>\n",
       "      <td>0</td>\n",
       "      <td>1</td>\n",
       "      <td>1</td>\n",
       "      <td>0</td>\n",
       "      <td>0</td>\n",
       "      <td>0</td>\n",
       "    </tr>\n",
       "  </tbody>\n",
       "</table>\n",
       "</div>"
      ],
      "text/plain": [
       "   Mileage  EngineV  Brand_BMW  Brand_Mercedes-Benz  Brand_Mitsubishi  \\\n",
       "0      200      2.0          1                    0                 0   \n",
       "1      100      1.6          0                    0                 1   \n",
       "2      300      3.0          0                    0                 0   \n",
       "\n",
       "   Brand_Renault  Brand_Toyota  Brand_Volkswagen  Body_hatch  Body_other  \\\n",
       "0              0             0                 0           1           0   \n",
       "1              0             0                 0           0           0   \n",
       "2              0             0                 1           0           0   \n",
       "\n",
       "   Body_sedan  Body_vagon  Body_van  Engine Type_Gas  Engine Type_Other  \\\n",
       "0           0           0         0                0                  0   \n",
       "1           1           0         0                0                  0   \n",
       "2           0           0         1                1                  0   \n",
       "\n",
       "   Engine Type_Petrol  Registration_yes  \n",
       "0                   0                 1  \n",
       "1                   1                 1  \n",
       "2                   0                 0  "
      ]
     },
     "execution_count": 53,
     "metadata": {},
     "output_type": "execute_result"
    }
   ],
   "source": [
    "columns = data_v007.drop([\"Log_Price\"], axis=1)\n",
    "column_names = columns.columns.values\n",
    "\n",
    "predict_cars = pd.DataFrame([\n",
    "    [200, 2, 1, 0, 0, 0, 0, 0, 1, 0, 0, 0, 0, 0, 0, 0, 1],\n",
    "    [100, 1.6, 0, 0, 1, 0, 0, 0, 0, 0, 1, 0, 0, 0, 0, 1, 1],\n",
    "    [300, 3, 0, 0, 0, 0, 0, 1, 0, 0, 0, 0, 1, 1, 0, 0, 0]], columns=column_names) \n",
    "\n",
    "predict_cars"
   ]
  },
  {
   "cell_type": "markdown",
   "metadata": {},
   "source": [
    "In order to receive correct outputs, we need to standardize this new dataset in the same way in which we standardized our inputs before. This is because our model will expect the inputs to be of the same magnitude.\n",
    "\n",
    "We will follow the same steps as before: split the new dataset into numeric and dummy variables, scale the numeric inputs <b>Mileage</b> and <b>Engine Volume</b>, and merge the two input sets together again:"
   ]
  },
  {
   "cell_type": "code",
   "execution_count": 54,
   "metadata": {},
   "outputs": [
    {
     "data": {
      "text/html": [
       "<div>\n",
       "<style scoped>\n",
       "    .dataframe tbody tr th:only-of-type {\n",
       "        vertical-align: middle;\n",
       "    }\n",
       "\n",
       "    .dataframe tbody tr th {\n",
       "        vertical-align: top;\n",
       "    }\n",
       "\n",
       "    .dataframe thead th {\n",
       "        text-align: right;\n",
       "    }\n",
       "</style>\n",
       "<table border=\"1\" class=\"dataframe\">\n",
       "  <thead>\n",
       "    <tr style=\"text-align: right;\">\n",
       "      <th></th>\n",
       "      <th>Mileage</th>\n",
       "      <th>EngineV</th>\n",
       "      <th>Brand_BMW</th>\n",
       "      <th>Brand_Mercedes-Benz</th>\n",
       "      <th>Brand_Mitsubishi</th>\n",
       "      <th>Brand_Renault</th>\n",
       "      <th>Brand_Toyota</th>\n",
       "      <th>Brand_Volkswagen</th>\n",
       "      <th>Body_hatch</th>\n",
       "      <th>Body_other</th>\n",
       "      <th>Body_sedan</th>\n",
       "      <th>Body_vagon</th>\n",
       "      <th>Body_van</th>\n",
       "      <th>Engine Type_Gas</th>\n",
       "      <th>Engine Type_Other</th>\n",
       "      <th>Engine Type_Petrol</th>\n",
       "      <th>Registration_yes</th>\n",
       "    </tr>\n",
       "  </thead>\n",
       "  <tbody>\n",
       "    <tr>\n",
       "      <th>0</th>\n",
       "      <td>0.421090</td>\n",
       "      <td>-0.455266</td>\n",
       "      <td>1</td>\n",
       "      <td>0</td>\n",
       "      <td>0</td>\n",
       "      <td>0</td>\n",
       "      <td>0</td>\n",
       "      <td>0</td>\n",
       "      <td>1</td>\n",
       "      <td>0</td>\n",
       "      <td>0</td>\n",
       "      <td>0</td>\n",
       "      <td>0</td>\n",
       "      <td>0</td>\n",
       "      <td>0</td>\n",
       "      <td>0</td>\n",
       "      <td>1</td>\n",
       "    </tr>\n",
       "    <tr>\n",
       "      <th>1</th>\n",
       "      <td>-0.688325</td>\n",
       "      <td>-0.879499</td>\n",
       "      <td>0</td>\n",
       "      <td>0</td>\n",
       "      <td>1</td>\n",
       "      <td>0</td>\n",
       "      <td>0</td>\n",
       "      <td>0</td>\n",
       "      <td>0</td>\n",
       "      <td>0</td>\n",
       "      <td>1</td>\n",
       "      <td>0</td>\n",
       "      <td>0</td>\n",
       "      <td>0</td>\n",
       "      <td>0</td>\n",
       "      <td>1</td>\n",
       "      <td>1</td>\n",
       "    </tr>\n",
       "    <tr>\n",
       "      <th>2</th>\n",
       "      <td>1.530505</td>\n",
       "      <td>0.605316</td>\n",
       "      <td>0</td>\n",
       "      <td>0</td>\n",
       "      <td>0</td>\n",
       "      <td>0</td>\n",
       "      <td>0</td>\n",
       "      <td>1</td>\n",
       "      <td>0</td>\n",
       "      <td>0</td>\n",
       "      <td>0</td>\n",
       "      <td>0</td>\n",
       "      <td>1</td>\n",
       "      <td>1</td>\n",
       "      <td>0</td>\n",
       "      <td>0</td>\n",
       "      <td>0</td>\n",
       "    </tr>\n",
       "  </tbody>\n",
       "</table>\n",
       "</div>"
      ],
      "text/plain": [
       "    Mileage   EngineV  Brand_BMW  Brand_Mercedes-Benz  Brand_Mitsubishi  \\\n",
       "0  0.421090 -0.455266          1                    0                 0   \n",
       "1 -0.688325 -0.879499          0                    0                 1   \n",
       "2  1.530505  0.605316          0                    0                 0   \n",
       "\n",
       "   Brand_Renault  Brand_Toyota  Brand_Volkswagen  Body_hatch  Body_other  \\\n",
       "0              0             0                 0           1           0   \n",
       "1              0             0                 0           0           0   \n",
       "2              0             0                 1           0           0   \n",
       "\n",
       "   Body_sedan  Body_vagon  Body_van  Engine Type_Gas  Engine Type_Other  \\\n",
       "0           0           0         0                0                  0   \n",
       "1           1           0         0                0                  0   \n",
       "2           0           0         1                1                  0   \n",
       "\n",
       "   Engine Type_Petrol  Registration_yes  \n",
       "0                   0                 1  \n",
       "1                   1                 1  \n",
       "2                   0                 0  "
      ]
     },
     "execution_count": 54,
     "metadata": {},
     "output_type": "execute_result"
    }
   ],
   "source": [
    "predict_cars_numeric = predict_cars[[\"Mileage\",\"EngineV\"]]\n",
    "\n",
    "predict_cars_dummies = predict_cars.drop([\"Mileage\",\"EngineV\"], axis=1)\n",
    "\n",
    "predict_cars_scaler = StandardScaler()\n",
    "\n",
    "predict_cars_scaler.fit(predict_cars_numeric)\n",
    "\n",
    "predict_cars_numeric_scaled = pd.DataFrame(scaler.transform(predict_cars_numeric))\n",
    "                        \n",
    "predict_cars_numeric_scaled = predict_cars_numeric_scaled.rename(columns={0: \"Mileage\", 1: \"EngineV\"})\n",
    "\n",
    "predict_cars_dummies = predict_cars_dummies.reset_index(drop=True)\n",
    "\n",
    "predict_cars_inputs_all = predict_cars_numeric_scaled.join(predict_cars_dummies)\n",
    "\n",
    "predict_cars_inputs_all"
   ]
  },
  {
   "cell_type": "markdown",
   "metadata": {},
   "source": [
    "We can now predict the prices for our 3 fictional cars by using our regression model's predict function. We will, however, right away display our exponential <b>(log)Prices</b>, as this transformation will reverse the log-transformation of our prices and ensure that we will be looking at actual prices in our results. Moreover, we will round the results in order to receive a valid amount in dollars and cents:"
   ]
  },
  {
   "cell_type": "code",
   "execution_count": 55,
   "metadata": {},
   "outputs": [
    {
     "data": {
      "text/html": [
       "<div>\n",
       "<style scoped>\n",
       "    .dataframe tbody tr th:only-of-type {\n",
       "        vertical-align: middle;\n",
       "    }\n",
       "\n",
       "    .dataframe tbody tr th {\n",
       "        vertical-align: top;\n",
       "    }\n",
       "\n",
       "    .dataframe thead th {\n",
       "        text-align: right;\n",
       "    }\n",
       "</style>\n",
       "<table border=\"1\" class=\"dataframe\">\n",
       "  <thead>\n",
       "    <tr style=\"text-align: right;\">\n",
       "      <th></th>\n",
       "      <th>Price Predictions</th>\n",
       "    </tr>\n",
       "  </thead>\n",
       "  <tbody>\n",
       "    <tr>\n",
       "      <th>Fictional BMW</th>\n",
       "      <td>11903.10</td>\n",
       "    </tr>\n",
       "    <tr>\n",
       "      <th>Fictional Mitsubishi</th>\n",
       "      <td>9001.78</td>\n",
       "    </tr>\n",
       "    <tr>\n",
       "      <th>Fictional Volkswagen</th>\n",
       "      <td>1924.25</td>\n",
       "    </tr>\n",
       "  </tbody>\n",
       "</table>\n",
       "</div>"
      ],
      "text/plain": [
       "                      Price Predictions\n",
       "Fictional BMW                  11903.10\n",
       "Fictional Mitsubishi            9001.78\n",
       "Fictional Volkswagen            1924.25"
      ]
     },
     "execution_count": 55,
     "metadata": {},
     "output_type": "execute_result"
    }
   ],
   "source": [
    "predict_cars_prices = pd.DataFrame(np.round(np.exp(reg_initial.predict(predict_cars_inputs_all)), 2), columns=[\"Price Predictions\"])\n",
    "predict_cars_prices.rename(index={0: \"Fictional BMW\", 1: \"Fictional Mitsubishi\", 2: \"Fictional Volkswagen\"}, inplace=True)\n",
    "predict_cars_prices"
   ]
  },
  {
   "cell_type": "markdown",
   "metadata": {},
   "source": [
    "According to our model, we would expect our BMW hatchback to appear at a price of ca. 12.000 dollars, our Mitsubishi sedan at a slightly lower price of 9.000 dollars, and our Volkswagen van with gas engine at a \"cheap\" 2.000 dollars, at our local second-hand car dealer of choice.\n",
    "\n",
    "Moreover, due to our model's tendency to overestimate prices, we could probably expect those prices to be even lower. Otherwise, we could surely negotiate a better price as well."
   ]
  }
 ],
 "metadata": {
  "kernelspec": {
   "display_name": "Python 3",
   "language": "python",
   "name": "python3"
  },
  "language_info": {
   "codemirror_mode": {
    "name": "ipython",
    "version": 3
   },
   "file_extension": ".py",
   "mimetype": "text/x-python",
   "name": "python",
   "nbconvert_exporter": "python",
   "pygments_lexer": "ipython3",
   "version": "3.7.6"
  }
 },
 "nbformat": 4,
 "nbformat_minor": 2
}
